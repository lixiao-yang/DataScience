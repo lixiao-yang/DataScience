{
 "cells": [
  {
   "cell_type": "markdown",
   "id": "64b19aed-d6dd-44e2-b5b3-de950edfe26f",
   "metadata": {},
   "source": [
    "<h1 style=\"text-align:center\"> INFO 323: Cloud Computing and Big Data</h1>\n",
    "<h2 style=\"text-align:center\"> College of Computing and Informatics</h2>\n",
    "<h2 style=\"text-align:center\">Drexel University</h2>\n",
    "\n",
    "<h3 style=\"text-align:center\"> Exploratory Data Analysis using BigQuery on Flights Data</h3>\n",
    "<h3 style=\"text-align:center\"> Yuan An, PhD</h3>\n",
    "<h3 style=\"text-align:center\">Associate Professor</h3>"
   ]
  },
  {
   "cell_type": "markdown",
   "id": "2f37e1f6-c36e-4c6d-936d-89be2624c147",
   "metadata": {},
   "source": [
    "Reference: Data Science on the Google Cloud Platform. Valliappa Lakshmanan. O'Reilly, 2ed, April 2022\n",
    "\n",
    "Ch5. Interactive Data Exploration"
   ]
  },
  {
   "cell_type": "code",
   "execution_count": 1,
   "id": "8b2f4185-2835-4761-8907-30724a4b5303",
   "metadata": {},
   "outputs": [],
   "source": [
    "import matplotlib.pyplot as plt\n",
    "import seaborn as sns\n",
    "import pandas as pd\n",
    "import numpy as np\n",
    "\n",
    "from google.cloud import bigquery"
   ]
  },
  {
   "cell_type": "code",
   "execution_count": 2,
   "id": "d2d9004c-00ae-4de0-a54d-6ea9e01269e8",
   "metadata": {},
   "outputs": [],
   "source": [
    "bq = bigquery.Client()"
   ]
  },
  {
   "cell_type": "markdown",
   "id": "afccc236-3a3d-4c30-b554-900fee85fd57",
   "metadata": {},
   "source": [
    "## Data Ingest:\n",
    "### Go to the Storage section of the GCP web console and create a new bucket\n",
    "### Open CloudShell and git clone this repo: `git clone https://github.com/GoogleCloudPlatform/data-science-on-gcp`\n",
    "### Then, run:\n",
    "- `cd data-science-on-gcp/02_ingest`\n",
    "- `./ingest_from_crsbucket bucketname`\n",
    "- `./bqload.sh (csv-bucket-name) YEAR`\n",
    "- `cd ../03_sqlstudio`\n",
    "- `./create_views.sh`\n",
    "- `cd ../04_streaming`\n",
    "- `./ingest_from_crsbucket.sh`\n",
    "\n",
    "After the above steps, 26 JSON files should appear in the folder \"flights/tzcorr/' in the bucket. A table  `flights_tzcorr`  should appear in BigQuery under the dataset `dsongcp`. Use these data to conduct the exploratory data analsysis."
   ]
  },
  {
   "cell_type": "markdown",
   "id": "6c9d4db7",
   "metadata": {},
   "source": [
    "## Vertex AI Workbench \n",
    "GCP Vertex AI workbench provides a hosted version of JupyterLab on Google Cloud; it knows how to authenticate against Google Cloud so as to provide easy access to Cloud Storage, BigQuery, Cloud Dataflow, Vertex AI Training, and so on. "
   ]
  },
  {
   "cell_type": "markdown",
   "id": "48363064",
   "metadata": {},
   "source": [
    "## Jupyter magics \n",
    "Jupyter magics provide a mechanism to run a wide variety of languages and ways to add some more. The BigQuery Python package has added a few magics to make the interaction with Google Cloud Platform convenient.\n",
    "\n",
    "For example, you can run a query on your BigQuery table using the `%%bigquery` magic environment that comes with Vertex AI Workbench:\n",
    "\n",
    "```\n",
    "%%bigquery\n",
    "SELECT\n",
    "  COUNTIF(arr_delay >= 15)/COUNT(arr_delay) AS frac_delayed\n",
    "FROM dsongcp.flights_tzcorr\n",
    "```"
   ]
  },
  {
   "cell_type": "markdown",
   "id": "a5cdc01f-42a8-4870-a460-411b929f7637",
   "metadata": {},
   "source": [
    "### We can save the results from BigQuery in a Pandas DataFrame for subsequent processing"
   ]
  },
  {
   "cell_type": "code",
   "execution_count": 4,
   "id": "a0fbe62f-6a98-426b-b05a-3aa3253b80d0",
   "metadata": {},
   "outputs": [
    {
     "data": {
      "application/vnd.jupyter.widget-view+json": {
       "model_id": "187ebb47184347a8ac02957df053a445",
       "version_major": 2,
       "version_minor": 0
      },
      "text/plain": [
       "Query is running:   0%|          |"
      ]
     },
     "metadata": {},
     "output_type": "display_data"
    },
    {
     "data": {
      "application/vnd.jupyter.widget-view+json": {
       "model_id": "8c98a4b447ba4ebebfc9cc2e7589639b",
       "version_major": 2,
       "version_minor": 0
      },
      "text/plain": [
       "Downloading:   0%|          |"
      ]
     },
     "metadata": {},
     "output_type": "display_data"
    }
   ],
   "source": [
    "%%bigquery df\n",
    "SELECT\n",
    "  COUNTIF(arr_delay >= 15)/COUNT(arr_delay) AS frac_delayed\n",
    "FROM dsongcp.flights_tzcorr"
   ]
  },
  {
   "cell_type": "code",
   "execution_count": 5,
   "id": "6ed8774e-e57d-4e29-a3be-0803fbf2f121",
   "metadata": {},
   "outputs": [
    {
     "data": {
      "text/html": [
       "<div>\n",
       "<style scoped>\n",
       "    .dataframe tbody tr th:only-of-type {\n",
       "        vertical-align: middle;\n",
       "    }\n",
       "\n",
       "    .dataframe tbody tr th {\n",
       "        vertical-align: top;\n",
       "    }\n",
       "\n",
       "    .dataframe thead th {\n",
       "        text-align: right;\n",
       "    }\n",
       "</style>\n",
       "<table border=\"1\" class=\"dataframe\">\n",
       "  <thead>\n",
       "    <tr style=\"text-align: right;\">\n",
       "      <th></th>\n",
       "      <th>frac_delayed</th>\n",
       "    </tr>\n",
       "  </thead>\n",
       "  <tbody>\n",
       "    <tr>\n",
       "      <th>0</th>\n",
       "      <td>0.186111</td>\n",
       "    </tr>\n",
       "  </tbody>\n",
       "</table>\n",
       "</div>"
      ],
      "text/plain": [
       "   frac_delayed\n",
       "0      0.186111"
      ]
     },
     "execution_count": 5,
     "metadata": {},
     "output_type": "execute_result"
    }
   ],
   "source": [
    "df"
   ]
  },
  {
   "cell_type": "code",
   "execution_count": 6,
   "id": "393299ee-973d-4e36-98c5-a05eaf4a829d",
   "metadata": {},
   "outputs": [
    {
     "name": "stdout",
     "output_type": "stream",
     "text": [
      "<class 'pandas.core.frame.DataFrame'>\n",
      "RangeIndex: 1 entries, 0 to 0\n",
      "Data columns (total 1 columns):\n",
      " #   Column        Non-Null Count  Dtype  \n",
      "---  ------        --------------  -----  \n",
      " 0   frac_delayed  1 non-null      float64\n",
      "dtypes: float64(1)\n",
      "memory usage: 136.0 bytes\n"
     ]
    }
   ],
   "source": [
    "df.info()"
   ]
  },
  {
   "cell_type": "code",
   "execution_count": 7,
   "id": "ad444b68-e3c6-42ce-9c03-ba8bfb3a28c6",
   "metadata": {},
   "outputs": [],
   "source": [
    "sql_string = \"\"\"\n",
    "SELECT\n",
    "  COUNTIF(arr_delay >= 15)/COUNT(arr_delay) AS frac_delayed\n",
    "FROM dsongcp.flights_tzcorr\n",
    "\"\"\""
   ]
  },
  {
   "cell_type": "markdown",
   "id": "8dfe24cb",
   "metadata": {},
   "source": [
    "## BigQuery from Python\n",
    "If there is a piece of code that you’d ultimately want to run outside a notebook (perhaps as part of a scheduled script), it’s better to use the underlying Python and not the magic pragma:15\n",
    "\n",
    "```\n",
    "sql = \"\"\"\n",
    "SELECT\n",
    "  COUNTIF(arr_delay >= 15)/COUNT(arr_delay) AS frac_delayed\n",
    "FROM dsongcp.flights_tzcorr\n",
    "\"\"\"\n",
    "from google.cloud import bigquery\n",
    "bq = bigquery.Client()\n",
    "df = bq.query(sql).to_dataframe()\n",
    "print(df)\n",
    "```"
   ]
  },
  {
   "cell_type": "code",
   "execution_count": 3,
   "id": "e1803378-9a14-410e-bb27-b00638c038ce",
   "metadata": {},
   "outputs": [],
   "source": [
    "from google.cloud import bigquery"
   ]
  },
  {
   "cell_type": "code",
   "execution_count": 4,
   "id": "8a2e3a05-660c-471c-92c7-cacf1c936953",
   "metadata": {},
   "outputs": [],
   "source": [
    "bq = bigquery.Client()"
   ]
  },
  {
   "cell_type": "code",
   "execution_count": 8,
   "id": "f9c232f0-83b7-4413-8e64-7c6d27703c78",
   "metadata": {},
   "outputs": [],
   "source": [
    "sql_string = \"\"\"\n",
    "SELECT\n",
    "  COUNTIF(arr_delay >= 15)/COUNT(arr_delay) AS frac_delayed\n",
    "FROM dsongcp.flights_tzcorr\n",
    "\"\"\""
   ]
  },
  {
   "cell_type": "code",
   "execution_count": 9,
   "id": "471e5cd3-94a4-478c-89a4-98d9b720d05b",
   "metadata": {},
   "outputs": [],
   "source": [
    "df = bq.query(sql_string).to_dataframe()"
   ]
  },
  {
   "cell_type": "code",
   "execution_count": 10,
   "id": "c98ee989-1dd7-4176-998a-9ebf2542035a",
   "metadata": {},
   "outputs": [
    {
     "data": {
      "text/html": [
       "<div>\n",
       "<style scoped>\n",
       "    .dataframe tbody tr th:only-of-type {\n",
       "        vertical-align: middle;\n",
       "    }\n",
       "\n",
       "    .dataframe tbody tr th {\n",
       "        vertical-align: top;\n",
       "    }\n",
       "\n",
       "    .dataframe thead th {\n",
       "        text-align: right;\n",
       "    }\n",
       "</style>\n",
       "<table border=\"1\" class=\"dataframe\">\n",
       "  <thead>\n",
       "    <tr style=\"text-align: right;\">\n",
       "      <th></th>\n",
       "      <th>frac_delayed</th>\n",
       "    </tr>\n",
       "  </thead>\n",
       "  <tbody>\n",
       "    <tr>\n",
       "      <th>0</th>\n",
       "      <td>0.186111</td>\n",
       "    </tr>\n",
       "  </tbody>\n",
       "</table>\n",
       "</div>"
      ],
      "text/plain": [
       "   frac_delayed\n",
       "0      0.186111"
      ]
     },
     "execution_count": 10,
     "metadata": {},
     "output_type": "execute_result"
    }
   ],
   "source": [
    "df"
   ]
  },
  {
   "cell_type": "markdown",
   "id": "7d93caec",
   "metadata": {},
   "source": [
    "## Exploring Arrival Delays\n",
    "Now that we have a notebook up and running, let’s use it to do exploratory analysis of arrival delays because this is the variable we want to be able to predict."
   ]
  },
  {
   "cell_type": "markdown",
   "id": "0fcf8c8d",
   "metadata": {},
   "source": [
    "## Basic Statistics"
   ]
  },
  {
   "cell_type": "markdown",
   "id": "3411a9c5-e81b-4593-b10e-070e5e5699f0",
   "metadata": {},
   "source": [
    "### Extract the column/attribute names from the flights data in the BigQuery databse."
   ]
  },
  {
   "cell_type": "code",
   "execution_count": 11,
   "id": "5cd1dcba-85f5-4c2c-aca3-de0c86cd2f33",
   "metadata": {},
   "outputs": [
    {
     "data": {
      "application/vnd.jupyter.widget-view+json": {
       "model_id": "17cc4224810445989b9172140f09cb5b",
       "version_major": 2,
       "version_minor": 0
      },
      "text/plain": [
       "Query is running:   0%|          |"
      ]
     },
     "metadata": {},
     "output_type": "display_data"
    },
    {
     "data": {
      "application/vnd.jupyter.widget-view+json": {
       "model_id": "8f001b0d559d4dfe9ce05f9bb1b68493",
       "version_major": 2,
       "version_minor": 0
      },
      "text/plain": [
       "Downloading:   0%|          |"
      ]
     },
     "metadata": {},
     "output_type": "display_data"
    }
   ],
   "source": [
    "%%bigquery flights\n",
    "select * \n",
    "from dsongcp.flights_tzcorr\n",
    "limit 2\n"
   ]
  },
  {
   "cell_type": "code",
   "execution_count": 12,
   "id": "fd554d6c-02a0-446f-9539-1ace5cab6be5",
   "metadata": {},
   "outputs": [
    {
     "data": {
      "text/plain": [
       "Index(['ARR_AIRPORT_TZOFFSET', 'ARR_AIRPORT_LON', 'DIVERTED',\n",
       "       'ARR_AIRPORT_LAT', 'DEP_AIRPORT_TZOFFSET', 'DEP_DELAY',\n",
       "       'DEP_AIRPORT_LON', 'DISTANCE', 'CANCELLED', 'CRS_DEP_TIME', 'ARR_DELAY',\n",
       "       'TAXI_IN', 'WHEELS_ON', 'TAXI_OUT', 'ORIGIN_AIRPORT_SEQ_ID',\n",
       "       'DEP_AIRPORT_LAT', 'DEST_AIRPORT_SEQ_ID', 'DEP_TIME', 'CRS_ARR_TIME',\n",
       "       'ORIGIN', 'DEST', 'UNIQUE_CARRIER', 'ARR_TIME', 'WHEELS_OFF',\n",
       "       'FL_DATE'],\n",
       "      dtype='object')"
      ]
     },
     "execution_count": 12,
     "metadata": {},
     "output_type": "execute_result"
    }
   ],
   "source": [
    "flights.columns"
   ]
  },
  {
   "cell_type": "markdown",
   "id": "5fc3361c-d8b5-4708-b2a8-6808e1644d16",
   "metadata": {},
   "source": [
    "### How many records in the BigQuery database?"
   ]
  },
  {
   "cell_type": "code",
   "execution_count": 13,
   "id": "51293f51-26f7-44f8-bfe5-f67a28f7e6f8",
   "metadata": {},
   "outputs": [
    {
     "data": {
      "application/vnd.jupyter.widget-view+json": {
       "model_id": "a7ed1351c8d642b8b28eabc7887dbb08",
       "version_major": 2,
       "version_minor": 0
      },
      "text/plain": [
       "Query is running:   0%|          |"
      ]
     },
     "metadata": {},
     "output_type": "display_data"
    },
    {
     "data": {
      "application/vnd.jupyter.widget-view+json": {
       "model_id": "59195f9715c24256a6139ca5c71a4082",
       "version_major": 2,
       "version_minor": 0
      },
      "text/plain": [
       "Downloading:   0%|          |"
      ]
     },
     "metadata": {},
     "output_type": "display_data"
    },
    {
     "data": {
      "text/html": [
       "<div>\n",
       "<style scoped>\n",
       "    .dataframe tbody tr th:only-of-type {\n",
       "        vertical-align: middle;\n",
       "    }\n",
       "\n",
       "    .dataframe tbody tr th {\n",
       "        vertical-align: top;\n",
       "    }\n",
       "\n",
       "    .dataframe thead th {\n",
       "        text-align: right;\n",
       "    }\n",
       "</style>\n",
       "<table border=\"1\" class=\"dataframe\">\n",
       "  <thead>\n",
       "    <tr style=\"text-align: right;\">\n",
       "      <th></th>\n",
       "      <th>f0_</th>\n",
       "    </tr>\n",
       "  </thead>\n",
       "  <tbody>\n",
       "    <tr>\n",
       "      <th>0</th>\n",
       "      <td>11638158</td>\n",
       "    </tr>\n",
       "  </tbody>\n",
       "</table>\n",
       "</div>"
      ],
      "text/plain": [
       "        f0_\n",
       "0  11638158"
      ]
     },
     "execution_count": 13,
     "metadata": {},
     "output_type": "execute_result"
    }
   ],
   "source": [
    "%%bigquery\n",
    "select count(*)\n",
    "from dsongcp.flights_tzcorr"
   ]
  },
  {
   "cell_type": "markdown",
   "id": "25cde259-5645-4425-8db6-407074b34603",
   "metadata": {},
   "source": [
    "### What is the average arr_delay for each dep_delay?"
   ]
  },
  {
   "cell_type": "code",
   "execution_count": 14,
   "id": "c4648ee7-3b78-43a5-b108-3d5500d7e5ad",
   "metadata": {},
   "outputs": [
    {
     "data": {
      "application/vnd.jupyter.widget-view+json": {
       "model_id": "e4109fe105944e75a7394237ee4d521b",
       "version_major": 2,
       "version_minor": 0
      },
      "text/plain": [
       "Query is running:   0%|          |"
      ]
     },
     "metadata": {},
     "output_type": "display_data"
    },
    {
     "data": {
      "application/vnd.jupyter.widget-view+json": {
       "model_id": "e573aaca8c6b485ba22cacefb7c3fefe",
       "version_major": 2,
       "version_minor": 0
      },
      "text/plain": [
       "Downloading:   0%|          |"
      ]
     },
     "metadata": {},
     "output_type": "display_data"
    }
   ],
   "source": [
    "%%bigquery df\n",
    "select dep_delay, avg(arr_delay) as avg_arr_delay\n",
    "from dsongcp.flights_tzcorr\n",
    "group by dep_delay"
   ]
  },
  {
   "cell_type": "code",
   "execution_count": 15,
   "id": "4278aae8-1b12-4f96-9934-d89f4a936e47",
   "metadata": {},
   "outputs": [
    {
     "data": {
      "text/html": [
       "<div>\n",
       "<style scoped>\n",
       "    .dataframe tbody tr th:only-of-type {\n",
       "        vertical-align: middle;\n",
       "    }\n",
       "\n",
       "    .dataframe tbody tr th {\n",
       "        vertical-align: top;\n",
       "    }\n",
       "\n",
       "    .dataframe thead th {\n",
       "        text-align: right;\n",
       "    }\n",
       "</style>\n",
       "<table border=\"1\" class=\"dataframe\">\n",
       "  <thead>\n",
       "    <tr style=\"text-align: right;\">\n",
       "      <th></th>\n",
       "      <th>dep_delay</th>\n",
       "      <th>avg_arr_delay</th>\n",
       "    </tr>\n",
       "  </thead>\n",
       "  <tbody>\n",
       "    <tr>\n",
       "      <th>790</th>\n",
       "      <td>-82.0</td>\n",
       "      <td>-80.0</td>\n",
       "    </tr>\n",
       "    <tr>\n",
       "      <th>179</th>\n",
       "      <td>-68.0</td>\n",
       "      <td>-87.0</td>\n",
       "    </tr>\n",
       "    <tr>\n",
       "      <th>367</th>\n",
       "      <td>-61.0</td>\n",
       "      <td>-77.0</td>\n",
       "    </tr>\n",
       "    <tr>\n",
       "      <th>628</th>\n",
       "      <td>-56.0</td>\n",
       "      <td>-26.0</td>\n",
       "    </tr>\n",
       "    <tr>\n",
       "      <th>685</th>\n",
       "      <td>-55.0</td>\n",
       "      <td>-60.0</td>\n",
       "    </tr>\n",
       "    <tr>\n",
       "      <th>...</th>\n",
       "      <td>...</td>\n",
       "      <td>...</td>\n",
       "    </tr>\n",
       "    <tr>\n",
       "      <th>714</th>\n",
       "      <td>1649.0</td>\n",
       "      <td>1636.0</td>\n",
       "    </tr>\n",
       "    <tr>\n",
       "      <th>1175</th>\n",
       "      <td>1670.0</td>\n",
       "      <td>1665.0</td>\n",
       "    </tr>\n",
       "    <tr>\n",
       "      <th>744</th>\n",
       "      <td>1878.0</td>\n",
       "      <td>1898.0</td>\n",
       "    </tr>\n",
       "    <tr>\n",
       "      <th>1057</th>\n",
       "      <td>1988.0</td>\n",
       "      <td>1971.0</td>\n",
       "    </tr>\n",
       "    <tr>\n",
       "      <th>798</th>\n",
       "      <td>NaN</td>\n",
       "      <td>NaN</td>\n",
       "    </tr>\n",
       "  </tbody>\n",
       "</table>\n",
       "<p>1218 rows × 2 columns</p>\n",
       "</div>"
      ],
      "text/plain": [
       "      dep_delay  avg_arr_delay\n",
       "790       -82.0          -80.0\n",
       "179       -68.0          -87.0\n",
       "367       -61.0          -77.0\n",
       "628       -56.0          -26.0\n",
       "685       -55.0          -60.0\n",
       "...         ...            ...\n",
       "714      1649.0         1636.0\n",
       "1175     1670.0         1665.0\n",
       "744      1878.0         1898.0\n",
       "1057     1988.0         1971.0\n",
       "798         NaN            NaN\n",
       "\n",
       "[1218 rows x 2 columns]"
      ]
     },
     "execution_count": 15,
     "metadata": {},
     "output_type": "execute_result"
    }
   ],
   "source": [
    "df.sort_values('dep_delay')"
   ]
  },
  {
   "cell_type": "markdown",
   "id": "d83f56bb-2a13-472e-ad09-8e90b695d172",
   "metadata": {},
   "source": [
    "### Let's visualize the avg_arr_delay vs. dep_delay for dep_delay < 60 mins"
   ]
  },
  {
   "cell_type": "code",
   "execution_count": 16,
   "id": "3540643a-b675-44d2-b7e7-0529a1df0b2d",
   "metadata": {},
   "outputs": [],
   "source": [
    "df = df[df.avg_arr_delay < 60]"
   ]
  },
  {
   "cell_type": "code",
   "execution_count": 17,
   "id": "a823800d-6957-406b-9247-f0de73065817",
   "metadata": {},
   "outputs": [
    {
     "data": {
      "text/plain": [
       "Text(0, 0.5, 'avg_arr_delay')"
      ]
     },
     "execution_count": 17,
     "metadata": {},
     "output_type": "execute_result"
    },
    {
     "data": {
      "image/png": "[encoded data removed]",
      "text/plain": [
       "<Figure size 640x480 with 1 Axes>"
      ]
     },
     "metadata": {},
     "output_type": "display_data"
    }
   ],
   "source": [
    "plt.plot(df.dep_delay, df.avg_arr_delay)\n",
    "plt.title(\"avg_arr_delay vs. dep_delay\")\n",
    "plt.xlabel(\"dep_delay\")\n",
    "plt.ylabel(\"avg_arr_delay\")"
   ]
  },
  {
   "cell_type": "markdown",
   "id": "768b522b-8ed0-490f-a09b-51206665f6bd",
   "metadata": {},
   "source": [
    "### Are the records of dep_delay < -20 mins outliers?"
   ]
  },
  {
   "cell_type": "code",
   "execution_count": 15,
   "id": "b2800221-8cad-4933-a45e-a357f9c26c88",
   "metadata": {},
   "outputs": [
    {
     "data": {
      "text/html": [
       "<div>\n",
       "<style scoped>\n",
       "    .dataframe tbody tr th:only-of-type {\n",
       "        vertical-align: middle;\n",
       "    }\n",
       "\n",
       "    .dataframe tbody tr th {\n",
       "        vertical-align: top;\n",
       "    }\n",
       "\n",
       "    .dataframe thead th {\n",
       "        text-align: right;\n",
       "    }\n",
       "</style>\n",
       "<table border=\"1\" class=\"dataframe\">\n",
       "  <thead>\n",
       "    <tr style=\"text-align: right;\">\n",
       "      <th></th>\n",
       "      <th>dep_delay</th>\n",
       "      <th>avg_arr_delay</th>\n",
       "    </tr>\n",
       "  </thead>\n",
       "  <tbody>\n",
       "    <tr>\n",
       "      <th>67</th>\n",
       "      <td>-21.0</td>\n",
       "      <td>-22.299781</td>\n",
       "    </tr>\n",
       "    <tr>\n",
       "      <th>80</th>\n",
       "      <td>-28.0</td>\n",
       "      <td>-26.595745</td>\n",
       "    </tr>\n",
       "    <tr>\n",
       "      <th>92</th>\n",
       "      <td>-26.0</td>\n",
       "      <td>-24.145349</td>\n",
       "    </tr>\n",
       "    <tr>\n",
       "      <th>123</th>\n",
       "      <td>-27.0</td>\n",
       "      <td>-26.380952</td>\n",
       "    </tr>\n",
       "    <tr>\n",
       "      <th>134</th>\n",
       "      <td>-33.0</td>\n",
       "      <td>-30.440000</td>\n",
       "    </tr>\n",
       "    <tr>\n",
       "      <th>172</th>\n",
       "      <td>-29.0</td>\n",
       "      <td>-22.636364</td>\n",
       "    </tr>\n",
       "    <tr>\n",
       "      <th>173</th>\n",
       "      <td>-30.0</td>\n",
       "      <td>-27.315789</td>\n",
       "    </tr>\n",
       "    <tr>\n",
       "      <th>174</th>\n",
       "      <td>-38.0</td>\n",
       "      <td>-33.333333</td>\n",
       "    </tr>\n",
       "    <tr>\n",
       "      <th>192</th>\n",
       "      <td>-36.0</td>\n",
       "      <td>-33.823529</td>\n",
       "    </tr>\n",
       "    <tr>\n",
       "      <th>200</th>\n",
       "      <td>-35.0</td>\n",
       "      <td>-35.208333</td>\n",
       "    </tr>\n",
       "    <tr>\n",
       "      <th>218</th>\n",
       "      <td>-56.0</td>\n",
       "      <td>-26.000000</td>\n",
       "    </tr>\n",
       "    <tr>\n",
       "      <th>226</th>\n",
       "      <td>-40.0</td>\n",
       "      <td>-34.000000</td>\n",
       "    </tr>\n",
       "    <tr>\n",
       "      <th>332</th>\n",
       "      <td>-55.0</td>\n",
       "      <td>-60.000000</td>\n",
       "    </tr>\n",
       "    <tr>\n",
       "      <th>377</th>\n",
       "      <td>-82.0</td>\n",
       "      <td>-80.000000</td>\n",
       "    </tr>\n",
       "    <tr>\n",
       "      <th>494</th>\n",
       "      <td>-24.0</td>\n",
       "      <td>-23.732899</td>\n",
       "    </tr>\n",
       "    <tr>\n",
       "      <th>561</th>\n",
       "      <td>-68.0</td>\n",
       "      <td>-87.000000</td>\n",
       "    </tr>\n",
       "    <tr>\n",
       "      <th>586</th>\n",
       "      <td>-31.0</td>\n",
       "      <td>-27.656250</td>\n",
       "    </tr>\n",
       "    <tr>\n",
       "      <th>648</th>\n",
       "      <td>-41.0</td>\n",
       "      <td>-38.857143</td>\n",
       "    </tr>\n",
       "    <tr>\n",
       "      <th>680</th>\n",
       "      <td>-61.0</td>\n",
       "      <td>-77.000000</td>\n",
       "    </tr>\n",
       "    <tr>\n",
       "      <th>706</th>\n",
       "      <td>-43.0</td>\n",
       "      <td>-39.000000</td>\n",
       "    </tr>\n",
       "    <tr>\n",
       "      <th>786</th>\n",
       "      <td>-46.0</td>\n",
       "      <td>-7.000000</td>\n",
       "    </tr>\n",
       "    <tr>\n",
       "      <th>822</th>\n",
       "      <td>-25.0</td>\n",
       "      <td>-24.933036</td>\n",
       "    </tr>\n",
       "    <tr>\n",
       "      <th>823</th>\n",
       "      <td>-23.0</td>\n",
       "      <td>-23.888646</td>\n",
       "    </tr>\n",
       "    <tr>\n",
       "      <th>885</th>\n",
       "      <td>-22.0</td>\n",
       "      <td>-23.227488</td>\n",
       "    </tr>\n",
       "    <tr>\n",
       "      <th>935</th>\n",
       "      <td>-34.0</td>\n",
       "      <td>-37.000000</td>\n",
       "    </tr>\n",
       "    <tr>\n",
       "      <th>936</th>\n",
       "      <td>-39.0</td>\n",
       "      <td>-35.909091</td>\n",
       "    </tr>\n",
       "    <tr>\n",
       "      <th>937</th>\n",
       "      <td>-37.0</td>\n",
       "      <td>-34.466667</td>\n",
       "    </tr>\n",
       "    <tr>\n",
       "      <th>938</th>\n",
       "      <td>-32.0</td>\n",
       "      <td>-27.000000</td>\n",
       "    </tr>\n",
       "    <tr>\n",
       "      <th>1075</th>\n",
       "      <td>-42.0</td>\n",
       "      <td>-34.800000</td>\n",
       "    </tr>\n",
       "    <tr>\n",
       "      <th>1085</th>\n",
       "      <td>-48.0</td>\n",
       "      <td>-34.500000</td>\n",
       "    </tr>\n",
       "    <tr>\n",
       "      <th>1086</th>\n",
       "      <td>-47.0</td>\n",
       "      <td>-51.000000</td>\n",
       "    </tr>\n",
       "    <tr>\n",
       "      <th>1109</th>\n",
       "      <td>-45.0</td>\n",
       "      <td>-34.000000</td>\n",
       "    </tr>\n",
       "    <tr>\n",
       "      <th>1141</th>\n",
       "      <td>-44.0</td>\n",
       "      <td>-33.000000</td>\n",
       "    </tr>\n",
       "    <tr>\n",
       "      <th>1205</th>\n",
       "      <td>-52.0</td>\n",
       "      <td>-61.000000</td>\n",
       "    </tr>\n",
       "  </tbody>\n",
       "</table>\n",
       "</div>"
      ],
      "text/plain": [
       "      dep_delay  avg_arr_delay\n",
       "67        -21.0     -22.299781\n",
       "80        -28.0     -26.595745\n",
       "92        -26.0     -24.145349\n",
       "123       -27.0     -26.380952\n",
       "134       -33.0     -30.440000\n",
       "172       -29.0     -22.636364\n",
       "173       -30.0     -27.315789\n",
       "174       -38.0     -33.333333\n",
       "192       -36.0     -33.823529\n",
       "200       -35.0     -35.208333\n",
       "218       -56.0     -26.000000\n",
       "226       -40.0     -34.000000\n",
       "332       -55.0     -60.000000\n",
       "377       -82.0     -80.000000\n",
       "494       -24.0     -23.732899\n",
       "561       -68.0     -87.000000\n",
       "586       -31.0     -27.656250\n",
       "648       -41.0     -38.857143\n",
       "680       -61.0     -77.000000\n",
       "706       -43.0     -39.000000\n",
       "786       -46.0      -7.000000\n",
       "822       -25.0     -24.933036\n",
       "823       -23.0     -23.888646\n",
       "885       -22.0     -23.227488\n",
       "935       -34.0     -37.000000\n",
       "936       -39.0     -35.909091\n",
       "937       -37.0     -34.466667\n",
       "938       -32.0     -27.000000\n",
       "1075      -42.0     -34.800000\n",
       "1085      -48.0     -34.500000\n",
       "1086      -47.0     -51.000000\n",
       "1109      -45.0     -34.000000\n",
       "1141      -44.0     -33.000000\n",
       "1205      -52.0     -61.000000"
      ]
     },
     "execution_count": 15,
     "metadata": {},
     "output_type": "execute_result"
    }
   ],
   "source": [
    "df[df.dep_delay < -20]"
   ]
  },
  {
   "cell_type": "code",
   "execution_count": 18,
   "id": "7c4617ef-6777-4dcb-8c8d-d8502e8bb4f3",
   "metadata": {},
   "outputs": [
    {
     "data": {
      "application/vnd.jupyter.widget-view+json": {
       "model_id": "2b730dc05e8e47beab2fe2dce9323e9a",
       "version_major": 2,
       "version_minor": 0
      },
      "text/plain": [
       "Query is running:   0%|          |"
      ]
     },
     "metadata": {},
     "output_type": "display_data"
    },
    {
     "data": {
      "application/vnd.jupyter.widget-view+json": {
       "model_id": "25b4221307b041c5af7365cd53850eb1",
       "version_major": 2,
       "version_minor": 0
      },
      "text/plain": [
       "Downloading:   0%|          |"
      ]
     },
     "metadata": {},
     "output_type": "display_data"
    }
   ],
   "source": [
    "%%bigquery df_20\n",
    "select origin, dep_delay\n",
    "from dsongcp.flights_tzcorr\n",
    "where dep_delay < -20"
   ]
  },
  {
   "cell_type": "code",
   "execution_count": 19,
   "id": "2a782319-fe01-4529-9cb9-a78772f2fbae",
   "metadata": {},
   "outputs": [
    {
     "data": {
      "text/plain": [
       "array(['FCA', 'MBS', 'LIT', 'DTW', 'PDX', 'IAG', 'OTZ', 'GRR', 'SJU',\n",
       "       'ANC', 'MRY', 'HNL', 'PSP', 'LIH', 'ICT', 'DSM', 'DLG', 'TPA',\n",
       "       'FLL', 'ONT', 'GEG', 'GUC', 'BQN', 'SLC', 'JMS', 'MFR', 'RAP',\n",
       "       'MEI', 'MOT', 'APN', 'ATL', 'OMA', 'MSP', 'SJC', 'FWA', 'ORD',\n",
       "       'IAH', 'KTN', 'MEM', 'SNA', 'ISN', 'AZO', 'GRK', 'PPG', 'YAK',\n",
       "       'MIA', 'DVL', 'MSY', 'MKG', 'PBG', 'JAN', 'CPR', 'PHX', 'SEA',\n",
       "       'CRP', 'MSN', 'KOA', 'FSD', 'ATW', 'STL', 'BPT', 'GJT', 'LEX',\n",
       "       'ADQ', 'ADK', 'SCC', 'FAR', 'SHV', 'VEL', 'MKE', 'PSG', 'STT',\n",
       "       'ROC', 'LGA', 'LAS', 'BRW', 'ORF', 'RSW', 'JNU', 'MCO', 'TVC',\n",
       "       'BMI', 'MAF', 'CDC', 'RHI', 'BOS', 'HIB', 'SRQ', 'SFO', 'TYR',\n",
       "       'LCH', 'DEN', 'PIA', 'LAX', 'EVV', 'BWI', 'MDT', 'MSO', 'FAI',\n",
       "       'CDV', 'SAN', 'RST', 'CMI', 'MFE', 'OME', 'GNV', 'YUM', 'BIS',\n",
       "       'SIT', 'DRO', 'HDN', 'TUS', 'LBE', 'PBI', 'PIB', 'OGG', 'XNA',\n",
       "       'IMT', 'BFL', 'SBP', 'ACK', 'RIC', 'HPN', 'MCI', 'DCA', 'BET',\n",
       "       'AUS', 'ILG', 'AEX', 'MYR', 'ASE', 'ACV', 'BUF', 'BUR', 'GCC',\n",
       "       'BOI', 'JAC', 'LAN', 'RKS', 'WRG', 'SBA', 'BZN', 'STX', 'RDU',\n",
       "       'ABQ', 'LFT', 'VPS', 'MTJ', 'AMA', 'EWR', 'DFW', 'BTR', 'PIT',\n",
       "       'MLI', 'INL', 'GRB', 'OKC', 'SAT', 'CMX', 'SMF', 'ORH', 'EYW',\n",
       "       'SJT', 'PHL', 'SYR', 'BDL', 'BNA', 'EKO', 'MOB', 'OAK', 'PWM',\n",
       "       'CLE', 'EGE', 'MLU', 'SUN', 'BIL', 'TTN', 'CHS', 'GSO', 'GCK',\n",
       "       'TLH', 'ACT', 'IDA', 'CLL', 'CID', 'GST', 'MHK', 'COS', 'ALB',\n",
       "       'CMH', 'EAU', 'TUL', 'DIK', 'IND', 'ROA', 'BRO', 'PNS', 'CVG',\n",
       "       'HSV', 'TYS', 'CAE', 'SGF', 'IAD', 'PVD', 'SPS', 'ELP', 'GSP',\n",
       "       'JLN', 'LGB', 'MGM', 'FSM', 'PSC', 'SMX', 'TWF', 'LAW', 'BGM',\n",
       "       'CEC', 'BTM', 'RDM', 'LSE', 'PIH', 'BRD', 'CHO', 'HOU', 'CLT',\n",
       "       'DAY', 'BLI', 'SBN', 'GTF', 'GPT', 'HYS', 'CRW', 'PSE', 'SAF',\n",
       "       'FLG', 'RNO', 'ROW', 'LNK', 'JAX', 'ECP', 'TXK', 'DAL', 'TRI',\n",
       "       'MMH', 'LRD', 'FAT', 'COD', 'JFK', 'CNY', 'FAY', 'ABI', 'EWN'],\n",
       "      dtype=object)"
      ]
     },
     "execution_count": 19,
     "metadata": {},
     "output_type": "execute_result"
    }
   ],
   "source": [
    "df_20.origin.unique()"
   ]
  },
  {
   "cell_type": "markdown",
   "id": "f455f860-8cb1-4c26-891d-a0f82f10eebd",
   "metadata": {},
   "source": [
    "### We should only consider the airports which have at least 10 flights per day."
   ]
  },
  {
   "cell_type": "code",
   "execution_count": 20,
   "id": "73aa7364-bb9f-4d8c-a7da-a8ead55b6f88",
   "metadata": {},
   "outputs": [
    {
     "data": {
      "application/vnd.jupyter.widget-view+json": {
       "model_id": "f7c4e40531c64d74aa8034e866d68b28",
       "version_major": 2,
       "version_minor": 0
      },
      "text/plain": [
       "Query is running:   0%|          |"
      ]
     },
     "metadata": {},
     "output_type": "display_data"
    },
    {
     "data": {
      "application/vnd.jupyter.widget-view+json": {
       "model_id": "75fb6cd042ec41788ced21fc89b1c3cc",
       "version_major": 2,
       "version_minor": 0
      },
      "text/plain": [
       "Downloading:   0%|          |"
      ]
     },
     "metadata": {},
     "output_type": "display_data"
    }
   ],
   "source": [
    "%%bigquery df_10dailyflights\n",
    "select dep_delay, avg(arr_delay) as avg_arr_delay, count(*) as numFlights\n",
    "from dsongcp.flights_tzcorr\n",
    "group by dep_delay\n",
    "having numFlights > 3650\n",
    "order by avg_arr_delay"
   ]
  },
  {
   "cell_type": "code",
   "execution_count": 21,
   "id": "7feb69ec-9e86-49ff-b5b7-3ca3ebdcdb71",
   "metadata": {},
   "outputs": [
    {
     "data": {
      "text/html": [
       "<div>\n",
       "<style scoped>\n",
       "    .dataframe tbody tr th:only-of-type {\n",
       "        vertical-align: middle;\n",
       "    }\n",
       "\n",
       "    .dataframe tbody tr th {\n",
       "        vertical-align: top;\n",
       "    }\n",
       "\n",
       "    .dataframe thead th {\n",
       "        text-align: right;\n",
       "    }\n",
       "</style>\n",
       "<table border=\"1\" class=\"dataframe\">\n",
       "  <thead>\n",
       "    <tr style=\"text-align: right;\">\n",
       "      <th></th>\n",
       "      <th>dep_delay</th>\n",
       "      <th>avg_arr_delay</th>\n",
       "      <th>numFlights</th>\n",
       "    </tr>\n",
       "  </thead>\n",
       "  <tbody>\n",
       "    <tr>\n",
       "      <th>0</th>\n",
       "      <td>NaN</td>\n",
       "      <td>NaN</td>\n",
       "      <td>172306</td>\n",
       "    </tr>\n",
       "    <tr>\n",
       "      <th>1</th>\n",
       "      <td>-19.0</td>\n",
       "      <td>-20.430769</td>\n",
       "      <td>3916</td>\n",
       "    </tr>\n",
       "    <tr>\n",
       "      <th>2</th>\n",
       "      <td>-18.0</td>\n",
       "      <td>-19.484595</td>\n",
       "      <td>5990</td>\n",
       "    </tr>\n",
       "    <tr>\n",
       "      <th>3</th>\n",
       "      <td>-17.0</td>\n",
       "      <td>-18.743667</td>\n",
       "      <td>8614</td>\n",
       "    </tr>\n",
       "    <tr>\n",
       "      <th>4</th>\n",
       "      <td>-16.0</td>\n",
       "      <td>-17.557040</td>\n",
       "      <td>12754</td>\n",
       "    </tr>\n",
       "    <tr>\n",
       "      <th>...</th>\n",
       "      <td>...</td>\n",
       "      <td>...</td>\n",
       "      <td>...</td>\n",
       "    </tr>\n",
       "    <tr>\n",
       "      <th>136</th>\n",
       "      <td>116.0</td>\n",
       "      <td>113.020953</td>\n",
       "      <td>3856</td>\n",
       "    </tr>\n",
       "    <tr>\n",
       "      <th>137</th>\n",
       "      <td>117.0</td>\n",
       "      <td>114.494400</td>\n",
       "      <td>3776</td>\n",
       "    </tr>\n",
       "    <tr>\n",
       "      <th>138</th>\n",
       "      <td>118.0</td>\n",
       "      <td>114.876374</td>\n",
       "      <td>3682</td>\n",
       "    </tr>\n",
       "    <tr>\n",
       "      <th>139</th>\n",
       "      <td>119.0</td>\n",
       "      <td>115.601639</td>\n",
       "      <td>3714</td>\n",
       "    </tr>\n",
       "    <tr>\n",
       "      <th>140</th>\n",
       "      <td>120.0</td>\n",
       "      <td>117.463940</td>\n",
       "      <td>3760</td>\n",
       "    </tr>\n",
       "  </tbody>\n",
       "</table>\n",
       "<p>141 rows × 3 columns</p>\n",
       "</div>"
      ],
      "text/plain": [
       "     dep_delay  avg_arr_delay  numFlights\n",
       "0          NaN            NaN      172306\n",
       "1        -19.0     -20.430769        3916\n",
       "2        -18.0     -19.484595        5990\n",
       "3        -17.0     -18.743667        8614\n",
       "4        -16.0     -17.557040       12754\n",
       "..         ...            ...         ...\n",
       "136      116.0     113.020953        3856\n",
       "137      117.0     114.494400        3776\n",
       "138      118.0     114.876374        3682\n",
       "139      119.0     115.601639        3714\n",
       "140      120.0     117.463940        3760\n",
       "\n",
       "[141 rows x 3 columns]"
      ]
     },
     "execution_count": 21,
     "metadata": {},
     "output_type": "execute_result"
    }
   ],
   "source": [
    "df_10dailyflights"
   ]
  },
  {
   "cell_type": "markdown",
   "id": "7bee20cd",
   "metadata": {},
   "source": [
    "## Plot Distribution \n",
    "Plot a violin plot of our decision surface, i.e., of the arrival delay for flights that depart more than 15 minutes late."
   ]
  },
  {
   "cell_type": "code",
   "execution_count": 27,
   "id": "1a702552",
   "metadata": {},
   "outputs": [
    {
     "data": {
      "application/vnd.jupyter.widget-view+json": {
       "model_id": "56fe2bff4c2e4d45b19efe7ade71ec4a",
       "version_major": 2,
       "version_minor": 0
      },
      "text/plain": [
       "Query is running:   0%|          |"
      ]
     },
     "metadata": {},
     "output_type": "display_data"
    },
    {
     "data": {
      "application/vnd.jupyter.widget-view+json": {
       "model_id": "c75d9dbd29dc4626a81c4537dcb8515a",
       "version_major": 2,
       "version_minor": 0
      },
      "text/plain": [
       "Downloading:   0%|          |"
      ]
     },
     "metadata": {},
     "output_type": "display_data"
    }
   ],
   "source": [
    "%%bigquery df_15mins\n",
    "select dep_delay, arr_delay\n",
    "from dsongcp.flights_tzcorr\n",
    "where dep_delay > 15"
   ]
  },
  {
   "cell_type": "code",
   "execution_count": 24,
   "id": "b145ed1c-e08c-4010-9e3b-df45b43430f5",
   "metadata": {},
   "outputs": [
    {
     "data": {
      "text/plain": [
       "(2037116, 2)"
      ]
     },
     "execution_count": 24,
     "metadata": {},
     "output_type": "execute_result"
    }
   ],
   "source": [
    "df_15mins.shape"
   ]
  },
  {
   "cell_type": "code",
   "execution_count": 30,
   "id": "29263fc9-78ee-4c00-b900-996deae5bfd3",
   "metadata": {},
   "outputs": [
    {
     "data": {
      "text/plain": [
       "<AxesSubplot:xlabel='arr_delay'>"
      ]
     },
     "execution_count": 30,
     "metadata": {},
     "output_type": "execute_result"
    },
    {
     "data": {
      "image/png": "[encoded data removed]",
      "text/plain": [
       "<Figure size 640x480 with 1 Axes>"
      ]
     },
     "metadata": {},
     "output_type": "display_data"
    }
   ],
   "source": [
    "sns.violinplot(data=df_15mins, x ='arr_delay', inner='box', orient='Vertical')"
   ]
  },
  {
   "cell_type": "code",
   "execution_count": 28,
   "id": "ba58aa3a-4ab8-46ac-a108-e9d6e50bedfe",
   "metadata": {},
   "outputs": [
    {
     "data": {
      "text/plain": [
       "36.0"
      ]
     },
     "execution_count": 28,
     "metadata": {},
     "output_type": "execute_result"
    }
   ],
   "source": [
    "df_15mins.arr_delay.median()"
   ]
  },
  {
   "cell_type": "code",
   "execution_count": 29,
   "id": "3df818a0-1552-463e-92f2-011fd09be26c",
   "metadata": {},
   "outputs": [
    {
     "data": {
      "application/vnd.jupyter.widget-view+json": {
       "model_id": "69b1aa58bc014545abec599d33fe44da",
       "version_major": 2,
       "version_minor": 0
      },
      "text/plain": [
       "Query is running:   0%|          |"
      ]
     },
     "metadata": {},
     "output_type": "display_data"
    },
    {
     "data": {
      "application/vnd.jupyter.widget-view+json": {
       "model_id": "d4cf93554292462fb4dfe6edd6c2d155",
       "version_major": 2,
       "version_minor": 0
      },
      "text/plain": [
       "Downloading:   0%|          |"
      ]
     },
     "metadata": {},
     "output_type": "display_data"
    }
   ],
   "source": [
    "%%bigquery df_less15mins\n",
    "select dep_delay, arr_delay\n",
    "from dsongcp.flights_tzcorr\n",
    "where dep_delay <= 15"
   ]
  },
  {
   "cell_type": "code",
   "execution_count": 31,
   "id": "12c094bb-5dc0-4506-93ea-0a2b98d345d6",
   "metadata": {},
   "outputs": [
    {
     "data": {
      "text/plain": [
       "<AxesSubplot:xlabel='arr_delay'>"
      ]
     },
     "execution_count": 31,
     "metadata": {},
     "output_type": "execute_result"
    },
    {
     "data": {
      "image/png": "[encoded data removed]",
      "text/plain": [
       "<Figure size 640x480 with 1 Axes>"
      ]
     },
     "metadata": {},
     "output_type": "display_data"
    }
   ],
   "source": [
    "sns.violinplot(data=df_less15mins, x ='arr_delay', inner='box', orient='h')"
   ]
  },
  {
   "cell_type": "code",
   "execution_count": 32,
   "id": "1130c14b-7454-4741-982c-d3eb3234c6e1",
   "metadata": {},
   "outputs": [
    {
     "data": {
      "text/plain": [
       "-8.0"
      ]
     },
     "execution_count": 32,
     "metadata": {},
     "output_type": "execute_result"
    }
   ],
   "source": [
    "df_less15mins.arr_delay.median()"
   ]
  },
  {
   "cell_type": "markdown",
   "id": "26bbbc71",
   "metadata": {},
   "source": [
    "## Probabilistic Analysis"
   ]
  },
  {
   "cell_type": "markdown",
   "id": "e30db76c-dcd8-43e4-b458-a4c0f7707a89",
   "metadata": {},
   "source": [
    "### Query 1: \n",
    "Find average departure and arrival delays at each airport in the US, retain only airports where there were at least 3650 flights, and sort them by departure delay in descending order."
   ]
  },
  {
   "cell_type": "code",
   "execution_count": 37,
   "id": "2ae0e41e-3e37-477a-bdde-1a5ff75590bb",
   "metadata": {},
   "outputs": [
    {
     "data": {
      "application/vnd.jupyter.widget-view+json": {
       "model_id": "ee1370b9139b44b5a2760f56e559c149",
       "version_major": 2,
       "version_minor": 0
      },
      "text/plain": [
       "Query is running:   0%|          |"
      ]
     },
     "metadata": {},
     "output_type": "display_data"
    },
    {
     "data": {
      "application/vnd.jupyter.widget-view+json": {
       "model_id": "19c7658698aa49a9b702a0cb8f94e675",
       "version_major": 2,
       "version_minor": 0
      },
      "text/plain": [
       "Downloading:   0%|          |"
      ]
     },
     "metadata": {},
     "output_type": "display_data"
    }
   ],
   "source": [
    "%%bigquery df_us\n",
    "select avg(dep_delay) as avg_dep_delay, avg(arr_delay) as avg_arr_delay, count(*) as numFlights\n",
    "from dsongcp.flights_tzcorr\n",
    "group by origin\n",
    "having numFlights > 3650\n",
    "order by avg_dep_delay desc"
   ]
  },
  {
   "cell_type": "code",
   "execution_count": 38,
   "id": "701ceac0-1e77-4ce5-9cd4-6cc5416b6ff5",
   "metadata": {},
   "outputs": [
    {
     "data": {
      "text/html": [
       "<div>\n",
       "<style scoped>\n",
       "    .dataframe tbody tr th:only-of-type {\n",
       "        vertical-align: middle;\n",
       "    }\n",
       "\n",
       "    .dataframe tbody tr th {\n",
       "        vertical-align: top;\n",
       "    }\n",
       "\n",
       "    .dataframe thead th {\n",
       "        text-align: right;\n",
       "    }\n",
       "</style>\n",
       "<table border=\"1\" class=\"dataframe\">\n",
       "  <thead>\n",
       "    <tr style=\"text-align: right;\">\n",
       "      <th></th>\n",
       "      <th>avg_dep_delay</th>\n",
       "      <th>avg_arr_delay</th>\n",
       "      <th>numFlights</th>\n",
       "    </tr>\n",
       "  </thead>\n",
       "  <tbody>\n",
       "    <tr>\n",
       "      <th>0</th>\n",
       "      <td>17.333035</td>\n",
       "      <td>15.261969</td>\n",
       "      <td>7242</td>\n",
       "    </tr>\n",
       "    <tr>\n",
       "      <th>1</th>\n",
       "      <td>13.454753</td>\n",
       "      <td>10.576772</td>\n",
       "      <td>6214</td>\n",
       "    </tr>\n",
       "    <tr>\n",
       "      <th>2</th>\n",
       "      <td>13.305086</td>\n",
       "      <td>7.596120</td>\n",
       "      <td>627072</td>\n",
       "    </tr>\n",
       "    <tr>\n",
       "      <th>3</th>\n",
       "      <td>13.182294</td>\n",
       "      <td>3.922799</td>\n",
       "      <td>222788</td>\n",
       "    </tr>\n",
       "    <tr>\n",
       "      <th>4</th>\n",
       "      <td>12.893989</td>\n",
       "      <td>6.768317</td>\n",
       "      <td>188202</td>\n",
       "    </tr>\n",
       "    <tr>\n",
       "      <th>...</th>\n",
       "      <td>...</td>\n",
       "      <td>...</td>\n",
       "      <td>...</td>\n",
       "    </tr>\n",
       "    <tr>\n",
       "      <th>194</th>\n",
       "      <td>0.752523</td>\n",
       "      <td>-4.617225</td>\n",
       "      <td>3824</td>\n",
       "    </tr>\n",
       "    <tr>\n",
       "      <th>195</th>\n",
       "      <td>0.743231</td>\n",
       "      <td>-1.228210</td>\n",
       "      <td>4312</td>\n",
       "    </tr>\n",
       "    <tr>\n",
       "      <th>196</th>\n",
       "      <td>0.720691</td>\n",
       "      <td>-2.530503</td>\n",
       "      <td>4896</td>\n",
       "    </tr>\n",
       "    <tr>\n",
       "      <th>197</th>\n",
       "      <td>0.588442</td>\n",
       "      <td>-1.058161</td>\n",
       "      <td>22852</td>\n",
       "    </tr>\n",
       "    <tr>\n",
       "      <th>198</th>\n",
       "      <td>-0.950595</td>\n",
       "      <td>0.208501</td>\n",
       "      <td>12452</td>\n",
       "    </tr>\n",
       "  </tbody>\n",
       "</table>\n",
       "<p>199 rows × 3 columns</p>\n",
       "</div>"
      ],
      "text/plain": [
       "     avg_dep_delay  avg_arr_delay  numFlights\n",
       "0        17.333035      15.261969        7242\n",
       "1        13.454753      10.576772        6214\n",
       "2        13.305086       7.596120      627072\n",
       "3        13.182294       3.922799      222788\n",
       "4        12.893989       6.768317      188202\n",
       "..             ...            ...         ...\n",
       "194       0.752523      -4.617225        3824\n",
       "195       0.743231      -1.228210        4312\n",
       "196       0.720691      -2.530503        4896\n",
       "197       0.588442      -1.058161       22852\n",
       "198      -0.950595       0.208501       12452\n",
       "\n",
       "[199 rows x 3 columns]"
      ]
     },
     "execution_count": 38,
     "metadata": {},
     "output_type": "execute_result"
    }
   ],
   "source": [
    "df_us"
   ]
  },
  {
   "cell_type": "markdown",
   "id": "7263a917-f60a-493f-9409-4e77f73382b3",
   "metadata": {},
   "source": [
    "### Query 2: \n",
    "Assume a flight is delayed if its arrival delay was more than 15 minutes. Find the percentage of the delayed flights."
   ]
  },
  {
   "cell_type": "code",
   "execution_count": 39,
   "id": "0084618e-d3da-4c3b-85a3-2dadc5bb6618",
   "metadata": {},
   "outputs": [
    {
     "data": {
      "application/vnd.jupyter.widget-view+json": {
       "model_id": "a0dc5c463cbf4cf19760d50751964d92",
       "version_major": 2,
       "version_minor": 0
      },
      "text/plain": [
       "Query is running:   0%|          |"
      ]
     },
     "metadata": {},
     "output_type": "display_data"
    },
    {
     "data": {
      "application/vnd.jupyter.widget-view+json": {
       "model_id": "05c9319a62a7454585251f90daba9405",
       "version_major": 2,
       "version_minor": 0
      },
      "text/plain": [
       "Downloading:   0%|          |"
      ]
     },
     "metadata": {},
     "output_type": "display_data"
    },
    {
     "data": {
      "text/html": [
       "<div>\n",
       "<style scoped>\n",
       "    .dataframe tbody tr th:only-of-type {\n",
       "        vertical-align: middle;\n",
       "    }\n",
       "\n",
       "    .dataframe tbody tr th {\n",
       "        vertical-align: top;\n",
       "    }\n",
       "\n",
       "    .dataframe thead th {\n",
       "        text-align: right;\n",
       "    }\n",
       "</style>\n",
       "<table border=\"1\" class=\"dataframe\">\n",
       "  <thead>\n",
       "    <tr style=\"text-align: right;\">\n",
       "      <th></th>\n",
       "      <th>percentage_delayed</th>\n",
       "    </tr>\n",
       "  </thead>\n",
       "  <tbody>\n",
       "    <tr>\n",
       "      <th>0</th>\n",
       "      <td>17.58866</td>\n",
       "    </tr>\n",
       "  </tbody>\n",
       "</table>\n",
       "</div>"
      ],
      "text/plain": [
       "   percentage_delayed\n",
       "0            17.58866"
      ]
     },
     "execution_count": 39,
     "metadata": {},
     "output_type": "execute_result"
    }
   ],
   "source": [
    "%%bigquery \n",
    "SELECT (COUNT(CASE WHEN arr_delay > 15 THEN 1 END) / COUNT(*)) * 100 AS percentage_delayed\n",
    "from dsongcp.flights_tzcorr"
   ]
  },
  {
   "cell_type": "markdown",
   "id": "e0a71d3f-a96b-4bc9-a226-fe12c5cd47d9",
   "metadata": {},
   "source": [
    "### Query 3: We will extract the ORIGINAL records from the database. For exploratory purpose, it is recommeded that only extract a small randomly selected subset for exploration. \n",
    "Create a DataFrame containing the ARR_DELAY and DEP_DELAY of 1% of the flights that were departed 15 minutes later than scheduled time. Show the summary statistics of the DataFrame."
   ]
  },
  {
   "cell_type": "code",
   "execution_count": 40,
   "id": "b33c5127-d360-4922-be9a-5de80224e942",
   "metadata": {},
   "outputs": [
    {
     "data": {
      "application/vnd.jupyter.widget-view+json": {
       "model_id": "0887913217c147529310022545dcde70",
       "version_major": 2,
       "version_minor": 0
      },
      "text/plain": [
       "Query is running:   0%|          |"
      ]
     },
     "metadata": {},
     "output_type": "display_data"
    },
    {
     "data": {
      "application/vnd.jupyter.widget-view+json": {
       "model_id": "40b5964a06b34ca08439bc6b2a06ac15",
       "version_major": 2,
       "version_minor": 0
      },
      "text/plain": [
       "Downloading:   0%|          |"
      ]
     },
     "metadata": {},
     "output_type": "display_data"
    }
   ],
   "source": [
    "%%bigquery df_15\n",
    "select arr_delay, dep_delay \n",
    "from dsongcp.flights_tzcorr\n",
    "where dep_delay > 15 and rand() < 0.01"
   ]
  },
  {
   "cell_type": "code",
   "execution_count": 41,
   "id": "d510d45a-0ac4-4860-a6de-0abe74ecd212",
   "metadata": {},
   "outputs": [
    {
     "data": {
      "text/html": [
       "<div>\n",
       "<style scoped>\n",
       "    .dataframe tbody tr th:only-of-type {\n",
       "        vertical-align: middle;\n",
       "    }\n",
       "\n",
       "    .dataframe tbody tr th {\n",
       "        vertical-align: top;\n",
       "    }\n",
       "\n",
       "    .dataframe thead th {\n",
       "        text-align: right;\n",
       "    }\n",
       "</style>\n",
       "<table border=\"1\" class=\"dataframe\">\n",
       "  <thead>\n",
       "    <tr style=\"text-align: right;\">\n",
       "      <th></th>\n",
       "      <th>arr_delay</th>\n",
       "      <th>dep_delay</th>\n",
       "    </tr>\n",
       "  </thead>\n",
       "  <tbody>\n",
       "    <tr>\n",
       "      <th>count</th>\n",
       "      <td>20364.000000</td>\n",
       "      <td>20511.000000</td>\n",
       "    </tr>\n",
       "    <tr>\n",
       "      <th>mean</th>\n",
       "      <td>57.097378</td>\n",
       "      <td>61.672030</td>\n",
       "    </tr>\n",
       "    <tr>\n",
       "      <th>std</th>\n",
       "      <td>67.435801</td>\n",
       "      <td>65.594181</td>\n",
       "    </tr>\n",
       "    <tr>\n",
       "      <th>min</th>\n",
       "      <td>-44.000000</td>\n",
       "      <td>16.000000</td>\n",
       "    </tr>\n",
       "    <tr>\n",
       "      <th>25%</th>\n",
       "      <td>18.000000</td>\n",
       "      <td>24.000000</td>\n",
       "    </tr>\n",
       "    <tr>\n",
       "      <th>50%</th>\n",
       "      <td>36.000000</td>\n",
       "      <td>40.000000</td>\n",
       "    </tr>\n",
       "    <tr>\n",
       "      <th>75%</th>\n",
       "      <td>73.000000</td>\n",
       "      <td>74.000000</td>\n",
       "    </tr>\n",
       "    <tr>\n",
       "      <th>max</th>\n",
       "      <td>1364.000000</td>\n",
       "      <td>1393.000000</td>\n",
       "    </tr>\n",
       "  </tbody>\n",
       "</table>\n",
       "</div>"
      ],
      "text/plain": [
       "          arr_delay     dep_delay\n",
       "count  20364.000000  20511.000000\n",
       "mean      57.097378     61.672030\n",
       "std       67.435801     65.594181\n",
       "min      -44.000000     16.000000\n",
       "25%       18.000000     24.000000\n",
       "50%       36.000000     40.000000\n",
       "75%       73.000000     74.000000\n",
       "max     1364.000000   1393.000000"
      ]
     },
     "execution_count": 41,
     "metadata": {},
     "output_type": "execute_result"
    }
   ],
   "source": [
    "df_15.describe()"
   ]
  },
  {
   "cell_type": "markdown",
   "id": "5879b399-be3c-4c3e-ae9d-d771b7d827f9",
   "metadata": {},
   "source": [
    "## Stop here on 04/25/2023"
   ]
  },
  {
   "cell_type": "markdown",
   "id": "adef0e96-7f6b-4678-8b28-cf343dc030d7",
   "metadata": {},
   "source": [
    "### Visualization: \n",
    "Plot the distribution of the ARR_DELAY of the flights extracted in the DataFrame of Query 3."
   ]
  },
  {
   "cell_type": "code",
   "execution_count": 42,
   "id": "b38bd32f-03c7-4eea-9942-292f726d9774",
   "metadata": {},
   "outputs": [
    {
     "data": {
      "text/plain": [
       "<AxesSubplot:xlabel='arr_delay'>"
      ]
     },
     "execution_count": 42,
     "metadata": {},
     "output_type": "execute_result"
    },
    {
     "data": {
      "image/png": "[encoded data removed]",
      "text/plain": [
       "<Figure size 640x480 with 1 Axes>"
      ]
     },
     "metadata": {},
     "output_type": "display_data"
    }
   ],
   "source": [
    "sns.violinplot(data=df_15, x='arr_delay', inner='box')"
   ]
  },
  {
   "cell_type": "markdown",
   "id": "052cae1b-ac9f-4d60-b52e-13f55bf7c9da",
   "metadata": {},
   "source": [
    "### Query 4: For exploration, only use a small subset of the original data.\n",
    "Create a DataFrame containing the ARR_DELAY and DEP_DELAY of 0.1% of all flights. Show the summary statistics of the DataFrame."
   ]
  },
  {
   "cell_type": "code",
   "execution_count": 44,
   "id": "4ec8621d-0eaf-4df8-88a2-218688fbcf1b",
   "metadata": {},
   "outputs": [],
   "source": [
    "# Let us use BigQuery python interface here. \n",
    "sql = '''\n",
    "select arr_delay, dep_delay \n",
    "from dsongcp.flights_tzcorr\n",
    "where rand() < 0.001\n",
    "'''\n",
    "\n",
    "from google.cloud import bigquery\n",
    "bq = bigquery.Client()\n",
    "\n",
    "df_0001 = bq.query(sql).to_dataframe()"
   ]
  },
  {
   "cell_type": "code",
   "execution_count": 45,
   "id": "5c5743a8-bda1-48ed-832f-782544dfe30e",
   "metadata": {},
   "outputs": [
    {
     "data": {
      "text/html": [
       "<div>\n",
       "<style scoped>\n",
       "    .dataframe tbody tr th:only-of-type {\n",
       "        vertical-align: middle;\n",
       "    }\n",
       "\n",
       "    .dataframe tbody tr th {\n",
       "        vertical-align: top;\n",
       "    }\n",
       "\n",
       "    .dataframe thead th {\n",
       "        text-align: right;\n",
       "    }\n",
       "</style>\n",
       "<table border=\"1\" class=\"dataframe\">\n",
       "  <thead>\n",
       "    <tr style=\"text-align: right;\">\n",
       "      <th></th>\n",
       "      <th>arr_delay</th>\n",
       "      <th>dep_delay</th>\n",
       "    </tr>\n",
       "  </thead>\n",
       "  <tbody>\n",
       "    <tr>\n",
       "      <th>count</th>\n",
       "      <td>11304.000000</td>\n",
       "      <td>11347.000000</td>\n",
       "    </tr>\n",
       "    <tr>\n",
       "      <th>mean</th>\n",
       "      <td>4.695948</td>\n",
       "      <td>9.646955</td>\n",
       "    </tr>\n",
       "    <tr>\n",
       "      <th>std</th>\n",
       "      <td>38.862354</td>\n",
       "      <td>36.483757</td>\n",
       "    </tr>\n",
       "    <tr>\n",
       "      <th>min</th>\n",
       "      <td>-60.000000</td>\n",
       "      <td>-26.000000</td>\n",
       "    </tr>\n",
       "    <tr>\n",
       "      <th>25%</th>\n",
       "      <td>-13.000000</td>\n",
       "      <td>-5.000000</td>\n",
       "    </tr>\n",
       "    <tr>\n",
       "      <th>50%</th>\n",
       "      <td>-5.000000</td>\n",
       "      <td>-2.000000</td>\n",
       "    </tr>\n",
       "    <tr>\n",
       "      <th>75%</th>\n",
       "      <td>8.000000</td>\n",
       "      <td>7.000000</td>\n",
       "    </tr>\n",
       "    <tr>\n",
       "      <th>max</th>\n",
       "      <td>649.000000</td>\n",
       "      <td>655.000000</td>\n",
       "    </tr>\n",
       "  </tbody>\n",
       "</table>\n",
       "</div>"
      ],
      "text/plain": [
       "          arr_delay     dep_delay\n",
       "count  11304.000000  11347.000000\n",
       "mean       4.695948      9.646955\n",
       "std       38.862354     36.483757\n",
       "min      -60.000000    -26.000000\n",
       "25%      -13.000000     -5.000000\n",
       "50%       -5.000000     -2.000000\n",
       "75%        8.000000      7.000000\n",
       "max      649.000000    655.000000"
      ]
     },
     "execution_count": 45,
     "metadata": {},
     "output_type": "execute_result"
    }
   ],
   "source": [
    "df_0001.describe()"
   ]
  },
  {
   "cell_type": "markdown",
   "id": "35ed3991-05e4-40be-96d0-6403e0b2f2b6",
   "metadata": {},
   "source": [
    "### Adding Label Column: \n",
    "Add a new column 'ontime' to the DataFrame extracted in Query 4 using the following conditions. Show the summary statistics including the 'ontime' column.\n",
    "-  'ontime' = True if the DEP_DELAY is less than 15 minutes. \n",
    "-  Otherwise, 'ontime' = False."
   ]
  },
  {
   "cell_type": "code",
   "execution_count": 46,
   "id": "442df670-0454-4a3c-8f36-f8fed1aed902",
   "metadata": {},
   "outputs": [],
   "source": [
    "df_0001['ontime'] = df_0001['dep_delay'] < 15"
   ]
  },
  {
   "cell_type": "code",
   "execution_count": 49,
   "id": "06f11dd5-2fac-4467-9c87-40416155c4ba",
   "metadata": {},
   "outputs": [
    {
     "data": {
      "text/html": [
       "<div>\n",
       "<style scoped>\n",
       "    .dataframe tbody tr th:only-of-type {\n",
       "        vertical-align: middle;\n",
       "    }\n",
       "\n",
       "    .dataframe tbody tr th {\n",
       "        vertical-align: top;\n",
       "    }\n",
       "\n",
       "    .dataframe thead th {\n",
       "        text-align: right;\n",
       "    }\n",
       "</style>\n",
       "<table border=\"1\" class=\"dataframe\">\n",
       "  <thead>\n",
       "    <tr style=\"text-align: right;\">\n",
       "      <th></th>\n",
       "      <th>arr_delay</th>\n",
       "      <th>dep_delay</th>\n",
       "      <th>ontime</th>\n",
       "    </tr>\n",
       "  </thead>\n",
       "  <tbody>\n",
       "    <tr>\n",
       "      <th>0</th>\n",
       "      <td>0.0</td>\n",
       "      <td>-3.0</td>\n",
       "      <td>True</td>\n",
       "    </tr>\n",
       "    <tr>\n",
       "      <th>1</th>\n",
       "      <td>-12.0</td>\n",
       "      <td>-6.0</td>\n",
       "      <td>True</td>\n",
       "    </tr>\n",
       "    <tr>\n",
       "      <th>2</th>\n",
       "      <td>-22.0</td>\n",
       "      <td>-8.0</td>\n",
       "      <td>True</td>\n",
       "    </tr>\n",
       "    <tr>\n",
       "      <th>3</th>\n",
       "      <td>10.0</td>\n",
       "      <td>17.0</td>\n",
       "      <td>False</td>\n",
       "    </tr>\n",
       "    <tr>\n",
       "      <th>4</th>\n",
       "      <td>1.0</td>\n",
       "      <td>-3.0</td>\n",
       "      <td>True</td>\n",
       "    </tr>\n",
       "  </tbody>\n",
       "</table>\n",
       "</div>"
      ],
      "text/plain": [
       "   arr_delay  dep_delay  ontime\n",
       "0        0.0       -3.0    True\n",
       "1      -12.0       -6.0    True\n",
       "2      -22.0       -8.0    True\n",
       "3       10.0       17.0   False\n",
       "4        1.0       -3.0    True"
      ]
     },
     "execution_count": 49,
     "metadata": {},
     "output_type": "execute_result"
    }
   ],
   "source": [
    "df_0001.head()"
   ]
  },
  {
   "cell_type": "code",
   "execution_count": 53,
   "id": "eb7b98b3-3cdc-44be-bc5b-d2bfc2f21519",
   "metadata": {},
   "outputs": [
    {
     "data": {
      "text/html": [
       "<div>\n",
       "<style scoped>\n",
       "    .dataframe tbody tr th:only-of-type {\n",
       "        vertical-align: middle;\n",
       "    }\n",
       "\n",
       "    .dataframe tbody tr th {\n",
       "        vertical-align: top;\n",
       "    }\n",
       "\n",
       "    .dataframe thead th {\n",
       "        text-align: right;\n",
       "    }\n",
       "</style>\n",
       "<table border=\"1\" class=\"dataframe\">\n",
       "  <thead>\n",
       "    <tr style=\"text-align: right;\">\n",
       "      <th></th>\n",
       "      <th>arr_delay</th>\n",
       "      <th>dep_delay</th>\n",
       "      <th>ontime</th>\n",
       "    </tr>\n",
       "  </thead>\n",
       "  <tbody>\n",
       "    <tr>\n",
       "      <th>count</th>\n",
       "      <td>11304.000000</td>\n",
       "      <td>11347.000000</td>\n",
       "      <td>11521</td>\n",
       "    </tr>\n",
       "    <tr>\n",
       "      <th>unique</th>\n",
       "      <td>NaN</td>\n",
       "      <td>NaN</td>\n",
       "      <td>2</td>\n",
       "    </tr>\n",
       "    <tr>\n",
       "      <th>top</th>\n",
       "      <td>NaN</td>\n",
       "      <td>NaN</td>\n",
       "      <td>True</td>\n",
       "    </tr>\n",
       "    <tr>\n",
       "      <th>freq</th>\n",
       "      <td>NaN</td>\n",
       "      <td>NaN</td>\n",
       "      <td>9185</td>\n",
       "    </tr>\n",
       "    <tr>\n",
       "      <th>mean</th>\n",
       "      <td>4.695948</td>\n",
       "      <td>9.646955</td>\n",
       "      <td>NaN</td>\n",
       "    </tr>\n",
       "    <tr>\n",
       "      <th>std</th>\n",
       "      <td>38.862354</td>\n",
       "      <td>36.483757</td>\n",
       "      <td>NaN</td>\n",
       "    </tr>\n",
       "    <tr>\n",
       "      <th>min</th>\n",
       "      <td>-60.000000</td>\n",
       "      <td>-26.000000</td>\n",
       "      <td>NaN</td>\n",
       "    </tr>\n",
       "    <tr>\n",
       "      <th>25%</th>\n",
       "      <td>-13.000000</td>\n",
       "      <td>-5.000000</td>\n",
       "      <td>NaN</td>\n",
       "    </tr>\n",
       "    <tr>\n",
       "      <th>50%</th>\n",
       "      <td>-5.000000</td>\n",
       "      <td>-2.000000</td>\n",
       "      <td>NaN</td>\n",
       "    </tr>\n",
       "    <tr>\n",
       "      <th>75%</th>\n",
       "      <td>8.000000</td>\n",
       "      <td>7.000000</td>\n",
       "      <td>NaN</td>\n",
       "    </tr>\n",
       "    <tr>\n",
       "      <th>max</th>\n",
       "      <td>649.000000</td>\n",
       "      <td>655.000000</td>\n",
       "      <td>NaN</td>\n",
       "    </tr>\n",
       "  </tbody>\n",
       "</table>\n",
       "</div>"
      ],
      "text/plain": [
       "           arr_delay     dep_delay ontime\n",
       "count   11304.000000  11347.000000  11521\n",
       "unique           NaN           NaN      2\n",
       "top              NaN           NaN   True\n",
       "freq             NaN           NaN   9185\n",
       "mean        4.695948      9.646955    NaN\n",
       "std        38.862354     36.483757    NaN\n",
       "min       -60.000000    -26.000000    NaN\n",
       "25%       -13.000000     -5.000000    NaN\n",
       "50%        -5.000000     -2.000000    NaN\n",
       "75%         8.000000      7.000000    NaN\n",
       "max       649.000000    655.000000    NaN"
      ]
     },
     "execution_count": 53,
     "metadata": {},
     "output_type": "execute_result"
    }
   ],
   "source": [
    "df_0001.describe(include='all')"
   ]
  },
  {
   "cell_type": "markdown",
   "id": "c046a4c3-1910-40ca-bd55-e7caae6d2f60",
   "metadata": {},
   "source": [
    "### Visualization: \n",
    "Plot and compare the distributions of ARR_DELAY for flights with 'ontime' = True and flights with 'ontime' = False using the DataFrame above."
   ]
  },
  {
   "cell_type": "code",
   "execution_count": 61,
   "id": "741c8e4f-7f89-4ffb-a8c9-39df9cf91826",
   "metadata": {},
   "outputs": [
    {
     "data": {
      "text/plain": [
       "<AxesSubplot:xlabel='arr_delay', ylabel='ontime'>"
      ]
     },
     "execution_count": 61,
     "metadata": {},
     "output_type": "execute_result"
    },
    {
     "data": {
      "image/png": "[encoded data removed]",
      "text/plain": [
       "<Figure size 640x480 with 1 Axes>"
      ]
     },
     "metadata": {},
     "output_type": "display_data"
    }
   ],
   "source": [
    "sns.violinplot(data=df_0001, x='arr_delay', y='ontime', inner='box', orient='h')"
   ]
  },
  {
   "cell_type": "markdown",
   "id": "83375112-6c69-482f-8d82-1c2cee05ec7a",
   "metadata": {},
   "source": [
    "### Query 5: \n",
    "Create a DataFrame containing the average ARR_DELAY and total number of flights for each DEP_DELAY. Order the results by DEP_DELAY in ascending order. Show the head of the DataFrame."
   ]
  },
  {
   "cell_type": "code",
   "execution_count": 62,
   "id": "3f4b9791-ceba-4bdd-8152-6afc2218a0b6",
   "metadata": {},
   "outputs": [],
   "source": [
    "sql = '''\n",
    "select dep_delay, avg(arr_delay) as avg_arr_delay, count(*) as numFlights\n",
    "from dsongcp.flights_tzcorr\n",
    "group by dep_delay\n",
    "order by dep_delay\n",
    "'''\n",
    "df_avg_arr = bq.query(sql).to_dataframe()"
   ]
  },
  {
   "cell_type": "code",
   "execution_count": 63,
   "id": "8a63bb50-30dd-45a4-9504-83565fce6b8d",
   "metadata": {},
   "outputs": [
    {
     "data": {
      "text/html": [
       "<div>\n",
       "<style scoped>\n",
       "    .dataframe tbody tr th:only-of-type {\n",
       "        vertical-align: middle;\n",
       "    }\n",
       "\n",
       "    .dataframe tbody tr th {\n",
       "        vertical-align: top;\n",
       "    }\n",
       "\n",
       "    .dataframe thead th {\n",
       "        text-align: right;\n",
       "    }\n",
       "</style>\n",
       "<table border=\"1\" class=\"dataframe\">\n",
       "  <thead>\n",
       "    <tr style=\"text-align: right;\">\n",
       "      <th></th>\n",
       "      <th>dep_delay</th>\n",
       "      <th>avg_arr_delay</th>\n",
       "      <th>numFlights</th>\n",
       "    </tr>\n",
       "  </thead>\n",
       "  <tbody>\n",
       "    <tr>\n",
       "      <th>0</th>\n",
       "      <td>NaN</td>\n",
       "      <td>NaN</td>\n",
       "      <td>172306</td>\n",
       "    </tr>\n",
       "    <tr>\n",
       "      <th>1</th>\n",
       "      <td>-82.0</td>\n",
       "      <td>-80.0</td>\n",
       "      <td>2</td>\n",
       "    </tr>\n",
       "    <tr>\n",
       "      <th>2</th>\n",
       "      <td>-68.0</td>\n",
       "      <td>-87.0</td>\n",
       "      <td>2</td>\n",
       "    </tr>\n",
       "    <tr>\n",
       "      <th>3</th>\n",
       "      <td>-61.0</td>\n",
       "      <td>-77.0</td>\n",
       "      <td>2</td>\n",
       "    </tr>\n",
       "    <tr>\n",
       "      <th>4</th>\n",
       "      <td>-56.0</td>\n",
       "      <td>-26.0</td>\n",
       "      <td>2</td>\n",
       "    </tr>\n",
       "  </tbody>\n",
       "</table>\n",
       "</div>"
      ],
      "text/plain": [
       "   dep_delay  avg_arr_delay  numFlights\n",
       "0        NaN            NaN      172306\n",
       "1      -82.0          -80.0           2\n",
       "2      -68.0          -87.0           2\n",
       "3      -61.0          -77.0           2\n",
       "4      -56.0          -26.0           2"
      ]
     },
     "execution_count": 63,
     "metadata": {},
     "output_type": "execute_result"
    }
   ],
   "source": [
    "df_avg_arr.head()"
   ]
  },
  {
   "cell_type": "markdown",
   "id": "043fd924-30d5-4886-9ab6-94574b6d56d9",
   "metadata": {},
   "source": [
    "### Query 6: This time we will filter out the airports that have at least one flight per day, instead of 10 flights per day. We want to include almost all airports in our analysis. Include standard deviations for probabilistic analysis.\n",
    "Same as above. Create a DataFrame by removing the records with the total number of flights fewer than 365.  Add a column corresponding to the standard deviation of the ARR_DELAY. Show the head of the DataFrame."
   ]
  },
  {
   "cell_type": "code",
   "execution_count": 64,
   "id": "612f9c04-b529-4662-a5d4-10262ea40c36",
   "metadata": {},
   "outputs": [],
   "source": [
    "# First, retrieve the average arr_delay, standard deviation of arr_delays, num of flights for each dep_delay\n",
    "sql = '''\n",
    "select dep_delay, avg(arr_delay) as avg_arr_delay, stddev(arr_delay) as std_arr_delay, count(*) as numFlights\n",
    "from dsongcp.flights_tzcorr\n",
    "group by dep_delay\n",
    "order by dep_delay\n",
    "'''\n",
    "df_std = bq.query(sql).to_dataframe()"
   ]
  },
  {
   "cell_type": "code",
   "execution_count": 65,
   "id": "2461ccbb-ae26-4784-b8ea-9f14c1e14fa0",
   "metadata": {},
   "outputs": [
    {
     "data": {
      "text/plain": [
       "(1218, 4)"
      ]
     },
     "execution_count": 65,
     "metadata": {},
     "output_type": "execute_result"
    }
   ],
   "source": [
    "df_std.shape"
   ]
  },
  {
   "cell_type": "code",
   "execution_count": 66,
   "id": "41fc0714-1f00-4cc9-9a56-86ce9119440c",
   "metadata": {},
   "outputs": [
    {
     "data": {
      "text/html": [
       "<div>\n",
       "<style scoped>\n",
       "    .dataframe tbody tr th:only-of-type {\n",
       "        vertical-align: middle;\n",
       "    }\n",
       "\n",
       "    .dataframe tbody tr th {\n",
       "        vertical-align: top;\n",
       "    }\n",
       "\n",
       "    .dataframe thead th {\n",
       "        text-align: right;\n",
       "    }\n",
       "</style>\n",
       "<table border=\"1\" class=\"dataframe\">\n",
       "  <thead>\n",
       "    <tr style=\"text-align: right;\">\n",
       "      <th></th>\n",
       "      <th>dep_delay</th>\n",
       "      <th>avg_arr_delay</th>\n",
       "      <th>std_arr_delay</th>\n",
       "      <th>numFlights</th>\n",
       "    </tr>\n",
       "  </thead>\n",
       "  <tbody>\n",
       "    <tr>\n",
       "      <th>0</th>\n",
       "      <td>NaN</td>\n",
       "      <td>NaN</td>\n",
       "      <td>NaN</td>\n",
       "      <td>172306</td>\n",
       "    </tr>\n",
       "    <tr>\n",
       "      <th>1</th>\n",
       "      <td>-82.0</td>\n",
       "      <td>-80.0</td>\n",
       "      <td>0.0</td>\n",
       "      <td>2</td>\n",
       "    </tr>\n",
       "    <tr>\n",
       "      <th>2</th>\n",
       "      <td>-68.0</td>\n",
       "      <td>-87.0</td>\n",
       "      <td>0.0</td>\n",
       "      <td>2</td>\n",
       "    </tr>\n",
       "    <tr>\n",
       "      <th>3</th>\n",
       "      <td>-61.0</td>\n",
       "      <td>-77.0</td>\n",
       "      <td>0.0</td>\n",
       "      <td>2</td>\n",
       "    </tr>\n",
       "    <tr>\n",
       "      <th>4</th>\n",
       "      <td>-56.0</td>\n",
       "      <td>-26.0</td>\n",
       "      <td>0.0</td>\n",
       "      <td>2</td>\n",
       "    </tr>\n",
       "  </tbody>\n",
       "</table>\n",
       "</div>"
      ],
      "text/plain": [
       "   dep_delay  avg_arr_delay  std_arr_delay  numFlights\n",
       "0        NaN            NaN            NaN      172306\n",
       "1      -82.0          -80.0            0.0           2\n",
       "2      -68.0          -87.0            0.0           2\n",
       "3      -61.0          -77.0            0.0           2\n",
       "4      -56.0          -26.0            0.0           2"
      ]
     },
     "execution_count": 66,
     "metadata": {},
     "output_type": "execute_result"
    }
   ],
   "source": [
    "df_std.head()"
   ]
  },
  {
   "cell_type": "code",
   "execution_count": 68,
   "id": "078a0575-1da1-4780-906a-aa465349a905",
   "metadata": {},
   "outputs": [
    {
     "data": {
      "text/plain": [
       "(294, 4)"
      ]
     },
     "execution_count": 68,
     "metadata": {},
     "output_type": "execute_result"
    }
   ],
   "source": [
    "# Second, only select the records that numFlights > 365\n",
    "df_std = df_std[df_std.numFlights > 365]\n",
    "df_std.shape"
   ]
  },
  {
   "cell_type": "markdown",
   "id": "91fa0eab-82e0-4a59-9933-72424cca3df1",
   "metadata": {},
   "source": [
    "### Visualization: \n",
    "Plot the relations between DEP_DELAYs and its means and standard deviations of ARR_DELAYs using the DataFrame extracted in Query 6."
   ]
  },
  {
   "cell_type": "code",
   "execution_count": 69,
   "id": "48906d8f-24e3-45c5-9c9e-f1dba01db284",
   "metadata": {},
   "outputs": [
    {
     "data": {
      "text/plain": [
       "<AxesSubplot:xlabel='dep_delay'>"
      ]
     },
     "execution_count": 69,
     "metadata": {},
     "output_type": "execute_result"
    },
    {
     "data": {
      "image/png": "[encoded data removed]",
      "text/plain": [
       "<Figure size 640x480 with 1 Axes>"
      ]
     },
     "metadata": {},
     "output_type": "display_data"
    }
   ],
   "source": [
    "df_std.plot(kind='line', x='dep_delay', y='avg_arr_delay', yerr='std_arr_delay')"
   ]
  },
  {
   "cell_type": "markdown",
   "id": "98a10be9-ea74-4bcd-acb4-abdb6b8818a0",
   "metadata": {},
   "source": [
    "### Make Probabilistic Suggestion for Canceling a Meeting at Destination: \n",
    "Assume we have an important meeting at destination. We want to decide whether to postpone or cancel the meeting depending on the predicted arrival delay time. Our decision criterion is 15 minutes and 30%. That is, if the plane is more than 30% likely to be delayed (on arrival) by more than 15 minutes, we want to send a text message asking to postpone or cancel the meeting. At what departure delay does this happen? Plot the data to find the DEP_DELAY where there is a 30% chance that the ARR_DELAY is more than 15 minutes using the DataFrame extracted in Query 6."
   ]
  },
  {
   "cell_type": "markdown",
   "id": "b02ac3d2-63ce-468b-a16a-01c2a7f0657e",
   "metadata": {},
   "source": [
    "### Find the records that show avg_arr_delay are around 15 mins"
   ]
  },
  {
   "cell_type": "code",
   "execution_count": 75,
   "id": "1e383cb1-4f88-4439-bdc2-cc2798a00ee0",
   "metadata": {},
   "outputs": [
    {
     "data": {
      "text/html": [
       "<div>\n",
       "<style scoped>\n",
       "    .dataframe tbody tr th:only-of-type {\n",
       "        vertical-align: middle;\n",
       "    }\n",
       "\n",
       "    .dataframe tbody tr th {\n",
       "        vertical-align: top;\n",
       "    }\n",
       "\n",
       "    .dataframe thead th {\n",
       "        text-align: right;\n",
       "    }\n",
       "</style>\n",
       "<table border=\"1\" class=\"dataframe\">\n",
       "  <thead>\n",
       "    <tr style=\"text-align: right;\">\n",
       "      <th></th>\n",
       "      <th>dep_delay</th>\n",
       "      <th>avg_arr_delay</th>\n",
       "      <th>std_arr_delay</th>\n",
       "      <th>numFlights</th>\n",
       "    </tr>\n",
       "  </thead>\n",
       "  <tbody>\n",
       "    <tr>\n",
       "      <th>73</th>\n",
       "      <td>18.0</td>\n",
       "      <td>12.839367</td>\n",
       "      <td>14.204717</td>\n",
       "      <td>64060</td>\n",
       "    </tr>\n",
       "    <tr>\n",
       "      <th>74</th>\n",
       "      <td>19.0</td>\n",
       "      <td>13.883165</td>\n",
       "      <td>14.161584</td>\n",
       "      <td>60674</td>\n",
       "    </tr>\n",
       "    <tr>\n",
       "      <th>75</th>\n",
       "      <td>20.0</td>\n",
       "      <td>15.002519</td>\n",
       "      <td>14.244092</td>\n",
       "      <td>58188</td>\n",
       "    </tr>\n",
       "    <tr>\n",
       "      <th>76</th>\n",
       "      <td>21.0</td>\n",
       "      <td>15.959768</td>\n",
       "      <td>13.963937</td>\n",
       "      <td>53794</td>\n",
       "    </tr>\n",
       "  </tbody>\n",
       "</table>\n",
       "</div>"
      ],
      "text/plain": [
       "    dep_delay  avg_arr_delay  std_arr_delay  numFlights\n",
       "73       18.0      12.839367      14.204717       64060\n",
       "74       19.0      13.883165      14.161584       60674\n",
       "75       20.0      15.002519      14.244092       58188\n",
       "76       21.0      15.959768      13.963937       53794"
      ]
     },
     "execution_count": 75,
     "metadata": {},
     "output_type": "execute_result"
    }
   ],
   "source": [
    "df_std[(df_std.avg_arr_delay > 12) & (df_std.avg_arr_delay < 16)]"
   ]
  },
  {
   "cell_type": "markdown",
   "id": "6b3f8a8a-1ce6-436d-b5b2-0b70e86b4433",
   "metadata": {},
   "source": [
    "### Assume arr_delays follow a normal distribution for a dep_delay. If the mean of the arr_delays is about 15 mins with a std 14 mins, what is the arr_delay at least with 70% probability?\n",
    "\n",
    "To compute the arrival delay with at least 70% probability, we'll first need to find the Z-score that corresponds to the 70th percentile (or 0.7 cumulative probability) using the inverse cumulative distribution function (also known as the quantile function or percent-point function). Then, we'll use that Z-score, the mean, and the standard deviation to find the corresponding value of arr_delay. "
   ]
  },
  {
   "cell_type": "code",
   "execution_count": 76,
   "id": "bfb2591c-cfcd-42e4-a228-851b7b60774a",
   "metadata": {},
   "outputs": [
    {
     "data": {
      "text/plain": [
       "0.5244005127080407"
      ]
     },
     "execution_count": 76,
     "metadata": {},
     "output_type": "execute_result"
    }
   ],
   "source": [
    "import scipy.stats as stats\n",
    "# Find the Z-score for the 70th percentile (0.7 cumulative probability)\n",
    "z_score = stats.norm.ppf(0.7)\n",
    "z_score"
   ]
  },
  {
   "cell_type": "code",
   "execution_count": 77,
   "id": "fa3b87d9-e00a-4876-9fd0-cef5aa3e0553",
   "metadata": {},
   "outputs": [
    {
     "name": "stdout",
     "output_type": "stream",
     "text": [
      "The arrival delay with at least 70% probability is approximately: 22.34160717791257\n"
     ]
    }
   ],
   "source": [
    "mean = 15\n",
    "std = 14\n",
    "\n",
    "# Calculate the arr_delay value that corresponds to the 70th percentile\n",
    "arr_delay_70th_percentile = mean + z_score * std\n",
    "\n",
    "print(\"The arrival delay with at least 70% probability is approximately:\", arr_delay_70th_percentile) "
   ]
  },
  {
   "cell_type": "markdown",
   "id": "e80be367-a14e-41fd-8285-4869fc114095",
   "metadata": {},
   "source": [
    "### Now, compute the 70% percentiles of the arr_delays for all dep_delays"
   ]
  },
  {
   "cell_type": "code",
   "execution_count": 79,
   "id": "c98040ab-5bcd-408a-974f-a0d014258274",
   "metadata": {},
   "outputs": [],
   "source": [
    "df_std['arr_delay_70'] = df_std['avg_arr_delay'] + df_std['std_arr_delay'] * z_score"
   ]
  },
  {
   "cell_type": "markdown",
   "id": "13606adf-10fa-4d6b-b76c-3be5a4062810",
   "metadata": {},
   "source": [
    "### Plot the 70% percentiles of the arr_delays against the dep_delays"
   ]
  },
  {
   "cell_type": "code",
   "execution_count": 83,
   "id": "0ab2e5cb-d67c-4ca6-b2ee-6068a2021272",
   "metadata": {},
   "outputs": [
    {
     "data": {
      "text/plain": [
       "<matplotlib.lines.Line2D at 0x7f9d024f9210>"
      ]
     },
     "execution_count": 83,
     "metadata": {},
     "output_type": "execute_result"
    },
    {
     "data": {
      "image/png": "[encoded data removed]",
      "text/plain": [
       "<Figure size 640x480 with 1 Axes>"
      ]
     },
     "metadata": {},
     "output_type": "display_data"
    }
   ],
   "source": [
    "df_std.plot(kind='line', x='dep_delay', y='arr_delay_70', ylim=(0, 30), xlim=(0, 30))\n",
    "plt.axhline(y=15, color='r')"
   ]
  },
  {
   "cell_type": "markdown",
   "id": "31b0291b-16be-4614-a4c5-cea51a0d8e65",
   "metadata": {},
   "source": [
    "### Extract the records for decision making:"
   ]
  },
  {
   "cell_type": "code",
   "execution_count": 84,
   "id": "30991803-7d8b-4906-b1cc-0c9b269043e9",
   "metadata": {},
   "outputs": [
    {
     "data": {
      "text/html": [
       "<div>\n",
       "<style scoped>\n",
       "    .dataframe tbody tr th:only-of-type {\n",
       "        vertical-align: middle;\n",
       "    }\n",
       "\n",
       "    .dataframe tbody tr th {\n",
       "        vertical-align: top;\n",
       "    }\n",
       "\n",
       "    .dataframe thead th {\n",
       "        text-align: right;\n",
       "    }\n",
       "</style>\n",
       "<table border=\"1\" class=\"dataframe\">\n",
       "  <thead>\n",
       "    <tr style=\"text-align: right;\">\n",
       "      <th></th>\n",
       "      <th>dep_delay</th>\n",
       "      <th>avg_arr_delay</th>\n",
       "      <th>std_arr_delay</th>\n",
       "      <th>numFlights</th>\n",
       "      <th>arr_delay_70</th>\n",
       "    </tr>\n",
       "  </thead>\n",
       "  <tbody>\n",
       "    <tr>\n",
       "      <th>66</th>\n",
       "      <td>11.0</td>\n",
       "      <td>5.825880</td>\n",
       "      <td>13.378417</td>\n",
       "      <td>100414</td>\n",
       "      <td>12.841529</td>\n",
       "    </tr>\n",
       "    <tr>\n",
       "      <th>67</th>\n",
       "      <td>12.0</td>\n",
       "      <td>6.750155</td>\n",
       "      <td>13.387623</td>\n",
       "      <td>94214</td>\n",
       "      <td>13.770631</td>\n",
       "    </tr>\n",
       "    <tr>\n",
       "      <th>68</th>\n",
       "      <td>13.0</td>\n",
       "      <td>7.900168</td>\n",
       "      <td>13.742991</td>\n",
       "      <td>87436</td>\n",
       "      <td>15.106999</td>\n",
       "    </tr>\n",
       "    <tr>\n",
       "      <th>69</th>\n",
       "      <td>14.0</td>\n",
       "      <td>8.851628</td>\n",
       "      <td>13.600060</td>\n",
       "      <td>82112</td>\n",
       "      <td>15.983507</td>\n",
       "    </tr>\n",
       "  </tbody>\n",
       "</table>\n",
       "</div>"
      ],
      "text/plain": [
       "    dep_delay  avg_arr_delay  std_arr_delay  numFlights  arr_delay_70\n",
       "66       11.0       5.825880      13.378417      100414     12.841529\n",
       "67       12.0       6.750155      13.387623       94214     13.770631\n",
       "68       13.0       7.900168      13.742991       87436     15.106999\n",
       "69       14.0       8.851628      13.600060       82112     15.983507"
      ]
     },
     "execution_count": 84,
     "metadata": {},
     "output_type": "execute_result"
    }
   ],
   "source": [
    "df_std[(df_std.arr_delay_70 > 12) & (df_std.arr_delay_70 < 16)]"
   ]
  },
  {
   "cell_type": "code",
   "execution_count": null,
   "id": "e947d99d-08e8-4a48-a435-870d2a00bbbb",
   "metadata": {},
   "outputs": [],
   "source": []
  }
 ],
 "metadata": {
  "environment": {
   "kernel": "python3",
   "name": "common-cpu.m91",
   "type": "gcloud",
   "uri": "gcr.io/deeplearning-platform-release/base-cpu:m91"
  },
  "kernelspec": {
   "display_name": "Python 3 (ipykernel)",
   "language": "python",
   "name": "python3"
  },
  "language_info": {
   "codemirror_mode": {
    "name": "ipython",
    "version": 3
   },
   "file_extension": ".py",
   "mimetype": "text/x-python",
   "name": "python",
   "nbconvert_exporter": "python",
   "pygments_lexer": "ipython3",
   "version": "3.9.13"
  }
 },
 "nbformat": 4,
 "nbformat_minor": 5
}
