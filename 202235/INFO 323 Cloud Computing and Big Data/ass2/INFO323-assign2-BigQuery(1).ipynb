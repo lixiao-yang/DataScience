{
 "cells": [
  {
   "attachments": {},
   "cell_type": "markdown",
   "metadata": {},
   "source": [
    "<h1 style=\"text-align:center\"> Drexel University </h1>\n",
    "<h2 style = \"text-align:center\"> College of Computing and Informatics</h2>\n",
    "<h2 style = \"text-align:center\">INFO 323: Cloud Computing and Big Data</h2>\n",
    "<h3 style = \"text-align:center\">Assignment 2 Exploratory Data Analysis</h3>\n",
    "<div style=\"text-align:center; border-style:solid; padding: 10px\">\n",
    "<div style=\"font-weight:bold\">Due Date: Sunday, April 30, 2023</div>\n",
    "This question counts for 10% of the final grade.\n",
    "</div>\n",
    "\n",
    "### A. Assignment 2 Overview\n",
    "This question provides the opportunity for you to practice big data analytics using cloud computing.\n",
    "\n",
    "### B. What to Hand In\n",
    "\t\n",
    "Sumbit a completed this Jupyter notebook and the required results. \n",
    "\n",
    "### C. How to Hand In\n",
    "\n",
    "Submit your Jupyter notebook file along with the assigment file through the course shell on the Blackboard system.\n",
    "\n",
    "### D. What to do\n",
    "option 1 (preferred): \n",
    "1. Create a single node Dataproc cluster\n",
    "2. schedule deletetion for 2 hours idle\n",
    "3. Associate the cluster with your GS bucket\n",
    "4. Upload the assignment notebook 'INFO323-assign2-BigQuery.ipynb' to your bucket: YOUR_BUCKET/notebooks/jupyter\n",
    "5. Answer the quetions.\n",
    "6. Download and submit the completed Jupyter notebook.\n",
    "\n",
    "option 2:\n",
    "1. Create a new Jupyter notebook on GCP’s AI platform.\n",
    "2. Associate the notebook with your GS bucket\n",
    "3. Upload the given notebook “INFO323-assign2-BigQuery.ipynb” to the bucket.\n",
    "4. Answer the questions in the notebook.\n",
    "5. Download and submit the completed Jupyter notebook.\n"
   ]
  },
  {
   "cell_type": "markdown",
   "metadata": {},
   "source": [
    "# <span style=\"color:red\">Add Your Name Here after the colon:</span> "
   ]
  },
  {
   "cell_type": "code",
   "execution_count": 1,
   "metadata": {},
   "outputs": [],
   "source": [
    "import matplotlib.pyplot as plt\n",
    "import seaborn as sns\n",
    "import pandas as pd\n",
    "import numpy as np\n",
    "\n",
    "from google.cloud import bigquery"
   ]
  },
  {
   "cell_type": "code",
   "execution_count": 2,
   "metadata": {},
   "outputs": [],
   "source": [
    "bq = bigquery.Client()"
   ]
  },
  {
   "attachments": {},
   "cell_type": "markdown",
   "id": "04efb109",
   "metadata": {},
   "source": [
    "## Data Ingest:\n",
    "### Go to the Storage section of the GCP web console and create a new bucket\n",
    "### Open CloudShell and git clone this repo: `git clone https://github.com/GoogleCloudPlatform/data-science-on-gcp`\n",
    "### Then, run:\n",
    "- `cd data-science-on-gcp/02_ingest`\n",
    "- `./ingest_from_crsbucket bucketname`\n",
    "- `./bqload.sh (csv-bucket-name) YEAR`\n",
    "- `cd ../03_sqlstudio`\n",
    "- `./create_views.sh`\n",
    "- `cd ../04_streaming`\n",
    "- `./ingest_from_crsbucket.sh`\n",
    "\n",
    "After the above steps, 26 JSON files should appear in the folder \"flights/tzcorr/' in the bucket. A table  `flights_tzcorr`  should appear in BigQuery under the dataset `dsongcp`. Use these data to conduct the exploratory data analsysis."
   ]
  },
  {
   "attachments": {},
   "cell_type": "markdown",
   "metadata": {},
   "source": [
    "## Check the columns of the table at the BigQuery console. Or at the BTS Website: https://transtats.bts.gov/Fields.asp?gnoyr_VQ=FGJ"
   ]
  },
  {
   "cell_type": "markdown",
   "metadata": {},
   "source": [
    "## Question 1: Find average departure and arrival delays at each airport in the US, retain only airports where there were at least 5000 flights, and sort them by departure delay in descending order."
   ]
  },
  {
   "cell_type": "code",
   "execution_count": null,
   "metadata": {},
   "outputs": [],
   "source": []
  },
  {
   "cell_type": "markdown",
   "metadata": {},
   "source": [
    "## Question 2: Assume a flight is delayed if its arrival delay was more than 20 minutes. Find the percentage of the delayed flights."
   ]
  },
  {
   "cell_type": "code",
   "execution_count": null,
   "metadata": {},
   "outputs": [],
   "source": []
  },
  {
   "cell_type": "markdown",
   "metadata": {},
   "source": [
    "## Question 3: Create a DataFrame containing the ARR_DELAY and DEP_DELAY of 1% of the flights that were departed 15 minutes later than scheduled time. Show the summary statistics of the DataFrame."
   ]
  },
  {
   "cell_type": "code",
   "execution_count": null,
   "metadata": {},
   "outputs": [],
   "source": []
  },
  {
   "cell_type": "markdown",
   "metadata": {},
   "source": [
    "## Question 4: Plot the distribution of the ARR_DELAY of the flights extracted in the DataFrame of Question 3."
   ]
  },
  {
   "cell_type": "code",
   "execution_count": null,
   "metadata": {},
   "outputs": [],
   "source": []
  },
  {
   "cell_type": "markdown",
   "metadata": {},
   "source": [
    "## Question 5: Create a DataFrame containing the ARR_DELAY and DEP_DELAY of 0.1% of all flights. Show the summary statistics of the DataFrame."
   ]
  },
  {
   "cell_type": "code",
   "execution_count": null,
   "metadata": {},
   "outputs": [],
   "source": []
  },
  {
   "cell_type": "markdown",
   "metadata": {},
   "source": [
    "## Question 6: Add a new column 'ontime' to the DataFrame extracted in Question 5 using the following conditions. Show the summary statistics including the 'ontime' column.\n",
    "- ### 'ontime' = True if the DEP_DELAY is less than 15 minutes. \n",
    "- ### Otherwise, 'ontime' = False."
   ]
  },
  {
   "cell_type": "code",
   "execution_count": null,
   "metadata": {},
   "outputs": [],
   "source": []
  },
  {
   "cell_type": "markdown",
   "metadata": {},
   "source": [
    "## Question 7: Plot and compare the distributions of ARR_DELAY for flights with 'ontime' = True and flights with 'ontime' = False using the DataFrame in Querion 6."
   ]
  },
  {
   "cell_type": "code",
   "execution_count": null,
   "metadata": {},
   "outputs": [],
   "source": []
  },
  {
   "cell_type": "markdown",
   "metadata": {},
   "source": [
    "## Question 8: Create a DataFrame containing the average ARR_DELAY and total number of flights for each DEP_DELAY. Order the results by DEP_DELAY in ascending order. Show the head of the DataFrame."
   ]
  },
  {
   "cell_type": "code",
   "execution_count": null,
   "metadata": {},
   "outputs": [],
   "source": []
  },
  {
   "cell_type": "markdown",
   "metadata": {},
   "source": [
    "## Question 9: Same as above. Create a DataFrame by removing the records with the total number of flights fewer than 500.  Add a column corresponding to the standard deviation of the ARR_DELAY. Show the head of the DataFrame."
   ]
  },
  {
   "cell_type": "code",
   "execution_count": null,
   "metadata": {},
   "outputs": [],
   "source": []
  },
  {
   "cell_type": "markdown",
   "metadata": {},
   "source": [
    "## Question 10: Plot the relations between DEP_DELAYs and the means and standard deviations of ARR_DELAYs using the DataFrame in Question 9."
   ]
  },
  {
   "cell_type": "code",
   "execution_count": null,
   "metadata": {},
   "outputs": [],
   "source": []
  },
  {
   "cell_type": "markdown",
   "metadata": {},
   "source": [
    "## Question 11 [Make Probabilistic Suggestion for Canceling a Meeting at Destination]: \n",
    "### Assume we have an important meeting at destination. We want to decide whether to postpone or cancel the meeting depending on the predicted arrival delay time. Our decision criterion is 30 minutes and 30%. That is, if the plane is more than 30% likely to be delayed (on arrival) by more than 30 minutes, we want to send a text message asking to postpone or cancel the meeting. At what departure delay does this happen? Plot the data and find the DEP_DELAY where there is a 30% chance that the ARR_DELAY is more than 30 minutes using the DataFrame in Question 9."
   ]
  },
  {
   "cell_type": "code",
   "execution_count": null,
   "metadata": {},
   "outputs": [],
   "source": []
  }
 ],
 "metadata": {
  "environment": {
   "kernel": "python3",
   "name": "common-cpu.m91",
   "type": "gcloud",
   "uri": "gcr.io/deeplearning-platform-release/base-cpu:m91"
  },
  "kernelspec": {
   "display_name": "Python 3",
   "language": "python",
   "name": "python3"
  },
  "language_info": {
   "codemirror_mode": {
    "name": "ipython",
    "version": 3
   },
   "file_extension": ".py",
   "mimetype": "text/x-python",
   "name": "python",
   "nbconvert_exporter": "python",
   "pygments_lexer": "ipython3",
   "version": "3.7.6"
  }
 },
 "nbformat": 4,
 "nbformat_minor": 5
}
