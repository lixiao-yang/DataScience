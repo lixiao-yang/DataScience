{
 "cells": [
  {
   "cell_type": "markdown",
   "metadata": {
    "application/vnd.databricks.v1+cell": {
     "cellMetadata": {},
     "inputWidgets": {},
     "nuid": "f2f366ef-c740-4c00-80ba-5cd00483b1cb",
     "showTitle": false,
     "title": ""
    }
   },
   "source": [
    "<h1 style=\"text-align:center\"> Drexel University </h1>\n",
    "<h2 style = \"text-align:center\"> College of Computing and Informatics</h2>\n",
    "<h2 style = \"text-align:center\">INFO 323: Cloud Computing and Big Data</h2>\n",
    "<h3 style = \"text-align:center\">Assignment 4: Spark ML</h3>\n",
    "<div style=\"text-align:center; border-style:solid; padding: 10px\">\n",
    "<div style=\"font-weight:bold\">Due Date: Sunday, June 11, 2023</div>\n",
    "This assignment counts for 10% of the final grade\n",
    "</div>\n",
    "\n",
    "### A. Assignment Overview\n",
    "This assignment provides the opportunity for you to practice with Spark data analytics. \n",
    "\n",
    "### B. What to Hand In\n",
    "\t\n",
    "Sumbit a completed this Jupyter notebook. \n",
    "\n",
    "### C. How to Hand In\n",
    "\n",
    "Submit your Jupyter notebook file through the course website in the Blackboard Learn system.\n",
    "\n",
    "### D. When to Hand In\n",
    "\n",
    "1. Submit your assignment no later than 11:59pm in the due date.\n",
    "2. There will be a 10% (absolute value) deduction for each day of lateness, to a maximum of 3 days; assignments will not be accepted beyond that point. Missing work will earn a zero grade.\n",
    "\n",
    "### Note: All programming must be done in Spark platform"
   ]
  },
  {
   "cell_type": "markdown",
   "metadata": {
    "application/vnd.databricks.v1+cell": {
     "cellMetadata": {},
     "inputWidgets": {},
     "nuid": "8081fd5b-349a-474a-967f-17462c76a599",
     "showTitle": false,
     "title": ""
    }
   },
   "source": [
    "## Import libraries"
   ]
  },
  {
   "cell_type": "code",
   "execution_count": 0,
   "metadata": {
    "application/vnd.databricks.v1+cell": {
     "cellMetadata": {},
     "inputWidgets": {},
     "nuid": "d1513cc9-1b52-4e52-b39e-d435e1396e3b",
     "showTitle": false,
     "title": ""
    }
   },
   "outputs": [
    {
     "output_type": "display_data",
     "data": {
      "text/html": [
       "<style scoped>\n",
       "  .ansiout {\n",
       "    display: block;\n",
       "    unicode-bidi: embed;\n",
       "    white-space: pre-wrap;\n",
       "    word-wrap: break-word;\n",
       "    word-break: break-all;\n",
       "    font-family: \"Source Code Pro\", \"Menlo\", monospace;;\n",
       "    font-size: 13px;\n",
       "    color: #555;\n",
       "    margin-left: 4px;\n",
       "    line-height: 19px;\n",
       "  }\n",
       "</style>\n",
       "<div class=\"ansiout\"></div>"
      ]
     },
     "metadata": {
      "application/vnd.databricks.v1+output": {
       "addedWidgets": {},
       "arguments": {},
       "data": "<div class=\"ansiout\"></div>",
       "datasetInfos": [],
       "metadata": {},
       "removedWidgets": [],
       "type": "html"
      }
     },
     "output_type": "display_data"
    }
   ],
   "source": [
    "from pyspark.ml.classification import RandomForestClassifier, RandomForestClassificationModel\n",
    "from pyspark.ml.linalg import Vectors\n",
    "from pyspark.ml.feature import Binarizer, VectorAssembler\n",
    "from pyspark.ml import Pipeline\n",
    "from pyspark.ml.evaluation import BinaryClassificationEvaluator, MulticlassClassificationEvaluator\n",
    "from pyspark.ml.tuning import CrossValidator, ParamGridBuilder, CrossValidatorModel"
   ]
  },
  {
   "cell_type": "markdown",
   "metadata": {
    "application/vnd.databricks.v1+cell": {
     "cellMetadata": {},
     "inputWidgets": {},
     "nuid": "cd12cfe8-a52a-4386-967a-01070b0f6f2b",
     "showTitle": false,
     "title": ""
    }
   },
   "source": [
    "## Data Ingest:\n",
    "### Go to the Storage section of the GCP web console and create a new bucket\n",
    "### Open CloudShell and git clone this repo: `git clone https://github.com/GoogleCloudPlatform/data-science-on-gcp`\n",
    "### Then, run:\n",
    "- `cd data-science-on-gcp/02_ingest`\n",
    "- `./ingest_from_crsbucket bucketname`\n",
    "- `./bqload.sh (csv-bucket-name) YEAR`\n",
    "- `cd ../03_sqlstudio`\n",
    "- `./create_views.sh`\n",
    "- `cd ../04_streaming`\n",
    "- `./ingest_from_crsbucket.sh`\n",
    "\n",
    "After the above steps, 26 JSON files should appear in the folder \"flights/tzcorr/' in the bucket."
   ]
  },
  {
   "cell_type": "markdown",
   "metadata": {
    "application/vnd.databricks.v1+cell": {
     "cellMetadata": {},
     "inputWidgets": {},
     "nuid": "5c7869d8-41c3-43ed-974c-40545ebcec53",
     "showTitle": false,
     "title": ""
    }
   },
   "source": [
    "# Problem Definition:\n",
    "In this assignment, you are asked to build, tune, and evaluate a RandomForest classifier for predicting arrival delay of flights. You will use the tzcorr data sets.\n",
    "\n",
    "There are 26-30 data files. When you build the model, start with one data set. When your code works on the single data set, then apply the model to more data sets.\n",
    "\n",
    "You will build the model by experimenting with different sets of features and tuning the hyperparameters of the RandomForest classifier."
   ]
  },
  {
   "cell_type": "markdown",
   "metadata": {
    "application/vnd.databricks.v1+cell": {
     "cellMetadata": {},
     "inputWidgets": {},
     "nuid": "4db33149-f45c-449b-a1b6-ab639a61dbfb",
     "showTitle": false,
     "title": ""
    }
   },
   "source": [
    "## Path to dataset:\n",
    "1. If use Databricks, the data files are located in a AWS S3 storage bucket. They can be accessed by the paths after listing the content as:\n",
    "```\n",
    "dbutils.fs.ls(\"s3://info323-ya45-spring2023/tzcorr/\")\n",
    "```\n",
    "2. If use GCP, the data files can be accessed from your GS bucket, as:\n",
    "```\n",
    "BUCEKT = 'your bucket name'\n",
    "inputs = 'gs://{}/flights/tzcorr/all_flights-00000-*'.format(BUCKET) # a file\n",
    "#inputs = 'gs://{}/flights/tzcorr/all_flights-*'.format(BUCKET)  # all files\n",
    "```"
   ]
  },
  {
   "cell_type": "markdown",
   "metadata": {
    "application/vnd.databricks.v1+cell": {
     "cellMetadata": {},
     "inputWidgets": {},
     "nuid": "2f1345bc-6f89-45cb-82fa-b849111a05e3",
     "showTitle": false,
     "title": ""
    }
   },
   "source": [
    "## Question 1: Read dataset: Choose a data file and read the content as a Spark DataFrame named as 'flights'; Create a relational view for Spark SQL; and print out the schema of the data. How many records in the data set?"
   ]
  },
  {
   "cell_type": "code",
   "execution_count": 0,
   "metadata": {
    "application/vnd.databricks.v1+cell": {
     "cellMetadata": {},
     "inputWidgets": {},
     "nuid": "676bb6e0-d4ab-4eb4-bbb0-2ad743904911",
     "showTitle": false,
     "title": ""
    }
   },
   "outputs": [],
   "source": []
  },
  {
   "cell_type": "markdown",
   "metadata": {
    "application/vnd.databricks.v1+cell": {
     "cellMetadata": {},
     "inputWidgets": {},
     "nuid": "c59045ea-8ea5-4cd8-a0c3-7b7d03377bc6",
     "showTitle": false,
     "title": ""
    }
   },
   "source": [
    "## Question 2: Choose at least 4 columns as features including `DEP_DELAY`, `TAXI_OUT`, and `DISTANCE`; define the feature columns as `featureColumns`."
   ]
  },
  {
   "cell_type": "code",
   "execution_count": 0,
   "metadata": {
    "application/vnd.databricks.v1+cell": {
     "cellMetadata": {},
     "inputWidgets": {},
     "nuid": "fa285fe9-dddc-4248-8d24-4a828975e9bc",
     "showTitle": false,
     "title": ""
    }
   },
   "outputs": [],
   "source": []
  },
  {
   "cell_type": "markdown",
   "metadata": {
    "application/vnd.databricks.v1+cell": {
     "cellMetadata": {},
     "inputWidgets": {},
     "nuid": "a42a2841-ba64-45b5-b86c-400765fe1105",
     "showTitle": false,
     "title": ""
    }
   },
   "source": [
    "## Question 3: Check missing values. Run `flights.describe().toPandas()`. Remove the rows with missing values in the feature columns and 'ARR_DELAY'."
   ]
  },
  {
   "cell_type": "code",
   "execution_count": 0,
   "metadata": {
    "application/vnd.databricks.v1+cell": {
     "cellMetadata": {},
     "inputWidgets": {},
     "nuid": "a2fe6130-f1a8-4bd0-a059-3d286a464790",
     "showTitle": false,
     "title": ""
    }
   },
   "outputs": [],
   "source": []
  },
  {
   "cell_type": "markdown",
   "metadata": {
    "application/vnd.databricks.v1+cell": {
     "cellMetadata": {},
     "inputWidgets": {},
     "nuid": "a1b09cc2-80b4-44ed-94ac-2412ca86f404",
     "showTitle": false,
     "title": ""
    }
   },
   "source": [
    "## Question 4: If any one of the selected feature columns is not in numeric data type, convert it to appropriate numeric data type."
   ]
  },
  {
   "cell_type": "code",
   "execution_count": 0,
   "metadata": {
    "application/vnd.databricks.v1+cell": {
     "cellMetadata": {},
     "inputWidgets": {},
     "nuid": "4b128293-d564-48df-9369-c219d5d725c9",
     "showTitle": false,
     "title": ""
    }
   },
   "outputs": [],
   "source": []
  },
  {
   "cell_type": "markdown",
   "metadata": {
    "application/vnd.databricks.v1+cell": {
     "cellMetadata": {},
     "inputWidgets": {},
     "nuid": "de30514d-9eaf-488a-9393-f170c99c075b",
     "showTitle": false,
     "title": ""
    }
   },
   "source": [
    "## Question 5: Create the label column. Use \"Binarizer\" function to create a target categorical variable from the \"ARR_DELAY\" column. Name this target variable as \"label\". Specifically, if arrival delay is less than 15 minutes, then we want the categorical value to be 0, otherwise the categorical value should be 1. Use \"14.99999\" for the threshold argument. Use \"ARR_DELAY\" for the inputCol argument. Use \"label\" for the outputCol argument."
   ]
  },
  {
   "cell_type": "code",
   "execution_count": 0,
   "metadata": {
    "application/vnd.databricks.v1+cell": {
     "cellMetadata": {},
     "inputWidgets": {},
     "nuid": "93a8b41d-feed-4a82-a3a8-ebe9eac591dd",
     "showTitle": false,
     "title": ""
    }
   },
   "outputs": [],
   "source": []
  },
  {
   "cell_type": "markdown",
   "metadata": {
    "application/vnd.databricks.v1+cell": {
     "cellMetadata": {},
     "inputWidgets": {},
     "nuid": "7c77c564-0836-48c9-b0d5-c58995062f68",
     "showTitle": false,
     "title": ""
    }
   },
   "source": [
    "## Question 6: Apply the above \"binarizer\" tranformation to the input DataFrame to create a new DataFrame named \"binarizedDF\"."
   ]
  },
  {
   "cell_type": "code",
   "execution_count": 0,
   "metadata": {
    "application/vnd.databricks.v1+cell": {
     "cellMetadata": {},
     "inputWidgets": {},
     "nuid": "3722ab4c-1855-468d-8ff5-ff78484e8f0f",
     "showTitle": false,
     "title": ""
    }
   },
   "outputs": [],
   "source": []
  },
  {
   "cell_type": "markdown",
   "metadata": {
    "application/vnd.databricks.v1+cell": {
     "cellMetadata": {},
     "inputWidgets": {},
     "nuid": "dd0c4487-a584-46a2-be1b-a818c46aa881",
     "showTitle": false,
     "title": ""
    }
   },
   "source": [
    "## Question 7: Look at the values of the first four rows in the new DataFrame `binarizedDF`."
   ]
  },
  {
   "cell_type": "code",
   "execution_count": 0,
   "metadata": {
    "application/vnd.databricks.v1+cell": {
     "cellMetadata": {},
     "inputWidgets": {},
     "nuid": "4b900c11-a741-49b3-b3c2-a9beb0c73a78",
     "showTitle": false,
     "title": ""
    }
   },
   "outputs": [],
   "source": []
  },
  {
   "cell_type": "markdown",
   "metadata": {
    "application/vnd.databricks.v1+cell": {
     "cellMetadata": {},
     "inputWidgets": {},
     "nuid": "6acbde2e-bd84-41e5-9af8-7a8a0537760a",
     "showTitle": false,
     "title": ""
    }
   },
   "source": [
    "## Question 8: Use \"VectorAssembler\" to aggregate the features which will be used to make predictions into a single column. Use \"featureColumns\" defined earlier for the inputCols argument. Use \"features\" for the outputCol argument."
   ]
  },
  {
   "cell_type": "code",
   "execution_count": 0,
   "metadata": {
    "application/vnd.databricks.v1+cell": {
     "cellMetadata": {},
     "inputWidgets": {},
     "nuid": "d3d76e15-5636-4e1d-993a-6f7defbf040b",
     "showTitle": false,
     "title": ""
    }
   },
   "outputs": [],
   "source": []
  },
  {
   "cell_type": "markdown",
   "metadata": {
    "application/vnd.databricks.v1+cell": {
     "cellMetadata": {},
     "inputWidgets": {},
     "nuid": "11f07ffc-eb94-410c-bf47-8925fe6f8be0",
     "showTitle": false,
     "title": ""
    }
   },
   "source": [
    "## Question 9: Apply the above assembler to the DataFrame \"binarizedDF\" to create a new DataFrame called \"assembled\" with the aggregated features in a column."
   ]
  },
  {
   "cell_type": "code",
   "execution_count": 0,
   "metadata": {
    "application/vnd.databricks.v1+cell": {
     "cellMetadata": {},
     "inputWidgets": {},
     "nuid": "b9fa1a1e-7845-4e3e-ab13-9bedd2b9e5da",
     "showTitle": false,
     "title": ""
    }
   },
   "outputs": [],
   "source": []
  },
  {
   "cell_type": "markdown",
   "metadata": {
    "application/vnd.databricks.v1+cell": {
     "cellMetadata": {},
     "inputWidgets": {},
     "nuid": "df8e1357-2295-42fc-971b-5ccaa54b20b5",
     "showTitle": false,
     "title": ""
    }
   },
   "source": [
    "## Question 10: Split the DataFrame \"assembled\" into \"train\" and \"test\" by calling randomSplit(). Specify the ratios of the two sets as 80% and 20%. Set the seed number to be 12345."
   ]
  },
  {
   "cell_type": "code",
   "execution_count": 0,
   "metadata": {
    "application/vnd.databricks.v1+cell": {
     "cellMetadata": {},
     "inputWidgets": {},
     "nuid": "9ad3d128-2d5f-4905-97a9-4c3c146d3215",
     "showTitle": false,
     "title": ""
    }
   },
   "outputs": [],
   "source": []
  },
  {
   "cell_type": "markdown",
   "metadata": {
    "application/vnd.databricks.v1+cell": {
     "cellMetadata": {},
     "inputWidgets": {},
     "nuid": "6e50db1a-1fd6-4937-bbf1-f8ecbe69e219",
     "showTitle": false,
     "title": ""
    }
   },
   "source": [
    "## Question 11: Print the number of rows in the train and test DataFrames to check the sizes."
   ]
  },
  {
   "cell_type": "code",
   "execution_count": 0,
   "metadata": {
    "application/vnd.databricks.v1+cell": {
     "cellMetadata": {},
     "inputWidgets": {},
     "nuid": "eaf19cca-acc5-491c-8913-17003b38230f",
     "showTitle": false,
     "title": ""
    }
   },
   "outputs": [],
   "source": []
  },
  {
   "cell_type": "markdown",
   "metadata": {
    "application/vnd.databricks.v1+cell": {
     "cellMetadata": {},
     "inputWidgets": {},
     "nuid": "e7689cfe-485f-441a-9cb8-c83d056cb8c8",
     "showTitle": false,
     "title": ""
    }
   },
   "source": [
    "## Question 12: Create and train a Random Forest classifier use default parameter values."
   ]
  },
  {
   "cell_type": "code",
   "execution_count": 0,
   "metadata": {
    "application/vnd.databricks.v1+cell": {
     "cellMetadata": {},
     "inputWidgets": {},
     "nuid": "633af3d6-d284-450e-8bb0-4458accd63c0",
     "showTitle": false,
     "title": ""
    }
   },
   "outputs": [],
   "source": []
  },
  {
   "cell_type": "markdown",
   "metadata": {
    "application/vnd.databricks.v1+cell": {
     "cellMetadata": {},
     "inputWidgets": {},
     "nuid": "ed84b61b-5aec-4ee6-88c4-620a7be0ddff",
     "showTitle": false,
     "title": ""
    }
   },
   "source": [
    "## Question 13: Save the model for late use."
   ]
  },
  {
   "cell_type": "code",
   "execution_count": 0,
   "metadata": {
    "application/vnd.databricks.v1+cell": {
     "cellMetadata": {},
     "inputWidgets": {},
     "nuid": "32a8db80-f1d7-4295-85bd-f47fcae0068b",
     "showTitle": false,
     "title": ""
    }
   },
   "outputs": [],
   "source": []
  },
  {
   "cell_type": "markdown",
   "metadata": {
    "application/vnd.databricks.v1+cell": {
     "cellMetadata": {},
     "inputWidgets": {},
     "nuid": "3be34df6-d84d-401b-b408-530dd5e92cbb",
     "showTitle": false,
     "title": ""
    }
   },
   "source": [
    "## Question 14: Load the saved model."
   ]
  },
  {
   "cell_type": "code",
   "execution_count": 0,
   "metadata": {
    "application/vnd.databricks.v1+cell": {
     "cellMetadata": {},
     "inputWidgets": {},
     "nuid": "ea198b5a-5820-430f-bc96-78452b248a9a",
     "showTitle": false,
     "title": ""
    }
   },
   "outputs": [],
   "source": []
  },
  {
   "cell_type": "markdown",
   "metadata": {
    "application/vnd.databricks.v1+cell": {
     "cellMetadata": {},
     "inputWidgets": {},
     "nuid": "ff7d4f10-2c7a-4b43-972c-1f8bab8afd37",
     "showTitle": false,
     "title": ""
    }
   },
   "source": [
    "## Question 15: Make prediction using the test data set. Store the results in \"predictions\"."
   ]
  },
  {
   "cell_type": "code",
   "execution_count": 0,
   "metadata": {
    "application/vnd.databricks.v1+cell": {
     "cellMetadata": {},
     "inputWidgets": {},
     "nuid": "c53eec50-6dd1-4547-bb24-b9192139b687",
     "showTitle": false,
     "title": ""
    }
   },
   "outputs": [],
   "source": []
  },
  {
   "cell_type": "markdown",
   "metadata": {
    "application/vnd.databricks.v1+cell": {
     "cellMetadata": {},
     "inputWidgets": {},
     "nuid": "91d3b459-7c26-4663-aaca-f7d66b577f29",
     "showTitle": false,
     "title": ""
    }
   },
   "source": [
    "## Question 16: Look at the values of \"prediction\" and \"label\" of the first ten rows in the predictions to see whether the prediction matches the input."
   ]
  },
  {
   "cell_type": "code",
   "execution_count": 0,
   "metadata": {
    "application/vnd.databricks.v1+cell": {
     "cellMetadata": {},
     "inputWidgets": {},
     "nuid": "463dbd6a-5e6b-4bc1-8c75-568ac2f381d3",
     "showTitle": false,
     "title": ""
    }
   },
   "outputs": [],
   "source": []
  },
  {
   "cell_type": "markdown",
   "metadata": {
    "application/vnd.databricks.v1+cell": {
     "cellMetadata": {},
     "inputWidgets": {},
     "nuid": "17ef1004-1595-4075-be6a-ab7ea564cd0d",
     "showTitle": false,
     "title": ""
    }
   },
   "source": [
    "## Question 17: Evaluate the model on the test data. Save the result as `evalSummary`."
   ]
  },
  {
   "cell_type": "code",
   "execution_count": 0,
   "metadata": {
    "application/vnd.databricks.v1+cell": {
     "cellMetadata": {},
     "inputWidgets": {},
     "nuid": "723f14eb-2812-4e80-8663-ec25d97cbdfd",
     "showTitle": false,
     "title": ""
    }
   },
   "outputs": [],
   "source": []
  },
  {
   "cell_type": "markdown",
   "metadata": {
    "application/vnd.databricks.v1+cell": {
     "cellMetadata": {},
     "inputWidgets": {},
     "nuid": "9ef720f7-0f01-42fd-875b-aba3ace7ecbf",
     "showTitle": false,
     "title": ""
    }
   },
   "source": [
    "## Question 18: Print out the accuracy."
   ]
  },
  {
   "cell_type": "code",
   "execution_count": 0,
   "metadata": {
    "application/vnd.databricks.v1+cell": {
     "cellMetadata": {},
     "inputWidgets": {},
     "nuid": "cbbf5068-f946-4bb0-af51-207bf350752c",
     "showTitle": false,
     "title": ""
    }
   },
   "outputs": [],
   "source": []
  },
  {
   "cell_type": "markdown",
   "metadata": {
    "application/vnd.databricks.v1+cell": {
     "cellMetadata": {},
     "inputWidgets": {},
     "nuid": "22927659-db9f-43ca-8e63-6d3a33e81254",
     "showTitle": false,
     "title": ""
    }
   },
   "source": [
    "## Question 19: Print out precisions by labels."
   ]
  },
  {
   "cell_type": "code",
   "execution_count": 0,
   "metadata": {
    "application/vnd.databricks.v1+cell": {
     "cellMetadata": {},
     "inputWidgets": {},
     "nuid": "01b91340-9a7a-4c1d-9cd4-1e89aaff8e4f",
     "showTitle": false,
     "title": ""
    }
   },
   "outputs": [],
   "source": []
  },
  {
   "cell_type": "markdown",
   "metadata": {
    "application/vnd.databricks.v1+cell": {
     "cellMetadata": {},
     "inputWidgets": {},
     "nuid": "944a6e05-c692-4fe9-8343-6e451312cbea",
     "showTitle": false,
     "title": ""
    }
   },
   "source": [
    "## Question 20: Print out recalls by labels."
   ]
  },
  {
   "cell_type": "code",
   "execution_count": 0,
   "metadata": {
    "application/vnd.databricks.v1+cell": {
     "cellMetadata": {},
     "inputWidgets": {},
     "nuid": "985f7834-f58e-48b7-a033-7aad19af192f",
     "showTitle": false,
     "title": ""
    }
   },
   "outputs": [],
   "source": []
  },
  {
   "cell_type": "markdown",
   "metadata": {
    "application/vnd.databricks.v1+cell": {
     "cellMetadata": {},
     "inputWidgets": {},
     "nuid": "2801bb97-3cfa-4805-9ebb-3c1ab7d5b978",
     "showTitle": false,
     "title": ""
    }
   },
   "source": [
    "## Question 21: Feature selection and hyperparameter tuning. In the following, you will select the best combination of features and tune the hyperparameter of the ranfom forest classifier through grid search. First, Split the DataFrame \"binarizedDF\" into \"train\" and \"test\" by calling randomSplit(). Specify the ratios of the two sets as 80% and 20%. Set the seed number to be 12345."
   ]
  },
  {
   "cell_type": "code",
   "execution_count": 0,
   "metadata": {
    "application/vnd.databricks.v1+cell": {
     "cellMetadata": {},
     "inputWidgets": {},
     "nuid": "e6ec8c05-0cc9-4aa1-975d-1c838178e0de",
     "showTitle": false,
     "title": ""
    }
   },
   "outputs": [],
   "source": []
  },
  {
   "cell_type": "markdown",
   "metadata": {
    "application/vnd.databricks.v1+cell": {
     "cellMetadata": {},
     "inputWidgets": {},
     "nuid": "6fe9e072-3a2b-4c31-99ab-37dc1fa54615",
     "showTitle": false,
     "title": ""
    }
   },
   "source": [
    "## Question 22: Define a list of possible feature combinations. Modify the following list \"feature_sets\" by adding the additional feature you selected. Use all possible 2-, 3-, and 4-tuple combinations."
   ]
  },
  {
   "cell_type": "code",
   "execution_count": 0,
   "metadata": {
    "application/vnd.databricks.v1+cell": {
     "cellMetadata": {},
     "inputWidgets": {},
     "nuid": "7a67326c-da03-420c-9e79-0854939b0ede",
     "showTitle": false,
     "title": ""
    }
   },
   "outputs": [
    {
     "output_type": "display_data",
     "data": {
      "text/html": [
       "<style scoped>\n",
       "  .ansiout {\n",
       "    display: block;\n",
       "    unicode-bidi: embed;\n",
       "    white-space: pre-wrap;\n",
       "    word-wrap: break-word;\n",
       "    word-break: break-all;\n",
       "    font-family: \"Source Code Pro\", \"Menlo\", monospace;;\n",
       "    font-size: 13px;\n",
       "    color: #555;\n",
       "    margin-left: 4px;\n",
       "    line-height: 19px;\n",
       "  }\n",
       "</style>\n",
       "<div class=\"ansiout\"></div>"
      ]
     },
     "metadata": {
      "application/vnd.databricks.v1+output": {
       "addedWidgets": {},
       "arguments": {},
       "data": "<div class=\"ansiout\"></div>",
       "datasetInfos": [],
       "metadata": {},
       "removedWidgets": [],
       "type": "html"
      }
     },
     "output_type": "display_data"
    }
   ],
   "source": [
    "features_sets = [['DEP_DELAY', 'DISTANCE'], ['DEP_DELAY', 'TAXI_OUT'], ['TAXI_OUT', 'DISTANCE'], ['DEP_DELAY', 'TAXI_OUT', 'DISTANCE']]"
   ]
  },
  {
   "cell_type": "code",
   "execution_count": 0,
   "metadata": {
    "application/vnd.databricks.v1+cell": {
     "cellMetadata": {},
     "inputWidgets": {},
     "nuid": "1fbcbd41-f2f3-47cc-8776-27541f8a6ba1",
     "showTitle": false,
     "title": ""
    }
   },
   "outputs": [],
   "source": []
  },
  {
   "cell_type": "markdown",
   "metadata": {
    "application/vnd.databricks.v1+cell": {
     "cellMetadata": {},
     "inputWidgets": {},
     "nuid": "4ee9514b-7d0f-46d5-88ef-4beedf116cf0",
     "showTitle": false,
     "title": ""
    }
   },
   "source": [
    "## Question 23: Create a VectorAssembler with outputCol=\"features\" and store the result to \"assembler\"."
   ]
  },
  {
   "cell_type": "code",
   "execution_count": 0,
   "metadata": {
    "application/vnd.databricks.v1+cell": {
     "cellMetadata": {},
     "inputWidgets": {},
     "nuid": "8e6baab7-ee8c-439c-a972-3a06fabc71bc",
     "showTitle": false,
     "title": ""
    }
   },
   "outputs": [],
   "source": []
  },
  {
   "cell_type": "markdown",
   "metadata": {
    "application/vnd.databricks.v1+cell": {
     "cellMetadata": {},
     "inputWidgets": {},
     "nuid": "fdf4e516-d98e-47ab-9f5e-03af38ea608c",
     "showTitle": false,
     "title": ""
    }
   },
   "source": [
    "## Question 24: Create a RandomForestClassifier with all default values and store the result to \"rf\"."
   ]
  },
  {
   "cell_type": "code",
   "execution_count": 0,
   "metadata": {
    "application/vnd.databricks.v1+cell": {
     "cellMetadata": {},
     "inputWidgets": {},
     "nuid": "9a438df4-a99d-49a1-828d-bbd7ef122f2e",
     "showTitle": false,
     "title": ""
    }
   },
   "outputs": [],
   "source": []
  },
  {
   "cell_type": "markdown",
   "metadata": {
    "application/vnd.databricks.v1+cell": {
     "cellMetadata": {},
     "inputWidgets": {},
     "nuid": "373355b0-8bfa-40ea-a145-bea3063d30dc",
     "showTitle": false,
     "title": ""
    }
   },
   "source": [
    "## Question 25: Create a Pipleline with stages=[assembler, rf] and store the result to \"pipepline\"."
   ]
  },
  {
   "cell_type": "code",
   "execution_count": 0,
   "metadata": {
    "application/vnd.databricks.v1+cell": {
     "cellMetadata": {},
     "inputWidgets": {},
     "nuid": "5b2c912d-6402-4349-bd95-8d7ca180ff33",
     "showTitle": false,
     "title": ""
    }
   },
   "outputs": [],
   "source": []
  },
  {
   "cell_type": "markdown",
   "metadata": {
    "application/vnd.databricks.v1+cell": {
     "cellMetadata": {},
     "inputWidgets": {},
     "nuid": "353f5593-aab5-4617-b60d-3aea4b428767",
     "showTitle": false,
     "title": ""
    }
   },
   "source": [
    "## Question 26: Create a ParamGridBuilder and store the result to \"grid\". Add the following paramters and their ranges to \"grid\":\n",
    "1. assembler.inputCols, features_sets\n",
    "2. rf.numTrees, [20, 50, 100]\n",
    "3. rf.maxDepth, [2, 3, 5]\n",
    "4. rf.minInstancesPerNode, [1, 2, 3]"
   ]
  },
  {
   "cell_type": "code",
   "execution_count": 0,
   "metadata": {
    "application/vnd.databricks.v1+cell": {
     "cellMetadata": {},
     "inputWidgets": {},
     "nuid": "9973b606-24a3-45c6-8154-c8858a0de502",
     "showTitle": false,
     "title": ""
    }
   },
   "outputs": [],
   "source": []
  },
  {
   "cell_type": "markdown",
   "metadata": {
    "application/vnd.databricks.v1+cell": {
     "cellMetadata": {},
     "inputWidgets": {},
     "nuid": "8e6adf44-97d9-47de-a84d-926b520924f7",
     "showTitle": false,
     "title": ""
    }
   },
   "source": [
    "## Question 27: Create a BinaryClassificationEvaluator and store the result to \"evaluator\"."
   ]
  },
  {
   "cell_type": "code",
   "execution_count": 0,
   "metadata": {
    "application/vnd.databricks.v1+cell": {
     "cellMetadata": {},
     "inputWidgets": {},
     "nuid": "ee9fc7cd-08c1-4a51-99e6-2069b7b23b15",
     "showTitle": false,
     "title": ""
    }
   },
   "outputs": [],
   "source": []
  },
  {
   "cell_type": "markdown",
   "metadata": {
    "application/vnd.databricks.v1+cell": {
     "cellMetadata": {},
     "inputWidgets": {},
     "nuid": "5a20bc72-acd4-4ff8-9e93-336fd6109b3b",
     "showTitle": false,
     "title": ""
    }
   },
   "source": [
    "## Question 28: Create CrossValidator with the following options and store the result to \"cv\".\n",
    "1. estimator=pipeline\n",
    "2. estimatorParamMaps=grid\n",
    "3. evaluator=evaluator\n",
    "4. parallelism=2"
   ]
  },
  {
   "cell_type": "code",
   "execution_count": 0,
   "metadata": {
    "application/vnd.databricks.v1+cell": {
     "cellMetadata": {},
     "inputWidgets": {},
     "nuid": "9632b37a-b352-4b03-ae74-cb0e25586da8",
     "showTitle": false,
     "title": ""
    }
   },
   "outputs": [],
   "source": []
  },
  {
   "cell_type": "markdown",
   "metadata": {
    "application/vnd.databricks.v1+cell": {
     "cellMetadata": {},
     "inputWidgets": {},
     "nuid": "e16e705a-952c-4e23-9f62-0f8e53a570b1",
     "showTitle": false,
     "title": ""
    }
   },
   "source": [
    "## Question 29: Fit the CrossValidator on the train set and store the result to \"cvModel\"."
   ]
  },
  {
   "cell_type": "code",
   "execution_count": 0,
   "metadata": {
    "application/vnd.databricks.v1+cell": {
     "cellMetadata": {},
     "inputWidgets": {},
     "nuid": "f1c3aa47-cb20-41fe-b7f0-f4e8e4ea8980",
     "showTitle": false,
     "title": ""
    }
   },
   "outputs": [],
   "source": []
  },
  {
   "cell_type": "markdown",
   "metadata": {
    "application/vnd.databricks.v1+cell": {
     "cellMetadata": {},
     "inputWidgets": {},
     "nuid": "94a27af7-c87b-4188-85fb-ba00a70d3d45",
     "showTitle": false,
     "title": ""
    }
   },
   "source": [
    "## Question 30: Print out the avgMetrics of the \"cvModel\"."
   ]
  },
  {
   "cell_type": "code",
   "execution_count": 0,
   "metadata": {
    "application/vnd.databricks.v1+cell": {
     "cellMetadata": {},
     "inputWidgets": {},
     "nuid": "6a9578c0-5166-4285-8355-387bc2cc6216",
     "showTitle": false,
     "title": ""
    }
   },
   "outputs": [],
   "source": []
  },
  {
   "cell_type": "markdown",
   "metadata": {
    "application/vnd.databricks.v1+cell": {
     "cellMetadata": {},
     "inputWidgets": {},
     "nuid": "42dae90c-ccfd-4af0-804a-c775992d8df7",
     "showTitle": false,
     "title": ""
    }
   },
   "source": [
    "## Question 31: Save and load the cvModel."
   ]
  },
  {
   "cell_type": "code",
   "execution_count": 0,
   "metadata": {
    "application/vnd.databricks.v1+cell": {
     "cellMetadata": {},
     "inputWidgets": {},
     "nuid": "2acc37d5-0577-4aab-9a60-b21fea7a15de",
     "showTitle": false,
     "title": ""
    }
   },
   "outputs": [],
   "source": []
  },
  {
   "cell_type": "markdown",
   "metadata": {
    "application/vnd.databricks.v1+cell": {
     "cellMetadata": {},
     "inputWidgets": {},
     "nuid": "c00de0fd-46ae-4962-b86f-0aed434ff69d",
     "showTitle": false,
     "title": ""
    }
   },
   "source": [
    "## Question 32: Make predictions on the test data. Store the result to \"predictions\"."
   ]
  },
  {
   "cell_type": "code",
   "execution_count": 0,
   "metadata": {
    "application/vnd.databricks.v1+cell": {
     "cellMetadata": {},
     "inputWidgets": {},
     "nuid": "224c1bea-da24-4f70-96f9-3df3d0d568b1",
     "showTitle": false,
     "title": ""
    }
   },
   "outputs": [],
   "source": []
  },
  {
   "cell_type": "markdown",
   "metadata": {
    "application/vnd.databricks.v1+cell": {
     "cellMetadata": {},
     "inputWidgets": {},
     "nuid": "f760b21a-5527-4557-91c5-69b13d26f538",
     "showTitle": false,
     "title": ""
    }
   },
   "source": [
    "## Question 33: Create a MulticlassClassificationEvaluator and store the result to cvEvaluator."
   ]
  },
  {
   "cell_type": "code",
   "execution_count": 0,
   "metadata": {
    "application/vnd.databricks.v1+cell": {
     "cellMetadata": {},
     "inputWidgets": {},
     "nuid": "1f6499e2-4d28-41c9-872a-d74b73e9b4b0",
     "showTitle": false,
     "title": ""
    }
   },
   "outputs": [],
   "source": []
  },
  {
   "cell_type": "markdown",
   "metadata": {
    "application/vnd.databricks.v1+cell": {
     "cellMetadata": {},
     "inputWidgets": {},
     "nuid": "d076ea4c-1bf5-4331-af0c-5f6d16b5037f",
     "showTitle": false,
     "title": ""
    }
   },
   "source": [
    "## Question 34: Print out the precision for label=1, i.e., ARR_DELAY >=15 minutes."
   ]
  },
  {
   "cell_type": "code",
   "execution_count": 0,
   "metadata": {
    "application/vnd.databricks.v1+cell": {
     "cellMetadata": {},
     "inputWidgets": {},
     "nuid": "c211fba8-1e32-4a35-9358-c06e24b9a750",
     "showTitle": false,
     "title": ""
    }
   },
   "outputs": [],
   "source": []
  },
  {
   "cell_type": "markdown",
   "metadata": {
    "application/vnd.databricks.v1+cell": {
     "cellMetadata": {},
     "inputWidgets": {},
     "nuid": "84fb2bc3-e7bc-4b8f-9745-6c7f414b8a83",
     "showTitle": false,
     "title": ""
    }
   },
   "source": [
    "## Question 35: Print out the recall for label=1, i.e., ARR_DELAY >=15 minutes."
   ]
  },
  {
   "cell_type": "code",
   "execution_count": 0,
   "metadata": {
    "application/vnd.databricks.v1+cell": {
     "cellMetadata": {},
     "inputWidgets": {},
     "nuid": "685e4fc7-6e12-4ccd-aa2b-1be575f71880",
     "showTitle": false,
     "title": ""
    }
   },
   "outputs": [],
   "source": []
  },
  {
   "cell_type": "markdown",
   "metadata": {
    "application/vnd.databricks.v1+cell": {
     "cellMetadata": {},
     "inputWidgets": {},
     "nuid": "7eebb49a-dd4b-4595-8df6-b98b524b642b",
     "showTitle": false,
     "title": ""
    }
   },
   "source": [
    "## Question 36: Print out the precision for label=0, i.e., ARR_DELAY < 15 minutes."
   ]
  },
  {
   "cell_type": "code",
   "execution_count": 0,
   "metadata": {
    "application/vnd.databricks.v1+cell": {
     "cellMetadata": {},
     "inputWidgets": {},
     "nuid": "15e45104-e368-4ceb-b010-c381a54596f2",
     "showTitle": false,
     "title": ""
    }
   },
   "outputs": [],
   "source": []
  },
  {
   "cell_type": "markdown",
   "metadata": {
    "application/vnd.databricks.v1+cell": {
     "cellMetadata": {},
     "inputWidgets": {},
     "nuid": "6eb790fb-0361-4238-b31e-764458fe7dac",
     "showTitle": false,
     "title": ""
    }
   },
   "source": [
    "## Question 37: Print out the recall for label=1, i.e., ARR_DELAY  < 15 minutes."
   ]
  },
  {
   "cell_type": "code",
   "execution_count": 0,
   "metadata": {
    "application/vnd.databricks.v1+cell": {
     "cellMetadata": {},
     "inputWidgets": {},
     "nuid": "d531840a-8dda-41e4-af6f-5ce5ee0db796",
     "showTitle": false,
     "title": ""
    }
   },
   "outputs": [],
   "source": []
  },
  {
   "cell_type": "markdown",
   "metadata": {
    "application/vnd.databricks.v1+cell": {
     "cellMetadata": {},
     "inputWidgets": {},
     "nuid": "9668ac65-fe96-42dd-8590-597b0fb4ee4b",
     "showTitle": false,
     "title": ""
    }
   },
   "source": [
    "## Question 38: What are the feature combination and hyperparameter values for the best model? Did the best model improve the label=1 precision and recall compared to the model before cross validation tuning? Could you continue to improve the model?"
   ]
  },
  {
   "cell_type": "code",
   "execution_count": 0,
   "metadata": {
    "application/vnd.databricks.v1+cell": {
     "cellMetadata": {},
     "inputWidgets": {},
     "nuid": "edce9325-a6b1-4152-a0dd-3b192bc0a0f2",
     "showTitle": false,
     "title": ""
    }
   },
   "outputs": [],
   "source": []
  }
 ],
 "metadata": {
  "application/vnd.databricks.v1+notebook": {
   "dashboards": [],
   "language": "python",
   "notebookMetadata": {
    "pythonIndentUnit": 4
   },
   "notebookName": "INFO323-Assignment4",
   "widgets": {}
  },
  "kernelspec": {
   "display_name": "Python 3",
   "language": "python",
   "name": "python3"
  },
  "language_info": {
   "codemirror_mode": {
    "name": "ipython",
    "version": 3
   },
   "file_extension": ".py",
   "mimetype": "text/x-python",
   "name": "python",
   "nbconvert_exporter": "python",
   "pygments_lexer": "ipython3",
   "version": "3.7.6"
  }
 },
 "nbformat": 4,
 "nbformat_minor": 0
}
