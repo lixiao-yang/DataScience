{
 "cells": [
  {
   "attachments": {},
   "cell_type": "markdown",
   "metadata": {
    "application/vnd.databricks.v1+cell": {
     "cellMetadata": {
      "byteLimit": 2048000,
      "rowLimit": 10000
     },
     "inputWidgets": {},
     "nuid": "f2f366ef-c740-4c00-80ba-5cd00483b1cb",
     "showTitle": false,
     "title": ""
    }
   },
   "source": [
    "<h1 style=\"text-align:center\"> Drexel University </h1>\n",
    "<h2 style = \"text-align:center\"> College of Computing and Informatics</h2>\n",
    "<h2 style = \"text-align:center\">INFO 323: Cloud Computing and Big Data</h2>\n",
    "<h3 style = \"text-align:center\">Assignment 4: Spark ML</h3>\n",
    "<div style=\"text-align:center; border-style:solid; padding: 10px\">\n",
    "<div style=\"font-weight:bold\">Due Date: Sunday, June 11, 2023</div>\n",
    "This assignment counts for 10% of the final grade\n",
    "</div>\n",
    "\n",
    "### A. Assignment Overview\n",
    "This assignment provides the opportunity for you to practice with Spark data analytics. \n",
    "\n",
    "### B. What to Hand In\n",
    "\t\n",
    "Sumbit a completed this Jupyter notebook. \n",
    "\n",
    "### C. How to Hand In\n",
    "\n",
    "Submit your Jupyter notebook file through the course website in the Blackboard Learn system.\n",
    "\n",
    "### D. When to Hand In\n",
    "\n",
    "1. Submit your assignment no later than 11:59pm in the due date.\n",
    "2. There will be a 10% (absolute value) deduction for each day of lateness, to a maximum of 3 days; assignments will not be accepted beyond that point. Missing work will earn a zero grade.\n",
    "\n",
    "### Note: All programming must be done in Spark platform"
   ]
  },
  {
   "attachments": {},
   "cell_type": "markdown",
   "metadata": {
    "application/vnd.databricks.v1+cell": {
     "cellMetadata": {
      "byteLimit": 2048000,
      "rowLimit": 10000
     },
     "inputWidgets": {},
     "nuid": "8081fd5b-349a-474a-967f-17462c76a599",
     "showTitle": false,
     "title": ""
    }
   },
   "source": [
    "## Import libraries"
   ]
  },
  {
   "cell_type": "code",
   "execution_count": null,
   "metadata": {
    "application/vnd.databricks.v1+cell": {
     "cellMetadata": {
      "byteLimit": 2048000,
      "rowLimit": 10000
     },
     "inputWidgets": {},
     "nuid": "d1513cc9-1b52-4e52-b39e-d435e1396e3b",
     "showTitle": false,
     "title": ""
    }
   },
   "outputs": [
    {
     "data": {
      "text/html": [
       "<style scoped>\n",
       "  .ansiout {\n",
       "    display: block;\n",
       "    unicode-bidi: embed;\n",
       "    white-space: pre-wrap;\n",
       "    word-wrap: break-word;\n",
       "    word-break: break-all;\n",
       "    font-family: \"Source Code Pro\", \"Menlo\", monospace;;\n",
       "    font-size: 13px;\n",
       "    color: #555;\n",
       "    margin-left: 4px;\n",
       "    line-height: 19px;\n",
       "  }\n",
       "</style>\n",
       "<div class=\"ansiout\"></div>"
      ]
     },
     "metadata": {
      "application/vnd.databricks.v1+output": {
       "addedWidgets": {},
       "arguments": {},
       "data": "<div class=\"ansiout\"></div>",
       "datasetInfos": [],
       "metadata": {},
       "removedWidgets": [],
       "type": "html"
      }
     },
     "output_type": "display_data"
    }
   ],
   "source": [
    "from pyspark.ml.classification import RandomForestClassifier, RandomForestClassificationModel\n",
    "from pyspark.ml.linalg import Vectors\n",
    "from pyspark.ml.feature import Binarizer, VectorAssembler\n",
    "from pyspark.ml import Pipeline\n",
    "from pyspark.ml.evaluation import BinaryClassificationEvaluator, MulticlassClassificationEvaluator\n",
    "from pyspark.ml.tuning import CrossValidator, ParamGridBuilder, CrossValidatorModel\n",
    "from pyspark.sql.functions import col\n",
    "from pyspark.sql.types import DoubleType"
   ]
  },
  {
   "attachments": {},
   "cell_type": "markdown",
   "metadata": {
    "application/vnd.databricks.v1+cell": {
     "cellMetadata": {
      "byteLimit": 2048000,
      "rowLimit": 10000
     },
     "inputWidgets": {},
     "nuid": "cd12cfe8-a52a-4386-967a-01070b0f6f2b",
     "showTitle": false,
     "title": ""
    }
   },
   "source": [
    "## Data Ingest:\n",
    "### Go to the Storage section of the GCP web console and create a new bucket\n",
    "### Open CloudShell and git clone this repo: `git clone https://github.com/GoogleCloudPlatform/data-science-on-gcp`\n",
    "### Then, run:\n",
    "- `cd data-science-on-gcp/02_ingest`\n",
    "- `./ingest_from_crsbucket bucketname`\n",
    "- `./bqload.sh (csv-bucket-name) YEAR`\n",
    "- `cd ../03_sqlstudio`\n",
    "- `./create_views.sh`\n",
    "- `cd ../04_streaming`\n",
    "- `./ingest_from_crsbucket.sh`\n",
    "\n",
    "After the above steps, 26 JSON files should appear in the folder \"flights/tzcorr/' in the bucket."
   ]
  },
  {
   "attachments": {},
   "cell_type": "markdown",
   "metadata": {
    "application/vnd.databricks.v1+cell": {
     "cellMetadata": {
      "byteLimit": 2048000,
      "rowLimit": 10000
     },
     "inputWidgets": {},
     "nuid": "5c7869d8-41c3-43ed-974c-40545ebcec53",
     "showTitle": false,
     "title": ""
    }
   },
   "source": [
    "# Problem Definition:\n",
    "In this assignment, you are asked to build, tune, and evaluate a RandomForest classifier for predicting arrival delay of flights. You will use the tzcorr data sets.\n",
    "\n",
    "There are 26-30 data files. When you build the model, start with one data set. When your code works on the single data set, then apply the model to more data sets.\n",
    "\n",
    "You will build the model by experimenting with different sets of features and tuning the hyperparameters of the RandomForest classifier."
   ]
  },
  {
   "attachments": {},
   "cell_type": "markdown",
   "metadata": {
    "application/vnd.databricks.v1+cell": {
     "cellMetadata": {
      "byteLimit": 2048000,
      "rowLimit": 10000
     },
     "inputWidgets": {},
     "nuid": "4db33149-f45c-449b-a1b6-ab639a61dbfb",
     "showTitle": false,
     "title": ""
    }
   },
   "source": [
    "## Path to dataset:\n",
    "1. If use Databricks, the data files are located in a AWS S3 storage bucket. They can be accessed by the paths after listing the content as:\n",
    "```\n",
    "dbutils.fs.ls(\"s3://info323-ya45-spring2023/tzcorr/\")\n",
    "```\n",
    "2. If use GCP, the data files can be accessed from your GS bucket, as:\n",
    "```\n",
    "BUCEKT = 'your bucket name'\n",
    "inputs = 'gs://{}/flights/tzcorr/all_flights-00000-*'.format(BUCKET) # a file\n",
    "#inputs = 'gs://{}/flights/tzcorr/all_flights-*'.format(BUCKET)  # all files\n",
    "```"
   ]
  },
  {
   "attachments": {},
   "cell_type": "markdown",
   "metadata": {
    "application/vnd.databricks.v1+cell": {
     "cellMetadata": {
      "byteLimit": 2048000,
      "rowLimit": 10000
     },
     "inputWidgets": {},
     "nuid": "2f1345bc-6f89-45cb-82fa-b849111a05e3",
     "showTitle": false,
     "title": ""
    }
   },
   "source": [
    "## Question 1: Read dataset: Choose a data file and read the content as a Spark DataFrame named as 'flights'; Create a relational view for Spark SQL; and print out the schema of the data. How many records in the data set?"
   ]
  },
  {
   "cell_type": "code",
   "execution_count": null,
   "metadata": {
    "application/vnd.databricks.v1+cell": {
     "cellMetadata": {
      "byteLimit": 2048000,
      "rowLimit": 10000
     },
     "inputWidgets": {},
     "nuid": "676bb6e0-d4ab-4eb4-bbb0-2ad743904911",
     "showTitle": false,
     "title": ""
    }
   },
   "outputs": [
    {
     "data": {
      "text/html": [
       "<style scoped>\n",
       "  .ansiout {\n",
       "    display: block;\n",
       "    unicode-bidi: embed;\n",
       "    white-space: pre-wrap;\n",
       "    word-wrap: break-word;\n",
       "    word-break: break-all;\n",
       "    font-family: \"Source Code Pro\", \"Menlo\", monospace;;\n",
       "    font-size: 13px;\n",
       "    color: #555;\n",
       "    margin-left: 4px;\n",
       "    line-height: 19px;\n",
       "  }\n",
       "</style>\n",
       "<div class=\"ansiout\">Out[2]: [FileInfo(path=&#39;s3://info323-ya45-spring2023/tzcorr/flights_tzcorr_all_flights-00000-of-00026.json&#39;, name=&#39;flights_tzcorr_all_flights-00000-of-00026.json&#39;, size=45703666),\n",
       " FileInfo(path=&#39;s3://info323-ya45-spring2023/tzcorr/flights_tzcorr_all_flights-00001-of-00026.json&#39;, name=&#39;flights_tzcorr_all_flights-00001-of-00026.json&#39;, size=210304842),\n",
       " FileInfo(path=&#39;s3://info323-ya45-spring2023/tzcorr/flights_tzcorr_all_flights-00002-of-00026.json&#39;, name=&#39;flights_tzcorr_all_flights-00002-of-00026.json&#39;, size=53048572),\n",
       " FileInfo(path=&#39;s3://info323-ya45-spring2023/tzcorr/flights_tzcorr_all_flights-00003-of-00026.json&#39;, name=&#39;flights_tzcorr_all_flights-00003-of-00026.json&#39;, size=16055501),\n",
       " FileInfo(path=&#39;s3://info323-ya45-spring2023/tzcorr/flights_tzcorr_all_flights-00004-of-00026.json&#39;, name=&#39;flights_tzcorr_all_flights-00004-of-00026.json&#39;, size=457125784),\n",
       " FileInfo(path=&#39;s3://info323-ya45-spring2023/tzcorr/flights_tzcorr_all_flights-00005-of-00026.json&#39;, name=&#39;flights_tzcorr_all_flights-00005-of-00026.json&#39;, size=34867958),\n",
       " FileInfo(path=&#39;s3://info323-ya45-spring2023/tzcorr/flights_tzcorr_all_flights-00006-of-00026.json&#39;, name=&#39;flights_tzcorr_all_flights-00006-of-00026.json&#39;, size=99665215),\n",
       " FileInfo(path=&#39;s3://info323-ya45-spring2023/tzcorr/flights_tzcorr_all_flights-00007-of-00026.json&#39;, name=&#39;flights_tzcorr_all_flights-00007-of-00026.json&#39;, size=260615598),\n",
       " FileInfo(path=&#39;s3://info323-ya45-spring2023/tzcorr/flights_tzcorr_all_flights-00008-of-00026.json&#39;, name=&#39;flights_tzcorr_all_flights-00008-of-00026.json&#39;, size=26363387),\n",
       " FileInfo(path=&#39;s3://info323-ya45-spring2023/tzcorr/flights_tzcorr_all_flights-00009-of-00026.json&#39;, name=&#39;flights_tzcorr_all_flights-00009-of-00026.json&#39;, size=296051786),\n",
       " FileInfo(path=&#39;s3://info323-ya45-spring2023/tzcorr/flights_tzcorr_all_flights-00010-of-00026.json&#39;, name=&#39;flights_tzcorr_all_flights-00010-of-00026.json&#39;, size=19868932),\n",
       " FileInfo(path=&#39;s3://info323-ya45-spring2023/tzcorr/flights_tzcorr_all_flights-00011-of-00026.json&#39;, name=&#39;flights_tzcorr_all_flights-00011-of-00026.json&#39;, size=227308594),\n",
       " FileInfo(path=&#39;s3://info323-ya45-spring2023/tzcorr/flights_tzcorr_all_flights-00012-of-00026.json&#39;, name=&#39;flights_tzcorr_all_flights-00012-of-00026.json&#39;, size=12452046),\n",
       " FileInfo(path=&#39;s3://info323-ya45-spring2023/tzcorr/flights_tzcorr_all_flights-00013-of-00026.json&#39;, name=&#39;flights_tzcorr_all_flights-00013-of-00026.json&#39;, size=44214516),\n",
       " FileInfo(path=&#39;s3://info323-ya45-spring2023/tzcorr/flights_tzcorr_all_flights-00014-of-00026.json&#39;, name=&#39;flights_tzcorr_all_flights-00014-of-00026.json&#39;, size=19493083),\n",
       " FileInfo(path=&#39;s3://info323-ya45-spring2023/tzcorr/flights_tzcorr_all_flights-00015-of-00026.json&#39;, name=&#39;flights_tzcorr_all_flights-00015-of-00026.json&#39;, size=253026311),\n",
       " FileInfo(path=&#39;s3://info323-ya45-spring2023/tzcorr/flights_tzcorr_all_flights-00016-of-00026.json&#39;, name=&#39;flights_tzcorr_all_flights-00016-of-00026.json&#39;, size=229340092),\n",
       " FileInfo(path=&#39;s3://info323-ya45-spring2023/tzcorr/flights_tzcorr_all_flights-00017-of-00026.json&#39;, name=&#39;flights_tzcorr_all_flights-00017-of-00026.json&#39;, size=461509894),\n",
       " FileInfo(path=&#39;s3://info323-ya45-spring2023/tzcorr/flights_tzcorr_all_flights-00018-of-00026.json&#39;, name=&#39;flights_tzcorr_all_flights-00018-of-00026.json&#39;, size=7979298),\n",
       " FileInfo(path=&#39;s3://info323-ya45-spring2023/tzcorr/flights_tzcorr_all_flights-00019-of-00026.json&#39;, name=&#39;flights_tzcorr_all_flights-00019-of-00026.json&#39;, size=3341618),\n",
       " FileInfo(path=&#39;s3://info323-ya45-spring2023/tzcorr/flights_tzcorr_all_flights-00020-of-00026.json&#39;, name=&#39;flights_tzcorr_all_flights-00020-of-00026.json&#39;, size=1541142),\n",
       " FileInfo(path=&#39;s3://info323-ya45-spring2023/tzcorr/flights_tzcorr_all_flights-00021-of-00026.json&#39;, name=&#39;flights_tzcorr_all_flights-00021-of-00026.json&#39;, size=8896756),\n",
       " FileInfo(path=&#39;s3://info323-ya45-spring2023/tzcorr/flights_tzcorr_all_flights-00022-of-00026.json&#39;, name=&#39;flights_tzcorr_all_flights-00022-of-00026.json&#39;, size=508281771),\n",
       " FileInfo(path=&#39;s3://info323-ya45-spring2023/tzcorr/flights_tzcorr_all_flights-00023-of-00026.json&#39;, name=&#39;flights_tzcorr_all_flights-00023-of-00026.json&#39;, size=162268634),\n",
       " FileInfo(path=&#39;s3://info323-ya45-spring2023/tzcorr/flights_tzcorr_all_flights-00024-of-00026.json&#39;, name=&#39;flights_tzcorr_all_flights-00024-of-00026.json&#39;, size=613958506),\n",
       " FileInfo(path=&#39;s3://info323-ya45-spring2023/tzcorr/flights_tzcorr_all_flights-00025-of-00026.json&#39;, name=&#39;flights_tzcorr_all_flights-00025-of-00026.json&#39;, size=5146159)]</div>"
      ]
     },
     "metadata": {
      "application/vnd.databricks.v1+output": {
       "addedWidgets": {},
       "arguments": {},
       "data": "<div class=\"ansiout\">Out[2]: [FileInfo(path=&#39;s3://info323-ya45-spring2023/tzcorr/flights_tzcorr_all_flights-00000-of-00026.json&#39;, name=&#39;flights_tzcorr_all_flights-00000-of-00026.json&#39;, size=45703666),\n FileInfo(path=&#39;s3://info323-ya45-spring2023/tzcorr/flights_tzcorr_all_flights-00001-of-00026.json&#39;, name=&#39;flights_tzcorr_all_flights-00001-of-00026.json&#39;, size=210304842),\n FileInfo(path=&#39;s3://info323-ya45-spring2023/tzcorr/flights_tzcorr_all_flights-00002-of-00026.json&#39;, name=&#39;flights_tzcorr_all_flights-00002-of-00026.json&#39;, size=53048572),\n FileInfo(path=&#39;s3://info323-ya45-spring2023/tzcorr/flights_tzcorr_all_flights-00003-of-00026.json&#39;, name=&#39;flights_tzcorr_all_flights-00003-of-00026.json&#39;, size=16055501),\n FileInfo(path=&#39;s3://info323-ya45-spring2023/tzcorr/flights_tzcorr_all_flights-00004-of-00026.json&#39;, name=&#39;flights_tzcorr_all_flights-00004-of-00026.json&#39;, size=457125784),\n FileInfo(path=&#39;s3://info323-ya45-spring2023/tzcorr/flights_tzcorr_all_flights-00005-of-00026.json&#39;, name=&#39;flights_tzcorr_all_flights-00005-of-00026.json&#39;, size=34867958),\n FileInfo(path=&#39;s3://info323-ya45-spring2023/tzcorr/flights_tzcorr_all_flights-00006-of-00026.json&#39;, name=&#39;flights_tzcorr_all_flights-00006-of-00026.json&#39;, size=99665215),\n FileInfo(path=&#39;s3://info323-ya45-spring2023/tzcorr/flights_tzcorr_all_flights-00007-of-00026.json&#39;, name=&#39;flights_tzcorr_all_flights-00007-of-00026.json&#39;, size=260615598),\n FileInfo(path=&#39;s3://info323-ya45-spring2023/tzcorr/flights_tzcorr_all_flights-00008-of-00026.json&#39;, name=&#39;flights_tzcorr_all_flights-00008-of-00026.json&#39;, size=26363387),\n FileInfo(path=&#39;s3://info323-ya45-spring2023/tzcorr/flights_tzcorr_all_flights-00009-of-00026.json&#39;, name=&#39;flights_tzcorr_all_flights-00009-of-00026.json&#39;, size=296051786),\n FileInfo(path=&#39;s3://info323-ya45-spring2023/tzcorr/flights_tzcorr_all_flights-00010-of-00026.json&#39;, name=&#39;flights_tzcorr_all_flights-00010-of-00026.json&#39;, size=19868932),\n FileInfo(path=&#39;s3://info323-ya45-spring2023/tzcorr/flights_tzcorr_all_flights-00011-of-00026.json&#39;, name=&#39;flights_tzcorr_all_flights-00011-of-00026.json&#39;, size=227308594),\n FileInfo(path=&#39;s3://info323-ya45-spring2023/tzcorr/flights_tzcorr_all_flights-00012-of-00026.json&#39;, name=&#39;flights_tzcorr_all_flights-00012-of-00026.json&#39;, size=12452046),\n FileInfo(path=&#39;s3://info323-ya45-spring2023/tzcorr/flights_tzcorr_all_flights-00013-of-00026.json&#39;, name=&#39;flights_tzcorr_all_flights-00013-of-00026.json&#39;, size=44214516),\n FileInfo(path=&#39;s3://info323-ya45-spring2023/tzcorr/flights_tzcorr_all_flights-00014-of-00026.json&#39;, name=&#39;flights_tzcorr_all_flights-00014-of-00026.json&#39;, size=19493083),\n FileInfo(path=&#39;s3://info323-ya45-spring2023/tzcorr/flights_tzcorr_all_flights-00015-of-00026.json&#39;, name=&#39;flights_tzcorr_all_flights-00015-of-00026.json&#39;, size=253026311),\n FileInfo(path=&#39;s3://info323-ya45-spring2023/tzcorr/flights_tzcorr_all_flights-00016-of-00026.json&#39;, name=&#39;flights_tzcorr_all_flights-00016-of-00026.json&#39;, size=229340092),\n FileInfo(path=&#39;s3://info323-ya45-spring2023/tzcorr/flights_tzcorr_all_flights-00017-of-00026.json&#39;, name=&#39;flights_tzcorr_all_flights-00017-of-00026.json&#39;, size=461509894),\n FileInfo(path=&#39;s3://info323-ya45-spring2023/tzcorr/flights_tzcorr_all_flights-00018-of-00026.json&#39;, name=&#39;flights_tzcorr_all_flights-00018-of-00026.json&#39;, size=7979298),\n FileInfo(path=&#39;s3://info323-ya45-spring2023/tzcorr/flights_tzcorr_all_flights-00019-of-00026.json&#39;, name=&#39;flights_tzcorr_all_flights-00019-of-00026.json&#39;, size=3341618),\n FileInfo(path=&#39;s3://info323-ya45-spring2023/tzcorr/flights_tzcorr_all_flights-00020-of-00026.json&#39;, name=&#39;flights_tzcorr_all_flights-00020-of-00026.json&#39;, size=1541142),\n FileInfo(path=&#39;s3://info323-ya45-spring2023/tzcorr/flights_tzcorr_all_flights-00021-of-00026.json&#39;, name=&#39;flights_tzcorr_all_flights-00021-of-00026.json&#39;, size=8896756),\n FileInfo(path=&#39;s3://info323-ya45-spring2023/tzcorr/flights_tzcorr_all_flights-00022-of-00026.json&#39;, name=&#39;flights_tzcorr_all_flights-00022-of-00026.json&#39;, size=508281771),\n FileInfo(path=&#39;s3://info323-ya45-spring2023/tzcorr/flights_tzcorr_all_flights-00023-of-00026.json&#39;, name=&#39;flights_tzcorr_all_flights-00023-of-00026.json&#39;, size=162268634),\n FileInfo(path=&#39;s3://info323-ya45-spring2023/tzcorr/flights_tzcorr_all_flights-00024-of-00026.json&#39;, name=&#39;flights_tzcorr_all_flights-00024-of-00026.json&#39;, size=613958506),\n FileInfo(path=&#39;s3://info323-ya45-spring2023/tzcorr/flights_tzcorr_all_flights-00025-of-00026.json&#39;, name=&#39;flights_tzcorr_all_flights-00025-of-00026.json&#39;, size=5146159)]</div>",
       "datasetInfos": [],
       "metadata": {},
       "removedWidgets": [],
       "type": "html"
      }
     },
     "output_type": "display_data"
    }
   ],
   "source": [
    "dbutils.fs.ls(\"s3://info323-ya45-spring2023/tzcorr/\")"
   ]
  },
  {
   "cell_type": "code",
   "execution_count": null,
   "metadata": {
    "application/vnd.databricks.v1+cell": {
     "cellMetadata": {
      "byteLimit": 2048000,
      "rowLimit": 10000
     },
     "inputWidgets": {},
     "nuid": "741df2a2-99e7-4a1c-a988-139ccfaeb4ea",
     "showTitle": false,
     "title": ""
    }
   },
   "outputs": [
    {
     "data": {
      "text/html": [
       "<style scoped>\n",
       "  .ansiout {\n",
       "    display: block;\n",
       "    unicode-bidi: embed;\n",
       "    white-space: pre-wrap;\n",
       "    word-wrap: break-word;\n",
       "    word-break: break-all;\n",
       "    font-family: \"Source Code Pro\", \"Menlo\", monospace;;\n",
       "    font-size: 13px;\n",
       "    color: #555;\n",
       "    margin-left: 4px;\n",
       "    line-height: 19px;\n",
       "  }\n",
       "</style>\n",
       "<div class=\"ansiout\">root\n",
       "-- ARR_AIRPORT_LAT: double (nullable = true)\n",
       "-- ARR_AIRPORT_LON: double (nullable = true)\n",
       "-- ARR_AIRPORT_TZOFFSET: double (nullable = true)\n",
       "-- ARR_DELAY: double (nullable = true)\n",
       "-- ARR_TIME: string (nullable = true)\n",
       "-- CANCELLED: boolean (nullable = true)\n",
       "-- CRS_ARR_TIME: string (nullable = true)\n",
       "-- CRS_DEP_TIME: string (nullable = true)\n",
       "-- DEP_AIRPORT_LAT: double (nullable = true)\n",
       "-- DEP_AIRPORT_LON: double (nullable = true)\n",
       "-- DEP_AIRPORT_TZOFFSET: double (nullable = true)\n",
       "-- DEP_DELAY: double (nullable = true)\n",
       "-- DEP_TIME: string (nullable = true)\n",
       "-- DEST: string (nullable = true)\n",
       "-- DEST_AIRPORT_SEQ_ID: string (nullable = true)\n",
       "-- DISTANCE: string (nullable = true)\n",
       "-- DIVERTED: boolean (nullable = true)\n",
       "-- FL_DATE: string (nullable = true)\n",
       "-- ORIGIN: string (nullable = true)\n",
       "-- ORIGIN_AIRPORT_SEQ_ID: string (nullable = true)\n",
       "-- TAXI_IN: double (nullable = true)\n",
       "-- TAXI_OUT: double (nullable = true)\n",
       "-- UNIQUE_CARRIER: string (nullable = true)\n",
       "-- WHEELS_OFF: string (nullable = true)\n",
       "-- WHEELS_ON: string (nullable = true)\n",
       "\n",
       "</div>"
      ]
     },
     "metadata": {
      "application/vnd.databricks.v1+output": {
       "addedWidgets": {},
       "arguments": {},
       "data": "<div class=\"ansiout\">root\n |-- ARR_AIRPORT_LAT: double (nullable = true)\n |-- ARR_AIRPORT_LON: double (nullable = true)\n |-- ARR_AIRPORT_TZOFFSET: double (nullable = true)\n |-- ARR_DELAY: double (nullable = true)\n |-- ARR_TIME: string (nullable = true)\n |-- CANCELLED: boolean (nullable = true)\n |-- CRS_ARR_TIME: string (nullable = true)\n |-- CRS_DEP_TIME: string (nullable = true)\n |-- DEP_AIRPORT_LAT: double (nullable = true)\n |-- DEP_AIRPORT_LON: double (nullable = true)\n |-- DEP_AIRPORT_TZOFFSET: double (nullable = true)\n |-- DEP_DELAY: double (nullable = true)\n |-- DEP_TIME: string (nullable = true)\n |-- DEST: string (nullable = true)\n |-- DEST_AIRPORT_SEQ_ID: string (nullable = true)\n |-- DISTANCE: string (nullable = true)\n |-- DIVERTED: boolean (nullable = true)\n |-- FL_DATE: string (nullable = true)\n |-- ORIGIN: string (nullable = true)\n |-- ORIGIN_AIRPORT_SEQ_ID: string (nullable = true)\n |-- TAXI_IN: double (nullable = true)\n |-- TAXI_OUT: double (nullable = true)\n |-- UNIQUE_CARRIER: string (nullable = true)\n |-- WHEELS_OFF: string (nullable = true)\n |-- WHEELS_ON: string (nullable = true)\n\n</div>",
       "datasetInfos": [],
       "metadata": {},
       "removedWidgets": [],
       "type": "html"
      }
     },
     "output_type": "display_data"
    }
   ],
   "source": [
    "json_file_path = \"s3://info323-ya45-spring2023/tzcorr/flights_tzcorr_all_flights-00015-of-00026.json\"\n",
    "flights = spark.read.json(json_file_path)\n",
    "flights.createOrReplaceTempView(\"flights_view\")\n",
    "flights.printSchema()"
   ]
  },
  {
   "cell_type": "code",
   "execution_count": null,
   "metadata": {
    "application/vnd.databricks.v1+cell": {
     "cellMetadata": {
      "byteLimit": 2048000,
      "rowLimit": 10000
     },
     "inputWidgets": {},
     "nuid": "8f7b435c-84e9-480f-8054-b2ab42ca70e6",
     "showTitle": false,
     "title": ""
    }
   },
   "outputs": [
    {
     "data": {
      "text/html": [
       "<style scoped>\n",
       "  .ansiout {\n",
       "    display: block;\n",
       "    unicode-bidi: embed;\n",
       "    white-space: pre-wrap;\n",
       "    word-wrap: break-word;\n",
       "    word-break: break-all;\n",
       "    font-family: \"Source Code Pro\", \"Menlo\", monospace;;\n",
       "    font-size: 13px;\n",
       "    color: #555;\n",
       "    margin-left: 4px;\n",
       "    line-height: 19px;\n",
       "  }\n",
       "</style>\n",
       "<div class=\"ansiout\">Out[4]: 360926</div>"
      ]
     },
     "metadata": {
      "application/vnd.databricks.v1+output": {
       "addedWidgets": {},
       "arguments": {},
       "data": "<div class=\"ansiout\">Out[4]: 360926</div>",
       "datasetInfos": [],
       "metadata": {},
       "removedWidgets": [],
       "type": "html"
      }
     },
     "output_type": "display_data"
    }
   ],
   "source": [
    "num_records = flights.count()\n",
    "num_records"
   ]
  },
  {
   "attachments": {},
   "cell_type": "markdown",
   "metadata": {
    "application/vnd.databricks.v1+cell": {
     "cellMetadata": {
      "byteLimit": 2048000,
      "rowLimit": 10000
     },
     "inputWidgets": {},
     "nuid": "c59045ea-8ea5-4cd8-a0c3-7b7d03377bc6",
     "showTitle": false,
     "title": ""
    }
   },
   "source": [
    "## Question 2: Choose at least 4 columns as features including `DEP_DELAY`, `TAXI_OUT`, and `DISTANCE`; define the feature columns as `featureColumns`."
   ]
  },
  {
   "cell_type": "code",
   "execution_count": null,
   "metadata": {
    "application/vnd.databricks.v1+cell": {
     "cellMetadata": {
      "byteLimit": 2048000,
      "rowLimit": 10000
     },
     "inputWidgets": {},
     "nuid": "fa285fe9-dddc-4248-8d24-4a828975e9bc",
     "showTitle": false,
     "title": ""
    }
   },
   "outputs": [
    {
     "data": {
      "text/html": [
       "<style scoped>\n",
       "  .ansiout {\n",
       "    display: block;\n",
       "    unicode-bidi: embed;\n",
       "    white-space: pre-wrap;\n",
       "    word-wrap: break-word;\n",
       "    word-break: break-all;\n",
       "    font-family: \"Source Code Pro\", \"Menlo\", monospace;;\n",
       "    font-size: 13px;\n",
       "    color: #555;\n",
       "    margin-left: 4px;\n",
       "    line-height: 19px;\n",
       "  }\n",
       "</style>\n",
       "<div class=\"ansiout\"></div>"
      ]
     },
     "metadata": {
      "application/vnd.databricks.v1+output": {
       "addedWidgets": {},
       "arguments": {},
       "data": "<div class=\"ansiout\"></div>",
       "datasetInfos": [],
       "metadata": {},
       "removedWidgets": [],
       "type": "html"
      }
     },
     "output_type": "display_data"
    }
   ],
   "source": [
    "featureColumns = ['DEP_DELAY', 'TAXI_IN', 'TAXI_OUT', 'DISTANCE']"
   ]
  },
  {
   "attachments": {},
   "cell_type": "markdown",
   "metadata": {
    "application/vnd.databricks.v1+cell": {
     "cellMetadata": {
      "byteLimit": 2048000,
      "rowLimit": 10000
     },
     "inputWidgets": {},
     "nuid": "a42a2841-ba64-45b5-b86c-400765fe1105",
     "showTitle": false,
     "title": ""
    }
   },
   "source": [
    "## Question 3: Check missing values. Run `flights.describe().toPandas()`. Remove the rows with missing values in the feature columns and 'ARR_DELAY'."
   ]
  },
  {
   "cell_type": "code",
   "execution_count": null,
   "metadata": {
    "application/vnd.databricks.v1+cell": {
     "cellMetadata": {
      "byteLimit": 2048000,
      "rowLimit": 10000
     },
     "inputWidgets": {},
     "nuid": "a2fe6130-f1a8-4bd0-a059-3d286a464790",
     "showTitle": false,
     "title": ""
    }
   },
   "outputs": [
    {
     "data": {
      "text/html": [
       "<style scoped>\n",
       "  .ansiout {\n",
       "    display: block;\n",
       "    unicode-bidi: embed;\n",
       "    white-space: pre-wrap;\n",
       "    word-wrap: break-word;\n",
       "    word-break: break-all;\n",
       "    font-family: \"Source Code Pro\", \"Menlo\", monospace;;\n",
       "    font-size: 13px;\n",
       "    color: #555;\n",
       "    margin-left: 4px;\n",
       "    line-height: 19px;\n",
       "  }\n",
       "</style>\n",
       "<div class=\"ansiout\">+---------------+---------------+--------------------+---------+-------------------+---------+-------------------+-------------------+---------------+---------------+--------------------+---------+-------------------+----+-------------------+--------+--------+----------+------+---------------------+-------+--------+--------------+-------------------+-------------------+\n",
       "ARR_AIRPORT_LAT|ARR_AIRPORT_LON|ARR_AIRPORT_TZOFFSET|ARR_DELAY|           ARR_TIME|CANCELLED|       CRS_ARR_TIME|       CRS_DEP_TIME|DEP_AIRPORT_LAT|DEP_AIRPORT_LON|DEP_AIRPORT_TZOFFSET|DEP_DELAY|           DEP_TIME|DEST|DEST_AIRPORT_SEQ_ID|DISTANCE|DIVERTED|   FL_DATE|ORIGIN|ORIGIN_AIRPORT_SEQ_ID|TAXI_IN|TAXI_OUT|UNIQUE_CARRIER|         WHEELS_OFF|          WHEELS_ON|\n",
       "+---------------+---------------+--------------------+---------+-------------------+---------+-------------------+-------------------+---------------+---------------+--------------------+---------+-------------------+----+-------------------+--------+--------+----------+------+---------------------+-------+--------+--------------+-------------------+-------------------+\n",
       "    18.43944444|   -66.00222222|            -14400.0|    -15.0|2015-12-02T15:37:00|    false|2015-12-02T15:52:00|2015-12-02T11:59:00|          40.64|   -73.77861111|            -18000.0|     -2.0|2015-12-02T11:57:00| SJU|            1484304| 1598.00|   false|2015-12-02|   JFK|              1247803|    3.0|    25.0|            B6|2015-12-02T12:22:00|2015-12-02T15:34:00|\n",
       "    18.43944444|   -66.00222222|            -14400.0|     13.0|2015-12-07T00:41:00|    false|2015-12-07T00:28:00|2015-12-06T20:30:00|          40.64|   -73.77861111|            -18000.0|     11.0|2015-12-06T20:41:00| SJU|            1484304| 1598.00|   false|2015-12-06|   JFK|              1247803|    6.0|    39.0|            B6|2015-12-06T21:20:00|2015-12-07T00:35:00|\n",
       "    18.43944444|   -66.00222222|            -14400.0|     63.0|2015-12-14T09:45:00|    false|2015-12-14T08:42:00|2015-12-15T04:59:00|          40.64|   -73.77861111|            -18000.0|     64.0|2015-12-14T06:03:00| SJU|            1484304| 1598.00|   false|2015-12-14|   JFK|              1247803|    4.0|    23.0|            B6|2015-12-14T06:26:00|2015-12-14T09:41:00|\n",
       "    18.43944444|   -66.00222222|            -14400.0|      9.0|2015-12-13T20:39:00|    false|2015-12-13T20:30:00|2015-12-13T16:46:00|          40.64|   -73.77861111|            -18000.0|     17.0|2015-12-13T17:03:00| SJU|            1484304| 1598.00|   false|2015-12-13|   JFK|              1247803|    4.0|    22.0|            B6|2015-12-13T17:25:00|2015-12-13T20:35:00|\n",
       "    18.43944444|   -66.00222222|            -14400.0|     -9.0|2015-12-13T03:33:00|    false|2015-12-13T03:42:00|2015-12-12T23:47:00|          40.64|   -73.77861111|            -18000.0|     -2.0|2015-12-12T23:45:00| SJU|            1484304| 1598.00|   false|2015-12-12|   JFK|              1247803|    5.0|    25.0|            B6|2015-12-13T00:10:00|2015-12-13T03:28:00|\n",
       "    18.43944444|   -66.00222222|            -14400.0|     -2.0|2015-12-28T23:37:00|    false|2015-12-28T23:39:00|2015-12-28T19:49:00|          40.64|   -73.77861111|            -18000.0|      9.0|2015-12-28T19:58:00| SJU|            1484304| 1598.00|   false|2015-12-28|   JFK|              1247803|    6.0|    24.0|            B6|2015-12-28T20:22:00|2015-12-28T23:31:00|\n",
       "    18.43944444|   -66.00222222|            -14400.0|     -1.0|2015-12-26T23:38:00|    false|2015-12-26T23:39:00|2015-12-26T19:49:00|          40.64|   -73.77861111|            -18000.0|      6.0|2015-12-26T19:55:00| SJU|            1484304| 1598.00|   false|2015-12-26|   JFK|              1247803|    5.0|    23.0|            B6|2015-12-26T20:18:00|2015-12-26T23:33:00|\n",
       "    18.43944444|   -66.00222222|            -14400.0|     26.0|2015-12-30T09:06:00|    false|2015-12-30T08:40:00|2015-12-31T04:59:00|          40.64|   -73.77861111|            -18000.0|     21.0|2015-12-30T05:20:00| SJU|            1484304| 1598.00|   false|2015-12-30|   JFK|              1247803|    6.0|    22.0|            B6|2015-12-30T05:42:00|2015-12-30T09:00:00|\n",
       "    18.43944444|   -66.00222222|            -14400.0|     19.0|2015-12-27T22:03:00|    false|2015-12-27T21:44:00|2015-12-27T18:00:00|          40.64|   -73.77861111|            -18000.0|     19.0|2015-12-27T18:19:00| SJU|            1484304| 1598.00|   false|2015-12-27|   JFK|              1247803|    7.0|    19.0|            B6|2015-12-27T18:38:00|2015-12-27T21:56:00|\n",
       "    18.43944444|   -66.00222222|            -14400.0|     -4.0|2015-12-29T23:35:00|    false|2015-12-29T23:39:00|2015-12-29T19:49:00|          40.64|   -73.77861111|            -18000.0|      1.0|2015-12-29T19:50:00| SJU|            1484304| 1598.00|   false|2015-12-29|   JFK|              1247803|    4.0|    26.0|            B6|2015-12-29T20:16:00|2015-12-29T23:31:00|\n",
       "    27.39555556|   -82.55444444|            -18000.0|     48.0|2015-12-29T19:53:00|    false|2015-12-29T19:05:00|2015-12-29T15:59:00|          40.64|   -73.77861111|            -18000.0|     59.0|2015-12-29T16:58:00| SRQ|            1498603| 1041.00|   false|2015-12-29|   JFK|              1247803|    2.0|    14.0|            B6|2015-12-29T17:12:00|2015-12-29T19:51:00|\n",
       "    18.33722222|   -64.97333333|            -14400.0|    -14.0|2015-12-22T16:43:00|    false|2015-12-22T16:57:00|2015-12-22T13:00:00|          40.64|   -73.77861111|            -18000.0|      0.0|2015-12-22T13:00:00| STT|            1502403| 1623.00|   false|2015-12-22|   JFK|              1247803|    5.0|    18.0|            AA|2015-12-22T13:18:00|2015-12-22T16:38:00|\n",
       "    43.11111111|   -76.10638889|            -18000.0|      6.0|2015-12-18T02:50:00|    false|2015-12-18T02:44:00|2015-12-18T01:30:00|          40.64|   -73.77861111|            -18000.0|     -8.0|2015-12-18T01:22:00| SYR|            1509602|  209.00|   false|2015-12-17|   JFK|              1247803|    4.0|    37.0|            B6|2015-12-18T01:59:00|2015-12-18T02:46:00|\n",
       "    41.66944444|   -70.28027778|            -14400.0|    -11.0|2015-08-06T16:17:00|    false|2015-08-06T16:28:00|2015-08-06T15:22:00|          40.64|   -73.77861111|            -14400.0|     -6.0|2015-08-06T15:16:00| HYA|            1225002|  196.00|   false|2015-08-06|   JFK|              1247803|    3.0|    19.0|            B6|2015-08-06T15:35:00|2015-08-06T16:14:00|\n",
       "    30.49416667|   -81.68777778|            -14400.0|     94.0|2015-08-20T23:04:00|    false|2015-08-20T21:30:00|2015-08-20T18:50:00|          40.64|   -73.77861111|            -14400.0|     54.0|2015-08-20T19:44:00| JAX|            1245102|  828.00|   false|2015-08-20|   JFK|              1247803|    7.0|    76.0|            B6|2015-08-20T21:00:00|2015-08-20T22:57:00|\n",
       "    30.49416667|   -81.68777778|            -14400.0|     -1.0|2015-08-28T14:08:00|    false|2015-08-28T14:09:00|2015-08-28T11:42:00|          40.64|   -73.77861111|            -14400.0|      0.0|2015-08-28T11:42:00| JAX|            1245102|  828.00|   false|2015-08-28|   JFK|              1247803|    4.0|    22.0|            B6|2015-08-28T12:04:00|2015-08-28T14:04:00|\n",
       "    33.81777778|  -118.15166667|            -25200.0|     35.0|2015-08-05T00:31:00|    false|2015-08-04T23:56:00|2015-08-04T17:59:00|          40.64|   -73.77861111|            -14400.0|     14.0|2015-08-04T18:13:00| LGB|            1295402| 2465.00|   false|2015-08-04|   JFK|              1247803|    3.0|    23.0|            B6|2015-08-04T18:36:00|2015-08-05T00:28:00|\n",
       "    33.81777778|  -118.15166667|            -25200.0|    -15.0|2015-08-25T23:41:00|    false|2015-08-25T23:56:00|2015-08-25T17:59:00|          40.64|   -73.77861111|            -14400.0|      7.0|2015-08-25T18:06:00| LGB|            1295402| 2465.00|   false|2015-08-25|   JFK|              1247803|    3.0|    23.0|            B6|2015-08-25T18:29:00|2015-08-25T23:38:00|\n",
       "    33.81777778|  -118.15166667|            -25200.0|    -27.0|2015-08-27T23:29:00|    false|2015-08-27T23:56:00|2015-08-27T17:59:00|          40.64|   -73.77861111|            -14400.0|     -2.0|2015-08-27T17:57:00| LGB|            1295402| 2465.00|   false|2015-08-27|   JFK|              1247803|    3.0|    15.0|            B6|2015-08-27T18:12:00|2015-08-27T23:26:00|\n",
       "    26.68305556|   -80.09555556|            -14400.0|    -11.0|2015-08-21T20:48:00|    false|2015-08-21T20:59:00|2015-08-21T17:59:00|          40.64|   -73.77861111|            -14400.0|     10.0|2015-08-21T18:09:00| PBI|            1402702| 1028.00|   false|2015-08-21|   JFK|              1247803|    4.0|    20.0|            B6|2015-08-21T18:29:00|2015-08-21T20:44:00|\n",
       "+---------------+---------------+--------------------+---------+-------------------+---------+-------------------+-------------------+---------------+---------------+--------------------+---------+-------------------+----+-------------------+--------+--------+----------+------+---------------------+-------+--------+--------------+-------------------+-------------------+\n",
       "only showing top 20 rows\n",
       "\n",
       "</div>"
      ]
     },
     "metadata": {
      "application/vnd.databricks.v1+output": {
       "addedWidgets": {},
       "arguments": {},
       "data": "<div class=\"ansiout\">+---------------+---------------+--------------------+---------+-------------------+---------+-------------------+-------------------+---------------+---------------+--------------------+---------+-------------------+----+-------------------+--------+--------+----------+------+---------------------+-------+--------+--------------+-------------------+-------------------+\n|ARR_AIRPORT_LAT|ARR_AIRPORT_LON|ARR_AIRPORT_TZOFFSET|ARR_DELAY|           ARR_TIME|CANCELLED|       CRS_ARR_TIME|       CRS_DEP_TIME|DEP_AIRPORT_LAT|DEP_AIRPORT_LON|DEP_AIRPORT_TZOFFSET|DEP_DELAY|           DEP_TIME|DEST|DEST_AIRPORT_SEQ_ID|DISTANCE|DIVERTED|   FL_DATE|ORIGIN|ORIGIN_AIRPORT_SEQ_ID|TAXI_IN|TAXI_OUT|UNIQUE_CARRIER|         WHEELS_OFF|          WHEELS_ON|\n+---------------+---------------+--------------------+---------+-------------------+---------+-------------------+-------------------+---------------+---------------+--------------------+---------+-------------------+----+-------------------+--------+--------+----------+------+---------------------+-------+--------+--------------+-------------------+-------------------+\n|    18.43944444|   -66.00222222|            -14400.0|    -15.0|2015-12-02T15:37:00|    false|2015-12-02T15:52:00|2015-12-02T11:59:00|          40.64|   -73.77861111|            -18000.0|     -2.0|2015-12-02T11:57:00| SJU|            1484304| 1598.00|   false|2015-12-02|   JFK|              1247803|    3.0|    25.0|            B6|2015-12-02T12:22:00|2015-12-02T15:34:00|\n|    18.43944444|   -66.00222222|            -14400.0|     13.0|2015-12-07T00:41:00|    false|2015-12-07T00:28:00|2015-12-06T20:30:00|          40.64|   -73.77861111|            -18000.0|     11.0|2015-12-06T20:41:00| SJU|            1484304| 1598.00|   false|2015-12-06|   JFK|              1247803|    6.0|    39.0|            B6|2015-12-06T21:20:00|2015-12-07T00:35:00|\n|    18.43944444|   -66.00222222|            -14400.0|     63.0|2015-12-14T09:45:00|    false|2015-12-14T08:42:00|2015-12-15T04:59:00|          40.64|   -73.77861111|            -18000.0|     64.0|2015-12-14T06:03:00| SJU|            1484304| 1598.00|   false|2015-12-14|   JFK|              1247803|    4.0|    23.0|            B6|2015-12-14T06:26:00|2015-12-14T09:41:00|\n|    18.43944444|   -66.00222222|            -14400.0|      9.0|2015-12-13T20:39:00|    false|2015-12-13T20:30:00|2015-12-13T16:46:00|          40.64|   -73.77861111|            -18000.0|     17.0|2015-12-13T17:03:00| SJU|            1484304| 1598.00|   false|2015-12-13|   JFK|              1247803|    4.0|    22.0|            B6|2015-12-13T17:25:00|2015-12-13T20:35:00|\n|    18.43944444|   -66.00222222|            -14400.0|     -9.0|2015-12-13T03:33:00|    false|2015-12-13T03:42:00|2015-12-12T23:47:00|          40.64|   -73.77861111|            -18000.0|     -2.0|2015-12-12T23:45:00| SJU|            1484304| 1598.00|   false|2015-12-12|   JFK|              1247803|    5.0|    25.0|            B6|2015-12-13T00:10:00|2015-12-13T03:28:00|\n|    18.43944444|   -66.00222222|            -14400.0|     -2.0|2015-12-28T23:37:00|    false|2015-12-28T23:39:00|2015-12-28T19:49:00|          40.64|   -73.77861111|            -18000.0|      9.0|2015-12-28T19:58:00| SJU|            1484304| 1598.00|   false|2015-12-28|   JFK|              1247803|    6.0|    24.0|            B6|2015-12-28T20:22:00|2015-12-28T23:31:00|\n|    18.43944444|   -66.00222222|            -14400.0|     -1.0|2015-12-26T23:38:00|    false|2015-12-26T23:39:00|2015-12-26T19:49:00|          40.64|   -73.77861111|            -18000.0|      6.0|2015-12-26T19:55:00| SJU|            1484304| 1598.00|   false|2015-12-26|   JFK|              1247803|    5.0|    23.0|            B6|2015-12-26T20:18:00|2015-12-26T23:33:00|\n|    18.43944444|   -66.00222222|            -14400.0|     26.0|2015-12-30T09:06:00|    false|2015-12-30T08:40:00|2015-12-31T04:59:00|          40.64|   -73.77861111|            -18000.0|     21.0|2015-12-30T05:20:00| SJU|            1484304| 1598.00|   false|2015-12-30|   JFK|              1247803|    6.0|    22.0|            B6|2015-12-30T05:42:00|2015-12-30T09:00:00|\n|    18.43944444|   -66.00222222|            -14400.0|     19.0|2015-12-27T22:03:00|    false|2015-12-27T21:44:00|2015-12-27T18:00:00|          40.64|   -73.77861111|            -18000.0|     19.0|2015-12-27T18:19:00| SJU|            1484304| 1598.00|   false|2015-12-27|   JFK|              1247803|    7.0|    19.0|            B6|2015-12-27T18:38:00|2015-12-27T21:56:00|\n|    18.43944444|   -66.00222222|            -14400.0|     -4.0|2015-12-29T23:35:00|    false|2015-12-29T23:39:00|2015-12-29T19:49:00|          40.64|   -73.77861111|            -18000.0|      1.0|2015-12-29T19:50:00| SJU|            1484304| 1598.00|   false|2015-12-29|   JFK|              1247803|    4.0|    26.0|            B6|2015-12-29T20:16:00|2015-12-29T23:31:00|\n|    27.39555556|   -82.55444444|            -18000.0|     48.0|2015-12-29T19:53:00|    false|2015-12-29T19:05:00|2015-12-29T15:59:00|          40.64|   -73.77861111|            -18000.0|     59.0|2015-12-29T16:58:00| SRQ|            1498603| 1041.00|   false|2015-12-29|   JFK|              1247803|    2.0|    14.0|            B6|2015-12-29T17:12:00|2015-12-29T19:51:00|\n|    18.33722222|   -64.97333333|            -14400.0|    -14.0|2015-12-22T16:43:00|    false|2015-12-22T16:57:00|2015-12-22T13:00:00|          40.64|   -73.77861111|            -18000.0|      0.0|2015-12-22T13:00:00| STT|            1502403| 1623.00|   false|2015-12-22|   JFK|              1247803|    5.0|    18.0|            AA|2015-12-22T13:18:00|2015-12-22T16:38:00|\n|    43.11111111|   -76.10638889|            -18000.0|      6.0|2015-12-18T02:50:00|    false|2015-12-18T02:44:00|2015-12-18T01:30:00|          40.64|   -73.77861111|            -18000.0|     -8.0|2015-12-18T01:22:00| SYR|            1509602|  209.00|   false|2015-12-17|   JFK|              1247803|    4.0|    37.0|            B6|2015-12-18T01:59:00|2015-12-18T02:46:00|\n|    41.66944444|   -70.28027778|            -14400.0|    -11.0|2015-08-06T16:17:00|    false|2015-08-06T16:28:00|2015-08-06T15:22:00|          40.64|   -73.77861111|            -14400.0|     -6.0|2015-08-06T15:16:00| HYA|            1225002|  196.00|   false|2015-08-06|   JFK|              1247803|    3.0|    19.0|            B6|2015-08-06T15:35:00|2015-08-06T16:14:00|\n|    30.49416667|   -81.68777778|            -14400.0|     94.0|2015-08-20T23:04:00|    false|2015-08-20T21:30:00|2015-08-20T18:50:00|          40.64|   -73.77861111|            -14400.0|     54.0|2015-08-20T19:44:00| JAX|            1245102|  828.00|   false|2015-08-20|   JFK|              1247803|    7.0|    76.0|            B6|2015-08-20T21:00:00|2015-08-20T22:57:00|\n|    30.49416667|   -81.68777778|            -14400.0|     -1.0|2015-08-28T14:08:00|    false|2015-08-28T14:09:00|2015-08-28T11:42:00|          40.64|   -73.77861111|            -14400.0|      0.0|2015-08-28T11:42:00| JAX|            1245102|  828.00|   false|2015-08-28|   JFK|              1247803|    4.0|    22.0|            B6|2015-08-28T12:04:00|2015-08-28T14:04:00|\n|    33.81777778|  -118.15166667|            -25200.0|     35.0|2015-08-05T00:31:00|    false|2015-08-04T23:56:00|2015-08-04T17:59:00|          40.64|   -73.77861111|            -14400.0|     14.0|2015-08-04T18:13:00| LGB|            1295402| 2465.00|   false|2015-08-04|   JFK|              1247803|    3.0|    23.0|            B6|2015-08-04T18:36:00|2015-08-05T00:28:00|\n|    33.81777778|  -118.15166667|            -25200.0|    -15.0|2015-08-25T23:41:00|    false|2015-08-25T23:56:00|2015-08-25T17:59:00|          40.64|   -73.77861111|            -14400.0|      7.0|2015-08-25T18:06:00| LGB|            1295402| 2465.00|   false|2015-08-25|   JFK|              1247803|    3.0|    23.0|            B6|2015-08-25T18:29:00|2015-08-25T23:38:00|\n|    33.81777778|  -118.15166667|            -25200.0|    -27.0|2015-08-27T23:29:00|    false|2015-08-27T23:56:00|2015-08-27T17:59:00|          40.64|   -73.77861111|            -14400.0|     -2.0|2015-08-27T17:57:00| LGB|            1295402| 2465.00|   false|2015-08-27|   JFK|              1247803|    3.0|    15.0|            B6|2015-08-27T18:12:00|2015-08-27T23:26:00|\n|    26.68305556|   -80.09555556|            -14400.0|    -11.0|2015-08-21T20:48:00|    false|2015-08-21T20:59:00|2015-08-21T17:59:00|          40.64|   -73.77861111|            -14400.0|     10.0|2015-08-21T18:09:00| PBI|            1402702| 1028.00|   false|2015-08-21|   JFK|              1247803|    4.0|    20.0|            B6|2015-08-21T18:29:00|2015-08-21T20:44:00|\n+---------------+---------------+--------------------+---------+-------------------+---------+-------------------+-------------------+---------------+---------------+--------------------+---------+-------------------+----+-------------------+--------+--------+----------+------+---------------------+-------+--------+--------------+-------------------+-------------------+\nonly showing top 20 rows\n\n</div>",
       "datasetInfos": [],
       "metadata": {},
       "removedWidgets": [],
       "type": "html"
      }
     },
     "output_type": "display_data"
    }
   ],
   "source": [
    "# Check missing values\n",
    "missing_values = flights.describe().toPandas()\n",
    "\n",
    "# Remove rows with missing values in the feature columns and 'ARR_DELAY'\n",
    "flights_cleaned = flights.na.drop(subset=featureColumns + ['ARR_DELAY'])\n",
    "\n",
    "flights_cleaned.show()"
   ]
  },
  {
   "attachments": {},
   "cell_type": "markdown",
   "metadata": {
    "application/vnd.databricks.v1+cell": {
     "cellMetadata": {
      "byteLimit": 2048000,
      "rowLimit": 10000
     },
     "inputWidgets": {},
     "nuid": "a1b09cc2-80b4-44ed-94ac-2412ca86f404",
     "showTitle": false,
     "title": ""
    }
   },
   "source": [
    "## Question 4: If any one of the selected feature columns is not in numeric data type, convert it to appropriate numeric data type."
   ]
  },
  {
   "cell_type": "code",
   "execution_count": null,
   "metadata": {
    "application/vnd.databricks.v1+cell": {
     "cellMetadata": {
      "byteLimit": 2048000,
      "rowLimit": 10000
     },
     "inputWidgets": {},
     "nuid": "4b128293-d564-48df-9369-c219d5d725c9",
     "showTitle": false,
     "title": ""
    }
   },
   "outputs": [
    {
     "data": {
      "text/html": [
       "<style scoped>\n",
       "  .ansiout {\n",
       "    display: block;\n",
       "    unicode-bidi: embed;\n",
       "    white-space: pre-wrap;\n",
       "    word-wrap: break-word;\n",
       "    word-break: break-all;\n",
       "    font-family: \"Source Code Pro\", \"Menlo\", monospace;;\n",
       "    font-size: 13px;\n",
       "    color: #555;\n",
       "    margin-left: 4px;\n",
       "    line-height: 19px;\n",
       "  }\n",
       "</style>\n",
       "<div class=\"ansiout\"></div>"
      ]
     },
     "metadata": {
      "application/vnd.databricks.v1+output": {
       "addedWidgets": {},
       "arguments": {},
       "data": "<div class=\"ansiout\"></div>",
       "datasetInfos": [],
       "metadata": {},
       "removedWidgets": [],
       "type": "html"
      }
     },
     "output_type": "display_data"
    }
   ],
   "source": [
    "# Check the data types of the selected feature columns\n",
    "feature_data_types = flights_cleaned.select(featureColumns).dtypes\n",
    "\n",
    "# Convert non-numeric columns to appropriate numeric data type\n",
    "for column, data_type in feature_data_types:\n",
    "    if data_type != 'double':\n",
    "        flights_cleaned = flights_cleaned.withColumn(column, flights_cleaned[column].cast('double'))"
   ]
  },
  {
   "attachments": {},
   "cell_type": "markdown",
   "metadata": {
    "application/vnd.databricks.v1+cell": {
     "cellMetadata": {
      "byteLimit": 2048000,
      "rowLimit": 10000
     },
     "inputWidgets": {},
     "nuid": "de30514d-9eaf-488a-9393-f170c99c075b",
     "showTitle": false,
     "title": ""
    }
   },
   "source": [
    "## Question 5: Create the label column. Use \"Binarizer\" function to create a target categorical variable from the \"ARR_DELAY\" column. Name this target variable as \"label\". Specifically, if arrival delay is less than 15 minutes, then we want the categorical value to be 0, otherwise the categorical value should be 1. Use \"14.99999\" for the threshold argument. Use \"ARR_DELAY\" for the inputCol argument. Use \"label\" for the outputCol argument."
   ]
  },
  {
   "cell_type": "code",
   "execution_count": null,
   "metadata": {
    "application/vnd.databricks.v1+cell": {
     "cellMetadata": {
      "byteLimit": 2048000,
      "rowLimit": 10000
     },
     "inputWidgets": {},
     "nuid": "93a8b41d-feed-4a82-a3a8-ebe9eac591dd",
     "showTitle": false,
     "title": ""
    }
   },
   "outputs": [
    {
     "data": {
      "text/html": [
       "<style scoped>\n",
       "  .ansiout {\n",
       "    display: block;\n",
       "    unicode-bidi: embed;\n",
       "    white-space: pre-wrap;\n",
       "    word-wrap: break-word;\n",
       "    word-break: break-all;\n",
       "    font-family: \"Source Code Pro\", \"Menlo\", monospace;;\n",
       "    font-size: 13px;\n",
       "    color: #555;\n",
       "    margin-left: 4px;\n",
       "    line-height: 19px;\n",
       "  }\n",
       "</style>\n",
       "<div class=\"ansiout\"></div>"
      ]
     },
     "metadata": {
      "application/vnd.databricks.v1+output": {
       "addedWidgets": {},
       "arguments": {},
       "data": "<div class=\"ansiout\"></div>",
       "datasetInfos": [],
       "metadata": {},
       "removedWidgets": [],
       "type": "html"
      }
     },
     "output_type": "display_data"
    }
   ],
   "source": [
    "# Define the threshold value\n",
    "threshold = 14.99999\n",
    "\n",
    "# Create the Binarizer transformer\n",
    "binarizer = Binarizer(threshold=threshold, inputCol=\"ARR_DELAY\", outputCol=\"label\")"
   ]
  },
  {
   "attachments": {},
   "cell_type": "markdown",
   "metadata": {
    "application/vnd.databricks.v1+cell": {
     "cellMetadata": {
      "byteLimit": 2048000,
      "rowLimit": 10000
     },
     "inputWidgets": {},
     "nuid": "7c77c564-0836-48c9-b0d5-c58995062f68",
     "showTitle": false,
     "title": ""
    }
   },
   "source": [
    "## Question 6: Apply the above \"binarizer\" tranformation to the input DataFrame to create a new DataFrame named \"binarizedDF\"."
   ]
  },
  {
   "cell_type": "code",
   "execution_count": null,
   "metadata": {
    "application/vnd.databricks.v1+cell": {
     "cellMetadata": {
      "byteLimit": 2048000,
      "rowLimit": 10000
     },
     "inputWidgets": {},
     "nuid": "3722ab4c-1855-468d-8ff5-ff78484e8f0f",
     "showTitle": false,
     "title": ""
    }
   },
   "outputs": [
    {
     "data": {
      "text/html": [
       "<style scoped>\n",
       "  .ansiout {\n",
       "    display: block;\n",
       "    unicode-bidi: embed;\n",
       "    white-space: pre-wrap;\n",
       "    word-wrap: break-word;\n",
       "    word-break: break-all;\n",
       "    font-family: \"Source Code Pro\", \"Menlo\", monospace;;\n",
       "    font-size: 13px;\n",
       "    color: #555;\n",
       "    margin-left: 4px;\n",
       "    line-height: 19px;\n",
       "  }\n",
       "</style>\n",
       "<div class=\"ansiout\"></div>"
      ]
     },
     "metadata": {
      "application/vnd.databricks.v1+output": {
       "addedWidgets": {},
       "arguments": {},
       "data": "<div class=\"ansiout\"></div>",
       "datasetInfos": [],
       "metadata": {},
       "removedWidgets": [],
       "type": "html"
      }
     },
     "output_type": "display_data"
    }
   ],
   "source": [
    "# Apply the binarizer transformation to create a new DataFrame\n",
    "binarizedDF = binarizer.transform(flights_cleaned)"
   ]
  },
  {
   "attachments": {},
   "cell_type": "markdown",
   "metadata": {
    "application/vnd.databricks.v1+cell": {
     "cellMetadata": {
      "byteLimit": 2048000,
      "rowLimit": 10000
     },
     "inputWidgets": {},
     "nuid": "dd0c4487-a584-46a2-be1b-a818c46aa881",
     "showTitle": false,
     "title": ""
    }
   },
   "source": [
    "## Question 7: Look at the values of the first four rows in the new DataFrame `binarizedDF`."
   ]
  },
  {
   "cell_type": "code",
   "execution_count": null,
   "metadata": {
    "application/vnd.databricks.v1+cell": {
     "cellMetadata": {
      "byteLimit": 2048000,
      "rowLimit": 10000
     },
     "inputWidgets": {},
     "nuid": "4b900c11-a741-49b3-b3c2-a9beb0c73a78",
     "showTitle": false,
     "title": ""
    }
   },
   "outputs": [
    {
     "data": {
      "text/html": [
       "<style scoped>\n",
       "  .ansiout {\n",
       "    display: block;\n",
       "    unicode-bidi: embed;\n",
       "    white-space: pre-wrap;\n",
       "    word-wrap: break-word;\n",
       "    word-break: break-all;\n",
       "    font-family: \"Source Code Pro\", \"Menlo\", monospace;;\n",
       "    font-size: 13px;\n",
       "    color: #555;\n",
       "    margin-left: 4px;\n",
       "    line-height: 19px;\n",
       "  }\n",
       "</style>\n",
       "<div class=\"ansiout\">+---------------+---------------+--------------------+---------+-------------------+---------+-------------------+-------------------+---------------+---------------+--------------------+---------+-------------------+----+-------------------+--------+--------+----------+------+---------------------+-------+--------+--------------+-------------------+-------------------+-----+\n",
       "ARR_AIRPORT_LAT|ARR_AIRPORT_LON|ARR_AIRPORT_TZOFFSET|ARR_DELAY|           ARR_TIME|CANCELLED|       CRS_ARR_TIME|       CRS_DEP_TIME|DEP_AIRPORT_LAT|DEP_AIRPORT_LON|DEP_AIRPORT_TZOFFSET|DEP_DELAY|           DEP_TIME|DEST|DEST_AIRPORT_SEQ_ID|DISTANCE|DIVERTED|   FL_DATE|ORIGIN|ORIGIN_AIRPORT_SEQ_ID|TAXI_IN|TAXI_OUT|UNIQUE_CARRIER|         WHEELS_OFF|          WHEELS_ON|label|\n",
       "+---------------+---------------+--------------------+---------+-------------------+---------+-------------------+-------------------+---------------+---------------+--------------------+---------+-------------------+----+-------------------+--------+--------+----------+------+---------------------+-------+--------+--------------+-------------------+-------------------+-----+\n",
       "    18.43944444|   -66.00222222|            -14400.0|    -15.0|2015-12-02T15:37:00|    false|2015-12-02T15:52:00|2015-12-02T11:59:00|          40.64|   -73.77861111|            -18000.0|     -2.0|2015-12-02T11:57:00| SJU|            1484304|  1598.0|   false|2015-12-02|   JFK|              1247803|    3.0|    25.0|            B6|2015-12-02T12:22:00|2015-12-02T15:34:00|  0.0|\n",
       "    18.43944444|   -66.00222222|            -14400.0|     13.0|2015-12-07T00:41:00|    false|2015-12-07T00:28:00|2015-12-06T20:30:00|          40.64|   -73.77861111|            -18000.0|     11.0|2015-12-06T20:41:00| SJU|            1484304|  1598.0|   false|2015-12-06|   JFK|              1247803|    6.0|    39.0|            B6|2015-12-06T21:20:00|2015-12-07T00:35:00|  0.0|\n",
       "    18.43944444|   -66.00222222|            -14400.0|     63.0|2015-12-14T09:45:00|    false|2015-12-14T08:42:00|2015-12-15T04:59:00|          40.64|   -73.77861111|            -18000.0|     64.0|2015-12-14T06:03:00| SJU|            1484304|  1598.0|   false|2015-12-14|   JFK|              1247803|    4.0|    23.0|            B6|2015-12-14T06:26:00|2015-12-14T09:41:00|  1.0|\n",
       "    18.43944444|   -66.00222222|            -14400.0|      9.0|2015-12-13T20:39:00|    false|2015-12-13T20:30:00|2015-12-13T16:46:00|          40.64|   -73.77861111|            -18000.0|     17.0|2015-12-13T17:03:00| SJU|            1484304|  1598.0|   false|2015-12-13|   JFK|              1247803|    4.0|    22.0|            B6|2015-12-13T17:25:00|2015-12-13T20:35:00|  0.0|\n",
       "+---------------+---------------+--------------------+---------+-------------------+---------+-------------------+-------------------+---------------+---------------+--------------------+---------+-------------------+----+-------------------+--------+--------+----------+------+---------------------+-------+--------+--------------+-------------------+-------------------+-----+\n",
       "only showing top 4 rows\n",
       "\n",
       "</div>"
      ]
     },
     "metadata": {
      "application/vnd.databricks.v1+output": {
       "addedWidgets": {},
       "arguments": {},
       "data": "<div class=\"ansiout\">+---------------+---------------+--------------------+---------+-------------------+---------+-------------------+-------------------+---------------+---------------+--------------------+---------+-------------------+----+-------------------+--------+--------+----------+------+---------------------+-------+--------+--------------+-------------------+-------------------+-----+\n|ARR_AIRPORT_LAT|ARR_AIRPORT_LON|ARR_AIRPORT_TZOFFSET|ARR_DELAY|           ARR_TIME|CANCELLED|       CRS_ARR_TIME|       CRS_DEP_TIME|DEP_AIRPORT_LAT|DEP_AIRPORT_LON|DEP_AIRPORT_TZOFFSET|DEP_DELAY|           DEP_TIME|DEST|DEST_AIRPORT_SEQ_ID|DISTANCE|DIVERTED|   FL_DATE|ORIGIN|ORIGIN_AIRPORT_SEQ_ID|TAXI_IN|TAXI_OUT|UNIQUE_CARRIER|         WHEELS_OFF|          WHEELS_ON|label|\n+---------------+---------------+--------------------+---------+-------------------+---------+-------------------+-------------------+---------------+---------------+--------------------+---------+-------------------+----+-------------------+--------+--------+----------+------+---------------------+-------+--------+--------------+-------------------+-------------------+-----+\n|    18.43944444|   -66.00222222|            -14400.0|    -15.0|2015-12-02T15:37:00|    false|2015-12-02T15:52:00|2015-12-02T11:59:00|          40.64|   -73.77861111|            -18000.0|     -2.0|2015-12-02T11:57:00| SJU|            1484304|  1598.0|   false|2015-12-02|   JFK|              1247803|    3.0|    25.0|            B6|2015-12-02T12:22:00|2015-12-02T15:34:00|  0.0|\n|    18.43944444|   -66.00222222|            -14400.0|     13.0|2015-12-07T00:41:00|    false|2015-12-07T00:28:00|2015-12-06T20:30:00|          40.64|   -73.77861111|            -18000.0|     11.0|2015-12-06T20:41:00| SJU|            1484304|  1598.0|   false|2015-12-06|   JFK|              1247803|    6.0|    39.0|            B6|2015-12-06T21:20:00|2015-12-07T00:35:00|  0.0|\n|    18.43944444|   -66.00222222|            -14400.0|     63.0|2015-12-14T09:45:00|    false|2015-12-14T08:42:00|2015-12-15T04:59:00|          40.64|   -73.77861111|            -18000.0|     64.0|2015-12-14T06:03:00| SJU|            1484304|  1598.0|   false|2015-12-14|   JFK|              1247803|    4.0|    23.0|            B6|2015-12-14T06:26:00|2015-12-14T09:41:00|  1.0|\n|    18.43944444|   -66.00222222|            -14400.0|      9.0|2015-12-13T20:39:00|    false|2015-12-13T20:30:00|2015-12-13T16:46:00|          40.64|   -73.77861111|            -18000.0|     17.0|2015-12-13T17:03:00| SJU|            1484304|  1598.0|   false|2015-12-13|   JFK|              1247803|    4.0|    22.0|            B6|2015-12-13T17:25:00|2015-12-13T20:35:00|  0.0|\n+---------------+---------------+--------------------+---------+-------------------+---------+-------------------+-------------------+---------------+---------------+--------------------+---------+-------------------+----+-------------------+--------+--------+----------+------+---------------------+-------+--------+--------------+-------------------+-------------------+-----+\nonly showing top 4 rows\n\n</div>",
       "datasetInfos": [],
       "metadata": {},
       "removedWidgets": [],
       "type": "html"
      }
     },
     "output_type": "display_data"
    }
   ],
   "source": [
    "binarizedDF.show(4)"
   ]
  },
  {
   "attachments": {},
   "cell_type": "markdown",
   "metadata": {
    "application/vnd.databricks.v1+cell": {
     "cellMetadata": {
      "byteLimit": 2048000,
      "rowLimit": 10000
     },
     "inputWidgets": {},
     "nuid": "6acbde2e-bd84-41e5-9af8-7a8a0537760a",
     "showTitle": false,
     "title": ""
    }
   },
   "source": [
    "## Question 8: Use \"VectorAssembler\" to aggregate the features which will be used to make predictions into a single column. Use \"featureColumns\" defined earlier for the inputCols argument. Use \"features\" for the outputCol argument."
   ]
  },
  {
   "cell_type": "code",
   "execution_count": null,
   "metadata": {
    "application/vnd.databricks.v1+cell": {
     "cellMetadata": {
      "byteLimit": 2048000,
      "rowLimit": 10000
     },
     "inputWidgets": {},
     "nuid": "d3d76e15-5636-4e1d-993a-6f7defbf040b",
     "showTitle": false,
     "title": ""
    }
   },
   "outputs": [
    {
     "data": {
      "text/html": [
       "<style scoped>\n",
       "  .ansiout {\n",
       "    display: block;\n",
       "    unicode-bidi: embed;\n",
       "    white-space: pre-wrap;\n",
       "    word-wrap: break-word;\n",
       "    word-break: break-all;\n",
       "    font-family: \"Source Code Pro\", \"Menlo\", monospace;;\n",
       "    font-size: 13px;\n",
       "    color: #555;\n",
       "    margin-left: 4px;\n",
       "    line-height: 19px;\n",
       "  }\n",
       "</style>\n",
       "<div class=\"ansiout\"></div>"
      ]
     },
     "metadata": {
      "application/vnd.databricks.v1+output": {
       "addedWidgets": {},
       "arguments": {},
       "data": "<div class=\"ansiout\"></div>",
       "datasetInfos": [],
       "metadata": {},
       "removedWidgets": [],
       "type": "html"
      }
     },
     "output_type": "display_data"
    }
   ],
   "source": [
    "assembler = VectorAssembler(inputCols=featureColumns, outputCol='features')"
   ]
  },
  {
   "attachments": {},
   "cell_type": "markdown",
   "metadata": {
    "application/vnd.databricks.v1+cell": {
     "cellMetadata": {
      "byteLimit": 2048000,
      "rowLimit": 10000
     },
     "inputWidgets": {},
     "nuid": "11f07ffc-eb94-410c-bf47-8925fe6f8be0",
     "showTitle": false,
     "title": ""
    }
   },
   "source": [
    "## Question 9: Apply the above assembler to the DataFrame \"binarizedDF\" to create a new DataFrame called \"assembled\" with the aggregated features in a column."
   ]
  },
  {
   "cell_type": "code",
   "execution_count": null,
   "metadata": {
    "application/vnd.databricks.v1+cell": {
     "cellMetadata": {
      "byteLimit": 2048000,
      "rowLimit": 10000
     },
     "inputWidgets": {},
     "nuid": "b9fa1a1e-7845-4e3e-ab13-9bedd2b9e5da",
     "showTitle": false,
     "title": ""
    }
   },
   "outputs": [
    {
     "data": {
      "text/html": [
       "<style scoped>\n",
       "  .ansiout {\n",
       "    display: block;\n",
       "    unicode-bidi: embed;\n",
       "    white-space: pre-wrap;\n",
       "    word-wrap: break-word;\n",
       "    word-break: break-all;\n",
       "    font-family: \"Source Code Pro\", \"Menlo\", monospace;;\n",
       "    font-size: 13px;\n",
       "    color: #555;\n",
       "    margin-left: 4px;\n",
       "    line-height: 19px;\n",
       "  }\n",
       "</style>\n",
       "<div class=\"ansiout\"></div>"
      ]
     },
     "metadata": {
      "application/vnd.databricks.v1+output": {
       "addedWidgets": {},
       "arguments": {},
       "data": "<div class=\"ansiout\"></div>",
       "datasetInfos": [],
       "metadata": {},
       "removedWidgets": [],
       "type": "html"
      }
     },
     "output_type": "display_data"
    }
   ],
   "source": [
    "assembled = assembler.transform(binarizedDF)"
   ]
  },
  {
   "attachments": {},
   "cell_type": "markdown",
   "metadata": {
    "application/vnd.databricks.v1+cell": {
     "cellMetadata": {
      "byteLimit": 2048000,
      "rowLimit": 10000
     },
     "inputWidgets": {},
     "nuid": "df8e1357-2295-42fc-971b-5ccaa54b20b5",
     "showTitle": false,
     "title": ""
    }
   },
   "source": [
    "## Question 10: Split the DataFrame \"assembled\" into \"train\" and \"test\" by calling randomSplit(). Specify the ratios of the two sets as 80% and 20%. Set the seed number to be 12345."
   ]
  },
  {
   "cell_type": "code",
   "execution_count": null,
   "metadata": {
    "application/vnd.databricks.v1+cell": {
     "cellMetadata": {
      "byteLimit": 2048000,
      "rowLimit": 10000
     },
     "inputWidgets": {},
     "nuid": "9ad3d128-2d5f-4905-97a9-4c3c146d3215",
     "showTitle": false,
     "title": ""
    }
   },
   "outputs": [
    {
     "data": {
      "text/html": [
       "<style scoped>\n",
       "  .ansiout {\n",
       "    display: block;\n",
       "    unicode-bidi: embed;\n",
       "    white-space: pre-wrap;\n",
       "    word-wrap: break-word;\n",
       "    word-break: break-all;\n",
       "    font-family: \"Source Code Pro\", \"Menlo\", monospace;;\n",
       "    font-size: 13px;\n",
       "    color: #555;\n",
       "    margin-left: 4px;\n",
       "    line-height: 19px;\n",
       "  }\n",
       "</style>\n",
       "<div class=\"ansiout\"></div>"
      ]
     },
     "metadata": {
      "application/vnd.databricks.v1+output": {
       "addedWidgets": {},
       "arguments": {},
       "data": "<div class=\"ansiout\"></div>",
       "datasetInfos": [],
       "metadata": {},
       "removedWidgets": [],
       "type": "html"
      }
     },
     "output_type": "display_data"
    }
   ],
   "source": [
    "trainRatio = 0.8\n",
    "testRatio = 0.2\n",
    "seed = 12345\n",
    "\n",
    "train, test = assembled.randomSplit([trainRatio, testRatio], seed)"
   ]
  },
  {
   "attachments": {},
   "cell_type": "markdown",
   "metadata": {
    "application/vnd.databricks.v1+cell": {
     "cellMetadata": {
      "byteLimit": 2048000,
      "rowLimit": 10000
     },
     "inputWidgets": {},
     "nuid": "6e50db1a-1fd6-4937-bbf1-f8ecbe69e219",
     "showTitle": false,
     "title": ""
    }
   },
   "source": [
    "## Question 11: Print the number of rows in the train and test DataFrames to check the sizes."
   ]
  },
  {
   "cell_type": "code",
   "execution_count": null,
   "metadata": {
    "application/vnd.databricks.v1+cell": {
     "cellMetadata": {
      "byteLimit": 2048000,
      "rowLimit": 10000
     },
     "inputWidgets": {},
     "nuid": "eaf19cca-acc5-491c-8913-17003b38230f",
     "showTitle": false,
     "title": ""
    }
   },
   "outputs": [
    {
     "data": {
      "text/html": [
       "<style scoped>\n",
       "  .ansiout {\n",
       "    display: block;\n",
       "    unicode-bidi: embed;\n",
       "    white-space: pre-wrap;\n",
       "    word-wrap: break-word;\n",
       "    word-break: break-all;\n",
       "    font-family: \"Source Code Pro\", \"Menlo\", monospace;;\n",
       "    font-size: 13px;\n",
       "    color: #555;\n",
       "    margin-left: 4px;\n",
       "    line-height: 19px;\n",
       "  }\n",
       "</style>\n",
       "<div class=\"ansiout\">Train set count: 283562\n",
       "Test set count: 70802\n",
       "</div>"
      ]
     },
     "metadata": {
      "application/vnd.databricks.v1+output": {
       "addedWidgets": {},
       "arguments": {},
       "data": "<div class=\"ansiout\">Train set count: 283562\nTest set count: 70802\n</div>",
       "datasetInfos": [],
       "metadata": {},
       "removedWidgets": [],
       "type": "html"
      }
     },
     "output_type": "display_data"
    }
   ],
   "source": [
    "train_count = train.count()\n",
    "test_count = test.count()\n",
    "print(\"Train set count:\", train_count)\n",
    "print(\"Test set count:\", test_count)"
   ]
  },
  {
   "attachments": {},
   "cell_type": "markdown",
   "metadata": {
    "application/vnd.databricks.v1+cell": {
     "cellMetadata": {
      "byteLimit": 2048000,
      "rowLimit": 10000
     },
     "inputWidgets": {},
     "nuid": "e7689cfe-485f-441a-9cb8-c83d056cb8c8",
     "showTitle": false,
     "title": ""
    }
   },
   "source": [
    "## Question 12: Create and train a Random Forest classifier use default parameter values."
   ]
  },
  {
   "cell_type": "code",
   "execution_count": null,
   "metadata": {
    "application/vnd.databricks.v1+cell": {
     "cellMetadata": {
      "byteLimit": 2048000,
      "rowLimit": 10000
     },
     "inputWidgets": {},
     "nuid": "633af3d6-d284-450e-8bb0-4458accd63c0",
     "showTitle": false,
     "title": ""
    }
   },
   "outputs": [
    {
     "data": {
      "text/html": [
       "<style scoped>\n",
       "  .ansiout {\n",
       "    display: block;\n",
       "    unicode-bidi: embed;\n",
       "    white-space: pre-wrap;\n",
       "    word-wrap: break-word;\n",
       "    word-break: break-all;\n",
       "    font-family: \"Source Code Pro\", \"Menlo\", monospace;;\n",
       "    font-size: 13px;\n",
       "    color: #555;\n",
       "    margin-left: 4px;\n",
       "    line-height: 19px;\n",
       "  }\n",
       "</style>\n",
       "<div class=\"ansiout\"></div>"
      ]
     },
     "metadata": {
      "application/vnd.databricks.v1+output": {
       "addedWidgets": {},
       "arguments": {},
       "data": "<div class=\"ansiout\"></div>",
       "datasetInfos": [],
       "metadata": {},
       "removedWidgets": [],
       "type": "html"
      }
     },
     "output_type": "display_data"
    }
   ],
   "source": [
    "# Create a Random Forest classifier\n",
    "rf = RandomForestClassifier()\n",
    "\n",
    "# Train the Random Forest classifier on the training data\n",
    "rfmodel = rf.fit(train)"
   ]
  },
  {
   "attachments": {},
   "cell_type": "markdown",
   "metadata": {
    "application/vnd.databricks.v1+cell": {
     "cellMetadata": {
      "byteLimit": 2048000,
      "rowLimit": 10000
     },
     "inputWidgets": {},
     "nuid": "ed84b61b-5aec-4ee6-88c4-620a7be0ddff",
     "showTitle": false,
     "title": ""
    }
   },
   "source": [
    "## Question 13: Save the model for late use."
   ]
  },
  {
   "cell_type": "code",
   "execution_count": null,
   "metadata": {
    "application/vnd.databricks.v1+cell": {
     "cellMetadata": {
      "byteLimit": 2048000,
      "rowLimit": 10000
     },
     "inputWidgets": {},
     "nuid": "b12bf54c-96af-42b1-bc0d-000a35e99728",
     "showTitle": false,
     "title": ""
    }
   },
   "outputs": [
    {
     "data": {
      "text/html": [
       "<style scoped>\n",
       "  .ansiout {\n",
       "    display: block;\n",
       "    unicode-bidi: embed;\n",
       "    white-space: pre-wrap;\n",
       "    word-wrap: break-word;\n",
       "    word-break: break-all;\n",
       "    font-family: \"Source Code Pro\", \"Menlo\", monospace;;\n",
       "    font-size: 13px;\n",
       "    color: #555;\n",
       "    margin-left: 4px;\n",
       "    line-height: 19px;\n",
       "  }\n",
       "</style>\n",
       "<div class=\"ansiout\"></div>"
      ]
     },
     "metadata": {
      "application/vnd.databricks.v1+output": {
       "addedWidgets": {},
       "arguments": {},
       "data": "<div class=\"ansiout\"></div>",
       "datasetInfos": [],
       "metadata": {},
       "removedWidgets": [],
       "type": "html"
      }
     },
     "output_type": "display_data"
    }
   ],
   "source": [
    "path = 'dbfs:/FileStore/tables/ly364/models/'\n",
    "model_path = path + \"rfmodel\"\n",
    "rfmodel.write().overwrite().save(model_path)"
   ]
  },
  {
   "attachments": {},
   "cell_type": "markdown",
   "metadata": {
    "application/vnd.databricks.v1+cell": {
     "cellMetadata": {
      "byteLimit": 2048000,
      "rowLimit": 10000
     },
     "inputWidgets": {},
     "nuid": "3be34df6-d84d-401b-b408-530dd5e92cbb",
     "showTitle": false,
     "title": ""
    }
   },
   "source": [
    "## Question 14: Load the saved model."
   ]
  },
  {
   "cell_type": "code",
   "execution_count": null,
   "metadata": {
    "application/vnd.databricks.v1+cell": {
     "cellMetadata": {},
     "inputWidgets": {},
     "nuid": "589c0ea1-24a6-4c24-b15f-b727efcc5c43",
     "showTitle": false,
     "title": ""
    }
   },
   "outputs": [
    {
     "data": {
      "text/html": [
       "<style scoped>\n",
       "  .ansiout {\n",
       "    display: block;\n",
       "    unicode-bidi: embed;\n",
       "    white-space: pre-wrap;\n",
       "    word-wrap: break-word;\n",
       "    word-break: break-all;\n",
       "    font-family: \"Source Code Pro\", \"Menlo\", monospace;;\n",
       "    font-size: 13px;\n",
       "    color: #555;\n",
       "    margin-left: 4px;\n",
       "    line-height: 19px;\n",
       "  }\n",
       "</style>"
      ]
     },
     "metadata": {
      "application/vnd.databricks.v1+output": {
       "arguments": {},
       "data": "",
       "errorSummary": "Command skipped",
       "errorTraceType": null,
       "metadata": {},
       "type": "ipynbError"
      }
     },
     "output_type": "display_data"
    }
   ],
   "source": [
    "rfmodel = RandomForestClassificationModel.load(model_path)\n"
   ]
  },
  {
   "cell_type": "code",
   "execution_count": null,
   "metadata": {
    "application/vnd.databricks.v1+cell": {
     "cellMetadata": {
      "byteLimit": 2048000,
      "rowLimit": 10000
     },
     "inputWidgets": {},
     "nuid": "fe7fb3ba-d57c-473d-8227-3981887f36e9",
     "showTitle": false,
     "title": ""
    }
   },
   "outputs": [
    {
     "data": {
      "text/html": [
       "<style scoped>\n",
       "  .ansiout {\n",
       "    display: block;\n",
       "    unicode-bidi: embed;\n",
       "    white-space: pre-wrap;\n",
       "    word-wrap: break-word;\n",
       "    word-break: break-all;\n",
       "    font-family: \"Source Code Pro\", \"Menlo\", monospace;;\n",
       "    font-size: 13px;\n",
       "    color: #555;\n",
       "    margin-left: 4px;\n",
       "    line-height: 19px;\n",
       "  }\n",
       "</style>\n",
       "<div class=\"ansiout\"></div>"
      ]
     },
     "metadata": {
      "application/vnd.databricks.v1+output": {
       "addedWidgets": {},
       "arguments": {},
       "data": "<div class=\"ansiout\"></div>",
       "datasetInfos": [],
       "metadata": {},
       "removedWidgets": [],
       "type": "html"
      }
     },
     "output_type": "display_data"
    }
   ],
   "source": [
    "rfmodel = RandomForestClassificationModel.read().load(model_path)"
   ]
  },
  {
   "attachments": {},
   "cell_type": "markdown",
   "metadata": {
    "application/vnd.databricks.v1+cell": {
     "cellMetadata": {
      "byteLimit": 2048000,
      "rowLimit": 10000
     },
     "inputWidgets": {},
     "nuid": "ff7d4f10-2c7a-4b43-972c-1f8bab8afd37",
     "showTitle": false,
     "title": ""
    }
   },
   "source": [
    "## Question 15: Make prediction using the test data set. Store the results in \"predictions\"."
   ]
  },
  {
   "cell_type": "code",
   "execution_count": null,
   "metadata": {
    "application/vnd.databricks.v1+cell": {
     "cellMetadata": {
      "byteLimit": 2048000,
      "rowLimit": 10000
     },
     "inputWidgets": {},
     "nuid": "c53eec50-6dd1-4547-bb24-b9192139b687",
     "showTitle": false,
     "title": ""
    }
   },
   "outputs": [
    {
     "data": {
      "text/html": [
       "<style scoped>\n",
       "  .ansiout {\n",
       "    display: block;\n",
       "    unicode-bidi: embed;\n",
       "    white-space: pre-wrap;\n",
       "    word-wrap: break-word;\n",
       "    word-break: break-all;\n",
       "    font-family: \"Source Code Pro\", \"Menlo\", monospace;;\n",
       "    font-size: 13px;\n",
       "    color: #555;\n",
       "    margin-left: 4px;\n",
       "    line-height: 19px;\n",
       "  }\n",
       "</style>\n",
       "<div class=\"ansiout\"></div>"
      ]
     },
     "metadata": {
      "application/vnd.databricks.v1+output": {
       "addedWidgets": {},
       "arguments": {},
       "data": "<div class=\"ansiout\"></div>",
       "datasetInfos": [],
       "metadata": {},
       "removedWidgets": [],
       "type": "html"
      }
     },
     "output_type": "display_data"
    }
   ],
   "source": [
    "predictions = rfmodel.transform(test)"
   ]
  },
  {
   "attachments": {},
   "cell_type": "markdown",
   "metadata": {
    "application/vnd.databricks.v1+cell": {
     "cellMetadata": {
      "byteLimit": 2048000,
      "rowLimit": 10000
     },
     "inputWidgets": {},
     "nuid": "91d3b459-7c26-4663-aaca-f7d66b577f29",
     "showTitle": false,
     "title": ""
    }
   },
   "source": [
    "## Question 16: Look at the values of \"prediction\" and \"label\" of the first ten rows in the predictions to see whether the prediction matches the input."
   ]
  },
  {
   "cell_type": "code",
   "execution_count": null,
   "metadata": {
    "application/vnd.databricks.v1+cell": {
     "cellMetadata": {
      "byteLimit": 2048000,
      "rowLimit": 10000
     },
     "inputWidgets": {},
     "nuid": "463dbd6a-5e6b-4bc1-8c75-568ac2f381d3",
     "showTitle": false,
     "title": ""
    }
   },
   "outputs": [
    {
     "data": {
      "text/html": [
       "<style scoped>\n",
       "  .ansiout {\n",
       "    display: block;\n",
       "    unicode-bidi: embed;\n",
       "    white-space: pre-wrap;\n",
       "    word-wrap: break-word;\n",
       "    word-break: break-all;\n",
       "    font-family: \"Source Code Pro\", \"Menlo\", monospace;;\n",
       "    font-size: 13px;\n",
       "    color: #555;\n",
       "    margin-left: 4px;\n",
       "    line-height: 19px;\n",
       "  }\n",
       "</style>\n",
       "<div class=\"ansiout\">Out[26]: [Row(prediction=0.0, label=0.0),\n",
       " Row(prediction=0.0, label=0.0),\n",
       " Row(prediction=0.0, label=0.0),\n",
       " Row(prediction=0.0, label=0.0),\n",
       " Row(prediction=0.0, label=0.0),\n",
       " Row(prediction=0.0, label=0.0),\n",
       " Row(prediction=0.0, label=0.0),\n",
       " Row(prediction=0.0, label=0.0),\n",
       " Row(prediction=0.0, label=0.0),\n",
       " Row(prediction=0.0, label=0.0)]</div>"
      ]
     },
     "metadata": {
      "application/vnd.databricks.v1+output": {
       "addedWidgets": {},
       "arguments": {},
       "data": "<div class=\"ansiout\">Out[26]: [Row(prediction=0.0, label=0.0),\n Row(prediction=0.0, label=0.0),\n Row(prediction=0.0, label=0.0),\n Row(prediction=0.0, label=0.0),\n Row(prediction=0.0, label=0.0),\n Row(prediction=0.0, label=0.0),\n Row(prediction=0.0, label=0.0),\n Row(prediction=0.0, label=0.0),\n Row(prediction=0.0, label=0.0),\n Row(prediction=0.0, label=0.0)]</div>",
       "datasetInfos": [],
       "metadata": {},
       "removedWidgets": [],
       "type": "html"
      }
     },
     "output_type": "display_data"
    }
   ],
   "source": [
    "predictions.select(\"prediction\", \"label\").head(10)"
   ]
  },
  {
   "attachments": {},
   "cell_type": "markdown",
   "metadata": {
    "application/vnd.databricks.v1+cell": {
     "cellMetadata": {
      "byteLimit": 2048000,
      "rowLimit": 10000
     },
     "inputWidgets": {},
     "nuid": "17ef1004-1595-4075-be6a-ab7ea564cd0d",
     "showTitle": false,
     "title": ""
    }
   },
   "source": [
    "## Question 17: Evaluate the model on the test data. Save the result as `evalSummary`."
   ]
  },
  {
   "cell_type": "code",
   "execution_count": null,
   "metadata": {
    "application/vnd.databricks.v1+cell": {
     "cellMetadata": {
      "byteLimit": 2048000,
      "rowLimit": 10000
     },
     "inputWidgets": {},
     "nuid": "9786ad1e-db83-4d33-bb50-e111fc90c402",
     "showTitle": false,
     "title": ""
    }
   },
   "outputs": [
    {
     "data": {
      "text/html": [
       "<style scoped>\n",
       "  .ansiout {\n",
       "    display: block;\n",
       "    unicode-bidi: embed;\n",
       "    white-space: pre-wrap;\n",
       "    word-wrap: break-word;\n",
       "    word-break: break-all;\n",
       "    font-family: \"Source Code Pro\", \"Menlo\", monospace;;\n",
       "    font-size: 13px;\n",
       "    color: #555;\n",
       "    margin-left: 4px;\n",
       "    line-height: 19px;\n",
       "  }\n",
       "</style>\n",
       "<div class=\"ansiout\"></div>"
      ]
     },
     "metadata": {
      "application/vnd.databricks.v1+output": {
       "addedWidgets": {},
       "arguments": {},
       "data": "<div class=\"ansiout\"></div>",
       "datasetInfos": [],
       "metadata": {},
       "removedWidgets": [],
       "type": "html"
      }
     },
     "output_type": "display_data"
    }
   ],
   "source": [
    "# Evaluate the model on the test data\n",
    "evalSummary = rfmodel.evaluate(test)"
   ]
  },
  {
   "attachments": {},
   "cell_type": "markdown",
   "metadata": {
    "application/vnd.databricks.v1+cell": {
     "cellMetadata": {
      "byteLimit": 2048000,
      "rowLimit": 10000
     },
     "inputWidgets": {},
     "nuid": "9ef720f7-0f01-42fd-875b-aba3ace7ecbf",
     "showTitle": false,
     "title": ""
    }
   },
   "source": [
    "## Question 18: Print out the accuracy."
   ]
  },
  {
   "cell_type": "code",
   "execution_count": null,
   "metadata": {
    "application/vnd.databricks.v1+cell": {
     "cellMetadata": {
      "byteLimit": 2048000,
      "rowLimit": 10000
     },
     "inputWidgets": {},
     "nuid": "943f41e3-7f5e-4b79-b672-be888b8cf71c",
     "showTitle": false,
     "title": ""
    }
   },
   "outputs": [
    {
     "data": {
      "text/html": [
       "<style scoped>\n",
       "  .ansiout {\n",
       "    display: block;\n",
       "    unicode-bidi: embed;\n",
       "    white-space: pre-wrap;\n",
       "    word-wrap: break-word;\n",
       "    word-break: break-all;\n",
       "    font-family: \"Source Code Pro\", \"Menlo\", monospace;;\n",
       "    font-size: 13px;\n",
       "    color: #555;\n",
       "    margin-left: 4px;\n",
       "    line-height: 19px;\n",
       "  }\n",
       "</style>\n",
       "<div class=\"ansiout\">Out[57]: 0.9485184034349312</div>"
      ]
     },
     "metadata": {
      "application/vnd.databricks.v1+output": {
       "addedWidgets": {},
       "arguments": {},
       "data": "<div class=\"ansiout\">Out[57]: 0.9485184034349312</div>",
       "datasetInfos": [],
       "metadata": {},
       "removedWidgets": [],
       "type": "html"
      }
     },
     "output_type": "display_data"
    }
   ],
   "source": [
    "evalSummary.accuracy"
   ]
  },
  {
   "attachments": {},
   "cell_type": "markdown",
   "metadata": {
    "application/vnd.databricks.v1+cell": {
     "cellMetadata": {
      "byteLimit": 2048000,
      "rowLimit": 10000
     },
     "inputWidgets": {},
     "nuid": "22927659-db9f-43ca-8e63-6d3a33e81254",
     "showTitle": false,
     "title": ""
    }
   },
   "source": [
    "## Question 19: Print out precisions by labels."
   ]
  },
  {
   "cell_type": "code",
   "execution_count": null,
   "metadata": {
    "application/vnd.databricks.v1+cell": {
     "cellMetadata": {
      "byteLimit": 2048000,
      "rowLimit": 10000
     },
     "inputWidgets": {},
     "nuid": "178e5d4c-ccee-4260-a539-3019ac7e918b",
     "showTitle": false,
     "title": ""
    }
   },
   "outputs": [
    {
     "data": {
      "text/html": [
       "<style scoped>\n",
       "  .ansiout {\n",
       "    display: block;\n",
       "    unicode-bidi: embed;\n",
       "    white-space: pre-wrap;\n",
       "    word-wrap: break-word;\n",
       "    word-break: break-all;\n",
       "    font-family: \"Source Code Pro\", \"Menlo\", monospace;;\n",
       "    font-size: 13px;\n",
       "    color: #555;\n",
       "    margin-left: 4px;\n",
       "    line-height: 19px;\n",
       "  }\n",
       "</style>\n",
       "<div class=\"ansiout\">Out[58]: [0.9543998932550537, 0.9160059007929191]</div>"
      ]
     },
     "metadata": {
      "application/vnd.databricks.v1+output": {
       "addedWidgets": {},
       "arguments": {},
       "data": "<div class=\"ansiout\">Out[58]: [0.9543998932550537, 0.9160059007929191]</div>",
       "datasetInfos": [],
       "metadata": {},
       "removedWidgets": [],
       "type": "html"
      }
     },
     "output_type": "display_data"
    }
   ],
   "source": [
    "evalSummary.precisionByLabel"
   ]
  },
  {
   "attachments": {},
   "cell_type": "markdown",
   "metadata": {
    "application/vnd.databricks.v1+cell": {
     "cellMetadata": {
      "byteLimit": 2048000,
      "rowLimit": 10000
     },
     "inputWidgets": {},
     "nuid": "944a6e05-c692-4fe9-8343-6e451312cbea",
     "showTitle": false,
     "title": ""
    }
   },
   "source": [
    "## Question 20: Print out recalls by labels."
   ]
  },
  {
   "cell_type": "code",
   "execution_count": null,
   "metadata": {
    "application/vnd.databricks.v1+cell": {
     "cellMetadata": {
      "byteLimit": 2048000,
      "rowLimit": 10000
     },
     "inputWidgets": {},
     "nuid": "985f7834-f58e-48b7-a033-7aad19af192f",
     "showTitle": false,
     "title": ""
    }
   },
   "outputs": [
    {
     "data": {
      "text/html": [
       "<style scoped>\n",
       "  .ansiout {\n",
       "    display: block;\n",
       "    unicode-bidi: embed;\n",
       "    white-space: pre-wrap;\n",
       "    word-wrap: break-word;\n",
       "    word-break: break-all;\n",
       "    font-family: \"Source Code Pro\", \"Menlo\", monospace;;\n",
       "    font-size: 13px;\n",
       "    color: #555;\n",
       "    margin-left: 4px;\n",
       "    line-height: 19px;\n",
       "  }\n",
       "</style>\n",
       "<div class=\"ansiout\">Out[59]: [0.9843290385839368, 0.7841976478017207]</div>"
      ]
     },
     "metadata": {
      "application/vnd.databricks.v1+output": {
       "addedWidgets": {},
       "arguments": {},
       "data": "<div class=\"ansiout\">Out[59]: [0.9843290385839368, 0.7841976478017207]</div>",
       "datasetInfos": [],
       "metadata": {},
       "removedWidgets": [],
       "type": "html"
      }
     },
     "output_type": "display_data"
    }
   ],
   "source": [
    "evalSummary.recallByLabel"
   ]
  },
  {
   "attachments": {},
   "cell_type": "markdown",
   "metadata": {
    "application/vnd.databricks.v1+cell": {
     "cellMetadata": {
      "byteLimit": 2048000,
      "rowLimit": 10000
     },
     "inputWidgets": {},
     "nuid": "2801bb97-3cfa-4805-9ebb-3c1ab7d5b978",
     "showTitle": false,
     "title": ""
    }
   },
   "source": [
    "## Question 21: Feature selection and hyperparameter tuning. In the following, you will select the best combination of features and tune the hyperparameter of the ranfom forest classifier through grid search. First, Split the DataFrame \"binarizedDF\" into \"train\" and \"test\" by calling randomSplit(). Specify the ratios of the two sets as 80% and 20%. Set the seed number to be 12345."
   ]
  },
  {
   "cell_type": "code",
   "execution_count": null,
   "metadata": {
    "application/vnd.databricks.v1+cell": {
     "cellMetadata": {
      "byteLimit": 2048000,
      "rowLimit": 10000
     },
     "inputWidgets": {},
     "nuid": "e6ec8c05-0cc9-4aa1-975d-1c838178e0de",
     "showTitle": false,
     "title": ""
    }
   },
   "outputs": [
    {
     "data": {
      "text/html": [
       "<style scoped>\n",
       "  .ansiout {\n",
       "    display: block;\n",
       "    unicode-bidi: embed;\n",
       "    white-space: pre-wrap;\n",
       "    word-wrap: break-word;\n",
       "    word-break: break-all;\n",
       "    font-family: \"Source Code Pro\", \"Menlo\", monospace;;\n",
       "    font-size: 13px;\n",
       "    color: #555;\n",
       "    margin-left: 4px;\n",
       "    line-height: 19px;\n",
       "  }\n",
       "</style>\n",
       "<div class=\"ansiout\"></div>"
      ]
     },
     "metadata": {
      "application/vnd.databricks.v1+output": {
       "addedWidgets": {},
       "arguments": {},
       "data": "<div class=\"ansiout\"></div>",
       "datasetInfos": [],
       "metadata": {},
       "removedWidgets": [],
       "type": "html"
      }
     },
     "output_type": "display_data"
    }
   ],
   "source": [
    "train, test = binarizedDF.randomSplit([0.8, 0.2], seed=12345)"
   ]
  },
  {
   "attachments": {},
   "cell_type": "markdown",
   "metadata": {
    "application/vnd.databricks.v1+cell": {
     "cellMetadata": {
      "byteLimit": 2048000,
      "rowLimit": 10000
     },
     "inputWidgets": {},
     "nuid": "6fe9e072-3a2b-4c31-99ab-37dc1fa54615",
     "showTitle": false,
     "title": ""
    }
   },
   "source": [
    "## Question 22: Define a list of possible feature combinations. Modify the following list \"feature_sets\" by adding the additional feature you selected. Use all possible 2-, 3-, and 4-tuple combinations."
   ]
  },
  {
   "cell_type": "code",
   "execution_count": null,
   "metadata": {
    "application/vnd.databricks.v1+cell": {
     "cellMetadata": {
      "byteLimit": 2048000,
      "rowLimit": 10000
     },
     "inputWidgets": {},
     "nuid": "7a67326c-da03-420c-9e79-0854939b0ede",
     "showTitle": false,
     "title": ""
    }
   },
   "outputs": [
    {
     "data": {
      "text/html": [
       "<style scoped>\n",
       "  .ansiout {\n",
       "    display: block;\n",
       "    unicode-bidi: embed;\n",
       "    white-space: pre-wrap;\n",
       "    word-wrap: break-word;\n",
       "    word-break: break-all;\n",
       "    font-family: \"Source Code Pro\", \"Menlo\", monospace;;\n",
       "    font-size: 13px;\n",
       "    color: #555;\n",
       "    margin-left: 4px;\n",
       "    line-height: 19px;\n",
       "  }\n",
       "</style>\n",
       "<div class=\"ansiout\"></div>"
      ]
     },
     "metadata": {
      "application/vnd.databricks.v1+output": {
       "addedWidgets": {},
       "arguments": {},
       "data": "<div class=\"ansiout\"></div>",
       "datasetInfos": [],
       "metadata": {},
       "removedWidgets": [],
       "type": "html"
      }
     },
     "output_type": "display_data"
    }
   ],
   "source": [
    "features_sets = [['DEP_DELAY', 'DISTANCE'], ['DEP_DELAY', 'TAXI_OUT'], ['TAXI_OUT', 'DISTANCE'], ['DEP_DELAY', 'TAXI_OUT', 'DISTANCE']]"
   ]
  },
  {
   "attachments": {},
   "cell_type": "markdown",
   "metadata": {
    "application/vnd.databricks.v1+cell": {
     "cellMetadata": {
      "byteLimit": 2048000,
      "rowLimit": 10000
     },
     "inputWidgets": {},
     "nuid": "4ee9514b-7d0f-46d5-88ef-4beedf116cf0",
     "showTitle": false,
     "title": ""
    }
   },
   "source": [
    "## Question 23: Create a VectorAssembler with outputCol=\"features\" and store the result to \"assembler\"."
   ]
  },
  {
   "cell_type": "code",
   "execution_count": null,
   "metadata": {
    "application/vnd.databricks.v1+cell": {
     "cellMetadata": {
      "byteLimit": 2048000,
      "rowLimit": 10000
     },
     "inputWidgets": {},
     "nuid": "8e6baab7-ee8c-439c-a972-3a06fabc71bc",
     "showTitle": false,
     "title": ""
    }
   },
   "outputs": [
    {
     "data": {
      "text/html": [
       "<style scoped>\n",
       "  .ansiout {\n",
       "    display: block;\n",
       "    unicode-bidi: embed;\n",
       "    white-space: pre-wrap;\n",
       "    word-wrap: break-word;\n",
       "    word-break: break-all;\n",
       "    font-family: \"Source Code Pro\", \"Menlo\", monospace;;\n",
       "    font-size: 13px;\n",
       "    color: #555;\n",
       "    margin-left: 4px;\n",
       "    line-height: 19px;\n",
       "  }\n",
       "</style>\n",
       "<div class=\"ansiout\"></div>"
      ]
     },
     "metadata": {
      "application/vnd.databricks.v1+output": {
       "addedWidgets": {},
       "arguments": {},
       "data": "<div class=\"ansiout\"></div>",
       "datasetInfos": [],
       "metadata": {},
       "removedWidgets": [],
       "type": "html"
      }
     },
     "output_type": "display_data"
    }
   ],
   "source": [
    "assembler = VectorAssembler(inputCols=featureColumns, outputCol=\"features\")"
   ]
  },
  {
   "attachments": {},
   "cell_type": "markdown",
   "metadata": {
    "application/vnd.databricks.v1+cell": {
     "cellMetadata": {
      "byteLimit": 2048000,
      "rowLimit": 10000
     },
     "inputWidgets": {},
     "nuid": "fdf4e516-d98e-47ab-9f5e-03af38ea608c",
     "showTitle": false,
     "title": ""
    }
   },
   "source": [
    "## Question 24: Create a RandomForestClassifier with all default values and store the result to \"rf\"."
   ]
  },
  {
   "cell_type": "code",
   "execution_count": null,
   "metadata": {
    "application/vnd.databricks.v1+cell": {
     "cellMetadata": {
      "byteLimit": 2048000,
      "rowLimit": 10000
     },
     "inputWidgets": {},
     "nuid": "9a438df4-a99d-49a1-828d-bbd7ef122f2e",
     "showTitle": false,
     "title": ""
    }
   },
   "outputs": [
    {
     "data": {
      "text/html": [
       "<style scoped>\n",
       "  .ansiout {\n",
       "    display: block;\n",
       "    unicode-bidi: embed;\n",
       "    white-space: pre-wrap;\n",
       "    word-wrap: break-word;\n",
       "    word-break: break-all;\n",
       "    font-family: \"Source Code Pro\", \"Menlo\", monospace;;\n",
       "    font-size: 13px;\n",
       "    color: #555;\n",
       "    margin-left: 4px;\n",
       "    line-height: 19px;\n",
       "  }\n",
       "</style>\n",
       "<div class=\"ansiout\"></div>"
      ]
     },
     "metadata": {
      "application/vnd.databricks.v1+output": {
       "addedWidgets": {},
       "arguments": {},
       "data": "<div class=\"ansiout\"></div>",
       "datasetInfos": [],
       "metadata": {},
       "removedWidgets": [],
       "type": "html"
      }
     },
     "output_type": "display_data"
    }
   ],
   "source": [
    "rf = RandomForestClassifier()"
   ]
  },
  {
   "attachments": {},
   "cell_type": "markdown",
   "metadata": {
    "application/vnd.databricks.v1+cell": {
     "cellMetadata": {
      "byteLimit": 2048000,
      "rowLimit": 10000
     },
     "inputWidgets": {},
     "nuid": "373355b0-8bfa-40ea-a145-bea3063d30dc",
     "showTitle": false,
     "title": ""
    }
   },
   "source": [
    "## Question 25: Create a Pipleline with stages=[assembler, rf] and store the result to \"pipepline\"."
   ]
  },
  {
   "cell_type": "code",
   "execution_count": null,
   "metadata": {
    "application/vnd.databricks.v1+cell": {
     "cellMetadata": {
      "byteLimit": 2048000,
      "rowLimit": 10000
     },
     "inputWidgets": {},
     "nuid": "5b2c912d-6402-4349-bd95-8d7ca180ff33",
     "showTitle": false,
     "title": ""
    }
   },
   "outputs": [
    {
     "data": {
      "text/html": [
       "<style scoped>\n",
       "  .ansiout {\n",
       "    display: block;\n",
       "    unicode-bidi: embed;\n",
       "    white-space: pre-wrap;\n",
       "    word-wrap: break-word;\n",
       "    word-break: break-all;\n",
       "    font-family: \"Source Code Pro\", \"Menlo\", monospace;;\n",
       "    font-size: 13px;\n",
       "    color: #555;\n",
       "    margin-left: 4px;\n",
       "    line-height: 19px;\n",
       "  }\n",
       "</style>\n",
       "<div class=\"ansiout\"></div>"
      ]
     },
     "metadata": {
      "application/vnd.databricks.v1+output": {
       "addedWidgets": {},
       "arguments": {},
       "data": "<div class=\"ansiout\"></div>",
       "datasetInfos": [],
       "metadata": {},
       "removedWidgets": [],
       "type": "html"
      }
     },
     "output_type": "display_data"
    }
   ],
   "source": [
    "pipeline = Pipeline(stages=[assembler, rf])"
   ]
  },
  {
   "attachments": {},
   "cell_type": "markdown",
   "metadata": {
    "application/vnd.databricks.v1+cell": {
     "cellMetadata": {
      "byteLimit": 2048000,
      "rowLimit": 10000
     },
     "inputWidgets": {},
     "nuid": "353f5593-aab5-4617-b60d-3aea4b428767",
     "showTitle": false,
     "title": ""
    }
   },
   "source": [
    "## Question 26: Create a ParamGridBuilder and store the result to \"grid\". Add the following paramters and their ranges to \"grid\":\n",
    "1. assembler.inputCols, features_sets\n",
    "2. rf.numTrees, [20, 50, 100]\n",
    "3. rf.maxDepth, [2, 3, 5]\n",
    "4. rf.minInstancesPerNode, [1, 2, 3]"
   ]
  },
  {
   "cell_type": "code",
   "execution_count": null,
   "metadata": {
    "application/vnd.databricks.v1+cell": {
     "cellMetadata": {
      "byteLimit": 2048000,
      "rowLimit": 10000
     },
     "inputWidgets": {},
     "nuid": "9973b606-24a3-45c6-8154-c8858a0de502",
     "showTitle": false,
     "title": ""
    }
   },
   "outputs": [
    {
     "data": {
      "text/html": [
       "<style scoped>\n",
       "  .ansiout {\n",
       "    display: block;\n",
       "    unicode-bidi: embed;\n",
       "    white-space: pre-wrap;\n",
       "    word-wrap: break-word;\n",
       "    word-break: break-all;\n",
       "    font-family: \"Source Code Pro\", \"Menlo\", monospace;;\n",
       "    font-size: 13px;\n",
       "    color: #555;\n",
       "    margin-left: 4px;\n",
       "    line-height: 19px;\n",
       "  }\n",
       "</style>\n",
       "<div class=\"ansiout\"></div>"
      ]
     },
     "metadata": {
      "application/vnd.databricks.v1+output": {
       "addedWidgets": {},
       "arguments": {},
       "data": "<div class=\"ansiout\"></div>",
       "datasetInfos": [],
       "metadata": {},
       "removedWidgets": [],
       "type": "html"
      }
     },
     "output_type": "display_data"
    }
   ],
   "source": [
    "grid = ParamGridBuilder() \\\n",
    "    .addGrid(assembler.inputCols, features_sets) \\\n",
    "    .addGrid(rf.numTrees, [20, 50, 100]) \\\n",
    "    .addGrid(rf.maxDepth, [2, 3, 5]) \\\n",
    "    .addGrid(rf.minInstancesPerNode, [1, 2, 3]) \\\n",
    "    .build()"
   ]
  },
  {
   "attachments": {},
   "cell_type": "markdown",
   "metadata": {
    "application/vnd.databricks.v1+cell": {
     "cellMetadata": {
      "byteLimit": 2048000,
      "rowLimit": 10000
     },
     "inputWidgets": {},
     "nuid": "8e6adf44-97d9-47de-a84d-926b520924f7",
     "showTitle": false,
     "title": ""
    }
   },
   "source": [
    "## Question 27: Create a BinaryClassificationEvaluator and store the result to \"evaluator\"."
   ]
  },
  {
   "cell_type": "code",
   "execution_count": null,
   "metadata": {
    "application/vnd.databricks.v1+cell": {
     "cellMetadata": {
      "byteLimit": 2048000,
      "rowLimit": 10000
     },
     "inputWidgets": {},
     "nuid": "ee9fc7cd-08c1-4a51-99e6-2069b7b23b15",
     "showTitle": false,
     "title": ""
    }
   },
   "outputs": [
    {
     "data": {
      "text/html": [
       "<style scoped>\n",
       "  .ansiout {\n",
       "    display: block;\n",
       "    unicode-bidi: embed;\n",
       "    white-space: pre-wrap;\n",
       "    word-wrap: break-word;\n",
       "    word-break: break-all;\n",
       "    font-family: \"Source Code Pro\", \"Menlo\", monospace;;\n",
       "    font-size: 13px;\n",
       "    color: #555;\n",
       "    margin-left: 4px;\n",
       "    line-height: 19px;\n",
       "  }\n",
       "</style>\n",
       "<div class=\"ansiout\"></div>"
      ]
     },
     "metadata": {
      "application/vnd.databricks.v1+output": {
       "addedWidgets": {},
       "arguments": {},
       "data": "<div class=\"ansiout\"></div>",
       "datasetInfos": [],
       "metadata": {},
       "removedWidgets": [],
       "type": "html"
      }
     },
     "output_type": "display_data"
    }
   ],
   "source": [
    "evaluator = BinaryClassificationEvaluator()"
   ]
  },
  {
   "attachments": {},
   "cell_type": "markdown",
   "metadata": {
    "application/vnd.databricks.v1+cell": {
     "cellMetadata": {
      "byteLimit": 2048000,
      "rowLimit": 10000
     },
     "inputWidgets": {},
     "nuid": "5a20bc72-acd4-4ff8-9e93-336fd6109b3b",
     "showTitle": false,
     "title": ""
    }
   },
   "source": [
    "## Question 28: Create CrossValidator with the following options and store the result to \"cv\".\n",
    "1. estimator=pipeline\n",
    "2. estimatorParamMaps=grid\n",
    "3. evaluator=evaluator\n",
    "4. parallelism=2"
   ]
  },
  {
   "cell_type": "code",
   "execution_count": null,
   "metadata": {
    "application/vnd.databricks.v1+cell": {
     "cellMetadata": {
      "byteLimit": 2048000,
      "rowLimit": 10000
     },
     "inputWidgets": {},
     "nuid": "9632b37a-b352-4b03-ae74-cb0e25586da8",
     "showTitle": false,
     "title": ""
    }
   },
   "outputs": [
    {
     "data": {
      "text/html": [
       "<style scoped>\n",
       "  .ansiout {\n",
       "    display: block;\n",
       "    unicode-bidi: embed;\n",
       "    white-space: pre-wrap;\n",
       "    word-wrap: break-word;\n",
       "    word-break: break-all;\n",
       "    font-family: \"Source Code Pro\", \"Menlo\", monospace;;\n",
       "    font-size: 13px;\n",
       "    color: #555;\n",
       "    margin-left: 4px;\n",
       "    line-height: 19px;\n",
       "  }\n",
       "</style>\n",
       "<div class=\"ansiout\"></div>"
      ]
     },
     "metadata": {
      "application/vnd.databricks.v1+output": {
       "addedWidgets": {},
       "arguments": {},
       "data": "<div class=\"ansiout\"></div>",
       "datasetInfos": [],
       "metadata": {},
       "removedWidgets": [],
       "type": "html"
      }
     },
     "output_type": "display_data"
    }
   ],
   "source": [
    "cv = CrossValidator(estimator=pipeline,\n",
    "                    estimatorParamMaps=grid,\n",
    "                    evaluator=evaluator,\n",
    "                    parallelism=2)"
   ]
  },
  {
   "attachments": {},
   "cell_type": "markdown",
   "metadata": {
    "application/vnd.databricks.v1+cell": {
     "cellMetadata": {
      "byteLimit": 2048000,
      "rowLimit": 10000
     },
     "inputWidgets": {},
     "nuid": "e16e705a-952c-4e23-9f62-0f8e53a570b1",
     "showTitle": false,
     "title": ""
    }
   },
   "source": [
    "## Question 29: Fit the CrossValidator on the train set and store the result to \"cvModel\"."
   ]
  },
  {
   "cell_type": "code",
   "execution_count": null,
   "metadata": {
    "application/vnd.databricks.v1+cell": {
     "cellMetadata": {
      "byteLimit": 2048000,
      "rowLimit": 10000
     },
     "inputWidgets": {},
     "nuid": "f1c3aa47-cb20-41fe-b7f0-f4e8e4ea8980",
     "showTitle": false,
     "title": ""
    }
   },
   "outputs": [
    {
     "data": {
      "text/html": [
       "<style scoped>\n",
       "  .ansiout {\n",
       "    display: block;\n",
       "    unicode-bidi: embed;\n",
       "    white-space: pre-wrap;\n",
       "    word-wrap: break-word;\n",
       "    word-break: break-all;\n",
       "    font-family: \"Source Code Pro\", \"Menlo\", monospace;;\n",
       "    font-size: 13px;\n",
       "    color: #555;\n",
       "    margin-left: 4px;\n",
       "    line-height: 19px;\n",
       "  }\n",
       "</style>\n",
       "<div class=\"ansiout\">MLlib will automatically track trials in MLflow. After your tuning fit() call has completed, view the MLflow UI to see logged runs.\n",
       "</div>"
      ]
     },
     "metadata": {
      "application/vnd.databricks.v1+output": {
       "addedWidgets": {},
       "arguments": {},
       "data": "<div class=\"ansiout\">MLlib will automatically track trials in MLflow. After your tuning fit() call has completed, view the MLflow UI to see logged runs.\n</div>",
       "datasetInfos": [],
       "metadata": {},
       "removedWidgets": [],
       "type": "html"
      }
     },
     "output_type": "display_data"
    }
   ],
   "source": [
    "cvModel = cv.fit(train)"
   ]
  },
  {
   "attachments": {},
   "cell_type": "markdown",
   "metadata": {
    "application/vnd.databricks.v1+cell": {
     "cellMetadata": {
      "byteLimit": 2048000,
      "rowLimit": 10000
     },
     "inputWidgets": {},
     "nuid": "94a27af7-c87b-4188-85fb-ba00a70d3d45",
     "showTitle": false,
     "title": ""
    }
   },
   "source": [
    "## Question 30: Print out the avgMetrics of the \"cvModel\"."
   ]
  },
  {
   "cell_type": "code",
   "execution_count": null,
   "metadata": {
    "application/vnd.databricks.v1+cell": {
     "cellMetadata": {
      "byteLimit": 2048000,
      "rowLimit": 10000
     },
     "inputWidgets": {},
     "nuid": "6a9578c0-5166-4285-8355-387bc2cc6216",
     "showTitle": false,
     "title": ""
    }
   },
   "outputs": [
    {
     "data": {
      "text/html": [
       "<style scoped>\n",
       "  .ansiout {\n",
       "    display: block;\n",
       "    unicode-bidi: embed;\n",
       "    white-space: pre-wrap;\n",
       "    word-wrap: break-word;\n",
       "    word-break: break-all;\n",
       "    font-family: \"Source Code Pro\", \"Menlo\", monospace;;\n",
       "    font-size: 13px;\n",
       "    color: #555;\n",
       "    margin-left: 4px;\n",
       "    line-height: 19px;\n",
       "  }\n",
       "</style>\n",
       "<div class=\"ansiout\">[0.8679477279946136, 0.8679477279946136, 0.8679477279946136, 0.8737416351278243, 0.8737416351278243, 0.8737416351278243, 0.9043088010643154, 0.9043088010643154, 0.9043088010643154, 0.8679477279946136, 0.8679477279946136, 0.8679477279946136, 0.8737444344981768, 0.8737444344981768, 0.8737444344981768, 0.9125009467379886, 0.9125009467379886, 0.9125009467379886, 0.8697669637567318, 0.8697669637567318, 0.8697669637567318, 0.87374639436812, 0.87374639436812, 0.87374639436812, 0.9178161420648546, 0.9178161420648546, 0.9178161420648546, 0.9118065694727724, 0.9118065694727724, 0.9118065694727724, 0.9193528494397143, 0.9193528494397143, 0.9193528494397143, 0.9501568522102669, 0.9501568522102669, 0.9501568522102669, 0.9118566696962989, 0.9118566696962989, 0.9118566696962989, 0.919412498626424, 0.919412498626424, 0.919412498626424, 0.9501069276438716, 0.9501069276438716, 0.9501069276438716, 0.915190274223704, 0.915190274223704, 0.915190274223704, 0.9209965983627891, 0.9209965983627891, 0.9209965983627891, 0.9515772944851977, 0.9515772944851977, 0.9515772944851977, 0.568458381422759, 0.568458381422759, 0.568458381422759, 0.5688035179031773, 0.5688035179031773, 0.5688035179031773, 0.5964779240796839, 0.5964779240796839, 0.5964779240796839, 0.5696009083802174, 0.5696009083802174, 0.5696009083802174, 0.5698678440778688, 0.5698678440778688, 0.5698678440778688, 0.5987100199275918, 0.5987100199275918, 0.5987100199275918, 0.5720704708476191, 0.5720704708476191, 0.5720704708476191, 0.5723054952459444, 0.5723054952459444, 0.5723054952459444, 0.5987447840940411, 0.5987447840940411, 0.5987447840940411, 0.9133021085463615, 0.9133021085463615, 0.9133021085463615, 0.9600713210332401, 0.9600713210332401, 0.9600713210332401, 0.9667766638369439, 0.9667766638369439, 0.9667766638369439, 0.9133757806846443, 0.9133757806846443, 0.9133757806846443, 0.9611186501450607, 0.9611186501450607, 0.9611186501450607, 0.96775687677049, 0.96775687677049, 0.96775687677049, 0.9151084629250446, 0.9151084629250446, 0.9151084629250446, 0.9621850984835887, 0.9621850984835887, 0.9621850984835887, 0.9700148731390434, 0.970014847382016, 0.970014847382016]\n",
       "</div>"
      ]
     },
     "metadata": {
      "application/vnd.databricks.v1+output": {
       "addedWidgets": {},
       "arguments": {},
       "data": "<div class=\"ansiout\">[0.8679477279946136, 0.8679477279946136, 0.8679477279946136, 0.8737416351278243, 0.8737416351278243, 0.8737416351278243, 0.9043088010643154, 0.9043088010643154, 0.9043088010643154, 0.8679477279946136, 0.8679477279946136, 0.8679477279946136, 0.8737444344981768, 0.8737444344981768, 0.8737444344981768, 0.9125009467379886, 0.9125009467379886, 0.9125009467379886, 0.8697669637567318, 0.8697669637567318, 0.8697669637567318, 0.87374639436812, 0.87374639436812, 0.87374639436812, 0.9178161420648546, 0.9178161420648546, 0.9178161420648546, 0.9118065694727724, 0.9118065694727724, 0.9118065694727724, 0.9193528494397143, 0.9193528494397143, 0.9193528494397143, 0.9501568522102669, 0.9501568522102669, 0.9501568522102669, 0.9118566696962989, 0.9118566696962989, 0.9118566696962989, 0.919412498626424, 0.919412498626424, 0.919412498626424, 0.9501069276438716, 0.9501069276438716, 0.9501069276438716, 0.915190274223704, 0.915190274223704, 0.915190274223704, 0.9209965983627891, 0.9209965983627891, 0.9209965983627891, 0.9515772944851977, 0.9515772944851977, 0.9515772944851977, 0.568458381422759, 0.568458381422759, 0.568458381422759, 0.5688035179031773, 0.5688035179031773, 0.5688035179031773, 0.5964779240796839, 0.5964779240796839, 0.5964779240796839, 0.5696009083802174, 0.5696009083802174, 0.5696009083802174, 0.5698678440778688, 0.5698678440778688, 0.5698678440778688, 0.5987100199275918, 0.5987100199275918, 0.5987100199275918, 0.5720704708476191, 0.5720704708476191, 0.5720704708476191, 0.5723054952459444, 0.5723054952459444, 0.5723054952459444, 0.5987447840940411, 0.5987447840940411, 0.5987447840940411, 0.9133021085463615, 0.9133021085463615, 0.9133021085463615, 0.9600713210332401, 0.9600713210332401, 0.9600713210332401, 0.9667766638369439, 0.9667766638369439, 0.9667766638369439, 0.9133757806846443, 0.9133757806846443, 0.9133757806846443, 0.9611186501450607, 0.9611186501450607, 0.9611186501450607, 0.96775687677049, 0.96775687677049, 0.96775687677049, 0.9151084629250446, 0.9151084629250446, 0.9151084629250446, 0.9621850984835887, 0.9621850984835887, 0.9621850984835887, 0.9700148731390434, 0.970014847382016, 0.970014847382016]\n</div>",
       "datasetInfos": [],
       "metadata": {},
       "removedWidgets": [],
       "type": "html"
      }
     },
     "output_type": "display_data"
    }
   ],
   "source": [
    "print(cvModel.avgMetrics)"
   ]
  },
  {
   "attachments": {},
   "cell_type": "markdown",
   "metadata": {
    "application/vnd.databricks.v1+cell": {
     "cellMetadata": {
      "byteLimit": 2048000,
      "rowLimit": 10000
     },
     "inputWidgets": {},
     "nuid": "42dae90c-ccfd-4af0-804a-c775992d8df7",
     "showTitle": false,
     "title": ""
    }
   },
   "source": [
    "## Question 31: Save and load the cvModel."
   ]
  },
  {
   "cell_type": "code",
   "execution_count": null,
   "metadata": {
    "application/vnd.databricks.v1+cell": {
     "cellMetadata": {
      "byteLimit": 2048000,
      "rowLimit": 10000
     },
     "inputWidgets": {},
     "nuid": "2acc37d5-0577-4aab-9a60-b21fea7a15de",
     "showTitle": false,
     "title": ""
    }
   },
   "outputs": [
    {
     "data": {
      "text/html": [
       "<style scoped>\n",
       "  .ansiout {\n",
       "    display: block;\n",
       "    unicode-bidi: embed;\n",
       "    white-space: pre-wrap;\n",
       "    word-wrap: break-word;\n",
       "    word-break: break-all;\n",
       "    font-family: \"Source Code Pro\", \"Menlo\", monospace;;\n",
       "    font-size: 13px;\n",
       "    color: #555;\n",
       "    margin-left: 4px;\n",
       "    line-height: 19px;\n",
       "  }\n",
       "</style>\n",
       "<div class=\"ansiout\"></div>"
      ]
     },
     "metadata": {
      "application/vnd.databricks.v1+output": {
       "addedWidgets": {},
       "arguments": {},
       "data": "<div class=\"ansiout\"></div>",
       "datasetInfos": [],
       "metadata": {},
       "removedWidgets": [],
       "type": "html"
      }
     },
     "output_type": "display_data"
    }
   ],
   "source": [
    "path = \"dbfs:/FileStore/tables/ly364/models/\" \n",
    "model_path = path + \"rf_cvModel\" \n",
    "cvModel.write().overwrite().save(model_path) \n",
    "cvModel = CrossValidatorModel.read().load(model_path) "
   ]
  },
  {
   "attachments": {},
   "cell_type": "markdown",
   "metadata": {
    "application/vnd.databricks.v1+cell": {
     "cellMetadata": {
      "byteLimit": 2048000,
      "rowLimit": 10000
     },
     "inputWidgets": {},
     "nuid": "c00de0fd-46ae-4962-b86f-0aed434ff69d",
     "showTitle": false,
     "title": ""
    }
   },
   "source": [
    "## Question 32: Make predictions on the test data. Store the result to \"predictions\"."
   ]
  },
  {
   "cell_type": "code",
   "execution_count": null,
   "metadata": {
    "application/vnd.databricks.v1+cell": {
     "cellMetadata": {
      "byteLimit": 2048000,
      "rowLimit": 10000
     },
     "inputWidgets": {},
     "nuid": "224c1bea-da24-4f70-96f9-3df3d0d568b1",
     "showTitle": false,
     "title": ""
    }
   },
   "outputs": [
    {
     "data": {
      "text/html": [
       "<style scoped>\n",
       "  .ansiout {\n",
       "    display: block;\n",
       "    unicode-bidi: embed;\n",
       "    white-space: pre-wrap;\n",
       "    word-wrap: break-word;\n",
       "    word-break: break-all;\n",
       "    font-family: \"Source Code Pro\", \"Menlo\", monospace;;\n",
       "    font-size: 13px;\n",
       "    color: #555;\n",
       "    margin-left: 4px;\n",
       "    line-height: 19px;\n",
       "  }\n",
       "</style>\n",
       "<div class=\"ansiout\"></div>"
      ]
     },
     "metadata": {
      "application/vnd.databricks.v1+output": {
       "addedWidgets": {},
       "arguments": {},
       "data": "<div class=\"ansiout\"></div>",
       "datasetInfos": [],
       "metadata": {},
       "removedWidgets": [],
       "type": "html"
      }
     },
     "output_type": "display_data"
    }
   ],
   "source": [
    "# Make predictions on the test data\n",
    "predictions = cvModel.transform(test)"
   ]
  },
  {
   "attachments": {},
   "cell_type": "markdown",
   "metadata": {
    "application/vnd.databricks.v1+cell": {
     "cellMetadata": {
      "byteLimit": 2048000,
      "rowLimit": 10000
     },
     "inputWidgets": {},
     "nuid": "f760b21a-5527-4557-91c5-69b13d26f538",
     "showTitle": false,
     "title": ""
    }
   },
   "source": [
    "## Question 33: Create a MulticlassClassificationEvaluator and store the result to cvEvaluator."
   ]
  },
  {
   "cell_type": "code",
   "execution_count": null,
   "metadata": {
    "application/vnd.databricks.v1+cell": {
     "cellMetadata": {
      "byteLimit": 2048000,
      "rowLimit": 10000
     },
     "inputWidgets": {},
     "nuid": "1f6499e2-4d28-41c9-872a-d74b73e9b4b0",
     "showTitle": false,
     "title": ""
    }
   },
   "outputs": [
    {
     "data": {
      "text/html": [
       "<style scoped>\n",
       "  .ansiout {\n",
       "    display: block;\n",
       "    unicode-bidi: embed;\n",
       "    white-space: pre-wrap;\n",
       "    word-wrap: break-word;\n",
       "    word-break: break-all;\n",
       "    font-family: \"Source Code Pro\", \"Menlo\", monospace;;\n",
       "    font-size: 13px;\n",
       "    color: #555;\n",
       "    margin-left: 4px;\n",
       "    line-height: 19px;\n",
       "  }\n",
       "</style>\n",
       "<div class=\"ansiout\"></div>"
      ]
     },
     "metadata": {
      "application/vnd.databricks.v1+output": {
       "addedWidgets": {},
       "arguments": {},
       "data": "<div class=\"ansiout\"></div>",
       "datasetInfos": [],
       "metadata": {},
       "removedWidgets": [],
       "type": "html"
      }
     },
     "output_type": "display_data"
    }
   ],
   "source": [
    "# Create a MulticlassClassificationEvaluator\n",
    "cvEvaluator = MulticlassClassificationEvaluator()"
   ]
  },
  {
   "attachments": {},
   "cell_type": "markdown",
   "metadata": {
    "application/vnd.databricks.v1+cell": {
     "cellMetadata": {
      "byteLimit": 2048000,
      "rowLimit": 10000
     },
     "inputWidgets": {},
     "nuid": "d076ea4c-1bf5-4331-af0c-5f6d16b5037f",
     "showTitle": false,
     "title": ""
    }
   },
   "source": [
    "## Question 34: Print out the precision for label=1, i.e., ARR_DELAY >=15 minutes."
   ]
  },
  {
   "cell_type": "code",
   "execution_count": null,
   "metadata": {
    "application/vnd.databricks.v1+cell": {
     "cellMetadata": {
      "byteLimit": 2048000,
      "rowLimit": 10000
     },
     "inputWidgets": {},
     "nuid": "5813ccaf-f2de-4c54-a36a-72f40ec85eb2",
     "showTitle": false,
     "title": ""
    }
   },
   "outputs": [
    {
     "data": {
      "text/html": [
       "<style scoped>\n",
       "  .ansiout {\n",
       "    display: block;\n",
       "    unicode-bidi: embed;\n",
       "    white-space: pre-wrap;\n",
       "    word-wrap: break-word;\n",
       "    word-break: break-all;\n",
       "    font-family: \"Source Code Pro\", \"Menlo\", monospace;;\n",
       "    font-size: 13px;\n",
       "    color: #555;\n",
       "    margin-left: 4px;\n",
       "    line-height: 19px;\n",
       "  }\n",
       "</style>\n",
       "<div class=\"ansiout\">Precision for label=1 (ARR_DELAY &gt;=15 minutes): 0.9066738044254105\n",
       "</div>"
      ]
     },
     "metadata": {
      "application/vnd.databricks.v1+output": {
       "addedWidgets": {},
       "arguments": {},
       "data": "<div class=\"ansiout\">Precision for label=1 (ARR_DELAY &gt;=15 minutes): 0.9066738044254105\n</div>",
       "datasetInfos": [],
       "metadata": {},
       "removedWidgets": [],
       "type": "html"
      }
     },
     "output_type": "display_data"
    }
   ],
   "source": [
    "# Set the label column to \"label\"\n",
    "cvEvaluator.setLabelCol(\"label\")\n",
    "\n",
    "# Set the metric name to \"precision\" and set the target class to 1\n",
    "cvEvaluator.setMetricName(\"precisionByLabel\")\n",
    "cvEvaluator.setMetricLabel(1)\n",
    "\n",
    "# Calculate the precision for label=1\n",
    "precision_label_1 = cvEvaluator.evaluate(predictions)\n",
    "\n",
    "# Print the precision for label=1\n",
    "print(\"Precision for label=1 (ARR_DELAY >=15 minutes):\", precision_label_1)\n"
   ]
  },
  {
   "attachments": {},
   "cell_type": "markdown",
   "metadata": {
    "application/vnd.databricks.v1+cell": {
     "cellMetadata": {
      "byteLimit": 2048000,
      "rowLimit": 10000
     },
     "inputWidgets": {},
     "nuid": "84fb2bc3-e7bc-4b8f-9745-6c7f414b8a83",
     "showTitle": false,
     "title": ""
    }
   },
   "source": [
    "## Question 35: Print out the recall for label=1, i.e., ARR_DELAY >=15 minutes."
   ]
  },
  {
   "cell_type": "code",
   "execution_count": null,
   "metadata": {
    "application/vnd.databricks.v1+cell": {
     "cellMetadata": {
      "byteLimit": 2048000,
      "rowLimit": 10000
     },
     "inputWidgets": {},
     "nuid": "b21e0ac8-549e-4d71-a5e0-0fce481e0e8f",
     "showTitle": false,
     "title": ""
    }
   },
   "outputs": [
    {
     "data": {
      "text/html": [
       "<style scoped>\n",
       "  .ansiout {\n",
       "    display: block;\n",
       "    unicode-bidi: embed;\n",
       "    white-space: pre-wrap;\n",
       "    word-wrap: break-word;\n",
       "    word-break: break-all;\n",
       "    font-family: \"Source Code Pro\", \"Menlo\", monospace;;\n",
       "    font-size: 13px;\n",
       "    color: #555;\n",
       "    margin-left: 4px;\n",
       "    line-height: 19px;\n",
       "  }\n",
       "</style>\n",
       "<div class=\"ansiout\">Precision for label=1 (ARR_DELAY &gt;=15 minutes): 0.8021153997947746\n",
       "</div>"
      ]
     },
     "metadata": {
      "application/vnd.databricks.v1+output": {
       "addedWidgets": {},
       "arguments": {},
       "data": "<div class=\"ansiout\">Precision for label=1 (ARR_DELAY &gt;=15 minutes): 0.8021153997947746\n</div>",
       "datasetInfos": [],
       "metadata": {},
       "removedWidgets": [],
       "type": "html"
      }
     },
     "output_type": "display_data"
    }
   ],
   "source": [
    "# Set the label column to \"label\"\n",
    "cvEvaluator.setLabelCol(\"label\")\n",
    "\n",
    "# Set the metric name to \"precision\" and set the target class to 1\n",
    "cvEvaluator.setMetricName(\"recallByLabel\")\n",
    "cvEvaluator.setMetricLabel(1)\n",
    "\n",
    "# Calculate the precision for label=1\n",
    "precision_label_1 = cvEvaluator.evaluate(predictions)\n",
    "\n",
    "# Print the precision for label=1\n",
    "print(\"Precision for label=1 (ARR_DELAY >=15 minutes):\", precision_label_1)\n"
   ]
  },
  {
   "attachments": {},
   "cell_type": "markdown",
   "metadata": {
    "application/vnd.databricks.v1+cell": {
     "cellMetadata": {
      "byteLimit": 2048000,
      "rowLimit": 10000
     },
     "inputWidgets": {},
     "nuid": "7eebb49a-dd4b-4595-8df6-b98b524b642b",
     "showTitle": false,
     "title": ""
    }
   },
   "source": [
    "## Question 36: Print out the precision for label=0, i.e., ARR_DELAY < 15 minutes."
   ]
  },
  {
   "cell_type": "code",
   "execution_count": null,
   "metadata": {
    "application/vnd.databricks.v1+cell": {
     "cellMetadata": {
      "byteLimit": 2048000,
      "rowLimit": 10000
     },
     "inputWidgets": {},
     "nuid": "15e45104-e368-4ceb-b010-c381a54596f2",
     "showTitle": false,
     "title": ""
    }
   },
   "outputs": [
    {
     "data": {
      "text/html": [
       "<style scoped>\n",
       "  .ansiout {\n",
       "    display: block;\n",
       "    unicode-bidi: embed;\n",
       "    white-space: pre-wrap;\n",
       "    word-wrap: break-word;\n",
       "    word-break: break-all;\n",
       "    font-family: \"Source Code Pro\", \"Menlo\", monospace;;\n",
       "    font-size: 13px;\n",
       "    color: #555;\n",
       "    margin-left: 4px;\n",
       "    line-height: 19px;\n",
       "  }\n",
       "</style>\n",
       "<div class=\"ansiout\">Precision for label=0 (ARR_DELAY &lt; 15 minutes): 0.9579320065778434\n",
       "</div>"
      ]
     },
     "metadata": {
      "application/vnd.databricks.v1+output": {
       "addedWidgets": {},
       "arguments": {},
       "data": "<div class=\"ansiout\">Precision for label=0 (ARR_DELAY &lt; 15 minutes): 0.9579320065778434\n</div>",
       "datasetInfos": [],
       "metadata": {},
       "removedWidgets": [],
       "type": "html"
      }
     },
     "output_type": "display_data"
    }
   ],
   "source": [
    "# Set the label column to \"label\"\n",
    "cvEvaluator.setLabelCol(\"label\")\n",
    "\n",
    "# Set the metric name to \"precision\" and set the target class to 0\n",
    "cvEvaluator.setMetricName(\"precisionByLabel\")\n",
    "cvEvaluator.setMetricLabel(0)\n",
    "\n",
    "# Calculate the precision for label=0\n",
    "precision_label_0 = cvEvaluator.evaluate(predictions)\n",
    "\n",
    "# Print the precision for label=0\n",
    "print(\"Precision for label=0 (ARR_DELAY < 15 minutes):\", precision_label_0)"
   ]
  },
  {
   "attachments": {},
   "cell_type": "markdown",
   "metadata": {
    "application/vnd.databricks.v1+cell": {
     "cellMetadata": {
      "byteLimit": 2048000,
      "rowLimit": 10000
     },
     "inputWidgets": {},
     "nuid": "6eb790fb-0361-4238-b31e-764458fe7dac",
     "showTitle": false,
     "title": ""
    }
   },
   "source": [
    "## Question 37: Print out the recall for label=0, i.e., ARR_DELAY  < 15 minutes."
   ]
  },
  {
   "cell_type": "code",
   "execution_count": null,
   "metadata": {
    "application/vnd.databricks.v1+cell": {
     "cellMetadata": {
      "byteLimit": 2048000,
      "rowLimit": 10000
     },
     "inputWidgets": {},
     "nuid": "d531840a-8dda-41e4-af6f-5ce5ee0db796",
     "showTitle": false,
     "title": ""
    }
   },
   "outputs": [
    {
     "data": {
      "text/html": [
       "<style scoped>\n",
       "  .ansiout {\n",
       "    display: block;\n",
       "    unicode-bidi: embed;\n",
       "    white-space: pre-wrap;\n",
       "    word-wrap: break-word;\n",
       "    word-break: break-all;\n",
       "    font-family: \"Source Code Pro\", \"Menlo\", monospace;;\n",
       "    font-size: 13px;\n",
       "    color: #555;\n",
       "    margin-left: 4px;\n",
       "    line-height: 19px;\n",
       "  }\n",
       "</style>\n",
       "<div class=\"ansiout\">Recall for label=0 (ARR_DELAY &lt; 15 minutes): 0.982006777561798\n",
       "</div>"
      ]
     },
     "metadata": {
      "application/vnd.databricks.v1+output": {
       "addedWidgets": {},
       "arguments": {},
       "data": "<div class=\"ansiout\">Recall for label=0 (ARR_DELAY &lt; 15 minutes): 0.982006777561798\n</div>",
       "datasetInfos": [],
       "metadata": {},
       "removedWidgets": [],
       "type": "html"
      }
     },
     "output_type": "display_data"
    }
   ],
   "source": [
    "# Set the label column to \"label\"\n",
    "cvEvaluator.setLabelCol(\"label\")\n",
    "\n",
    "# Set the metric name to \"recall\" and set the target class to 0\n",
    "cvEvaluator.setMetricName(\"recallByLabel\")\n",
    "cvEvaluator.setMetricLabel(0)\n",
    "\n",
    "# Calculate the recall for label=0\n",
    "recall_label_0 = cvEvaluator.evaluate(predictions)\n",
    "\n",
    "# Print the recall for label=0\n",
    "print(\"Recall for label=0 (ARR_DELAY < 15 minutes):\", recall_label_0)"
   ]
  },
  {
   "attachments": {},
   "cell_type": "markdown",
   "metadata": {
    "application/vnd.databricks.v1+cell": {
     "cellMetadata": {
      "byteLimit": 2048000,
      "rowLimit": 10000
     },
     "inputWidgets": {},
     "nuid": "9668ac65-fe96-42dd-8590-597b0fb4ee4b",
     "showTitle": false,
     "title": ""
    }
   },
   "source": [
    "## Question 38: What are the feature combination and hyperparameter values for the best model? Did the best model improve the label=1 precision and recall compared to the model before cross validation tuning? Could you continue to improve the model?"
   ]
  },
  {
   "cell_type": "code",
   "execution_count": null,
   "metadata": {
    "application/vnd.databricks.v1+cell": {
     "cellMetadata": {
      "byteLimit": 2048000,
      "rowLimit": 10000
     },
     "inputWidgets": {},
     "nuid": "fb110794-2d95-49da-b5ef-97ab4bea55df",
     "showTitle": false,
     "title": ""
    }
   },
   "outputs": [
    {
     "data": {
      "text/html": [
       "<style scoped>\n",
       "  .ansiout {\n",
       "    display: block;\n",
       "    unicode-bidi: embed;\n",
       "    white-space: pre-wrap;\n",
       "    word-wrap: break-word;\n",
       "    word-break: break-all;\n",
       "    font-family: \"Source Code Pro\", \"Menlo\", monospace;;\n",
       "    font-size: 13px;\n",
       "    color: #555;\n",
       "    margin-left: 4px;\n",
       "    line-height: 19px;\n",
       "  }\n",
       "</style>\n",
       "<div class=\"ansiout\">Feature Combination: [&#39;DEP_DELAY&#39;, &#39;TAXI_OUT&#39;, &#39;DISTANCE&#39;]\n",
       "Num Trees: 100\n",
       "Max Depth: &lt;bound method _DecisionTreeParams.getMaxDepth of RandomForestClassificationModel: uid=RandomForestClassifier_13d0865feda7, numTrees=100, numClasses=2, numFeatures=3&gt;\n",
       "Min Instances Per Node: &lt;bound method _DecisionTreeParams.getMinInstancesPerNode of RandomForestClassificationModel: uid=RandomForestClassifier_13d0865feda7, numTrees=100, numClasses=2, numFeatures=3&gt;\n",
       "</div>"
      ]
     },
     "metadata": {
      "application/vnd.databricks.v1+output": {
       "addedWidgets": {},
       "arguments": {},
       "data": "<div class=\"ansiout\">Feature Combination: [&#39;DEP_DELAY&#39;, &#39;TAXI_OUT&#39;, &#39;DISTANCE&#39;]\nNum Trees: 100\nMax Depth: &lt;bound method _DecisionTreeParams.getMaxDepth of RandomForestClassificationModel: uid=RandomForestClassifier_13d0865feda7, numTrees=100, numClasses=2, numFeatures=3&gt;\nMin Instances Per Node: &lt;bound method _DecisionTreeParams.getMinInstancesPerNode of RandomForestClassificationModel: uid=RandomForestClassifier_13d0865feda7, numTrees=100, numClasses=2, numFeatures=3&gt;\n</div>",
       "datasetInfos": [],
       "metadata": {},
       "removedWidgets": [],
       "type": "html"
      }
     },
     "output_type": "display_data"
    }
   ],
   "source": [
    "# Get the best model from the CrossValidator\n",
    "bestModel = cvModel.bestModel\n",
    "\n",
    "# Retrieve the stages of the best model\n",
    "stages = bestModel.stages\n",
    "\n",
    "# Extract the VectorAssembler stage\n",
    "assembler = stages[0]\n",
    "\n",
    "# Get the feature combination from the VectorAssembler\n",
    "featureCombination = assembler.getInputCols()\n",
    "\n",
    "# Extract the RandomForestClassifier stage\n",
    "rf = stages[1]\n",
    "\n",
    "# Get the hyperparameter values from the RandomForestClassifier\n",
    "numTrees = rf.getNumTrees\n",
    "maxDepth = rf.getMaxDepth\n",
    "minInstancesPerNode = rf.getMinInstancesPerNode\n",
    "\n",
    "# Print the feature combination and hyperparameter values\n",
    "print(\"Feature Combination:\", featureCombination)\n",
    "print(\"Num Trees:\", numTrees)\n",
    "print(\"Max Depth:\", maxDepth)\n",
    "print(\"Min Instances Per Node:\", minInstancesPerNode)"
   ]
  },
  {
   "attachments": {},
   "cell_type": "markdown",
   "metadata": {},
   "source": [
    "In the code above, we first retrieve the best model from the CrossValidator object cvModel and store it in the variable bestModel. We then access the stages of the best model using the stages attribute. The first stage is the VectorAssembler, so we extract it from the stages list and store it in the variable assembler. Next, we retrieve the feature combination used by the VectorAssembler using getInputCols().\n",
    "\n",
    "Similarly, we extract the RandomForestClassifier stage from the stages list and store it in the variable rf. Finally, we access the hyperparameter values from the RandomForestClassifier using the appropriate methods (getNumTrees, getMaxDepth, getMinInstancesPerNode).\n",
    "\n",
    "The code snippet prints the feature combination and hyperparameter values using print()."
   ]
  },
  {
   "attachments": {},
   "cell_type": "markdown",
   "metadata": {},
   "source": [
    "To assess if further improvement is possible, wewe can analyze the performance of the best model and consider additional approaches, such as:\n",
    "\n",
    "1. Feature Engineering: Explore different feature combinations, derive new features, or apply feature transformations to enhance the model's predictive power. Experiment with domain-specific knowledge or feature selection techniques to select the most informative features.\n",
    "\n",
    "2. Hyperparameter Tuning: Although the best model from the CrossValidator performed well, there might be further room for improvement by fine-tuning the hyperparameters of the RandomForestClassifier. You can perform a more extensive search using a wider range of parameter values or try different optimization algorithms like Bayesian Optimization or GridSearchCV.\n",
    "\n",
    "3. Model Selection: Apart from the RandomForestClassifier, you can try other machine learning algorithms that are suitable for classification tasks, such as Gradient Boosting, Support Vector Machines, or Neural Networks. Compare their performance with the RandomForestClassifier to determine if a different algorithm yields better results.\n",
    "\n",
    "4. Ensemble Methods: Consider utilizing ensemble methods like Bagging or Stacking, where multiple models are combined to make predictions. By combining different models with diverse characteristics, you may improve the overall performance and robustness of the predictive model.\n",
    "\n",
    "5. Data Augmentation: If the available dataset is limited, you can explore techniques like data augmentation to generate additional training samples. This can involve techniques such as oversampling the minority class (label=1) or applying synthetic data generation methods."
   ]
  },
  {
   "attachments": {},
   "cell_type": "markdown",
   "metadata": {},
   "source": []
  }
 ],
 "metadata": {
  "application/vnd.databricks.v1+notebook": {
   "dashboards": [],
   "language": "python",
   "notebookMetadata": {
    "pythonIndentUnit": 4
   },
   "notebookName": "INFO323-Assignment4 (2)",
   "widgets": {}
  },
  "kernelspec": {
   "display_name": "Python 3",
   "language": "python",
   "name": "python3"
  },
  "language_info": {
   "codemirror_mode": {
    "name": "ipython",
    "version": 3
   },
   "file_extension": ".py",
   "mimetype": "text/x-python",
   "name": "python",
   "nbconvert_exporter": "python",
   "pygments_lexer": "ipython3",
   "version": "3.7.6"
  }
 },
 "nbformat": 4,
 "nbformat_minor": 0
}
