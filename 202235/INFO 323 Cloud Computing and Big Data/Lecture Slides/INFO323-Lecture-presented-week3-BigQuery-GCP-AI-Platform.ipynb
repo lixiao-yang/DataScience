{
 "cells": [
  {
   "cell_type": "markdown",
   "metadata": {},
   "source": [
    "<h1 style=\"text-align:center\"> INFO 323: Cloud Computing and Big Data</h1>\n",
    "<h2 style=\"text-align:center\"> College of Computing and Informatics</h2>\n",
    "<h2 style=\"text-align:center\">Drexel University</h2>\n",
    "\n",
    "<h3 style=\"text-align:center\"> Exploratory Data Analysis using BigQuery on Flights Data</h3>\n",
    "<h3 style=\"text-align:center\"> Yuan An, PhD</h3>\n",
    "<h3 style=\"text-align:center\">Associate Professor</h3>"
   ]
  },
  {
   "attachments": {},
   "cell_type": "markdown",
   "metadata": {},
   "source": [
    "Reference: Data Science on the Google Cloud Platform. Valliappa Lakshmanan. O'Reilly, 2ed, April 2022\n",
    "\n",
    "Ch5. Interactive Data Exploration"
   ]
  },
  {
   "cell_type": "code",
   "execution_count": 1,
   "metadata": {},
   "outputs": [],
   "source": [
    "import matplotlib.pyplot as plt\n",
    "import seaborn as sns\n",
    "import pandas as pd\n",
    "import numpy as np\n",
    "\n",
    "from google.cloud import bigquery"
   ]
  },
  {
   "cell_type": "code",
   "execution_count": 2,
   "metadata": {},
   "outputs": [],
   "source": [
    "bq = bigquery.Client()"
   ]
  },
  {
   "attachments": {},
   "cell_type": "markdown",
   "metadata": {},
   "source": [
    "## Data Ingest:\n",
    "### Go to the Storage section of the GCP web console and create a new bucket\n",
    "### Open CloudShell and git clone this repo: `git clone https://github.com/GoogleCloudPlatform/data-science-on-gcp`\n",
    "### Then, run:\n",
    "- `cd data-science-on-gcp/02_ingest`\n",
    "- `./ingest_from_crsbucket bucketname`\n",
    "- `./bqload.sh (csv-bucket-name) YEAR`\n",
    "- `cd ../03_sqlstudio`\n",
    "- `./create_views.sh`\n",
    "- `cd ../04_streaming`\n",
    "- `./ingest_from_crsbucket.sh`\n",
    "\n",
    "After the above steps, 26 JSON files should appear in the folder \"flights/tzcorr/' in the bucket. A table  `flights_tzcorr`  should appear in BigQuery under the dataset `dsongcp`. Use these data to conduct the exploratory data analsysis."
   ]
  },
  {
   "attachments": {},
   "cell_type": "markdown",
   "id": "6c9d4db7",
   "metadata": {},
   "source": [
    "## Vertex AI Workbench \n",
    "GCP Vertex AI workbench provides a hosted version of JupyterLab on Google Cloud; it knows how to authenticate against Google Cloud so as to provide easy access to Cloud Storage, BigQuery, Cloud Dataflow, Vertex AI Training, and so on. "
   ]
  },
  {
   "attachments": {},
   "cell_type": "markdown",
   "id": "48363064",
   "metadata": {},
   "source": [
    "## Jupyter magics \n",
    "Jupyter magics provide a mechanism to run a wide variety of languages and ways to add some more. The BigQuery Python package has added a few magics to make the interaction with Google Cloud Platform convenient.\n",
    "\n",
    "For example, you can run a query on your BigQuery table using the `%%bigquery` magic environment that comes with Vertex AI Workbench:\n",
    "\n",
    "```\n",
    "%%bigquery\n",
    "SELECT\n",
    "  COUNTIF(arr_delay >= 15)/COUNT(arr_delay) AS frac_delayed\n",
    "FROM dsongcp.flights_tzcorr\n",
    "```"
   ]
  },
  {
   "attachments": {},
   "cell_type": "markdown",
   "id": "8dfe24cb",
   "metadata": {},
   "source": [
    "## BigQuery from Python\n",
    "If there is a piece of code that you’d ultimately want to run outside a notebook (perhaps as part of a scheduled script), it’s better to use the underlying Python and not the magic pragma:15\n",
    "\n",
    "```\n",
    "sql = \"\"\"\n",
    "SELECT\n",
    "  COUNTIF(arr_delay >= 15)/COUNT(arr_delay) AS frac_delayed\n",
    "FROM dsongcp.flights_tzcorr\n",
    "\"\"\"\n",
    "from google.cloud import bigquery\n",
    "bq = bigquery.Client()\n",
    "df = bq.query(sql).to_dataframe()\n",
    "print(df)\n",
    "```"
   ]
  },
  {
   "attachments": {},
   "cell_type": "markdown",
   "id": "7d93caec",
   "metadata": {},
   "source": [
    "## Exploring Arrival Delays\n",
    "Now that we have a notebook up and running, let’s use it to do exploratory analysis of arrival delays because this is the variable we want to be able to predict."
   ]
  },
  {
   "attachments": {},
   "cell_type": "markdown",
   "id": "0fcf8c8d",
   "metadata": {},
   "source": [
    "## Basic Statistics\n",
    "Find he arrival delay for flights that depart more than 10 minutes late. Get the basis statistics using Pandas DataFrame describe()."
   ]
  },
  {
   "cell_type": "code",
   "execution_count": null,
   "id": "5af0937a",
   "metadata": {},
   "outputs": [],
   "source": []
  },
  {
   "attachments": {},
   "cell_type": "markdown",
   "id": "7bee20cd",
   "metadata": {},
   "source": [
    "## Plot Distribution \n",
    "Plot a violin plot of our decision surface, i.e., of the arrival delay for flights that depart more than 10 minutes late."
   ]
  },
  {
   "cell_type": "code",
   "execution_count": null,
   "id": "1a702552",
   "metadata": {},
   "outputs": [],
   "source": []
  },
  {
   "attachments": {},
   "cell_type": "markdown",
   "id": "26bbbc71",
   "metadata": {},
   "source": [
    "## Probabilistic Analysis"
   ]
  },
  {
   "attachments": {},
   "cell_type": "markdown",
   "metadata": {},
   "source": [
    "### Query 1: \n",
    "Find average departure and arrival delays at each airport in the US, retain only airports where there were at least 3650 flights, and sort them by departure delay in descending order."
   ]
  },
  {
   "cell_type": "code",
   "execution_count": null,
   "metadata": {},
   "outputs": [],
   "source": []
  },
  {
   "attachments": {},
   "cell_type": "markdown",
   "metadata": {},
   "source": [
    "### Query 2: \n",
    "Assume a flight is delayed if its arrival delay was more than 15 minutes. Find the percentage of the delayed flights."
   ]
  },
  {
   "cell_type": "code",
   "execution_count": null,
   "metadata": {},
   "outputs": [],
   "source": []
  },
  {
   "attachments": {},
   "cell_type": "markdown",
   "metadata": {},
   "source": [
    "### Query 3: \n",
    "Create a DataFrame containing the ARR_DELAY and DEP_DELAY of 1% of the flights that were departed 15 minutes later than scheduled time. Show the summary statistics of the DataFrame."
   ]
  },
  {
   "cell_type": "code",
   "execution_count": null,
   "metadata": {},
   "outputs": [],
   "source": []
  },
  {
   "attachments": {},
   "cell_type": "markdown",
   "metadata": {},
   "source": [
    "### Visualization: \n",
    "Plot the distribution of the ARR_DELAY of the flights extracted in the DataFrame of Query 3."
   ]
  },
  {
   "cell_type": "code",
   "execution_count": null,
   "metadata": {},
   "outputs": [],
   "source": []
  },
  {
   "attachments": {},
   "cell_type": "markdown",
   "metadata": {},
   "source": [
    "### Query 4: \n",
    "Create a DataFrame containing the ARR_DELAY and DEP_DELAY of 0.1% of all flights. Show the summary statistics of the DataFrame."
   ]
  },
  {
   "cell_type": "code",
   "execution_count": null,
   "metadata": {},
   "outputs": [],
   "source": []
  },
  {
   "attachments": {},
   "cell_type": "markdown",
   "metadata": {},
   "source": [
    "### Adding Label Column: \n",
    "Add a new column 'ontime' to the DataFrame extracted in Query 4 using the following conditions. Show the summary statistics including the 'ontime' column.\n",
    "-  'ontime' = True if the DEP_DELAY is less than 15 minutes. \n",
    "-  Otherwise, 'ontime' = False."
   ]
  },
  {
   "cell_type": "code",
   "execution_count": null,
   "metadata": {},
   "outputs": [],
   "source": []
  },
  {
   "attachments": {},
   "cell_type": "markdown",
   "metadata": {},
   "source": [
    "### Visualization: \n",
    "Plot and compare the distributions of ARR_DELAY for flights with 'ontime' = True and flights with 'ontime' = False using the DataFrame above."
   ]
  },
  {
   "cell_type": "code",
   "execution_count": null,
   "metadata": {},
   "outputs": [],
   "source": []
  },
  {
   "attachments": {},
   "cell_type": "markdown",
   "metadata": {},
   "source": [
    "### Query 5: \n",
    "Create a DataFrame containing the average ARR_DELAY and total number of flights for each DEP_DELAY. Order the results by DEP_DELAY in ascending order. Show the head of the DataFrame."
   ]
  },
  {
   "cell_type": "code",
   "execution_count": null,
   "metadata": {},
   "outputs": [],
   "source": []
  },
  {
   "attachments": {},
   "cell_type": "markdown",
   "metadata": {},
   "source": [
    "### Query 6: \n",
    "Same as above. Create a DataFrame by removing the records with the total number of flights fewer than 365.  Add a column corresponding to the standard deviation of the ARR_DELAY. Show the head of the DataFrame."
   ]
  },
  {
   "cell_type": "code",
   "execution_count": null,
   "metadata": {},
   "outputs": [],
   "source": []
  },
  {
   "attachments": {},
   "cell_type": "markdown",
   "metadata": {},
   "source": [
    "### Visualization: \n",
    "Plot the relations between DEP_DELAYs and its means and standard deviations of ARR_DELAYs using the DataFrame extracted in Query 6."
   ]
  },
  {
   "cell_type": "code",
   "execution_count": null,
   "metadata": {},
   "outputs": [],
   "source": []
  },
  {
   "attachments": {},
   "cell_type": "markdown",
   "metadata": {},
   "source": [
    "### Make Probabilistic Suggestion for Canceling a Meeting at Destination: \n",
    "Assume we have an important meeting at destination. We want to decide whether to postpone or cancel the meeting depending on the predicted arrival delay time. Our decision criterion is 15 minutes and 30%. That is, if the plane is more than 30% likely to be delayed (on arrival) by more than 15 minutes, we want to send a text message asking to postpone or cancel the meeting. At what departure delay does this happen? Plot the data to find the DEP_DELAY where there is a 30% chance that the ARR_DELAY is more than 15 minutes using the DataFrame extracted in Query 6."
   ]
  },
  {
   "cell_type": "code",
   "execution_count": null,
   "metadata": {},
   "outputs": [],
   "source": []
  }
 ],
 "metadata": {
  "environment": {
   "kernel": "python3",
   "name": "common-cpu.m91",
   "type": "gcloud",
   "uri": "gcr.io/deeplearning-platform-release/base-cpu:m91"
  },
  "kernelspec": {
   "display_name": "Python 3",
   "language": "python",
   "name": "python3"
  },
  "language_info": {
   "codemirror_mode": {
    "name": "ipython",
    "version": 3
   },
   "file_extension": ".py",
   "mimetype": "text/x-python",
   "name": "python",
   "nbconvert_exporter": "python",
   "pygments_lexer": "ipython3",
   "version": "3.7.6"
  }
 },
 "nbformat": 4,
 "nbformat_minor": 5
}
