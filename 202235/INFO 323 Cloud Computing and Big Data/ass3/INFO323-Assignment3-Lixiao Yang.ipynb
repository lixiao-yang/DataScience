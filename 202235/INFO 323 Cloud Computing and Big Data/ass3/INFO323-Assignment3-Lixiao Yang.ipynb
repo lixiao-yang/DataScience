{
 "cells": [
  {
   "cell_type": "markdown",
   "metadata": {
    "application/vnd.databricks.v1+cell": {
     "cellMetadata": {
      "byteLimit": 2048000,
      "rowLimit": 10000
     },
     "inputWidgets": {},
     "nuid": "3b338f5d-6b2f-44ca-bdaf-60d535b0ee50",
     "showTitle": false,
     "title": ""
    }
   },
   "source": [
    "<h1 style=\"text-align:center\"> Drexel University </h1>\n",
    "<h2 style = \"text-align:center\"> College of Computing and Informatics</h2>\n",
    "<h2 style = \"text-align:center\">INFO 323: Cloud Computing and Big Data</h2>\n",
    "<h3 style = \"text-align:center\">Assignment 3: Spark Data Analysis</h3>\n",
    "<div style=\"text-align:center; border-style:solid; padding: 10px\">\n",
    "<div style=\"font-weight:bold\">Due Date: Sunday, May 21, 2023</div>\n",
    "This assignment counts for 10% of the final grade\n",
    "</div>\n",
    "\n",
    "### A. Assignment Overview\n",
    "This assignment provides the opportunity for you to practice with Spark programming basics. \n",
    "\n",
    "### B. What to Hand In\n",
    "\t\n",
    "Sumbit a completed this Jupyter notebook. \n",
    "\n",
    "### C. How to Hand In\n",
    "\n",
    "Submit your Jupyter notebook file through the course website in the Blackboard Learn system.\n",
    "\n",
    "### D. When to Hand In\n",
    "\n",
    "1. Submit your assignment no later than 11:59pm in the due date.\n",
    "2. There will be a 10% (absolute value) deduction for each day of lateness, to a maximum of 3 days; assignments will not be accepted beyond that point. Missing work will earn a zero grade.\n",
    "\n",
    "### E. Answer the following questions\n",
    "### Note: All the programming must be done in Spark."
   ]
  },
  {
   "cell_type": "markdown",
   "metadata": {
    "application/vnd.databricks.v1+cell": {
     "cellMetadata": {
      "byteLimit": 2048000,
      "rowLimit": 10000
     },
     "inputWidgets": {},
     "nuid": "ffc26a5a-6931-4495-9c3d-cb81e8a19b45",
     "showTitle": false,
     "title": ""
    }
   },
   "source": [
    "# <span style=\"color:red\">Add Your Name Here after the colon: Lixiao Yang</span>"
   ]
  },
  {
   "cell_type": "code",
   "execution_count": 0,
   "metadata": {
    "application/vnd.databricks.v1+cell": {
     "cellMetadata": {
      "byteLimit": 2048000,
      "rowLimit": 10000
     },
     "inputWidgets": {},
     "nuid": "3382c272-59a6-44a9-8ef3-7f0d37efc032",
     "showTitle": false,
     "title": ""
    }
   },
   "outputs": [
    {
     "output_type": "display_data",
     "data": {
      "text/html": [
       "<style scoped>\n",
       "  .ansiout {\n",
       "    display: block;\n",
       "    unicode-bidi: embed;\n",
       "    white-space: pre-wrap;\n",
       "    word-wrap: break-word;\n",
       "    word-break: break-all;\n",
       "    font-family: \"Source Code Pro\", \"Menlo\", monospace;;\n",
       "    font-size: 13px;\n",
       "    color: #555;\n",
       "    margin-left: 4px;\n",
       "    line-height: 19px;\n",
       "  }\n",
       "</style>\n",
       "<div class=\"ansiout\"></div>"
      ]
     },
     "metadata": {
      "application/vnd.databricks.v1+output": {
       "addedWidgets": {},
       "arguments": {},
       "data": "<div class=\"ansiout\"></div>",
       "datasetInfos": [],
       "metadata": {},
       "removedWidgets": [],
       "type": "html"
      }
     },
     "output_type": "display_data"
    }
   ],
   "source": [
    "# import packages\n",
    "import matplotlib.pyplot as plt\n",
    "import seaborn as sns\n",
    "import pandas as pd\n",
    "import numpy as np"
   ]
  },
  {
   "cell_type": "code",
   "execution_count": 0,
   "metadata": {
    "application/vnd.databricks.v1+cell": {
     "cellMetadata": {
      "byteLimit": 2048000,
      "rowLimit": 10000
     },
     "inputWidgets": {},
     "nuid": "896d3ac7-a049-47f5-b967-6a266f6ca7c3",
     "showTitle": false,
     "title": ""
    }
   },
   "outputs": [
    {
     "output_type": "display_data",
     "data": {
      "text/html": [
       "<style scoped>\n",
       "  .ansiout {\n",
       "    display: block;\n",
       "    unicode-bidi: embed;\n",
       "    white-space: pre-wrap;\n",
       "    word-wrap: break-word;\n",
       "    word-break: break-all;\n",
       "    font-family: \"Source Code Pro\", \"Menlo\", monospace;;\n",
       "    font-size: 13px;\n",
       "    color: #555;\n",
       "    margin-left: 4px;\n",
       "    line-height: 19px;\n",
       "  }\n",
       "</style>\n",
       "<div class=\"ansiout\">Out[3]: &#39;3.1.2&#39;</div>"
      ]
     },
     "metadata": {
      "application/vnd.databricks.v1+output": {
       "addedWidgets": {},
       "arguments": {},
       "data": "<div class=\"ansiout\">Out[3]: &#39;3.1.2&#39;</div>",
       "datasetInfos": [],
       "metadata": {},
       "removedWidgets": [],
       "type": "html"
      }
     },
     "output_type": "display_data"
    }
   ],
   "source": [
    "# check availability of Spark\n",
    "spark.version"
   ]
  },
  {
   "cell_type": "markdown",
   "metadata": {
    "application/vnd.databricks.v1+cell": {
     "cellMetadata": {
      "byteLimit": 2048000,
      "rowLimit": 10000
     },
     "inputWidgets": {},
     "nuid": "69581143-27f9-448f-8462-227af1956d9a",
     "showTitle": false,
     "title": ""
    }
   },
   "source": [
    "## Data Ingest:\n",
    "### Go to the Storage section of the GCP web console and create a new bucket\n",
    "### Open CloudShell and git clone this repo: `git clone https://github.com/GoogleCloudPlatform/data-science-on-gcp`\n",
    "### Then, run:\n",
    "- `cd data-science-on-gcp/02_ingest`\n",
    "- `./ingest_from_crsbucket bucketname`\n",
    "- `./bqload.sh (csv-bucket-name) YEAR`\n",
    "- `cd ../03_sqlstudio`\n",
    "- `./create_views.sh`\n",
    "- `cd ../04_streaming`\n",
    "- `./ingest_from_crsbucket.sh`\n",
    "\n",
    "After the above steps, 26 JSON files should appear in the folder \"flights/tzcorr/' in the bucket."
   ]
  },
  {
   "cell_type": "code",
   "execution_count": 0,
   "metadata": {
    "application/vnd.databricks.v1+cell": {
     "cellMetadata": {
      "byteLimit": 2048000,
      "rowLimit": 10000
     },
     "inputWidgets": {},
     "nuid": "1425a5f9-33fb-4a3f-973f-d5b82a73710e",
     "showTitle": false,
     "title": ""
    }
   },
   "outputs": [
    {
     "output_type": "display_data",
     "data": {
      "text/html": [
       "<style scoped>\n",
       "  .ansiout {\n",
       "    display: block;\n",
       "    unicode-bidi: embed;\n",
       "    white-space: pre-wrap;\n",
       "    word-wrap: break-word;\n",
       "    word-break: break-all;\n",
       "    font-family: \"Source Code Pro\", \"Menlo\", monospace;;\n",
       "    font-size: 13px;\n",
       "    color: #555;\n",
       "    margin-left: 4px;\n",
       "    line-height: 19px;\n",
       "  }\n",
       "</style>\n",
       "<div class=\"ansiout\">Out[4]: [FileInfo(path=&#39;s3://info323-ya45-spring2023/tzcorr/flights_tzcorr_all_flights-00000-of-00026.json&#39;, name=&#39;flights_tzcorr_all_flights-00000-of-00026.json&#39;, size=45703666),\n",
       " FileInfo(path=&#39;s3://info323-ya45-spring2023/tzcorr/flights_tzcorr_all_flights-00001-of-00026.json&#39;, name=&#39;flights_tzcorr_all_flights-00001-of-00026.json&#39;, size=210304842),\n",
       " FileInfo(path=&#39;s3://info323-ya45-spring2023/tzcorr/flights_tzcorr_all_flights-00002-of-00026.json&#39;, name=&#39;flights_tzcorr_all_flights-00002-of-00026.json&#39;, size=53048572),\n",
       " FileInfo(path=&#39;s3://info323-ya45-spring2023/tzcorr/flights_tzcorr_all_flights-00003-of-00026.json&#39;, name=&#39;flights_tzcorr_all_flights-00003-of-00026.json&#39;, size=16055501),\n",
       " FileInfo(path=&#39;s3://info323-ya45-spring2023/tzcorr/flights_tzcorr_all_flights-00004-of-00026.json&#39;, name=&#39;flights_tzcorr_all_flights-00004-of-00026.json&#39;, size=457125784),\n",
       " FileInfo(path=&#39;s3://info323-ya45-spring2023/tzcorr/flights_tzcorr_all_flights-00005-of-00026.json&#39;, name=&#39;flights_tzcorr_all_flights-00005-of-00026.json&#39;, size=34867958),\n",
       " FileInfo(path=&#39;s3://info323-ya45-spring2023/tzcorr/flights_tzcorr_all_flights-00006-of-00026.json&#39;, name=&#39;flights_tzcorr_all_flights-00006-of-00026.json&#39;, size=99665215),\n",
       " FileInfo(path=&#39;s3://info323-ya45-spring2023/tzcorr/flights_tzcorr_all_flights-00007-of-00026.json&#39;, name=&#39;flights_tzcorr_all_flights-00007-of-00026.json&#39;, size=260615598),\n",
       " FileInfo(path=&#39;s3://info323-ya45-spring2023/tzcorr/flights_tzcorr_all_flights-00008-of-00026.json&#39;, name=&#39;flights_tzcorr_all_flights-00008-of-00026.json&#39;, size=26363387),\n",
       " FileInfo(path=&#39;s3://info323-ya45-spring2023/tzcorr/flights_tzcorr_all_flights-00009-of-00026.json&#39;, name=&#39;flights_tzcorr_all_flights-00009-of-00026.json&#39;, size=296051786),\n",
       " FileInfo(path=&#39;s3://info323-ya45-spring2023/tzcorr/flights_tzcorr_all_flights-00010-of-00026.json&#39;, name=&#39;flights_tzcorr_all_flights-00010-of-00026.json&#39;, size=19868932),\n",
       " FileInfo(path=&#39;s3://info323-ya45-spring2023/tzcorr/flights_tzcorr_all_flights-00011-of-00026.json&#39;, name=&#39;flights_tzcorr_all_flights-00011-of-00026.json&#39;, size=227308594),\n",
       " FileInfo(path=&#39;s3://info323-ya45-spring2023/tzcorr/flights_tzcorr_all_flights-00012-of-00026.json&#39;, name=&#39;flights_tzcorr_all_flights-00012-of-00026.json&#39;, size=12452046),\n",
       " FileInfo(path=&#39;s3://info323-ya45-spring2023/tzcorr/flights_tzcorr_all_flights-00013-of-00026.json&#39;, name=&#39;flights_tzcorr_all_flights-00013-of-00026.json&#39;, size=44214516),\n",
       " FileInfo(path=&#39;s3://info323-ya45-spring2023/tzcorr/flights_tzcorr_all_flights-00014-of-00026.json&#39;, name=&#39;flights_tzcorr_all_flights-00014-of-00026.json&#39;, size=19493083),\n",
       " FileInfo(path=&#39;s3://info323-ya45-spring2023/tzcorr/flights_tzcorr_all_flights-00015-of-00026.json&#39;, name=&#39;flights_tzcorr_all_flights-00015-of-00026.json&#39;, size=253026311),\n",
       " FileInfo(path=&#39;s3://info323-ya45-spring2023/tzcorr/flights_tzcorr_all_flights-00016-of-00026.json&#39;, name=&#39;flights_tzcorr_all_flights-00016-of-00026.json&#39;, size=229340092),\n",
       " FileInfo(path=&#39;s3://info323-ya45-spring2023/tzcorr/flights_tzcorr_all_flights-00017-of-00026.json&#39;, name=&#39;flights_tzcorr_all_flights-00017-of-00026.json&#39;, size=461509894),\n",
       " FileInfo(path=&#39;s3://info323-ya45-spring2023/tzcorr/flights_tzcorr_all_flights-00018-of-00026.json&#39;, name=&#39;flights_tzcorr_all_flights-00018-of-00026.json&#39;, size=7979298),\n",
       " FileInfo(path=&#39;s3://info323-ya45-spring2023/tzcorr/flights_tzcorr_all_flights-00019-of-00026.json&#39;, name=&#39;flights_tzcorr_all_flights-00019-of-00026.json&#39;, size=3341618),\n",
       " FileInfo(path=&#39;s3://info323-ya45-spring2023/tzcorr/flights_tzcorr_all_flights-00020-of-00026.json&#39;, name=&#39;flights_tzcorr_all_flights-00020-of-00026.json&#39;, size=1541142),\n",
       " FileInfo(path=&#39;s3://info323-ya45-spring2023/tzcorr/flights_tzcorr_all_flights-00021-of-00026.json&#39;, name=&#39;flights_tzcorr_all_flights-00021-of-00026.json&#39;, size=8896756),\n",
       " FileInfo(path=&#39;s3://info323-ya45-spring2023/tzcorr/flights_tzcorr_all_flights-00022-of-00026.json&#39;, name=&#39;flights_tzcorr_all_flights-00022-of-00026.json&#39;, size=508281771),\n",
       " FileInfo(path=&#39;s3://info323-ya45-spring2023/tzcorr/flights_tzcorr_all_flights-00023-of-00026.json&#39;, name=&#39;flights_tzcorr_all_flights-00023-of-00026.json&#39;, size=162268634),\n",
       " FileInfo(path=&#39;s3://info323-ya45-spring2023/tzcorr/flights_tzcorr_all_flights-00024-of-00026.json&#39;, name=&#39;flights_tzcorr_all_flights-00024-of-00026.json&#39;, size=613958506),\n",
       " FileInfo(path=&#39;s3://info323-ya45-spring2023/tzcorr/flights_tzcorr_all_flights-00025-of-00026.json&#39;, name=&#39;flights_tzcorr_all_flights-00025-of-00026.json&#39;, size=5146159)]</div>"
      ]
     },
     "metadata": {
      "application/vnd.databricks.v1+output": {
       "addedWidgets": {},
       "arguments": {},
       "data": "<div class=\"ansiout\">Out[4]: [FileInfo(path=&#39;s3://info323-ya45-spring2023/tzcorr/flights_tzcorr_all_flights-00000-of-00026.json&#39;, name=&#39;flights_tzcorr_all_flights-00000-of-00026.json&#39;, size=45703666),\n FileInfo(path=&#39;s3://info323-ya45-spring2023/tzcorr/flights_tzcorr_all_flights-00001-of-00026.json&#39;, name=&#39;flights_tzcorr_all_flights-00001-of-00026.json&#39;, size=210304842),\n FileInfo(path=&#39;s3://info323-ya45-spring2023/tzcorr/flights_tzcorr_all_flights-00002-of-00026.json&#39;, name=&#39;flights_tzcorr_all_flights-00002-of-00026.json&#39;, size=53048572),\n FileInfo(path=&#39;s3://info323-ya45-spring2023/tzcorr/flights_tzcorr_all_flights-00003-of-00026.json&#39;, name=&#39;flights_tzcorr_all_flights-00003-of-00026.json&#39;, size=16055501),\n FileInfo(path=&#39;s3://info323-ya45-spring2023/tzcorr/flights_tzcorr_all_flights-00004-of-00026.json&#39;, name=&#39;flights_tzcorr_all_flights-00004-of-00026.json&#39;, size=457125784),\n FileInfo(path=&#39;s3://info323-ya45-spring2023/tzcorr/flights_tzcorr_all_flights-00005-of-00026.json&#39;, name=&#39;flights_tzcorr_all_flights-00005-of-00026.json&#39;, size=34867958),\n FileInfo(path=&#39;s3://info323-ya45-spring2023/tzcorr/flights_tzcorr_all_flights-00006-of-00026.json&#39;, name=&#39;flights_tzcorr_all_flights-00006-of-00026.json&#39;, size=99665215),\n FileInfo(path=&#39;s3://info323-ya45-spring2023/tzcorr/flights_tzcorr_all_flights-00007-of-00026.json&#39;, name=&#39;flights_tzcorr_all_flights-00007-of-00026.json&#39;, size=260615598),\n FileInfo(path=&#39;s3://info323-ya45-spring2023/tzcorr/flights_tzcorr_all_flights-00008-of-00026.json&#39;, name=&#39;flights_tzcorr_all_flights-00008-of-00026.json&#39;, size=26363387),\n FileInfo(path=&#39;s3://info323-ya45-spring2023/tzcorr/flights_tzcorr_all_flights-00009-of-00026.json&#39;, name=&#39;flights_tzcorr_all_flights-00009-of-00026.json&#39;, size=296051786),\n FileInfo(path=&#39;s3://info323-ya45-spring2023/tzcorr/flights_tzcorr_all_flights-00010-of-00026.json&#39;, name=&#39;flights_tzcorr_all_flights-00010-of-00026.json&#39;, size=19868932),\n FileInfo(path=&#39;s3://info323-ya45-spring2023/tzcorr/flights_tzcorr_all_flights-00011-of-00026.json&#39;, name=&#39;flights_tzcorr_all_flights-00011-of-00026.json&#39;, size=227308594),\n FileInfo(path=&#39;s3://info323-ya45-spring2023/tzcorr/flights_tzcorr_all_flights-00012-of-00026.json&#39;, name=&#39;flights_tzcorr_all_flights-00012-of-00026.json&#39;, size=12452046),\n FileInfo(path=&#39;s3://info323-ya45-spring2023/tzcorr/flights_tzcorr_all_flights-00013-of-00026.json&#39;, name=&#39;flights_tzcorr_all_flights-00013-of-00026.json&#39;, size=44214516),\n FileInfo(path=&#39;s3://info323-ya45-spring2023/tzcorr/flights_tzcorr_all_flights-00014-of-00026.json&#39;, name=&#39;flights_tzcorr_all_flights-00014-of-00026.json&#39;, size=19493083),\n FileInfo(path=&#39;s3://info323-ya45-spring2023/tzcorr/flights_tzcorr_all_flights-00015-of-00026.json&#39;, name=&#39;flights_tzcorr_all_flights-00015-of-00026.json&#39;, size=253026311),\n FileInfo(path=&#39;s3://info323-ya45-spring2023/tzcorr/flights_tzcorr_all_flights-00016-of-00026.json&#39;, name=&#39;flights_tzcorr_all_flights-00016-of-00026.json&#39;, size=229340092),\n FileInfo(path=&#39;s3://info323-ya45-spring2023/tzcorr/flights_tzcorr_all_flights-00017-of-00026.json&#39;, name=&#39;flights_tzcorr_all_flights-00017-of-00026.json&#39;, size=461509894),\n FileInfo(path=&#39;s3://info323-ya45-spring2023/tzcorr/flights_tzcorr_all_flights-00018-of-00026.json&#39;, name=&#39;flights_tzcorr_all_flights-00018-of-00026.json&#39;, size=7979298),\n FileInfo(path=&#39;s3://info323-ya45-spring2023/tzcorr/flights_tzcorr_all_flights-00019-of-00026.json&#39;, name=&#39;flights_tzcorr_all_flights-00019-of-00026.json&#39;, size=3341618),\n FileInfo(path=&#39;s3://info323-ya45-spring2023/tzcorr/flights_tzcorr_all_flights-00020-of-00026.json&#39;, name=&#39;flights_tzcorr_all_flights-00020-of-00026.json&#39;, size=1541142),\n FileInfo(path=&#39;s3://info323-ya45-spring2023/tzcorr/flights_tzcorr_all_flights-00021-of-00026.json&#39;, name=&#39;flights_tzcorr_all_flights-00021-of-00026.json&#39;, size=8896756),\n FileInfo(path=&#39;s3://info323-ya45-spring2023/tzcorr/flights_tzcorr_all_flights-00022-of-00026.json&#39;, name=&#39;flights_tzcorr_all_flights-00022-of-00026.json&#39;, size=508281771),\n FileInfo(path=&#39;s3://info323-ya45-spring2023/tzcorr/flights_tzcorr_all_flights-00023-of-00026.json&#39;, name=&#39;flights_tzcorr_all_flights-00023-of-00026.json&#39;, size=162268634),\n FileInfo(path=&#39;s3://info323-ya45-spring2023/tzcorr/flights_tzcorr_all_flights-00024-of-00026.json&#39;, name=&#39;flights_tzcorr_all_flights-00024-of-00026.json&#39;, size=613958506),\n FileInfo(path=&#39;s3://info323-ya45-spring2023/tzcorr/flights_tzcorr_all_flights-00025-of-00026.json&#39;, name=&#39;flights_tzcorr_all_flights-00025-of-00026.json&#39;, size=5146159)]</div>",
       "datasetInfos": [],
       "metadata": {},
       "removedWidgets": [],
       "type": "html"
      }
     },
     "output_type": "display_data"
    }
   ],
   "source": [
    "dbutils.fs.ls(\"s3://info323-ya45-spring2023/tzcorr\")"
   ]
  },
  {
   "cell_type": "markdown",
   "metadata": {
    "application/vnd.databricks.v1+cell": {
     "cellMetadata": {
      "byteLimit": 2048000,
      "rowLimit": 10000
     },
     "inputWidgets": {},
     "nuid": "51f31726-b1ec-4cf6-81a7-95fa4522890b",
     "showTitle": false,
     "title": ""
    }
   },
   "source": [
    "## 1. Create a Spark DataFrame from one of the \"all_flights-000xx-of-00026\" JSON files."
   ]
  },
  {
   "cell_type": "code",
   "execution_count": 0,
   "metadata": {
    "application/vnd.databricks.v1+cell": {
     "cellMetadata": {
      "byteLimit": 2048000,
      "rowLimit": 10000
     },
     "inputWidgets": {},
     "nuid": "966963b0-df39-4d06-a395-aa749b0497ea",
     "showTitle": false,
     "title": ""
    }
   },
   "outputs": [
    {
     "output_type": "display_data",
     "data": {
      "text/html": [
       "<style scoped>\n",
       "  .ansiout {\n",
       "    display: block;\n",
       "    unicode-bidi: embed;\n",
       "    white-space: pre-wrap;\n",
       "    word-wrap: break-word;\n",
       "    word-break: break-all;\n",
       "    font-family: \"Source Code Pro\", \"Menlo\", monospace;;\n",
       "    font-size: 13px;\n",
       "    color: #555;\n",
       "    margin-left: 4px;\n",
       "    line-height: 19px;\n",
       "  }\n",
       "</style>\n",
       "<div class=\"ansiout\">Out[5]: [Row(ARR_AIRPORT_LAT=18.43944444, ARR_AIRPORT_LON=-66.00222222, ARR_AIRPORT_TZOFFSET=-14400.0, ARR_DELAY=-15.0, ARR_TIME=&#39;2015-12-02T15:37:00&#39;, CANCELLED=False, CRS_ARR_TIME=&#39;2015-12-02T15:52:00&#39;, CRS_DEP_TIME=&#39;2015-12-02T11:59:00&#39;, DEP_AIRPORT_LAT=40.64, DEP_AIRPORT_LON=-73.77861111, DEP_AIRPORT_TZOFFSET=-18000.0, DEP_DELAY=-2.0, DEP_TIME=&#39;2015-12-02T11:57:00&#39;, DEST=&#39;SJU&#39;, DEST_AIRPORT_SEQ_ID=&#39;1484304&#39;, DISTANCE=&#39;1598.00&#39;, DIVERTED=False, FL_DATE=&#39;2015-12-02&#39;, ORIGIN=&#39;JFK&#39;, ORIGIN_AIRPORT_SEQ_ID=&#39;1247803&#39;, TAXI_IN=3.0, TAXI_OUT=25.0, UNIQUE_CARRIER=&#39;B6&#39;, WHEELS_OFF=&#39;2015-12-02T12:22:00&#39;, WHEELS_ON=&#39;2015-12-02T15:34:00&#39;),\n",
       " Row(ARR_AIRPORT_LAT=18.43944444, ARR_AIRPORT_LON=-66.00222222, ARR_AIRPORT_TZOFFSET=-14400.0, ARR_DELAY=13.0, ARR_TIME=&#39;2015-12-07T00:41:00&#39;, CANCELLED=False, CRS_ARR_TIME=&#39;2015-12-07T00:28:00&#39;, CRS_DEP_TIME=&#39;2015-12-06T20:30:00&#39;, DEP_AIRPORT_LAT=40.64, DEP_AIRPORT_LON=-73.77861111, DEP_AIRPORT_TZOFFSET=-18000.0, DEP_DELAY=11.0, DEP_TIME=&#39;2015-12-06T20:41:00&#39;, DEST=&#39;SJU&#39;, DEST_AIRPORT_SEQ_ID=&#39;1484304&#39;, DISTANCE=&#39;1598.00&#39;, DIVERTED=False, FL_DATE=&#39;2015-12-06&#39;, ORIGIN=&#39;JFK&#39;, ORIGIN_AIRPORT_SEQ_ID=&#39;1247803&#39;, TAXI_IN=6.0, TAXI_OUT=39.0, UNIQUE_CARRIER=&#39;B6&#39;, WHEELS_OFF=&#39;2015-12-06T21:20:00&#39;, WHEELS_ON=&#39;2015-12-07T00:35:00&#39;),\n",
       " Row(ARR_AIRPORT_LAT=18.43944444, ARR_AIRPORT_LON=-66.00222222, ARR_AIRPORT_TZOFFSET=-14400.0, ARR_DELAY=63.0, ARR_TIME=&#39;2015-12-14T09:45:00&#39;, CANCELLED=False, CRS_ARR_TIME=&#39;2015-12-14T08:42:00&#39;, CRS_DEP_TIME=&#39;2015-12-15T04:59:00&#39;, DEP_AIRPORT_LAT=40.64, DEP_AIRPORT_LON=-73.77861111, DEP_AIRPORT_TZOFFSET=-18000.0, DEP_DELAY=64.0, DEP_TIME=&#39;2015-12-14T06:03:00&#39;, DEST=&#39;SJU&#39;, DEST_AIRPORT_SEQ_ID=&#39;1484304&#39;, DISTANCE=&#39;1598.00&#39;, DIVERTED=False, FL_DATE=&#39;2015-12-14&#39;, ORIGIN=&#39;JFK&#39;, ORIGIN_AIRPORT_SEQ_ID=&#39;1247803&#39;, TAXI_IN=4.0, TAXI_OUT=23.0, UNIQUE_CARRIER=&#39;B6&#39;, WHEELS_OFF=&#39;2015-12-14T06:26:00&#39;, WHEELS_ON=&#39;2015-12-14T09:41:00&#39;),\n",
       " Row(ARR_AIRPORT_LAT=18.43944444, ARR_AIRPORT_LON=-66.00222222, ARR_AIRPORT_TZOFFSET=-14400.0, ARR_DELAY=9.0, ARR_TIME=&#39;2015-12-13T20:39:00&#39;, CANCELLED=False, CRS_ARR_TIME=&#39;2015-12-13T20:30:00&#39;, CRS_DEP_TIME=&#39;2015-12-13T16:46:00&#39;, DEP_AIRPORT_LAT=40.64, DEP_AIRPORT_LON=-73.77861111, DEP_AIRPORT_TZOFFSET=-18000.0, DEP_DELAY=17.0, DEP_TIME=&#39;2015-12-13T17:03:00&#39;, DEST=&#39;SJU&#39;, DEST_AIRPORT_SEQ_ID=&#39;1484304&#39;, DISTANCE=&#39;1598.00&#39;, DIVERTED=False, FL_DATE=&#39;2015-12-13&#39;, ORIGIN=&#39;JFK&#39;, ORIGIN_AIRPORT_SEQ_ID=&#39;1247803&#39;, TAXI_IN=4.0, TAXI_OUT=22.0, UNIQUE_CARRIER=&#39;B6&#39;, WHEELS_OFF=&#39;2015-12-13T17:25:00&#39;, WHEELS_ON=&#39;2015-12-13T20:35:00&#39;),\n",
       " Row(ARR_AIRPORT_LAT=18.43944444, ARR_AIRPORT_LON=-66.00222222, ARR_AIRPORT_TZOFFSET=-14400.0, ARR_DELAY=-9.0, ARR_TIME=&#39;2015-12-13T03:33:00&#39;, CANCELLED=False, CRS_ARR_TIME=&#39;2015-12-13T03:42:00&#39;, CRS_DEP_TIME=&#39;2015-12-12T23:47:00&#39;, DEP_AIRPORT_LAT=40.64, DEP_AIRPORT_LON=-73.77861111, DEP_AIRPORT_TZOFFSET=-18000.0, DEP_DELAY=-2.0, DEP_TIME=&#39;2015-12-12T23:45:00&#39;, DEST=&#39;SJU&#39;, DEST_AIRPORT_SEQ_ID=&#39;1484304&#39;, DISTANCE=&#39;1598.00&#39;, DIVERTED=False, FL_DATE=&#39;2015-12-12&#39;, ORIGIN=&#39;JFK&#39;, ORIGIN_AIRPORT_SEQ_ID=&#39;1247803&#39;, TAXI_IN=5.0, TAXI_OUT=25.0, UNIQUE_CARRIER=&#39;B6&#39;, WHEELS_OFF=&#39;2015-12-13T00:10:00&#39;, WHEELS_ON=&#39;2015-12-13T03:28:00&#39;),\n",
       " Row(ARR_AIRPORT_LAT=18.43944444, ARR_AIRPORT_LON=-66.00222222, ARR_AIRPORT_TZOFFSET=-14400.0, ARR_DELAY=-2.0, ARR_TIME=&#39;2015-12-28T23:37:00&#39;, CANCELLED=False, CRS_ARR_TIME=&#39;2015-12-28T23:39:00&#39;, CRS_DEP_TIME=&#39;2015-12-28T19:49:00&#39;, DEP_AIRPORT_LAT=40.64, DEP_AIRPORT_LON=-73.77861111, DEP_AIRPORT_TZOFFSET=-18000.0, DEP_DELAY=9.0, DEP_TIME=&#39;2015-12-28T19:58:00&#39;, DEST=&#39;SJU&#39;, DEST_AIRPORT_SEQ_ID=&#39;1484304&#39;, DISTANCE=&#39;1598.00&#39;, DIVERTED=False, FL_DATE=&#39;2015-12-28&#39;, ORIGIN=&#39;JFK&#39;, ORIGIN_AIRPORT_SEQ_ID=&#39;1247803&#39;, TAXI_IN=6.0, TAXI_OUT=24.0, UNIQUE_CARRIER=&#39;B6&#39;, WHEELS_OFF=&#39;2015-12-28T20:22:00&#39;, WHEELS_ON=&#39;2015-12-28T23:31:00&#39;),\n",
       " Row(ARR_AIRPORT_LAT=18.43944444, ARR_AIRPORT_LON=-66.00222222, ARR_AIRPORT_TZOFFSET=-14400.0, ARR_DELAY=-1.0, ARR_TIME=&#39;2015-12-26T23:38:00&#39;, CANCELLED=False, CRS_ARR_TIME=&#39;2015-12-26T23:39:00&#39;, CRS_DEP_TIME=&#39;2015-12-26T19:49:00&#39;, DEP_AIRPORT_LAT=40.64, DEP_AIRPORT_LON=-73.77861111, DEP_AIRPORT_TZOFFSET=-18000.0, DEP_DELAY=6.0, DEP_TIME=&#39;2015-12-26T19:55:00&#39;, DEST=&#39;SJU&#39;, DEST_AIRPORT_SEQ_ID=&#39;1484304&#39;, DISTANCE=&#39;1598.00&#39;, DIVERTED=False, FL_DATE=&#39;2015-12-26&#39;, ORIGIN=&#39;JFK&#39;, ORIGIN_AIRPORT_SEQ_ID=&#39;1247803&#39;, TAXI_IN=5.0, TAXI_OUT=23.0, UNIQUE_CARRIER=&#39;B6&#39;, WHEELS_OFF=&#39;2015-12-26T20:18:00&#39;, WHEELS_ON=&#39;2015-12-26T23:33:00&#39;),\n",
       " Row(ARR_AIRPORT_LAT=18.43944444, ARR_AIRPORT_LON=-66.00222222, ARR_AIRPORT_TZOFFSET=-14400.0, ARR_DELAY=26.0, ARR_TIME=&#39;2015-12-30T09:06:00&#39;, CANCELLED=False, CRS_ARR_TIME=&#39;2015-12-30T08:40:00&#39;, CRS_DEP_TIME=&#39;2015-12-31T04:59:00&#39;, DEP_AIRPORT_LAT=40.64, DEP_AIRPORT_LON=-73.77861111, DEP_AIRPORT_TZOFFSET=-18000.0, DEP_DELAY=21.0, DEP_TIME=&#39;2015-12-30T05:20:00&#39;, DEST=&#39;SJU&#39;, DEST_AIRPORT_SEQ_ID=&#39;1484304&#39;, DISTANCE=&#39;1598.00&#39;, DIVERTED=False, FL_DATE=&#39;2015-12-30&#39;, ORIGIN=&#39;JFK&#39;, ORIGIN_AIRPORT_SEQ_ID=&#39;1247803&#39;, TAXI_IN=6.0, TAXI_OUT=22.0, UNIQUE_CARRIER=&#39;B6&#39;, WHEELS_OFF=&#39;2015-12-30T05:42:00&#39;, WHEELS_ON=&#39;2015-12-30T09:00:00&#39;),\n",
       " Row(ARR_AIRPORT_LAT=18.43944444, ARR_AIRPORT_LON=-66.00222222, ARR_AIRPORT_TZOFFSET=-14400.0, ARR_DELAY=19.0, ARR_TIME=&#39;2015-12-27T22:03:00&#39;, CANCELLED=False, CRS_ARR_TIME=&#39;2015-12-27T21:44:00&#39;, CRS_DEP_TIME=&#39;2015-12-27T18:00:00&#39;, DEP_AIRPORT_LAT=40.64, DEP_AIRPORT_LON=-73.77861111, DEP_AIRPORT_TZOFFSET=-18000.0, DEP_DELAY=19.0, DEP_TIME=&#39;2015-12-27T18:19:00&#39;, DEST=&#39;SJU&#39;, DEST_AIRPORT_SEQ_ID=&#39;1484304&#39;, DISTANCE=&#39;1598.00&#39;, DIVERTED=False, FL_DATE=&#39;2015-12-27&#39;, ORIGIN=&#39;JFK&#39;, ORIGIN_AIRPORT_SEQ_ID=&#39;1247803&#39;, TAXI_IN=7.0, TAXI_OUT=19.0, UNIQUE_CARRIER=&#39;B6&#39;, WHEELS_OFF=&#39;2015-12-27T18:38:00&#39;, WHEELS_ON=&#39;2015-12-27T21:56:00&#39;),\n",
       " Row(ARR_AIRPORT_LAT=18.43944444, ARR_AIRPORT_LON=-66.00222222, ARR_AIRPORT_TZOFFSET=-14400.0, ARR_DELAY=-4.0, ARR_TIME=&#39;2015-12-29T23:35:00&#39;, CANCELLED=False, CRS_ARR_TIME=&#39;2015-12-29T23:39:00&#39;, CRS_DEP_TIME=&#39;2015-12-29T19:49:00&#39;, DEP_AIRPORT_LAT=40.64, DEP_AIRPORT_LON=-73.77861111, DEP_AIRPORT_TZOFFSET=-18000.0, DEP_DELAY=1.0, DEP_TIME=&#39;2015-12-29T19:50:00&#39;, DEST=&#39;SJU&#39;, DEST_AIRPORT_SEQ_ID=&#39;1484304&#39;, DISTANCE=&#39;1598.00&#39;, DIVERTED=False, FL_DATE=&#39;2015-12-29&#39;, ORIGIN=&#39;JFK&#39;, ORIGIN_AIRPORT_SEQ_ID=&#39;1247803&#39;, TAXI_IN=4.0, TAXI_OUT=26.0, UNIQUE_CARRIER=&#39;B6&#39;, WHEELS_OFF=&#39;2015-12-29T20:16:00&#39;, WHEELS_ON=&#39;2015-12-29T23:31:00&#39;)]</div>"
      ]
     },
     "metadata": {
      "application/vnd.databricks.v1+output": {
       "addedWidgets": {},
       "arguments": {},
       "data": "<div class=\"ansiout\">Out[5]: [Row(ARR_AIRPORT_LAT=18.43944444, ARR_AIRPORT_LON=-66.00222222, ARR_AIRPORT_TZOFFSET=-14400.0, ARR_DELAY=-15.0, ARR_TIME=&#39;2015-12-02T15:37:00&#39;, CANCELLED=False, CRS_ARR_TIME=&#39;2015-12-02T15:52:00&#39;, CRS_DEP_TIME=&#39;2015-12-02T11:59:00&#39;, DEP_AIRPORT_LAT=40.64, DEP_AIRPORT_LON=-73.77861111, DEP_AIRPORT_TZOFFSET=-18000.0, DEP_DELAY=-2.0, DEP_TIME=&#39;2015-12-02T11:57:00&#39;, DEST=&#39;SJU&#39;, DEST_AIRPORT_SEQ_ID=&#39;1484304&#39;, DISTANCE=&#39;1598.00&#39;, DIVERTED=False, FL_DATE=&#39;2015-12-02&#39;, ORIGIN=&#39;JFK&#39;, ORIGIN_AIRPORT_SEQ_ID=&#39;1247803&#39;, TAXI_IN=3.0, TAXI_OUT=25.0, UNIQUE_CARRIER=&#39;B6&#39;, WHEELS_OFF=&#39;2015-12-02T12:22:00&#39;, WHEELS_ON=&#39;2015-12-02T15:34:00&#39;),\n Row(ARR_AIRPORT_LAT=18.43944444, ARR_AIRPORT_LON=-66.00222222, ARR_AIRPORT_TZOFFSET=-14400.0, ARR_DELAY=13.0, ARR_TIME=&#39;2015-12-07T00:41:00&#39;, CANCELLED=False, CRS_ARR_TIME=&#39;2015-12-07T00:28:00&#39;, CRS_DEP_TIME=&#39;2015-12-06T20:30:00&#39;, DEP_AIRPORT_LAT=40.64, DEP_AIRPORT_LON=-73.77861111, DEP_AIRPORT_TZOFFSET=-18000.0, DEP_DELAY=11.0, DEP_TIME=&#39;2015-12-06T20:41:00&#39;, DEST=&#39;SJU&#39;, DEST_AIRPORT_SEQ_ID=&#39;1484304&#39;, DISTANCE=&#39;1598.00&#39;, DIVERTED=False, FL_DATE=&#39;2015-12-06&#39;, ORIGIN=&#39;JFK&#39;, ORIGIN_AIRPORT_SEQ_ID=&#39;1247803&#39;, TAXI_IN=6.0, TAXI_OUT=39.0, UNIQUE_CARRIER=&#39;B6&#39;, WHEELS_OFF=&#39;2015-12-06T21:20:00&#39;, WHEELS_ON=&#39;2015-12-07T00:35:00&#39;),\n Row(ARR_AIRPORT_LAT=18.43944444, ARR_AIRPORT_LON=-66.00222222, ARR_AIRPORT_TZOFFSET=-14400.0, ARR_DELAY=63.0, ARR_TIME=&#39;2015-12-14T09:45:00&#39;, CANCELLED=False, CRS_ARR_TIME=&#39;2015-12-14T08:42:00&#39;, CRS_DEP_TIME=&#39;2015-12-15T04:59:00&#39;, DEP_AIRPORT_LAT=40.64, DEP_AIRPORT_LON=-73.77861111, DEP_AIRPORT_TZOFFSET=-18000.0, DEP_DELAY=64.0, DEP_TIME=&#39;2015-12-14T06:03:00&#39;, DEST=&#39;SJU&#39;, DEST_AIRPORT_SEQ_ID=&#39;1484304&#39;, DISTANCE=&#39;1598.00&#39;, DIVERTED=False, FL_DATE=&#39;2015-12-14&#39;, ORIGIN=&#39;JFK&#39;, ORIGIN_AIRPORT_SEQ_ID=&#39;1247803&#39;, TAXI_IN=4.0, TAXI_OUT=23.0, UNIQUE_CARRIER=&#39;B6&#39;, WHEELS_OFF=&#39;2015-12-14T06:26:00&#39;, WHEELS_ON=&#39;2015-12-14T09:41:00&#39;),\n Row(ARR_AIRPORT_LAT=18.43944444, ARR_AIRPORT_LON=-66.00222222, ARR_AIRPORT_TZOFFSET=-14400.0, ARR_DELAY=9.0, ARR_TIME=&#39;2015-12-13T20:39:00&#39;, CANCELLED=False, CRS_ARR_TIME=&#39;2015-12-13T20:30:00&#39;, CRS_DEP_TIME=&#39;2015-12-13T16:46:00&#39;, DEP_AIRPORT_LAT=40.64, DEP_AIRPORT_LON=-73.77861111, DEP_AIRPORT_TZOFFSET=-18000.0, DEP_DELAY=17.0, DEP_TIME=&#39;2015-12-13T17:03:00&#39;, DEST=&#39;SJU&#39;, DEST_AIRPORT_SEQ_ID=&#39;1484304&#39;, DISTANCE=&#39;1598.00&#39;, DIVERTED=False, FL_DATE=&#39;2015-12-13&#39;, ORIGIN=&#39;JFK&#39;, ORIGIN_AIRPORT_SEQ_ID=&#39;1247803&#39;, TAXI_IN=4.0, TAXI_OUT=22.0, UNIQUE_CARRIER=&#39;B6&#39;, WHEELS_OFF=&#39;2015-12-13T17:25:00&#39;, WHEELS_ON=&#39;2015-12-13T20:35:00&#39;),\n Row(ARR_AIRPORT_LAT=18.43944444, ARR_AIRPORT_LON=-66.00222222, ARR_AIRPORT_TZOFFSET=-14400.0, ARR_DELAY=-9.0, ARR_TIME=&#39;2015-12-13T03:33:00&#39;, CANCELLED=False, CRS_ARR_TIME=&#39;2015-12-13T03:42:00&#39;, CRS_DEP_TIME=&#39;2015-12-12T23:47:00&#39;, DEP_AIRPORT_LAT=40.64, DEP_AIRPORT_LON=-73.77861111, DEP_AIRPORT_TZOFFSET=-18000.0, DEP_DELAY=-2.0, DEP_TIME=&#39;2015-12-12T23:45:00&#39;, DEST=&#39;SJU&#39;, DEST_AIRPORT_SEQ_ID=&#39;1484304&#39;, DISTANCE=&#39;1598.00&#39;, DIVERTED=False, FL_DATE=&#39;2015-12-12&#39;, ORIGIN=&#39;JFK&#39;, ORIGIN_AIRPORT_SEQ_ID=&#39;1247803&#39;, TAXI_IN=5.0, TAXI_OUT=25.0, UNIQUE_CARRIER=&#39;B6&#39;, WHEELS_OFF=&#39;2015-12-13T00:10:00&#39;, WHEELS_ON=&#39;2015-12-13T03:28:00&#39;),\n Row(ARR_AIRPORT_LAT=18.43944444, ARR_AIRPORT_LON=-66.00222222, ARR_AIRPORT_TZOFFSET=-14400.0, ARR_DELAY=-2.0, ARR_TIME=&#39;2015-12-28T23:37:00&#39;, CANCELLED=False, CRS_ARR_TIME=&#39;2015-12-28T23:39:00&#39;, CRS_DEP_TIME=&#39;2015-12-28T19:49:00&#39;, DEP_AIRPORT_LAT=40.64, DEP_AIRPORT_LON=-73.77861111, DEP_AIRPORT_TZOFFSET=-18000.0, DEP_DELAY=9.0, DEP_TIME=&#39;2015-12-28T19:58:00&#39;, DEST=&#39;SJU&#39;, DEST_AIRPORT_SEQ_ID=&#39;1484304&#39;, DISTANCE=&#39;1598.00&#39;, DIVERTED=False, FL_DATE=&#39;2015-12-28&#39;, ORIGIN=&#39;JFK&#39;, ORIGIN_AIRPORT_SEQ_ID=&#39;1247803&#39;, TAXI_IN=6.0, TAXI_OUT=24.0, UNIQUE_CARRIER=&#39;B6&#39;, WHEELS_OFF=&#39;2015-12-28T20:22:00&#39;, WHEELS_ON=&#39;2015-12-28T23:31:00&#39;),\n Row(ARR_AIRPORT_LAT=18.43944444, ARR_AIRPORT_LON=-66.00222222, ARR_AIRPORT_TZOFFSET=-14400.0, ARR_DELAY=-1.0, ARR_TIME=&#39;2015-12-26T23:38:00&#39;, CANCELLED=False, CRS_ARR_TIME=&#39;2015-12-26T23:39:00&#39;, CRS_DEP_TIME=&#39;2015-12-26T19:49:00&#39;, DEP_AIRPORT_LAT=40.64, DEP_AIRPORT_LON=-73.77861111, DEP_AIRPORT_TZOFFSET=-18000.0, DEP_DELAY=6.0, DEP_TIME=&#39;2015-12-26T19:55:00&#39;, DEST=&#39;SJU&#39;, DEST_AIRPORT_SEQ_ID=&#39;1484304&#39;, DISTANCE=&#39;1598.00&#39;, DIVERTED=False, FL_DATE=&#39;2015-12-26&#39;, ORIGIN=&#39;JFK&#39;, ORIGIN_AIRPORT_SEQ_ID=&#39;1247803&#39;, TAXI_IN=5.0, TAXI_OUT=23.0, UNIQUE_CARRIER=&#39;B6&#39;, WHEELS_OFF=&#39;2015-12-26T20:18:00&#39;, WHEELS_ON=&#39;2015-12-26T23:33:00&#39;),\n Row(ARR_AIRPORT_LAT=18.43944444, ARR_AIRPORT_LON=-66.00222222, ARR_AIRPORT_TZOFFSET=-14400.0, ARR_DELAY=26.0, ARR_TIME=&#39;2015-12-30T09:06:00&#39;, CANCELLED=False, CRS_ARR_TIME=&#39;2015-12-30T08:40:00&#39;, CRS_DEP_TIME=&#39;2015-12-31T04:59:00&#39;, DEP_AIRPORT_LAT=40.64, DEP_AIRPORT_LON=-73.77861111, DEP_AIRPORT_TZOFFSET=-18000.0, DEP_DELAY=21.0, DEP_TIME=&#39;2015-12-30T05:20:00&#39;, DEST=&#39;SJU&#39;, DEST_AIRPORT_SEQ_ID=&#39;1484304&#39;, DISTANCE=&#39;1598.00&#39;, DIVERTED=False, FL_DATE=&#39;2015-12-30&#39;, ORIGIN=&#39;JFK&#39;, ORIGIN_AIRPORT_SEQ_ID=&#39;1247803&#39;, TAXI_IN=6.0, TAXI_OUT=22.0, UNIQUE_CARRIER=&#39;B6&#39;, WHEELS_OFF=&#39;2015-12-30T05:42:00&#39;, WHEELS_ON=&#39;2015-12-30T09:00:00&#39;),\n Row(ARR_AIRPORT_LAT=18.43944444, ARR_AIRPORT_LON=-66.00222222, ARR_AIRPORT_TZOFFSET=-14400.0, ARR_DELAY=19.0, ARR_TIME=&#39;2015-12-27T22:03:00&#39;, CANCELLED=False, CRS_ARR_TIME=&#39;2015-12-27T21:44:00&#39;, CRS_DEP_TIME=&#39;2015-12-27T18:00:00&#39;, DEP_AIRPORT_LAT=40.64, DEP_AIRPORT_LON=-73.77861111, DEP_AIRPORT_TZOFFSET=-18000.0, DEP_DELAY=19.0, DEP_TIME=&#39;2015-12-27T18:19:00&#39;, DEST=&#39;SJU&#39;, DEST_AIRPORT_SEQ_ID=&#39;1484304&#39;, DISTANCE=&#39;1598.00&#39;, DIVERTED=False, FL_DATE=&#39;2015-12-27&#39;, ORIGIN=&#39;JFK&#39;, ORIGIN_AIRPORT_SEQ_ID=&#39;1247803&#39;, TAXI_IN=7.0, TAXI_OUT=19.0, UNIQUE_CARRIER=&#39;B6&#39;, WHEELS_OFF=&#39;2015-12-27T18:38:00&#39;, WHEELS_ON=&#39;2015-12-27T21:56:00&#39;),\n Row(ARR_AIRPORT_LAT=18.43944444, ARR_AIRPORT_LON=-66.00222222, ARR_AIRPORT_TZOFFSET=-14400.0, ARR_DELAY=-4.0, ARR_TIME=&#39;2015-12-29T23:35:00&#39;, CANCELLED=False, CRS_ARR_TIME=&#39;2015-12-29T23:39:00&#39;, CRS_DEP_TIME=&#39;2015-12-29T19:49:00&#39;, DEP_AIRPORT_LAT=40.64, DEP_AIRPORT_LON=-73.77861111, DEP_AIRPORT_TZOFFSET=-18000.0, DEP_DELAY=1.0, DEP_TIME=&#39;2015-12-29T19:50:00&#39;, DEST=&#39;SJU&#39;, DEST_AIRPORT_SEQ_ID=&#39;1484304&#39;, DISTANCE=&#39;1598.00&#39;, DIVERTED=False, FL_DATE=&#39;2015-12-29&#39;, ORIGIN=&#39;JFK&#39;, ORIGIN_AIRPORT_SEQ_ID=&#39;1247803&#39;, TAXI_IN=4.0, TAXI_OUT=26.0, UNIQUE_CARRIER=&#39;B6&#39;, WHEELS_OFF=&#39;2015-12-29T20:16:00&#39;, WHEELS_ON=&#39;2015-12-29T23:31:00&#39;)]</div>",
       "datasetInfos": [],
       "metadata": {},
       "removedWidgets": [],
       "type": "html"
      }
     },
     "output_type": "display_data"
    }
   ],
   "source": [
    "# Read JSON file into Spark DataFrame\n",
    "json_file_path = \"s3://info323-ya45-spring2023/tzcorr/flights_tzcorr_all_flights-00015-of-00026.json\"\n",
    "df = spark.read.json(json_file_path)\n",
    "df.head(10)"
   ]
  },
  {
   "cell_type": "markdown",
   "metadata": {
    "application/vnd.databricks.v1+cell": {
     "cellMetadata": {
      "byteLimit": 2048000,
      "rowLimit": 10000
     },
     "inputWidgets": {},
     "nuid": "fbb996e7-98a8-4a18-af8f-4561d4e0647a",
     "showTitle": false,
     "title": ""
    }
   },
   "source": [
    "## 2. Create a relational view for Spark SQL queries."
   ]
  },
  {
   "cell_type": "code",
   "execution_count": 0,
   "metadata": {
    "application/vnd.databricks.v1+cell": {
     "cellMetadata": {
      "byteLimit": 2048000,
      "rowLimit": 10000
     },
     "inputWidgets": {},
     "nuid": "042738df-8dd1-4e91-908e-c2f55cac0d86",
     "showTitle": false,
     "title": ""
    }
   },
   "outputs": [
    {
     "output_type": "display_data",
     "data": {
      "text/html": [
       "<style scoped>\n",
       "  .ansiout {\n",
       "    display: block;\n",
       "    unicode-bidi: embed;\n",
       "    white-space: pre-wrap;\n",
       "    word-wrap: break-word;\n",
       "    word-break: break-all;\n",
       "    font-family: \"Source Code Pro\", \"Menlo\", monospace;;\n",
       "    font-size: 13px;\n",
       "    color: #555;\n",
       "    margin-left: 4px;\n",
       "    line-height: 19px;\n",
       "  }\n",
       "</style>\n",
       "<div class=\"ansiout\"></div>"
      ]
     },
     "metadata": {
      "application/vnd.databricks.v1+output": {
       "addedWidgets": {},
       "arguments": {},
       "data": "<div class=\"ansiout\"></div>",
       "datasetInfos": [],
       "metadata": {},
       "removedWidgets": [],
       "type": "html"
      }
     },
     "output_type": "display_data"
    }
   ],
   "source": [
    "df.createOrReplaceTempView(\"flights_view\")"
   ]
  },
  {
   "cell_type": "markdown",
   "metadata": {
    "application/vnd.databricks.v1+cell": {
     "cellMetadata": {
      "byteLimit": 2048000,
      "rowLimit": 10000
     },
     "inputWidgets": {},
     "nuid": "dc5a7e3e-0fb7-42dd-8438-9f34e1785675",
     "showTitle": false,
     "title": ""
    }
   },
   "source": [
    "## 3. Print the Schema of the Data"
   ]
  },
  {
   "cell_type": "code",
   "execution_count": 0,
   "metadata": {
    "application/vnd.databricks.v1+cell": {
     "cellMetadata": {
      "byteLimit": 2048000,
      "rowLimit": 10000
     },
     "inputWidgets": {},
     "nuid": "0e741df1-2810-40a1-9f53-0f77b81eef22",
     "showTitle": false,
     "title": ""
    }
   },
   "outputs": [
    {
     "output_type": "display_data",
     "data": {
      "text/html": [
       "<style scoped>\n",
       "  .ansiout {\n",
       "    display: block;\n",
       "    unicode-bidi: embed;\n",
       "    white-space: pre-wrap;\n",
       "    word-wrap: break-word;\n",
       "    word-break: break-all;\n",
       "    font-family: \"Source Code Pro\", \"Menlo\", monospace;;\n",
       "    font-size: 13px;\n",
       "    color: #555;\n",
       "    margin-left: 4px;\n",
       "    line-height: 19px;\n",
       "  }\n",
       "</style>\n",
       "<div class=\"ansiout\">root\n",
       "-- ARR_AIRPORT_LAT: double (nullable = true)\n",
       "-- ARR_AIRPORT_LON: double (nullable = true)\n",
       "-- ARR_AIRPORT_TZOFFSET: double (nullable = true)\n",
       "-- ARR_DELAY: double (nullable = true)\n",
       "-- ARR_TIME: string (nullable = true)\n",
       "-- CANCELLED: boolean (nullable = true)\n",
       "-- CRS_ARR_TIME: string (nullable = true)\n",
       "-- CRS_DEP_TIME: string (nullable = true)\n",
       "-- DEP_AIRPORT_LAT: double (nullable = true)\n",
       "-- DEP_AIRPORT_LON: double (nullable = true)\n",
       "-- DEP_AIRPORT_TZOFFSET: double (nullable = true)\n",
       "-- DEP_DELAY: double (nullable = true)\n",
       "-- DEP_TIME: string (nullable = true)\n",
       "-- DEST: string (nullable = true)\n",
       "-- DEST_AIRPORT_SEQ_ID: string (nullable = true)\n",
       "-- DISTANCE: string (nullable = true)\n",
       "-- DIVERTED: boolean (nullable = true)\n",
       "-- FL_DATE: string (nullable = true)\n",
       "-- ORIGIN: string (nullable = true)\n",
       "-- ORIGIN_AIRPORT_SEQ_ID: string (nullable = true)\n",
       "-- TAXI_IN: double (nullable = true)\n",
       "-- TAXI_OUT: double (nullable = true)\n",
       "-- UNIQUE_CARRIER: string (nullable = true)\n",
       "-- WHEELS_OFF: string (nullable = true)\n",
       "-- WHEELS_ON: string (nullable = true)\n",
       "\n",
       "</div>"
      ]
     },
     "metadata": {
      "application/vnd.databricks.v1+output": {
       "addedWidgets": {},
       "arguments": {},
       "data": "<div class=\"ansiout\">root\n |-- ARR_AIRPORT_LAT: double (nullable = true)\n |-- ARR_AIRPORT_LON: double (nullable = true)\n |-- ARR_AIRPORT_TZOFFSET: double (nullable = true)\n |-- ARR_DELAY: double (nullable = true)\n |-- ARR_TIME: string (nullable = true)\n |-- CANCELLED: boolean (nullable = true)\n |-- CRS_ARR_TIME: string (nullable = true)\n |-- CRS_DEP_TIME: string (nullable = true)\n |-- DEP_AIRPORT_LAT: double (nullable = true)\n |-- DEP_AIRPORT_LON: double (nullable = true)\n |-- DEP_AIRPORT_TZOFFSET: double (nullable = true)\n |-- DEP_DELAY: double (nullable = true)\n |-- DEP_TIME: string (nullable = true)\n |-- DEST: string (nullable = true)\n |-- DEST_AIRPORT_SEQ_ID: string (nullable = true)\n |-- DISTANCE: string (nullable = true)\n |-- DIVERTED: boolean (nullable = true)\n |-- FL_DATE: string (nullable = true)\n |-- ORIGIN: string (nullable = true)\n |-- ORIGIN_AIRPORT_SEQ_ID: string (nullable = true)\n |-- TAXI_IN: double (nullable = true)\n |-- TAXI_OUT: double (nullable = true)\n |-- UNIQUE_CARRIER: string (nullable = true)\n |-- WHEELS_OFF: string (nullable = true)\n |-- WHEELS_ON: string (nullable = true)\n\n</div>",
       "datasetInfos": [],
       "metadata": {},
       "removedWidgets": [],
       "type": "html"
      }
     },
     "output_type": "display_data"
    }
   ],
   "source": [
    "df.printSchema()"
   ]
  },
  {
   "cell_type": "markdown",
   "metadata": {
    "application/vnd.databricks.v1+cell": {
     "cellMetadata": {
      "byteLimit": 2048000,
      "rowLimit": 10000
     },
     "inputWidgets": {},
     "nuid": "95443010-bb5d-49d0-9bb1-44c002d20589",
     "showTitle": false,
     "title": ""
    }
   },
   "source": [
    "## 4. Find all the unique origin airports. Show the top up to 20 results."
   ]
  },
  {
   "cell_type": "code",
   "execution_count": 0,
   "metadata": {
    "application/vnd.databricks.v1+cell": {
     "cellMetadata": {
      "byteLimit": 2048000,
      "rowLimit": 10000
     },
     "inputWidgets": {},
     "nuid": "862f284b-dcd6-4e54-890d-ec2b84725a9a",
     "showTitle": false,
     "title": ""
    }
   },
   "outputs": [
    {
     "output_type": "display_data",
     "data": {
      "text/html": [
       "<style scoped>\n",
       "  .ansiout {\n",
       "    display: block;\n",
       "    unicode-bidi: embed;\n",
       "    white-space: pre-wrap;\n",
       "    word-wrap: break-word;\n",
       "    word-break: break-all;\n",
       "    font-family: \"Source Code Pro\", \"Menlo\", monospace;;\n",
       "    font-size: 13px;\n",
       "    color: #555;\n",
       "    margin-left: 4px;\n",
       "    line-height: 19px;\n",
       "  }\n",
       "</style>\n",
       "<div class=\"ansiout\">+------+\n",
       "ORIGIN|\n",
       "+------+\n",
       "   MSY|\n",
       "   OAK|\n",
       "   PDX|\n",
       "   PHX|\n",
       "   ORD|\n",
       "   MSP|\n",
       "   PHL|\n",
       "   CMH|\n",
       "   CAK|\n",
       "   CVG|\n",
       "   CHS|\n",
       "   ALB|\n",
       "   BMI|\n",
       "   ABQ|\n",
       "   BDL|\n",
       "   ABY|\n",
       "   BQK|\n",
       "   BHM|\n",
       "   DAY|\n",
       "   VPS|\n",
       "+------+\n",
       "\n",
       "</div>"
      ]
     },
     "metadata": {
      "application/vnd.databricks.v1+output": {
       "addedWidgets": {},
       "arguments": {},
       "data": "<div class=\"ansiout\">+------+\n|ORIGIN|\n+------+\n|   MSY|\n|   OAK|\n|   PDX|\n|   PHX|\n|   ORD|\n|   MSP|\n|   PHL|\n|   CMH|\n|   CAK|\n|   CVG|\n|   CHS|\n|   ALB|\n|   BMI|\n|   ABQ|\n|   BDL|\n|   ABY|\n|   BQK|\n|   BHM|\n|   DAY|\n|   VPS|\n+------+\n\n</div>",
       "datasetInfos": [],
       "metadata": {},
       "removedWidgets": [],
       "type": "html"
      }
     },
     "output_type": "display_data"
    }
   ],
   "source": [
    "unique_origins = spark.sql(\"SELECT DISTINCT ORIGIN FROM flights_view LIMIT 20\")\n",
    "unique_origins.show()"
   ]
  },
  {
   "cell_type": "code",
   "execution_count": 0,
   "metadata": {
    "application/vnd.databricks.v1+cell": {
     "cellMetadata": {
      "byteLimit": 2048000,
      "rowLimit": 10000
     },
     "inputWidgets": {},
     "nuid": "1b15236d-cefa-4dd3-9688-7e231319266f",
     "showTitle": false,
     "title": ""
    }
   },
   "outputs": [
    {
     "output_type": "display_data",
     "data": {
      "text/html": [
       "<style scoped>\n",
       "  .ansiout {\n",
       "    display: block;\n",
       "    unicode-bidi: embed;\n",
       "    white-space: pre-wrap;\n",
       "    word-wrap: break-word;\n",
       "    word-break: break-all;\n",
       "    font-family: \"Source Code Pro\", \"Menlo\", monospace;;\n",
       "    font-size: 13px;\n",
       "    color: #555;\n",
       "    margin-left: 4px;\n",
       "    line-height: 19px;\n",
       "  }\n",
       "</style>\n",
       "<div class=\"ansiout\">+------+\n",
       "ORIGIN|\n",
       "+------+\n",
       "MSY   |\n",
       "OAK   |\n",
       "PDX   |\n",
       "PHX   |\n",
       "ORD   |\n",
       "MSP   |\n",
       "PHL   |\n",
       "CMH   |\n",
       "CAK   |\n",
       "CVG   |\n",
       "DHN   |\n",
       "CHS   |\n",
       "ALB   |\n",
       "BMI   |\n",
       "ABQ   |\n",
       "BDL   |\n",
       "ABY   |\n",
       "BQK   |\n",
       "BHM   |\n",
       "DAY   |\n",
       "+------+\n",
       "only showing top 20 rows\n",
       "\n",
       "</div>"
      ]
     },
     "metadata": {
      "application/vnd.databricks.v1+output": {
       "addedWidgets": {},
       "arguments": {},
       "data": "<div class=\"ansiout\">+------+\n|ORIGIN|\n+------+\n|MSY   |\n|OAK   |\n|PDX   |\n|PHX   |\n|ORD   |\n|MSP   |\n|PHL   |\n|CMH   |\n|CAK   |\n|CVG   |\n|DHN   |\n|CHS   |\n|ALB   |\n|BMI   |\n|ABQ   |\n|BDL   |\n|ABY   |\n|BQK   |\n|BHM   |\n|DAY   |\n+------+\nonly showing top 20 rows\n\n</div>",
       "datasetInfos": [],
       "metadata": {},
       "removedWidgets": [],
       "type": "html"
      }
     },
     "output_type": "display_data"
    }
   ],
   "source": [
    "unique_origins = df.select(\"ORIGIN\").distinct()\n",
    "unique_origins.show(20, truncate=False)"
   ]
  },
  {
   "cell_type": "markdown",
   "metadata": {
    "application/vnd.databricks.v1+cell": {
     "cellMetadata": {
      "byteLimit": 2048000,
      "rowLimit": 10000
     },
     "inputWidgets": {},
     "nuid": "0ba3b479-d8ec-4af2-a3d5-7a855455deef",
     "showTitle": false,
     "title": ""
    }
   },
   "source": [
    "## 5. Find all the unique destination airports. Show the top up to 20 results."
   ]
  },
  {
   "cell_type": "code",
   "execution_count": 0,
   "metadata": {
    "application/vnd.databricks.v1+cell": {
     "cellMetadata": {
      "byteLimit": 2048000,
      "rowLimit": 10000
     },
     "inputWidgets": {},
     "nuid": "2d1bb413-90fe-4e07-b8dd-ce5382b1d97b",
     "showTitle": false,
     "title": ""
    }
   },
   "outputs": [
    {
     "output_type": "display_data",
     "data": {
      "text/html": [
       "<style scoped>\n",
       "  .ansiout {\n",
       "    display: block;\n",
       "    unicode-bidi: embed;\n",
       "    white-space: pre-wrap;\n",
       "    word-wrap: break-word;\n",
       "    word-break: break-all;\n",
       "    font-family: \"Source Code Pro\", \"Menlo\", monospace;;\n",
       "    font-size: 13px;\n",
       "    color: #555;\n",
       "    margin-left: 4px;\n",
       "    line-height: 19px;\n",
       "  }\n",
       "</style>\n",
       "<div class=\"ansiout\">+----+\n",
       "dest|\n",
       "+----+\n",
       " GEG|\n",
       " GRB|\n",
       " GTF|\n",
       " GRR|\n",
       " CMH|\n",
       " CVG|\n",
       " GFK|\n",
       " BJI|\n",
       " RST|\n",
       " RSW|\n",
       " DLH|\n",
       " BOI|\n",
       " BRD|\n",
       " BDL|\n",
       " ABR|\n",
       " FSD|\n",
       " HIB|\n",
       " FWA|\n",
       " BZN|\n",
       " ANC|\n",
       "+----+\n",
       "\n",
       "</div>"
      ]
     },
     "metadata": {
      "application/vnd.databricks.v1+output": {
       "addedWidgets": {},
       "arguments": {},
       "data": "<div class=\"ansiout\">+----+\n|dest|\n+----+\n| GEG|\n| GRB|\n| GTF|\n| GRR|\n| CMH|\n| CVG|\n| GFK|\n| BJI|\n| RST|\n| RSW|\n| DLH|\n| BOI|\n| BRD|\n| BDL|\n| ABR|\n| FSD|\n| HIB|\n| FWA|\n| BZN|\n| ANC|\n+----+\n\n</div>",
       "datasetInfos": [],
       "metadata": {},
       "removedWidgets": [],
       "type": "html"
      }
     },
     "output_type": "display_data"
    }
   ],
   "source": [
    "unique_origins = spark.sql(\"SELECT DISTINCT dest FROM flights_view LIMIT 20\")\n",
    "unique_origins.show()"
   ]
  },
  {
   "cell_type": "markdown",
   "metadata": {
    "application/vnd.databricks.v1+cell": {
     "cellMetadata": {
      "byteLimit": 2048000,
      "rowLimit": 10000
     },
     "inputWidgets": {},
     "nuid": "b9af4382-f0d0-4262-8185-b20459999a2c",
     "showTitle": false,
     "title": ""
    }
   },
   "source": [
    "## 6. Find the number of flights for each origin airports. Order the results by the numbers of flights in descending order."
   ]
  },
  {
   "cell_type": "code",
   "execution_count": 0,
   "metadata": {
    "application/vnd.databricks.v1+cell": {
     "cellMetadata": {
      "byteLimit": 2048000,
      "rowLimit": 10000
     },
     "inputWidgets": {},
     "nuid": "b66f83a4-787f-455d-a327-7bf0a646d2d2",
     "showTitle": false,
     "title": ""
    }
   },
   "outputs": [
    {
     "output_type": "display_data",
     "data": {
      "text/html": [
       "<style scoped>\n",
       "  .ansiout {\n",
       "    display: block;\n",
       "    unicode-bidi: embed;\n",
       "    white-space: pre-wrap;\n",
       "    word-wrap: break-word;\n",
       "    word-break: break-all;\n",
       "    font-family: \"Source Code Pro\", \"Menlo\", monospace;;\n",
       "    font-size: 13px;\n",
       "    color: #555;\n",
       "    margin-left: 4px;\n",
       "    line-height: 19px;\n",
       "  }\n",
       "</style>\n",
       "<div class=\"ansiout\">+------+-----------+\n",
       "origin|num_flights|\n",
       "+------+-----------+\n",
       "   ORD|      73612|\n",
       "   MSP|      20626|\n",
       "   SLC|      18808|\n",
       "   PHX|      18548|\n",
       "   LAX|      16157|\n",
       "   SFO|      15784|\n",
       "   MCO|      13706|\n",
       "   SEA|      13677|\n",
       "   LAS|      13060|\n",
       "   MDW|      11177|\n",
       "   LGA|       9020|\n",
       "   TPA|       6114|\n",
       "   MIA|       5093|\n",
       "   OAK|       4217|\n",
       "   JFK|       3319|\n",
       "   PHL|       3270|\n",
       "   PDX|       3226|\n",
       "   SMF|       2791|\n",
       "   JAX|       2778|\n",
       "   BOS|       2590|\n",
       "+------+-----------+\n",
       "only showing top 20 rows\n",
       "\n",
       "</div>"
      ]
     },
     "metadata": {
      "application/vnd.databricks.v1+output": {
       "addedWidgets": {},
       "arguments": {},
       "data": "<div class=\"ansiout\">+------+-----------+\n|origin|num_flights|\n+------+-----------+\n|   ORD|      73612|\n|   MSP|      20626|\n|   SLC|      18808|\n|   PHX|      18548|\n|   LAX|      16157|\n|   SFO|      15784|\n|   MCO|      13706|\n|   SEA|      13677|\n|   LAS|      13060|\n|   MDW|      11177|\n|   LGA|       9020|\n|   TPA|       6114|\n|   MIA|       5093|\n|   OAK|       4217|\n|   JFK|       3319|\n|   PHL|       3270|\n|   PDX|       3226|\n|   SMF|       2791|\n|   JAX|       2778|\n|   BOS|       2590|\n+------+-----------+\nonly showing top 20 rows\n\n</div>",
       "datasetInfos": [],
       "metadata": {},
       "removedWidgets": [],
       "type": "html"
      }
     },
     "output_type": "display_data"
    }
   ],
   "source": [
    "flights_per_origin = spark.sql(\"SELECT origin, COUNT(*) AS num_flights FROM flights_view GROUP BY origin ORDER BY num_flights DESC\")\n",
    "flights_per_origin.show()"
   ]
  },
  {
   "cell_type": "markdown",
   "metadata": {
    "application/vnd.databricks.v1+cell": {
     "cellMetadata": {
      "byteLimit": 2048000,
      "rowLimit": 10000
     },
     "inputWidgets": {},
     "nuid": "90f85ae3-989f-4244-8dfd-cb010e6490b7",
     "showTitle": false,
     "title": ""
    }
   },
   "source": [
    "## 7. Find the distinct origin and destination where flights fly from an airport with higher latitude."
   ]
  },
  {
   "cell_type": "code",
   "execution_count": 0,
   "metadata": {
    "application/vnd.databricks.v1+cell": {
     "cellMetadata": {
      "byteLimit": 2048000,
      "rowLimit": 10000
     },
     "inputWidgets": {},
     "nuid": "d976f1d7-8764-4d25-9dc0-d8b1b119f61d",
     "showTitle": false,
     "title": ""
    }
   },
   "outputs": [
    {
     "output_type": "display_data",
     "data": {
      "text/html": [
       "<style scoped>\n",
       "  .ansiout {\n",
       "    display: block;\n",
       "    unicode-bidi: embed;\n",
       "    white-space: pre-wrap;\n",
       "    word-wrap: break-word;\n",
       "    word-break: break-all;\n",
       "    font-family: \"Source Code Pro\", \"Menlo\", monospace;;\n",
       "    font-size: 13px;\n",
       "    color: #555;\n",
       "    margin-left: 4px;\n",
       "    line-height: 19px;\n",
       "  }\n",
       "</style>\n",
       "<div class=\"ansiout\">+------+----+\n",
       "origin|dest|\n",
       "+------+----+\n",
       "   JFK| SRQ|\n",
       "   LAS| ABQ|\n",
       "   JFK| SAV|\n",
       "   JFK| PIT|\n",
       "   JFK| RSW|\n",
       "   JFK| BUR|\n",
       "   JFK| SJU|\n",
       "   JFK| RNO|\n",
       "   JFK| CMH|\n",
       "   JFK| ABQ|\n",
       "   JFK| EGE|\n",
       "   JFK| PSP|\n",
       "   LAS| BHM|\n",
       "   JFK| CHS|\n",
       "   JFK| LGB|\n",
       "   JFK| BQN|\n",
       "   JFK| STT|\n",
       "   JFK| PSE|\n",
       "   JFK| CVG|\n",
       "   JFK| PBI|\n",
       "+------+----+\n",
       "only showing top 20 rows\n",
       "\n",
       "</div>"
      ]
     },
     "metadata": {
      "application/vnd.databricks.v1+output": {
       "addedWidgets": {},
       "arguments": {},
       "data": "<div class=\"ansiout\">+------+----+\n|origin|dest|\n+------+----+\n|   JFK| SRQ|\n|   LAS| ABQ|\n|   JFK| SAV|\n|   JFK| PIT|\n|   JFK| RSW|\n|   JFK| BUR|\n|   JFK| SJU|\n|   JFK| RNO|\n|   JFK| CMH|\n|   JFK| ABQ|\n|   JFK| EGE|\n|   JFK| PSP|\n|   LAS| BHM|\n|   JFK| CHS|\n|   JFK| LGB|\n|   JFK| BQN|\n|   JFK| STT|\n|   JFK| PSE|\n|   JFK| CVG|\n|   JFK| PBI|\n+------+----+\nonly showing top 20 rows\n\n</div>",
       "datasetInfos": [],
       "metadata": {},
       "removedWidgets": [],
       "type": "html"
      }
     },
     "output_type": "display_data"
    }
   ],
   "source": [
    "flight_df = spark.sql(\"SELECT origin, dest, DEP_AIRPORT_LAT, ARR_AIRPORT_LAT FROM flights_view\")\n",
    "filtered_df = flight_df.filter(flight_df.DEP_AIRPORT_LAT > flight_df.ARR_AIRPORT_LAT)\n",
    "distinct_routes = filtered_df.select(\"origin\", \"dest\").distinct()\n",
    "distinct_routes.show()"
   ]
  },
  {
   "cell_type": "markdown",
   "metadata": {
    "application/vnd.databricks.v1+cell": {
     "cellMetadata": {
      "byteLimit": 2048000,
      "rowLimit": 10000
     },
     "inputWidgets": {},
     "nuid": "5bb14fd7-11ad-4088-baca-987e4e940239",
     "showTitle": false,
     "title": ""
    }
   },
   "source": [
    "## 8. List all the flights (origin, dest, distance) from PHL ordered by the distances in ascending order."
   ]
  },
  {
   "cell_type": "code",
   "execution_count": 0,
   "metadata": {
    "application/vnd.databricks.v1+cell": {
     "cellMetadata": {
      "byteLimit": 2048000,
      "rowLimit": 10000
     },
     "inputWidgets": {},
     "nuid": "7444be15-85e8-4f31-8d08-e69ab984ac9e",
     "showTitle": false,
     "title": ""
    }
   },
   "outputs": [
    {
     "output_type": "display_data",
     "data": {
      "text/html": [
       "<style scoped>\n",
       "  .ansiout {\n",
       "    display: block;\n",
       "    unicode-bidi: embed;\n",
       "    white-space: pre-wrap;\n",
       "    word-wrap: break-word;\n",
       "    word-break: break-all;\n",
       "    font-family: \"Source Code Pro\", \"Menlo\", monospace;;\n",
       "    font-size: 13px;\n",
       "    color: #555;\n",
       "    margin-left: 4px;\n",
       "    line-height: 19px;\n",
       "  }\n",
       "</style>\n",
       "<div class=\"ansiout\">+------+----+--------+\n",
       "origin|dest|distance|\n",
       "+------+----+--------+\n",
       "   PHL| SJU| 1576.00|\n",
       "   PHL| SJU| 1576.00|\n",
       "   PHL| SJU| 1576.00|\n",
       "   PHL| SJU| 1576.00|\n",
       "   PHL| SJU| 1576.00|\n",
       "   PHL| SJU| 1576.00|\n",
       "   PHL| SJU| 1576.00|\n",
       "   PHL| SJU| 1576.00|\n",
       "   PHL| SJU| 1576.00|\n",
       "   PHL| SJU| 1576.00|\n",
       "   PHL| SJU| 1576.00|\n",
       "   PHL| SJU| 1576.00|\n",
       "   PHL| SJU| 1576.00|\n",
       "   PHL| SJU| 1576.00|\n",
       "   PHL| SJU| 1576.00|\n",
       "   PHL| SJU| 1576.00|\n",
       "   PHL| SJU| 1576.00|\n",
       "   PHL| SJU| 1576.00|\n",
       "   PHL| SJU| 1576.00|\n",
       "   PHL| SJU| 1576.00|\n",
       "+------+----+--------+\n",
       "only showing top 20 rows\n",
       "\n",
       "</div>"
      ]
     },
     "metadata": {
      "application/vnd.databricks.v1+output": {
       "addedWidgets": {},
       "arguments": {},
       "data": "<div class=\"ansiout\">+------+----+--------+\n|origin|dest|distance|\n+------+----+--------+\n|   PHL| SJU| 1576.00|\n|   PHL| SJU| 1576.00|\n|   PHL| SJU| 1576.00|\n|   PHL| SJU| 1576.00|\n|   PHL| SJU| 1576.00|\n|   PHL| SJU| 1576.00|\n|   PHL| SJU| 1576.00|\n|   PHL| SJU| 1576.00|\n|   PHL| SJU| 1576.00|\n|   PHL| SJU| 1576.00|\n|   PHL| SJU| 1576.00|\n|   PHL| SJU| 1576.00|\n|   PHL| SJU| 1576.00|\n|   PHL| SJU| 1576.00|\n|   PHL| SJU| 1576.00|\n|   PHL| SJU| 1576.00|\n|   PHL| SJU| 1576.00|\n|   PHL| SJU| 1576.00|\n|   PHL| SJU| 1576.00|\n|   PHL| SJU| 1576.00|\n+------+----+--------+\nonly showing top 20 rows\n\n</div>",
       "datasetInfos": [],
       "metadata": {},
       "removedWidgets": [],
       "type": "html"
      }
     },
     "output_type": "display_data"
    }
   ],
   "source": [
    "phl_flights = spark.sql(\"SELECT origin, dest, distance FROM flights_view WHERE origin = 'PHL' ORDER BY distance\")\n",
    "phl_flights.show()"
   ]
  },
  {
   "cell_type": "markdown",
   "metadata": {
    "application/vnd.databricks.v1+cell": {
     "cellMetadata": {
      "byteLimit": 2048000,
      "rowLimit": 10000
     },
     "inputWidgets": {},
     "nuid": "6003648c-1a65-443e-821f-669316e871e5",
     "showTitle": false,
     "title": ""
    }
   },
   "source": [
    "## 9. Are there any columns with missing values?  Print summary statistics for all the columns, e.g., using the describe().toPandas() method."
   ]
  },
  {
   "cell_type": "code",
   "execution_count": 0,
   "metadata": {
    "application/vnd.databricks.v1+cell": {
     "cellMetadata": {
      "byteLimit": 2048000,
      "rowLimit": 10000
     },
     "inputWidgets": {},
     "nuid": "4e94878d-c2eb-4135-a557-e3392c4bc9da",
     "showTitle": false,
     "title": ""
    }
   },
   "outputs": [
    {
     "output_type": "display_data",
     "data": {
      "text/html": [
       "<style scoped>\n",
       "  .ansiout {\n",
       "    display: block;\n",
       "    unicode-bidi: embed;\n",
       "    white-space: pre-wrap;\n",
       "    word-wrap: break-word;\n",
       "    word-break: break-all;\n",
       "    font-family: \"Source Code Pro\", \"Menlo\", monospace;;\n",
       "    font-size: 13px;\n",
       "    color: #555;\n",
       "    margin-left: 4px;\n",
       "    line-height: 19px;\n",
       "  }\n",
       "</style>\n",
       "<div class=\"ansiout\">Columns with missing values: [&#39;ARR_DELAY&#39;, &#39;DEP_DELAY&#39;, &#39;TAXI_IN&#39;, &#39;TAXI_OUT&#39;]\n",
       "  summary           ARR_DELAY  ...             TAXI_IN           TAXI_OUT\n",
       "0   count              354364  ...              355101             355430\n",
       "1    mean   4.174820241333769  ...   5.944621389407521  16.92153166586951\n",
       "2  stddev  37.413439872526546  ...  3.7118547025235396  9.194507592003603\n",
       "3     min               -70.0  ...                 1.0                1.0\n",
       "4     max              1235.0  ...               154.0              177.0\n",
       "\n",
       "[5 rows x 5 columns]\n",
       "</div>"
      ]
     },
     "metadata": {
      "application/vnd.databricks.v1+output": {
       "addedWidgets": {},
       "arguments": {},
       "data": "<div class=\"ansiout\">Columns with missing values: [&#39;ARR_DELAY&#39;, &#39;DEP_DELAY&#39;, &#39;TAXI_IN&#39;, &#39;TAXI_OUT&#39;]\n  summary           ARR_DELAY  ...             TAXI_IN           TAXI_OUT\n0   count              354364  ...              355101             355430\n1    mean   4.174820241333769  ...   5.944621389407521  16.92153166586951\n2  stddev  37.413439872526546  ...  3.7118547025235396  9.194507592003603\n3     min               -70.0  ...                 1.0                1.0\n4     max              1235.0  ...               154.0              177.0\n\n[5 rows x 5 columns]\n</div>",
       "datasetInfos": [],
       "metadata": {},
       "removedWidgets": [],
       "type": "html"
      }
     },
     "output_type": "display_data"
    }
   ],
   "source": [
    "# Check for missing values in each column\n",
    "missing_columns = []\n",
    "for column in spark.table(\"flights_view\").columns:\n",
    "    null_count = spark.table(\"flights_view\").filter(spark.table(\"flights_view\")[column].isNull()).count()\n",
    "    if null_count > 0:\n",
    "        missing_columns.append(column)\n",
    "\n",
    "if len(missing_columns) > 0:\n",
    "    print(\"Columns with missing values:\", missing_columns)\n",
    "else:\n",
    "    print(\"No columns with missing values.\")\n",
    "\n",
    "summary_df = spark.table(\"flights_view\").select(missing_columns).describe()\n",
    "summary_statistics = summary_df.toPandas()\n",
    "summary_statistics"
   ]
  },
  {
   "cell_type": "markdown",
   "metadata": {
    "application/vnd.databricks.v1+cell": {
     "cellMetadata": {
      "byteLimit": 2048000,
      "rowLimit": 10000
     },
     "inputWidgets": {},
     "nuid": "dcf3ea5b-81b0-4363-97c7-88117fbdf398",
     "showTitle": false,
     "title": ""
    }
   },
   "source": [
    "## 10.  Print the summary statistics for the column: ARR_DELAY, DEP_DELAY and DISTANCE."
   ]
  },
  {
   "cell_type": "code",
   "execution_count": 0,
   "metadata": {
    "application/vnd.databricks.v1+cell": {
     "cellMetadata": {
      "byteLimit": 2048000,
      "rowLimit": 10000
     },
     "inputWidgets": {},
     "nuid": "89ca4bf6-ad18-4d6b-97da-7d5598b2de2a",
     "showTitle": false,
     "title": ""
    }
   },
   "outputs": [
    {
     "output_type": "display_data",
     "data": {
      "text/html": [
       "<style scoped>\n",
       "  .ansiout {\n",
       "    display: block;\n",
       "    unicode-bidi: embed;\n",
       "    white-space: pre-wrap;\n",
       "    word-wrap: break-word;\n",
       "    word-break: break-all;\n",
       "    font-family: \"Source Code Pro\", \"Menlo\", monospace;;\n",
       "    font-size: 13px;\n",
       "    color: #555;\n",
       "    margin-left: 4px;\n",
       "    line-height: 19px;\n",
       "  }\n",
       "</style>\n",
       "<div class=\"ansiout\">  summary           ARR_DELAY          DEP_DELAY            DISTANCE\n",
       "0   count              354364             355599              360926\n",
       "1    mean   4.174820241333769   8.53529678092458   624.2243590098801\n",
       "2  stddev  37.413439872526546  35.45721082705988  508.31452288957234\n",
       "3     min               -70.0              -55.0             1004.00\n",
       "4     max              1235.0             1274.0              993.00\n",
       "</div>"
      ]
     },
     "metadata": {
      "application/vnd.databricks.v1+output": {
       "addedWidgets": {},
       "arguments": {},
       "data": "<div class=\"ansiout\">  summary           ARR_DELAY          DEP_DELAY            DISTANCE\n0   count              354364             355599              360926\n1    mean   4.174820241333769   8.53529678092458   624.2243590098801\n2  stddev  37.413439872526546  35.45721082705988  508.31452288957234\n3     min               -70.0              -55.0             1004.00\n4     max              1235.0             1274.0              993.00\n</div>",
       "datasetInfos": [],
       "metadata": {},
       "removedWidgets": [],
       "type": "html"
      }
     },
     "output_type": "display_data"
    }
   ],
   "source": [
    "summary_df = spark.table(\"flights_view\").select(\"ARR_DELAY\", \"DEP_DELAY\", \"DISTANCE\").describe()\n",
    "\n",
    "summary_statistics = summary_df.toPandas()\n",
    "print(summary_statistics)"
   ]
  },
  {
   "cell_type": "markdown",
   "metadata": {
    "application/vnd.databricks.v1+cell": {
     "cellMetadata": {
      "byteLimit": 2048000,
      "rowLimit": 10000
     },
     "inputWidgets": {},
     "nuid": "3f8913ea-6df9-4a9d-9903-b60e627e4dd7",
     "showTitle": false,
     "title": ""
    }
   },
   "source": [
    "## 11. Drop rows with missing values in the column: ARR_DELAY and DEP_DELAY."
   ]
  },
  {
   "cell_type": "code",
   "execution_count": 0,
   "metadata": {
    "application/vnd.databricks.v1+cell": {
     "cellMetadata": {
      "byteLimit": 2048000,
      "rowLimit": 10000
     },
     "inputWidgets": {},
     "nuid": "d464071a-91fb-4920-afdb-0816f5fb26dd",
     "showTitle": false,
     "title": ""
    }
   },
   "outputs": [
    {
     "output_type": "display_data",
     "data": {
      "text/html": [
       "<style scoped>\n",
       "  .ansiout {\n",
       "    display: block;\n",
       "    unicode-bidi: embed;\n",
       "    white-space: pre-wrap;\n",
       "    word-wrap: break-word;\n",
       "    word-break: break-all;\n",
       "    font-family: \"Source Code Pro\", \"Menlo\", monospace;;\n",
       "    font-size: 13px;\n",
       "    color: #555;\n",
       "    margin-left: 4px;\n",
       "    line-height: 19px;\n",
       "  }\n",
       "</style>\n",
       "<div class=\"ansiout\"></div>"
      ]
     },
     "metadata": {
      "application/vnd.databricks.v1+output": {
       "addedWidgets": {},
       "arguments": {},
       "data": "<div class=\"ansiout\"></div>",
       "datasetInfos": [],
       "metadata": {},
       "removedWidgets": [],
       "type": "html"
      }
     },
     "output_type": "display_data"
    }
   ],
   "source": [
    "df_no_missing_values = spark.table(\"flights_view\").dropna(subset=[\"ARR_DELAY\", \"DEP_DELAY\"])"
   ]
  },
  {
   "cell_type": "markdown",
   "metadata": {
    "application/vnd.databricks.v1+cell": {
     "cellMetadata": {
      "byteLimit": 2048000,
      "rowLimit": 10000
     },
     "inputWidgets": {},
     "nuid": "0a042c58-ba72-4207-bec8-4b1fd06b1fc8",
     "showTitle": false,
     "title": ""
    }
   },
   "source": [
    "## 12. How many rows are dropped at the previous step?"
   ]
  },
  {
   "cell_type": "code",
   "execution_count": 0,
   "metadata": {
    "application/vnd.databricks.v1+cell": {
     "cellMetadata": {
      "byteLimit": 2048000,
      "rowLimit": 10000
     },
     "inputWidgets": {},
     "nuid": "042aa2fd-3caf-49df-86e3-10f60f16e23e",
     "showTitle": false,
     "title": ""
    }
   },
   "outputs": [
    {
     "output_type": "display_data",
     "data": {
      "text/html": [
       "<style scoped>\n",
       "  .ansiout {\n",
       "    display: block;\n",
       "    unicode-bidi: embed;\n",
       "    white-space: pre-wrap;\n",
       "    word-wrap: break-word;\n",
       "    word-break: break-all;\n",
       "    font-family: \"Source Code Pro\", \"Menlo\", monospace;;\n",
       "    font-size: 13px;\n",
       "    color: #555;\n",
       "    margin-left: 4px;\n",
       "    line-height: 19px;\n",
       "  }\n",
       "</style>\n",
       "<div class=\"ansiout\">Number of rows dropped: 6562\n",
       "</div>"
      ]
     },
     "metadata": {
      "application/vnd.databricks.v1+output": {
       "addedWidgets": {},
       "arguments": {},
       "data": "<div class=\"ansiout\">Number of rows dropped: 6562\n</div>",
       "datasetInfos": [],
       "metadata": {},
       "removedWidgets": [],
       "type": "html"
      }
     },
     "output_type": "display_data"
    }
   ],
   "source": [
    "total_rows_before = spark.table(\"flights_view\").count()\n",
    "total_rows_after = df_no_missing_values.count()\n",
    "rows_dropped = total_rows_before - total_rows_after\n",
    "print(\"Number of rows dropped:\", rows_dropped)"
   ]
  },
  {
   "cell_type": "markdown",
   "metadata": {
    "application/vnd.databricks.v1+cell": {
     "cellMetadata": {
      "byteLimit": 2048000,
      "rowLimit": 10000
     },
     "inputWidgets": {},
     "nuid": "aaa806b4-5330-49b7-ad63-fa0289c8f0f5",
     "showTitle": false,
     "title": ""
    }
   },
   "source": [
    "## 13. What is the difference between the mean values of ARR_DELAY before and after dropping all missing ARR_DELAY and DEP_DELAY values?"
   ]
  },
  {
   "cell_type": "code",
   "execution_count": 0,
   "metadata": {
    "application/vnd.databricks.v1+cell": {
     "cellMetadata": {
      "byteLimit": 2048000,
      "rowLimit": 10000
     },
     "inputWidgets": {},
     "nuid": "32f31016-fca2-4d5e-8a2c-853443d0cc4c",
     "showTitle": false,
     "title": ""
    }
   },
   "outputs": [
    {
     "output_type": "display_data",
     "data": {
      "text/html": [
       "<style scoped>\n",
       "  .ansiout {\n",
       "    display: block;\n",
       "    unicode-bidi: embed;\n",
       "    white-space: pre-wrap;\n",
       "    word-wrap: break-word;\n",
       "    word-break: break-all;\n",
       "    font-family: \"Source Code Pro\", \"Menlo\", monospace;;\n",
       "    font-size: 13px;\n",
       "    color: #555;\n",
       "    margin-left: 4px;\n",
       "    line-height: 19px;\n",
       "  }\n",
       "</style>\n",
       "<div class=\"ansiout\">Out[18]: 0.0</div>"
      ]
     },
     "metadata": {
      "application/vnd.databricks.v1+output": {
       "addedWidgets": {},
       "arguments": {},
       "data": "<div class=\"ansiout\">Out[18]: 0.0</div>",
       "datasetInfos": [],
       "metadata": {},
       "removedWidgets": [],
       "type": "html"
      }
     },
     "output_type": "display_data"
    }
   ],
   "source": [
    "mean_arr_delay_before = spark.table(\"flights_view\").selectExpr(\"mean(ARR_DELAY)\").collect()[0][0]\n",
    "mean_arr_delay_after = df_no_missing_values.selectExpr(\"mean(ARR_DELAY)\").collect()[0][0]\n",
    "mean_difference = mean_arr_delay_before - mean_arr_delay_after\n",
    "mean_difference"
   ]
  },
  {
   "cell_type": "markdown",
   "metadata": {
    "application/vnd.databricks.v1+cell": {
     "cellMetadata": {
      "byteLimit": 2048000,
      "rowLimit": 10000
     },
     "inputWidgets": {},
     "nuid": "9d1e33ac-b0c6-4624-a8bd-d33f5499d56a",
     "showTitle": false,
     "title": ""
    }
   },
   "source": [
    "## 14. Compute correlation between the two columns: ARR_DELAY and DEP_DELAY."
   ]
  },
  {
   "cell_type": "code",
   "execution_count": 0,
   "metadata": {
    "application/vnd.databricks.v1+cell": {
     "cellMetadata": {
      "byteLimit": 2048000,
      "rowLimit": 10000
     },
     "inputWidgets": {},
     "nuid": "59eb49a0-58bf-48c6-81cb-e299ccf6cc11",
     "showTitle": false,
     "title": ""
    }
   },
   "outputs": [
    {
     "output_type": "display_data",
     "data": {
      "text/html": [
       "<style scoped>\n",
       "  .ansiout {\n",
       "    display: block;\n",
       "    unicode-bidi: embed;\n",
       "    white-space: pre-wrap;\n",
       "    word-wrap: break-word;\n",
       "    word-break: break-all;\n",
       "    font-family: \"Source Code Pro\", \"Menlo\", monospace;;\n",
       "    font-size: 13px;\n",
       "    color: #555;\n",
       "    margin-left: 4px;\n",
       "    line-height: 19px;\n",
       "  }\n",
       "</style>\n",
       "<div class=\"ansiout\">Out[19]: 0.9495462317922638</div>"
      ]
     },
     "metadata": {
      "application/vnd.databricks.v1+output": {
       "addedWidgets": {},
       "arguments": {},
       "data": "<div class=\"ansiout\">Out[19]: 0.9495462317922638</div>",
       "datasetInfos": [],
       "metadata": {},
       "removedWidgets": [],
       "type": "html"
      }
     },
     "output_type": "display_data"
    }
   ],
   "source": [
    "correlation = df_no_missing_values.corr(\"ARR_DELAY\", \"DEP_DELAY\")\n",
    "correlation"
   ]
  },
  {
   "cell_type": "markdown",
   "metadata": {
    "application/vnd.databricks.v1+cell": {
     "cellMetadata": {
      "byteLimit": 2048000,
      "rowLimit": 10000
     },
     "inputWidgets": {},
     "nuid": "b2558031-3a2d-4cbf-a847-b7d20a21249a",
     "showTitle": false,
     "title": ""
    }
   },
   "source": [
    "## 15. Extract a Spark DataFrame 'df_spark' with three columns 'DISTANCE',  'DEP_DELAY', and 'ARR_DELAY' such that the distance is less than 2000 miles and the dep_delay is between -10 and 40 minutes. Show the summary statistics."
   ]
  },
  {
   "cell_type": "code",
   "execution_count": 0,
   "metadata": {
    "application/vnd.databricks.v1+cell": {
     "cellMetadata": {
      "byteLimit": 2048000,
      "rowLimit": 10000
     },
     "inputWidgets": {},
     "nuid": "d381c5de-936e-4931-a3da-ad8ce1ca8ef2",
     "showTitle": false,
     "title": ""
    }
   },
   "outputs": [
    {
     "output_type": "display_data",
     "data": {
      "text/html": [
       "<style scoped>\n",
       "  .ansiout {\n",
       "    display: block;\n",
       "    unicode-bidi: embed;\n",
       "    white-space: pre-wrap;\n",
       "    word-wrap: break-word;\n",
       "    word-break: break-all;\n",
       "    font-family: \"Source Code Pro\", \"Menlo\", monospace;;\n",
       "    font-size: 13px;\n",
       "    color: #555;\n",
       "    margin-left: 4px;\n",
       "    line-height: 19px;\n",
       "  }\n",
       "</style>\n",
       "<div class=\"ansiout\">  summary            distance           dep_delay           arr_delay\n",
       "0   count              307833              307833              307833\n",
       "1    mean   559.6551831674967  0.6959422803922907  -3.683302310018744\n",
       "2  stddev  375.28602794911984   9.624355104214027  14.746016841045774\n",
       "3     min             1004.00               -10.0               -65.0\n",
       "4     max              993.00                40.0               180.0\n",
       "</div>"
      ]
     },
     "metadata": {
      "application/vnd.databricks.v1+output": {
       "addedWidgets": {},
       "arguments": {},
       "data": "<div class=\"ansiout\">  summary            distance           dep_delay           arr_delay\n0   count              307833              307833              307833\n1    mean   559.6551831674967  0.6959422803922907  -3.683302310018744\n2  stddev  375.28602794911984   9.624355104214027  14.746016841045774\n3     min             1004.00               -10.0               -65.0\n4     max              993.00                40.0               180.0\n</div>",
       "datasetInfos": [],
       "metadata": {},
       "removedWidgets": [],
       "type": "html"
      }
     },
     "output_type": "display_data"
    }
   ],
   "source": [
    "df_selected_col = df_no_missing_values.selectExpr(\"distance\", \"dep_delay\", \"arr_delay\")\n",
    "df_spark = df_selected_col.filter((df_no_missing_values[\"DISTANCE\"] < 2000) & (df_no_missing_values[\"DEP_DELAY\"].between(-10, 40)))\n",
    "summary_stats = df_spark.describe().toPandas()\n",
    "print(summary_stats)"
   ]
  },
  {
   "cell_type": "markdown",
   "metadata": {
    "application/vnd.databricks.v1+cell": {
     "cellMetadata": {
      "byteLimit": 2048000,
      "rowLimit": 10000
     },
     "inputWidgets": {},
     "nuid": "758e02ff-5829-4e16-ae97-67ebacbbad66",
     "showTitle": false,
     "title": ""
    }
   },
   "source": [
    "## 16. Add a new column 'ontime' to the DataFrame 'df_spark' with the following values; Name the new DataFrame as 'df_spark_ontime':\n",
    "- 'ontime' = true if the ARR_DELAY is less than 15 minutes.\n",
    "- Otherwise, 'ontime' = false"
   ]
  },
  {
   "cell_type": "code",
   "execution_count": 0,
   "metadata": {
    "application/vnd.databricks.v1+cell": {
     "cellMetadata": {
      "byteLimit": 2048000,
      "rowLimit": 10000
     },
     "inputWidgets": {},
     "nuid": "3275c5b1-f18b-4992-8b70-7e7bc29b24f0",
     "showTitle": false,
     "title": ""
    }
   },
   "outputs": [
    {
     "output_type": "display_data",
     "data": {
      "text/html": [
       "<style scoped>\n",
       "  .ansiout {\n",
       "    display: block;\n",
       "    unicode-bidi: embed;\n",
       "    white-space: pre-wrap;\n",
       "    word-wrap: break-word;\n",
       "    word-break: break-all;\n",
       "    font-family: \"Source Code Pro\", \"Menlo\", monospace;;\n",
       "    font-size: 13px;\n",
       "    color: #555;\n",
       "    margin-left: 4px;\n",
       "    line-height: 19px;\n",
       "  }\n",
       "</style>\n",
       "<div class=\"ansiout\">+--------+---------+---------+------+\n",
       "distance|dep_delay|arr_delay|ontime|\n",
       "+--------+---------+---------+------+\n",
       " 1598.00|     -2.0|    -15.0|  true|\n",
       " 1598.00|     11.0|     13.0|  true|\n",
       " 1598.00|     17.0|      9.0|  true|\n",
       " 1598.00|     -2.0|     -9.0|  true|\n",
       " 1598.00|      9.0|     -2.0|  true|\n",
       " 1598.00|      6.0|     -1.0|  true|\n",
       " 1598.00|     21.0|     26.0| false|\n",
       " 1598.00|     19.0|     19.0| false|\n",
       " 1598.00|      1.0|     -4.0|  true|\n",
       " 1623.00|      0.0|    -14.0|  true|\n",
       "  209.00|     -8.0|      6.0|  true|\n",
       "  196.00|     -6.0|    -11.0|  true|\n",
       "  828.00|      0.0|     -1.0|  true|\n",
       " 1028.00|     10.0|    -11.0|  true|\n",
       "  828.00|     27.0|      8.0|  true|\n",
       "  828.00|     -2.0|    -17.0|  true|\n",
       "  273.00|      3.0|     -7.0|  true|\n",
       "  264.00|     14.0|     10.0|  true|\n",
       "  718.00|     -7.0|     -7.0|  true|\n",
       " 1028.00|     -2.0|     -5.0|  true|\n",
       "+--------+---------+---------+------+\n",
       "only showing top 20 rows\n",
       "\n",
       "</div>"
      ]
     },
     "metadata": {
      "application/vnd.databricks.v1+output": {
       "addedWidgets": {},
       "arguments": {},
       "data": "<div class=\"ansiout\">+--------+---------+---------+------+\n|distance|dep_delay|arr_delay|ontime|\n+--------+---------+---------+------+\n| 1598.00|     -2.0|    -15.0|  true|\n| 1598.00|     11.0|     13.0|  true|\n| 1598.00|     17.0|      9.0|  true|\n| 1598.00|     -2.0|     -9.0|  true|\n| 1598.00|      9.0|     -2.0|  true|\n| 1598.00|      6.0|     -1.0|  true|\n| 1598.00|     21.0|     26.0| false|\n| 1598.00|     19.0|     19.0| false|\n| 1598.00|      1.0|     -4.0|  true|\n| 1623.00|      0.0|    -14.0|  true|\n|  209.00|     -8.0|      6.0|  true|\n|  196.00|     -6.0|    -11.0|  true|\n|  828.00|      0.0|     -1.0|  true|\n| 1028.00|     10.0|    -11.0|  true|\n|  828.00|     27.0|      8.0|  true|\n|  828.00|     -2.0|    -17.0|  true|\n|  273.00|      3.0|     -7.0|  true|\n|  264.00|     14.0|     10.0|  true|\n|  718.00|     -7.0|     -7.0|  true|\n| 1028.00|     -2.0|     -5.0|  true|\n+--------+---------+---------+------+\nonly showing top 20 rows\n\n</div>",
       "datasetInfos": [],
       "metadata": {},
       "removedWidgets": [],
       "type": "html"
      }
     },
     "output_type": "display_data"
    }
   ],
   "source": [
    "df_spark.createOrReplaceTempView(\"df_spark_temp\")\n",
    "df_spark_ontime = spark.sql(\"SELECT *, CASE WHEN ARR_DELAY < 15 THEN true ELSE false END as ontime FROM df_spark_temp\")\n",
    "df_spark_ontime.show()"
   ]
  },
  {
   "cell_type": "markdown",
   "metadata": {
    "application/vnd.databricks.v1+cell": {
     "cellMetadata": {
      "byteLimit": 2048000,
      "rowLimit": 10000
     },
     "inputWidgets": {},
     "nuid": "babd88d1-6600-4369-99ff-963695030f06",
     "showTitle": false,
     "title": ""
    }
   },
   "source": [
    "## 17. Sample 10% of the data from 'df_spark_ontime\" and convert the samples to a Pandas DataFrame named 'df_pd'. Show the summary statistics."
   ]
  },
  {
   "cell_type": "code",
   "execution_count": 0,
   "metadata": {
    "application/vnd.databricks.v1+cell": {
     "cellMetadata": {
      "byteLimit": 2048000,
      "rowLimit": 10000
     },
     "inputWidgets": {},
     "nuid": "8bffd28e-c4a1-427d-879a-ef7e4cb48d66",
     "showTitle": false,
     "title": ""
    }
   },
   "outputs": [
    {
     "output_type": "display_data",
     "data": {
      "text/html": [
       "<style scoped>\n",
       "  .ansiout {\n",
       "    display: block;\n",
       "    unicode-bidi: embed;\n",
       "    white-space: pre-wrap;\n",
       "    word-wrap: break-word;\n",
       "    word-break: break-all;\n",
       "    font-family: \"Source Code Pro\", \"Menlo\", monospace;;\n",
       "    font-size: 13px;\n",
       "    color: #555;\n",
       "    margin-left: 4px;\n",
       "    line-height: 19px;\n",
       "  }\n",
       "</style>\n",
       "<div class=\"ansiout\">          dep_delay     arr_delay\n",
       "count  30873.000000  30873.000000\n",
       "mean       0.721569     -3.688336\n",
       "std        9.668998     14.800090\n",
       "min      -10.000000    -57.000000\n",
       "25%       -5.000000    -13.000000\n",
       "50%       -2.000000     -6.000000\n",
       "75%        2.000000      3.000000\n",
       "max       40.000000    130.000000\n",
       "</div>"
      ]
     },
     "metadata": {
      "application/vnd.databricks.v1+output": {
       "addedWidgets": {},
       "arguments": {},
       "data": "<div class=\"ansiout\">          dep_delay     arr_delay\ncount  30873.000000  30873.000000\nmean       0.721569     -3.688336\nstd        9.668998     14.800090\nmin      -10.000000    -57.000000\n25%       -5.000000    -13.000000\n50%       -2.000000     -6.000000\n75%        2.000000      3.000000\nmax       40.000000    130.000000\n</div>",
       "datasetInfos": [],
       "metadata": {},
       "removedWidgets": [],
       "type": "html"
      }
     },
     "output_type": "display_data"
    }
   ],
   "source": [
    "df_sample = df_spark_ontime.sample(withReplacement=False, fraction=0.1)\n",
    "df_pd = df_sample.toPandas()\n",
    "summary_stats = df_pd.describe()\n",
    "\n",
    "print(summary_stats)"
   ]
  },
  {
   "cell_type": "markdown",
   "metadata": {
    "application/vnd.databricks.v1+cell": {
     "cellMetadata": {
      "byteLimit": 2048000,
      "rowLimit": 10000
     },
     "inputWidgets": {},
     "nuid": "b9db71f9-0731-45b6-8c33-c11a8c329777",
     "showTitle": false,
     "title": ""
    }
   },
   "source": [
    "## 18. Use Seaborn jointplot() to make a hexbin plot between the distributions of 'DISTANCE' and 'DEP_DELAY' of 'df_pd'. Each hexagon of the hexbin plot is colored based on the number of flights in that bin, with darker hexagons indicating more flights."
   ]
  },
  {
   "cell_type": "code",
   "execution_count": 0,
   "metadata": {
    "application/vnd.databricks.v1+cell": {
     "cellMetadata": {
      "byteLimit": 2048000,
      "rowLimit": 10000
     },
     "inputWidgets": {},
     "nuid": "bce370db-7811-46e2-8a4b-5059036e3a53",
     "showTitle": false,
     "title": ""
    }
   },
   "outputs": [
    {
     "output_type": "display_data",
     "data": {
      "image/png": "[encoded data removed]"
     },
     "metadata": {
      "application/vnd.databricks.v1+output": {
       "addedWidgets": {},
       "arguments": {},
       "data": "data:image/png;base64,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",
       "datasetInfos": [],
       "metadata": {
        "imageDimensions": {
         "height": 424,
         "width": 429
        }
       },
       "removedWidgets": [],
       "type": "image"
      },
      "image/png": {
       "height": 424,
       "width": 429
      }
     },
     "output_type": "display_data"
    }
   ],
   "source": [
    "df_pd['distance'] = pd.to_numeric(df_pd['distance'])\n",
    "df_pd['dep_delay'] = pd.to_numeric(df_pd['dep_delay'])\n",
    "sns.jointplot(data=df_pd, x='distance', y='dep_delay', kind='hex')\n",
    "plt.show()"
   ]
  },
  {
   "cell_type": "markdown",
   "metadata": {
    "application/vnd.databricks.v1+cell": {
     "cellMetadata": {
      "byteLimit": 2048000,
      "rowLimit": 10000
     },
     "inputWidgets": {},
     "nuid": "6b3ea68f-080a-4fb3-8fc8-aae6cea654ed",
     "showTitle": false,
     "title": ""
    }
   },
   "source": [
    "## 19. For the rest, continue to work on df_spark_ontime. Cast the 'DISTANCE' to float and 'ontime' to int. Use Spark approxQuantile() to create 4 bins along 'DISTANCE'. The bins should contain approximately equal number of flights. Store the boundary info in a list 'distthresh'."
   ]
  },
  {
   "cell_type": "code",
   "execution_count": 0,
   "metadata": {
    "application/vnd.databricks.v1+cell": {
     "cellMetadata": {
      "byteLimit": 2048000,
      "rowLimit": 10000
     },
     "inputWidgets": {},
     "nuid": "fc248083-fa7d-4beb-bd21-37aee647c1bb",
     "showTitle": false,
     "title": ""
    }
   },
   "outputs": [
    {
     "output_type": "display_data",
     "data": {
      "text/html": [
       "<style scoped>\n",
       "  .ansiout {\n",
       "    display: block;\n",
       "    unicode-bidi: embed;\n",
       "    white-space: pre-wrap;\n",
       "    word-wrap: break-word;\n",
       "    word-break: break-all;\n",
       "    font-family: \"Source Code Pro\", \"Menlo\", monospace;;\n",
       "    font-size: 13px;\n",
       "    color: #555;\n",
       "    margin-left: 4px;\n",
       "    line-height: 19px;\n",
       "  }\n",
       "</style>\n",
       "<div class=\"ansiout\">[-inf, 271.0, 455.0, 749.0, inf]\n",
       "</div>"
      ]
     },
     "metadata": {
      "application/vnd.databricks.v1+output": {
       "addedWidgets": {},
       "arguments": {},
       "data": "<div class=\"ansiout\">[-inf, 271.0, 455.0, 749.0, inf]\n</div>",
       "datasetInfos": [],
       "metadata": {},
       "removedWidgets": [],
       "type": "html"
      }
     },
     "output_type": "display_data"
    }
   ],
   "source": [
    "from pyspark.sql.functions import col\n",
    "from pyspark.sql.types import IntegerType, FloatType\n",
    "\n",
    "df_spark_ontime = df_spark_ontime.withColumn(\"DISTANCE\", col(\"DISTANCE\").cast(FloatType()))\n",
    "df_spark_ontime = df_spark_ontime.withColumn(\"ontime\", col(\"ontime\").cast(IntegerType()))\n",
    "quantiles = df_spark_ontime.approxQuantile(\"DISTANCE\", [0.25, 0.5, 0.75], 0.01)\n",
    "\n",
    "distthresh = [float(\"-inf\")] + quantiles + [float(\"inf\")]\n",
    "distthresh"
   ]
  },
  {
   "cell_type": "markdown",
   "metadata": {
    "application/vnd.databricks.v1+cell": {
     "cellMetadata": {},
     "inputWidgets": {},
     "nuid": "b31635fa-043e-4a8a-aa72-fcc6ccd44ab4",
     "showTitle": false,
     "title": ""
    }
   },
   "source": [
    "## 20. Use Spark approxQuantile() to create 4 bins along 'DEP_DELAY'. The bins should contains approximately equal number of flights. Store the boundary info in a list 'delaythresh'."
   ]
  },
  {
   "cell_type": "code",
   "execution_count": 0,
   "metadata": {
    "application/vnd.databricks.v1+cell": {
     "cellMetadata": {
      "byteLimit": 2048000,
      "rowLimit": 10000
     },
     "inputWidgets": {},
     "nuid": "efd3ceef-b4f4-405c-8ed6-00b02ddea7f4",
     "showTitle": false,
     "title": ""
    }
   },
   "outputs": [
    {
     "output_type": "display_data",
     "data": {
      "text/html": [
       "<style scoped>\n",
       "  .ansiout {\n",
       "    display: block;\n",
       "    unicode-bidi: embed;\n",
       "    white-space: pre-wrap;\n",
       "    word-wrap: break-word;\n",
       "    word-break: break-all;\n",
       "    font-family: \"Source Code Pro\", \"Menlo\", monospace;;\n",
       "    font-size: 13px;\n",
       "    color: #555;\n",
       "    margin-left: 4px;\n",
       "    line-height: 19px;\n",
       "  }\n",
       "</style>\n",
       "<div class=\"ansiout\">[-inf, -5.0, -2.0, 2.0, inf]\n",
       "</div>"
      ]
     },
     "metadata": {
      "application/vnd.databricks.v1+output": {
       "addedWidgets": {},
       "arguments": {},
       "data": "<div class=\"ansiout\">[-inf, -5.0, -2.0, 2.0, inf]\n</div>",
       "datasetInfos": [],
       "metadata": {},
       "removedWidgets": [],
       "type": "html"
      }
     },
     "output_type": "display_data"
    }
   ],
   "source": [
    "quantiles = df_spark_ontime.approxQuantile(\"DEP_DELAY\", [0.25, 0.5, 0.75], 0.01)\n",
    "\n",
    "delaythresh = [float(\"-inf\")] + quantiles + [float(\"inf\")]\n",
    "\n",
    "delaythresh"
   ]
  },
  {
   "cell_type": "markdown",
   "metadata": {
    "application/vnd.databricks.v1+cell": {
     "cellMetadata": {},
     "inputWidgets": {},
     "nuid": "d0706bb4-54f9-47a3-88f6-3b4f303daa93",
     "showTitle": false,
     "title": ""
    }
   },
   "source": [
    "## 21. Write a program to compute the fraction (probability) of ontime flights in each combination of the 'DISTANCE' and 'DEP_DELAY bins. Store the results in a Pandas DataFrame with the columns ['dist_thresh', 'delay_thresh', 'frac_ontime']. Show the DataFrame with 16 records."
   ]
  },
  {
   "cell_type": "code",
   "execution_count": 0,
   "metadata": {
    "application/vnd.databricks.v1+cell": {
     "cellMetadata": {
      "byteLimit": 2048000,
      "rowLimit": 10000
     },
     "inputWidgets": {},
     "nuid": "f3ec3ae9-02a4-4cc8-80e3-0fb97141b7a5",
     "showTitle": false,
     "title": ""
    }
   },
   "outputs": [
    {
     "output_type": "display_data",
     "data": {
      "text/html": [
       "<style scoped>\n",
       "  .ansiout {\n",
       "    display: block;\n",
       "    unicode-bidi: embed;\n",
       "    white-space: pre-wrap;\n",
       "    word-wrap: break-word;\n",
       "    word-break: break-all;\n",
       "    font-family: \"Source Code Pro\", \"Menlo\", monospace;;\n",
       "    font-size: 13px;\n",
       "    color: #555;\n",
       "    margin-left: 4px;\n",
       "    line-height: 19px;\n",
       "  }\n",
       "</style>\n",
       "<div class=\"ansiout\">    dist_thresh  delay_thresh  frac_ontime\n",
       "0          -inf          -inf     0.982707\n",
       "1          -inf          -5.0     0.977430\n",
       "2          -inf          -2.0     0.955888\n",
       "3          -inf           2.0     0.639072\n",
       "4         271.0          -inf     0.986491\n",
       "5         271.0          -5.0     0.979471\n",
       "6         271.0          -2.0     0.966319\n",
       "7         271.0           2.0     0.665424\n",
       "8         455.0          -inf     0.981106\n",
       "9         455.0          -5.0     0.973054\n",
       "10        455.0          -2.0     0.956167\n",
       "11        455.0           2.0     0.666252\n",
       "12        749.0          -inf     0.979329\n",
       "13        749.0          -5.0     0.974360\n",
       "14        749.0          -2.0     0.956500\n",
       "15        749.0           2.0     0.702445\n",
       "</div>"
      ]
     },
     "metadata": {
      "application/vnd.databricks.v1+output": {
       "addedWidgets": {},
       "arguments": {},
       "data": "<div class=\"ansiout\">    dist_thresh  delay_thresh  frac_ontime\n0          -inf          -inf     0.982707\n1          -inf          -5.0     0.977430\n2          -inf          -2.0     0.955888\n3          -inf           2.0     0.639072\n4         271.0          -inf     0.986491\n5         271.0          -5.0     0.979471\n6         271.0          -2.0     0.966319\n7         271.0           2.0     0.665424\n8         455.0          -inf     0.981106\n9         455.0          -5.0     0.973054\n10        455.0          -2.0     0.956167\n11        455.0           2.0     0.666252\n12        749.0          -inf     0.979329\n13        749.0          -5.0     0.974360\n14        749.0          -2.0     0.956500\n15        749.0           2.0     0.702445\n</div>",
       "datasetInfos": [],
       "metadata": {},
       "removedWidgets": [],
       "type": "html"
      }
     },
     "output_type": "display_data"
    }
   ],
   "source": [
    "results = []\n",
    "\n",
    "# Compute the fraction of on-time flights for each combination of bins\n",
    "for dist_start, dist_end in zip(distthresh[:-1], distthresh[1:]):\n",
    "    for delay_start, delay_end in zip(delaythresh[:-1], delaythresh[1:]):\n",
    "        # Filter the dataframe based on the bin boundaries\n",
    "        filtered_df = df_spark_ontime.filter(\n",
    "            (col(\"DISTANCE\") >= dist_start) & (col(\"DISTANCE\") < dist_end) &\n",
    "            (col(\"DEP_DELAY\") >= delay_start) & (col(\"DEP_DELAY\") < delay_end)\n",
    "        )\n",
    "        # Compute the fraction of on-time flights\n",
    "        total_flights = filtered_df.count()\n",
    "        ontime_flights = filtered_df.filter(col(\"ontime\") == 1).count()\n",
    "        frac_ontime = ontime_flights / total_flights if total_flights > 0 else 0.0\n",
    "        # Append the results to the list\n",
    "        results.append((dist_start, delay_start, frac_ontime))\n",
    "\n",
    "# Create a Pandas DataFrame from the results list\n",
    "df_results = pd.DataFrame(results, columns=['dist_thresh', 'delay_thresh', 'frac_ontime'])\n",
    "df_results"
   ]
  },
  {
   "cell_type": "markdown",
   "metadata": {
    "application/vnd.databricks.v1+cell": {
     "cellMetadata": {},
     "inputWidgets": {},
     "nuid": "2767a351-6106-4e28-b7a1-95c1ffc33516",
     "showTitle": false,
     "title": ""
    }
   },
   "source": [
    "## 22. Discuss your findings: Based on the two variables, 'DEP_DELAY' and 'DISTANCE', how would you make decision on canceling a meeting at the destination, if:\n",
    "### - the flight may arrive more than 15 minutes later with 30% chance.\n",
    "### - the flight may arrive more than 15 minutes late with 20% chance.\n",
    "### - other considerations?"
   ]
  },
  {
   "cell_type": "markdown",
   "metadata": {
    "application/vnd.databricks.v1+cell": {
     "cellMetadata": {},
     "inputWidgets": {},
     "nuid": "88c05b03-9daa-4080-aa4a-e197fe1f7a54",
     "showTitle": false,
     "title": ""
    }
   },
   "source": [
    "- **The flight may arrive more than 15 minutes later with a 30% chance**:\n",
    "In this case, we need to consider the combination of 'DEP_DELAY' and 'DISTANCE' bins where the fraction of on-time flights is less than 70% (1 - 30%).\n",
    "If a significant portion of the flights in those bins are delayed, it might be risky to proceed with the meeting as there is a high chance of the flight arriving late.\n",
    "- **The flight may arrive more than 15 minutes late with a 20% chance**:\n",
    "Similar to the previous scenario, we would look at the combinations of 'DEP_DELAY' and 'DISTANCE' bins where the fraction of on-time flights is less than 80% (1 - 20%).\n",
    "If those bins show a considerable number of delayed flights, there is still a significant risk of the flight arriving late, although slightly lower than in the previous scenario.\n",
    "- **Other considerations**:\n",
    "Apart from the probability of flight delays, other factors may also influence the decision to cancel a meeting at the destination.\n",
    "Important factors could include the importance of the meeting, the flexibility of the schedule, availability of alternative travel options, and the impact of potential delays on the overall purpose and outcome of the meeting.\n",
    "It's also worth considering any contingencies or backup plans in case of flight delays, such as rescheduling the meeting or utilizing virtual meeting options."
   ]
  }
 ],
 "metadata": {
  "application/vnd.databricks.v1+notebook": {
   "dashboards": [],
   "language": "python",
   "notebookMetadata": {
    "pythonIndentUnit": 4
   },
   "notebookName": "INFO323-Assignment3 (1)",
   "widgets": {}
  },
  "kernelspec": {
   "display_name": "Python 3",
   "language": "python",
   "name": "python3"
  },
  "language_info": {
   "codemirror_mode": {
    "name": "ipython",
    "version": 3
   },
   "file_extension": ".py",
   "mimetype": "text/x-python",
   "name": "python",
   "nbconvert_exporter": "python",
   "pygments_lexer": "ipython3",
   "version": "3.7.6"
  }
 },
 "nbformat": 4,
 "nbformat_minor": 0
}
