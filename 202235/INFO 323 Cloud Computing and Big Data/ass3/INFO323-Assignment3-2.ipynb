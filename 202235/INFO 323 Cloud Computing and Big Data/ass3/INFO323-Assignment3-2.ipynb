{
 "cells": [
  {
   "cell_type": "markdown",
   "metadata": {
    "application/vnd.databricks.v1+cell": {
     "cellMetadata": {},
     "inputWidgets": {},
     "nuid": "3b338f5d-6b2f-44ca-bdaf-60d535b0ee50",
     "showTitle": false,
     "title": ""
    }
   },
   "source": [
    "<h1 style=\"text-align:center\"> Drexel University </h1>\n",
    "<h2 style = \"text-align:center\"> College of Computing and Informatics</h2>\n",
    "<h2 style = \"text-align:center\">INFO 323: Cloud Computing and Big Data</h2>\n",
    "<h3 style = \"text-align:center\">Assignment 3: Spark Data Analysis</h3>\n",
    "<div style=\"text-align:center; border-style:solid; padding: 10px\">\n",
    "<div style=\"font-weight:bold\">Due Date: Sunday, May 21, 2023</div>\n",
    "This assignment counts for 10% of the final grade\n",
    "</div>\n",
    "\n",
    "### A. Assignment Overview\n",
    "This assignment provides the opportunity for you to practice with Spark programming basics. \n",
    "\n",
    "### B. What to Hand In\n",
    "\t\n",
    "Sumbit a completed this Jupyter notebook. \n",
    "\n",
    "### C. How to Hand In\n",
    "\n",
    "Submit your Jupyter notebook file through the course website in the Blackboard Learn system.\n",
    "\n",
    "### D. When to Hand In\n",
    "\n",
    "1. Submit your assignment no later than 11:59pm in the due date.\n",
    "2. There will be a 10% (absolute value) deduction for each day of lateness, to a maximum of 3 days; assignments will not be accepted beyond that point. Missing work will earn a zero grade.\n",
    "\n",
    "### E. Answer the following questions\n",
    "### Note: All the programming must be done in Spark."
   ]
  },
  {
   "cell_type": "markdown",
   "metadata": {
    "application/vnd.databricks.v1+cell": {
     "cellMetadata": {},
     "inputWidgets": {},
     "nuid": "ffc26a5a-6931-4495-9c3d-cb81e8a19b45",
     "showTitle": false,
     "title": ""
    }
   },
   "source": [
    "# <span style=\"color:red\">Add Your Name Here after the colon:</span>"
   ]
  },
  {
   "cell_type": "code",
   "execution_count": 0,
   "metadata": {
    "application/vnd.databricks.v1+cell": {
     "cellMetadata": {
      "byteLimit": 2048000,
      "rowLimit": 10000
     },
     "inputWidgets": {},
     "nuid": "3382c272-59a6-44a9-8ef3-7f0d37efc032",
     "showTitle": false,
     "title": ""
    }
   },
   "outputs": [
    {
     "output_type": "display_data",
     "data": {
      "text/html": [
       "<style scoped>\n",
       "  .ansiout {\n",
       "    display: block;\n",
       "    unicode-bidi: embed;\n",
       "    white-space: pre-wrap;\n",
       "    word-wrap: break-word;\n",
       "    word-break: break-all;\n",
       "    font-family: \"Source Code Pro\", \"Menlo\", monospace;;\n",
       "    font-size: 13px;\n",
       "    color: #555;\n",
       "    margin-left: 4px;\n",
       "    line-height: 19px;\n",
       "  }\n",
       "</style>\n",
       "<div class=\"ansiout\"></div>"
      ]
     },
     "metadata": {
      "application/vnd.databricks.v1+output": {
       "addedWidgets": {},
       "arguments": {},
       "data": "<div class=\"ansiout\"></div>",
       "datasetInfos": [],
       "metadata": {},
       "removedWidgets": [],
       "type": "html"
      }
     },
     "output_type": "display_data"
    }
   ],
   "source": [
    "# import packages\n",
    "import matplotlib.pyplot as plt\n",
    "import seaborn as sns\n",
    "import pandas as pd\n",
    "import numpy as np"
   ]
  },
  {
   "cell_type": "code",
   "execution_count": 0,
   "metadata": {
    "application/vnd.databricks.v1+cell": {
     "cellMetadata": {
      "byteLimit": 2048000,
      "rowLimit": 10000
     },
     "inputWidgets": {},
     "nuid": "896d3ac7-a049-47f5-b967-6a266f6ca7c3",
     "showTitle": false,
     "title": ""
    }
   },
   "outputs": [
    {
     "output_type": "display_data",
     "data": {
      "text/html": [
       "<style scoped>\n",
       "  .ansiout {\n",
       "    display: block;\n",
       "    unicode-bidi: embed;\n",
       "    white-space: pre-wrap;\n",
       "    word-wrap: break-word;\n",
       "    word-break: break-all;\n",
       "    font-family: \"Source Code Pro\", \"Menlo\", monospace;;\n",
       "    font-size: 13px;\n",
       "    color: #555;\n",
       "    margin-left: 4px;\n",
       "    line-height: 19px;\n",
       "  }\n",
       "</style>\n",
       "<div class=\"ansiout\">Out[3]: &#39;3.1.2&#39;</div>"
      ]
     },
     "metadata": {
      "application/vnd.databricks.v1+output": {
       "addedWidgets": {},
       "arguments": {},
       "data": "<div class=\"ansiout\">Out[3]: &#39;3.1.2&#39;</div>",
       "datasetInfos": [],
       "metadata": {},
       "removedWidgets": [],
       "type": "html"
      }
     },
     "output_type": "display_data"
    }
   ],
   "source": [
    "# check availability of Spark\n",
    "spark.version"
   ]
  },
  {
   "cell_type": "markdown",
   "metadata": {
    "application/vnd.databricks.v1+cell": {
     "cellMetadata": {},
     "inputWidgets": {},
     "nuid": "69581143-27f9-448f-8462-227af1956d9a",
     "showTitle": false,
     "title": ""
    }
   },
   "source": [
    "## Data Ingest:\n",
    "### Go to the Storage section of the GCP web console and create a new bucket\n",
    "### Open CloudShell and git clone this repo: `git clone https://github.com/GoogleCloudPlatform/data-science-on-gcp`\n",
    "### Then, run:\n",
    "- `cd data-science-on-gcp/02_ingest`\n",
    "- `./ingest_from_crsbucket bucketname`\n",
    "- `./bqload.sh (csv-bucket-name) YEAR`\n",
    "- `cd ../03_sqlstudio`\n",
    "- `./create_views.sh`\n",
    "- `cd ../04_streaming`\n",
    "- `./ingest_from_crsbucket.sh`\n",
    "\n",
    "After the above steps, 26 JSON files should appear in the folder \"flights/tzcorr/' in the bucket."
   ]
  },
  {
   "cell_type": "code",
   "execution_count": 0,
   "metadata": {
    "application/vnd.databricks.v1+cell": {
     "cellMetadata": {
      "byteLimit": 2048000,
      "rowLimit": 10000
     },
     "inputWidgets": {},
     "nuid": "1425a5f9-33fb-4a3f-973f-d5b82a73710e",
     "showTitle": false,
     "title": ""
    }
   },
   "outputs": [
    {
     "output_type": "display_data",
     "data": {
      "text/html": [
       "<style scoped>\n",
       "  .ansiout {\n",
       "    display: block;\n",
       "    unicode-bidi: embed;\n",
       "    white-space: pre-wrap;\n",
       "    word-wrap: break-word;\n",
       "    word-break: break-all;\n",
       "    font-family: \"Source Code Pro\", \"Menlo\", monospace;;\n",
       "    font-size: 13px;\n",
       "    color: #555;\n",
       "    margin-left: 4px;\n",
       "    line-height: 19px;\n",
       "  }\n",
       "</style>\n",
       "<div class=\"ansiout\">Out[4]: [FileInfo(path=&#39;s3://info323-ya45-spring2023/tzcorr/flights_tzcorr_all_flights-00000-of-00026.json&#39;, name=&#39;flights_tzcorr_all_flights-00000-of-00026.json&#39;, size=45703666),\n",
       " FileInfo(path=&#39;s3://info323-ya45-spring2023/tzcorr/flights_tzcorr_all_flights-00001-of-00026.json&#39;, name=&#39;flights_tzcorr_all_flights-00001-of-00026.json&#39;, size=210304842),\n",
       " FileInfo(path=&#39;s3://info323-ya45-spring2023/tzcorr/flights_tzcorr_all_flights-00002-of-00026.json&#39;, name=&#39;flights_tzcorr_all_flights-00002-of-00026.json&#39;, size=53048572),\n",
       " FileInfo(path=&#39;s3://info323-ya45-spring2023/tzcorr/flights_tzcorr_all_flights-00003-of-00026.json&#39;, name=&#39;flights_tzcorr_all_flights-00003-of-00026.json&#39;, size=16055501),\n",
       " FileInfo(path=&#39;s3://info323-ya45-spring2023/tzcorr/flights_tzcorr_all_flights-00004-of-00026.json&#39;, name=&#39;flights_tzcorr_all_flights-00004-of-00026.json&#39;, size=457125784),\n",
       " FileInfo(path=&#39;s3://info323-ya45-spring2023/tzcorr/flights_tzcorr_all_flights-00005-of-00026.json&#39;, name=&#39;flights_tzcorr_all_flights-00005-of-00026.json&#39;, size=34867958),\n",
       " FileInfo(path=&#39;s3://info323-ya45-spring2023/tzcorr/flights_tzcorr_all_flights-00006-of-00026.json&#39;, name=&#39;flights_tzcorr_all_flights-00006-of-00026.json&#39;, size=99665215),\n",
       " FileInfo(path=&#39;s3://info323-ya45-spring2023/tzcorr/flights_tzcorr_all_flights-00007-of-00026.json&#39;, name=&#39;flights_tzcorr_all_flights-00007-of-00026.json&#39;, size=260615598),\n",
       " FileInfo(path=&#39;s3://info323-ya45-spring2023/tzcorr/flights_tzcorr_all_flights-00008-of-00026.json&#39;, name=&#39;flights_tzcorr_all_flights-00008-of-00026.json&#39;, size=26363387),\n",
       " FileInfo(path=&#39;s3://info323-ya45-spring2023/tzcorr/flights_tzcorr_all_flights-00009-of-00026.json&#39;, name=&#39;flights_tzcorr_all_flights-00009-of-00026.json&#39;, size=296051786),\n",
       " FileInfo(path=&#39;s3://info323-ya45-spring2023/tzcorr/flights_tzcorr_all_flights-00010-of-00026.json&#39;, name=&#39;flights_tzcorr_all_flights-00010-of-00026.json&#39;, size=19868932),\n",
       " FileInfo(path=&#39;s3://info323-ya45-spring2023/tzcorr/flights_tzcorr_all_flights-00011-of-00026.json&#39;, name=&#39;flights_tzcorr_all_flights-00011-of-00026.json&#39;, size=227308594),\n",
       " FileInfo(path=&#39;s3://info323-ya45-spring2023/tzcorr/flights_tzcorr_all_flights-00012-of-00026.json&#39;, name=&#39;flights_tzcorr_all_flights-00012-of-00026.json&#39;, size=12452046),\n",
       " FileInfo(path=&#39;s3://info323-ya45-spring2023/tzcorr/flights_tzcorr_all_flights-00013-of-00026.json&#39;, name=&#39;flights_tzcorr_all_flights-00013-of-00026.json&#39;, size=44214516),\n",
       " FileInfo(path=&#39;s3://info323-ya45-spring2023/tzcorr/flights_tzcorr_all_flights-00014-of-00026.json&#39;, name=&#39;flights_tzcorr_all_flights-00014-of-00026.json&#39;, size=19493083),\n",
       " FileInfo(path=&#39;s3://info323-ya45-spring2023/tzcorr/flights_tzcorr_all_flights-00015-of-00026.json&#39;, name=&#39;flights_tzcorr_all_flights-00015-of-00026.json&#39;, size=253026311),\n",
       " FileInfo(path=&#39;s3://info323-ya45-spring2023/tzcorr/flights_tzcorr_all_flights-00016-of-00026.json&#39;, name=&#39;flights_tzcorr_all_flights-00016-of-00026.json&#39;, size=229340092),\n",
       " FileInfo(path=&#39;s3://info323-ya45-spring2023/tzcorr/flights_tzcorr_all_flights-00017-of-00026.json&#39;, name=&#39;flights_tzcorr_all_flights-00017-of-00026.json&#39;, size=461509894),\n",
       " FileInfo(path=&#39;s3://info323-ya45-spring2023/tzcorr/flights_tzcorr_all_flights-00018-of-00026.json&#39;, name=&#39;flights_tzcorr_all_flights-00018-of-00026.json&#39;, size=7979298),\n",
       " FileInfo(path=&#39;s3://info323-ya45-spring2023/tzcorr/flights_tzcorr_all_flights-00019-of-00026.json&#39;, name=&#39;flights_tzcorr_all_flights-00019-of-00026.json&#39;, size=3341618),\n",
       " FileInfo(path=&#39;s3://info323-ya45-spring2023/tzcorr/flights_tzcorr_all_flights-00020-of-00026.json&#39;, name=&#39;flights_tzcorr_all_flights-00020-of-00026.json&#39;, size=1541142),\n",
       " FileInfo(path=&#39;s3://info323-ya45-spring2023/tzcorr/flights_tzcorr_all_flights-00021-of-00026.json&#39;, name=&#39;flights_tzcorr_all_flights-00021-of-00026.json&#39;, size=8896756),\n",
       " FileInfo(path=&#39;s3://info323-ya45-spring2023/tzcorr/flights_tzcorr_all_flights-00022-of-00026.json&#39;, name=&#39;flights_tzcorr_all_flights-00022-of-00026.json&#39;, size=508281771),\n",
       " FileInfo(path=&#39;s3://info323-ya45-spring2023/tzcorr/flights_tzcorr_all_flights-00023-of-00026.json&#39;, name=&#39;flights_tzcorr_all_flights-00023-of-00026.json&#39;, size=162268634),\n",
       " FileInfo(path=&#39;s3://info323-ya45-spring2023/tzcorr/flights_tzcorr_all_flights-00024-of-00026.json&#39;, name=&#39;flights_tzcorr_all_flights-00024-of-00026.json&#39;, size=613958506),\n",
       " FileInfo(path=&#39;s3://info323-ya45-spring2023/tzcorr/flights_tzcorr_all_flights-00025-of-00026.json&#39;, name=&#39;flights_tzcorr_all_flights-00025-of-00026.json&#39;, size=5146159)]</div>"
      ]
     },
     "metadata": {
      "application/vnd.databricks.v1+output": {
       "addedWidgets": {},
       "arguments": {},
       "data": "<div class=\"ansiout\">Out[4]: [FileInfo(path=&#39;s3://info323-ya45-spring2023/tzcorr/flights_tzcorr_all_flights-00000-of-00026.json&#39;, name=&#39;flights_tzcorr_all_flights-00000-of-00026.json&#39;, size=45703666),\n FileInfo(path=&#39;s3://info323-ya45-spring2023/tzcorr/flights_tzcorr_all_flights-00001-of-00026.json&#39;, name=&#39;flights_tzcorr_all_flights-00001-of-00026.json&#39;, size=210304842),\n FileInfo(path=&#39;s3://info323-ya45-spring2023/tzcorr/flights_tzcorr_all_flights-00002-of-00026.json&#39;, name=&#39;flights_tzcorr_all_flights-00002-of-00026.json&#39;, size=53048572),\n FileInfo(path=&#39;s3://info323-ya45-spring2023/tzcorr/flights_tzcorr_all_flights-00003-of-00026.json&#39;, name=&#39;flights_tzcorr_all_flights-00003-of-00026.json&#39;, size=16055501),\n FileInfo(path=&#39;s3://info323-ya45-spring2023/tzcorr/flights_tzcorr_all_flights-00004-of-00026.json&#39;, name=&#39;flights_tzcorr_all_flights-00004-of-00026.json&#39;, size=457125784),\n FileInfo(path=&#39;s3://info323-ya45-spring2023/tzcorr/flights_tzcorr_all_flights-00005-of-00026.json&#39;, name=&#39;flights_tzcorr_all_flights-00005-of-00026.json&#39;, size=34867958),\n FileInfo(path=&#39;s3://info323-ya45-spring2023/tzcorr/flights_tzcorr_all_flights-00006-of-00026.json&#39;, name=&#39;flights_tzcorr_all_flights-00006-of-00026.json&#39;, size=99665215),\n FileInfo(path=&#39;s3://info323-ya45-spring2023/tzcorr/flights_tzcorr_all_flights-00007-of-00026.json&#39;, name=&#39;flights_tzcorr_all_flights-00007-of-00026.json&#39;, size=260615598),\n FileInfo(path=&#39;s3://info323-ya45-spring2023/tzcorr/flights_tzcorr_all_flights-00008-of-00026.json&#39;, name=&#39;flights_tzcorr_all_flights-00008-of-00026.json&#39;, size=26363387),\n FileInfo(path=&#39;s3://info323-ya45-spring2023/tzcorr/flights_tzcorr_all_flights-00009-of-00026.json&#39;, name=&#39;flights_tzcorr_all_flights-00009-of-00026.json&#39;, size=296051786),\n FileInfo(path=&#39;s3://info323-ya45-spring2023/tzcorr/flights_tzcorr_all_flights-00010-of-00026.json&#39;, name=&#39;flights_tzcorr_all_flights-00010-of-00026.json&#39;, size=19868932),\n FileInfo(path=&#39;s3://info323-ya45-spring2023/tzcorr/flights_tzcorr_all_flights-00011-of-00026.json&#39;, name=&#39;flights_tzcorr_all_flights-00011-of-00026.json&#39;, size=227308594),\n FileInfo(path=&#39;s3://info323-ya45-spring2023/tzcorr/flights_tzcorr_all_flights-00012-of-00026.json&#39;, name=&#39;flights_tzcorr_all_flights-00012-of-00026.json&#39;, size=12452046),\n FileInfo(path=&#39;s3://info323-ya45-spring2023/tzcorr/flights_tzcorr_all_flights-00013-of-00026.json&#39;, name=&#39;flights_tzcorr_all_flights-00013-of-00026.json&#39;, size=44214516),\n FileInfo(path=&#39;s3://info323-ya45-spring2023/tzcorr/flights_tzcorr_all_flights-00014-of-00026.json&#39;, name=&#39;flights_tzcorr_all_flights-00014-of-00026.json&#39;, size=19493083),\n FileInfo(path=&#39;s3://info323-ya45-spring2023/tzcorr/flights_tzcorr_all_flights-00015-of-00026.json&#39;, name=&#39;flights_tzcorr_all_flights-00015-of-00026.json&#39;, size=253026311),\n FileInfo(path=&#39;s3://info323-ya45-spring2023/tzcorr/flights_tzcorr_all_flights-00016-of-00026.json&#39;, name=&#39;flights_tzcorr_all_flights-00016-of-00026.json&#39;, size=229340092),\n FileInfo(path=&#39;s3://info323-ya45-spring2023/tzcorr/flights_tzcorr_all_flights-00017-of-00026.json&#39;, name=&#39;flights_tzcorr_all_flights-00017-of-00026.json&#39;, size=461509894),\n FileInfo(path=&#39;s3://info323-ya45-spring2023/tzcorr/flights_tzcorr_all_flights-00018-of-00026.json&#39;, name=&#39;flights_tzcorr_all_flights-00018-of-00026.json&#39;, size=7979298),\n FileInfo(path=&#39;s3://info323-ya45-spring2023/tzcorr/flights_tzcorr_all_flights-00019-of-00026.json&#39;, name=&#39;flights_tzcorr_all_flights-00019-of-00026.json&#39;, size=3341618),\n FileInfo(path=&#39;s3://info323-ya45-spring2023/tzcorr/flights_tzcorr_all_flights-00020-of-00026.json&#39;, name=&#39;flights_tzcorr_all_flights-00020-of-00026.json&#39;, size=1541142),\n FileInfo(path=&#39;s3://info323-ya45-spring2023/tzcorr/flights_tzcorr_all_flights-00021-of-00026.json&#39;, name=&#39;flights_tzcorr_all_flights-00021-of-00026.json&#39;, size=8896756),\n FileInfo(path=&#39;s3://info323-ya45-spring2023/tzcorr/flights_tzcorr_all_flights-00022-of-00026.json&#39;, name=&#39;flights_tzcorr_all_flights-00022-of-00026.json&#39;, size=508281771),\n FileInfo(path=&#39;s3://info323-ya45-spring2023/tzcorr/flights_tzcorr_all_flights-00023-of-00026.json&#39;, name=&#39;flights_tzcorr_all_flights-00023-of-00026.json&#39;, size=162268634),\n FileInfo(path=&#39;s3://info323-ya45-spring2023/tzcorr/flights_tzcorr_all_flights-00024-of-00026.json&#39;, name=&#39;flights_tzcorr_all_flights-00024-of-00026.json&#39;, size=613958506),\n FileInfo(path=&#39;s3://info323-ya45-spring2023/tzcorr/flights_tzcorr_all_flights-00025-of-00026.json&#39;, name=&#39;flights_tzcorr_all_flights-00025-of-00026.json&#39;, size=5146159)]</div>",
       "datasetInfos": [],
       "metadata": {},
       "removedWidgets": [],
       "type": "html"
      }
     },
     "output_type": "display_data"
    }
   ],
   "source": [
    "dbutils.fs.ls(\"s3://info323-ya45-spring2023/tzcorr\")"
   ]
  },
  {
   "cell_type": "markdown",
   "metadata": {
    "application/vnd.databricks.v1+cell": {
     "cellMetadata": {},
     "inputWidgets": {},
     "nuid": "51f31726-b1ec-4cf6-81a7-95fa4522890b",
     "showTitle": false,
     "title": ""
    }
   },
   "source": [
    "## 1. Create a Spark DataFrame from one of the \"all_flights-000xx-of-00026\" JSON files."
   ]
  },
  {
   "cell_type": "code",
   "execution_count": 0,
   "metadata": {
    "application/vnd.databricks.v1+cell": {
     "cellMetadata": {},
     "inputWidgets": {},
     "nuid": "966963b0-df39-4d06-a395-aa749b0497ea",
     "showTitle": false,
     "title": ""
    }
   },
   "outputs": [],
   "source": []
  },
  {
   "cell_type": "markdown",
   "metadata": {
    "application/vnd.databricks.v1+cell": {
     "cellMetadata": {},
     "inputWidgets": {},
     "nuid": "fbb996e7-98a8-4a18-af8f-4561d4e0647a",
     "showTitle": false,
     "title": ""
    }
   },
   "source": [
    "## 2. Create a relational view for Spark SQL queries."
   ]
  },
  {
   "cell_type": "code",
   "execution_count": 0,
   "metadata": {
    "application/vnd.databricks.v1+cell": {
     "cellMetadata": {},
     "inputWidgets": {},
     "nuid": "042738df-8dd1-4e91-908e-c2f55cac0d86",
     "showTitle": false,
     "title": ""
    }
   },
   "outputs": [],
   "source": []
  },
  {
   "cell_type": "markdown",
   "metadata": {
    "application/vnd.databricks.v1+cell": {
     "cellMetadata": {},
     "inputWidgets": {},
     "nuid": "dc5a7e3e-0fb7-42dd-8438-9f34e1785675",
     "showTitle": false,
     "title": ""
    }
   },
   "source": [
    "## 3. Print the Schema of the Data"
   ]
  },
  {
   "cell_type": "code",
   "execution_count": 0,
   "metadata": {
    "application/vnd.databricks.v1+cell": {
     "cellMetadata": {},
     "inputWidgets": {},
     "nuid": "0e741df1-2810-40a1-9f53-0f77b81eef22",
     "showTitle": false,
     "title": ""
    }
   },
   "outputs": [],
   "source": []
  },
  {
   "cell_type": "markdown",
   "metadata": {
    "application/vnd.databricks.v1+cell": {
     "cellMetadata": {},
     "inputWidgets": {},
     "nuid": "95443010-bb5d-49d0-9bb1-44c002d20589",
     "showTitle": false,
     "title": ""
    }
   },
   "source": [
    "## 4. Find all the unique origin airports. Show the top up to 20 results."
   ]
  },
  {
   "cell_type": "code",
   "execution_count": 0,
   "metadata": {
    "application/vnd.databricks.v1+cell": {
     "cellMetadata": {},
     "inputWidgets": {},
     "nuid": "d818edc8-e889-4b3e-8317-8ef94bc8e138",
     "showTitle": false,
     "title": ""
    }
   },
   "outputs": [],
   "source": [
    "sqlstr= \"\"\"\n",
    "select distinct ORIGIN\n",
    "from dfTable\n",
    "limit 20\n",
    "\"\"\"\n",
    "\n",
    "df.select(\"ORIGIN\").distinct().show(20)\n"
   ]
  },
  {
   "cell_type": "markdown",
   "metadata": {
    "application/vnd.databricks.v1+cell": {
     "cellMetadata": {},
     "inputWidgets": {},
     "nuid": "0ba3b479-d8ec-4af2-a3d5-7a855455deef",
     "showTitle": false,
     "title": ""
    }
   },
   "source": [
    "## 5. Find all the unique destination airports. Show the top up to 20 results."
   ]
  },
  {
   "cell_type": "code",
   "execution_count": 0,
   "metadata": {
    "application/vnd.databricks.v1+cell": {
     "cellMetadata": {},
     "inputWidgets": {},
     "nuid": "52ee9d88-5937-467a-bd89-e21d11e5efcd",
     "showTitle": false,
     "title": ""
    }
   },
   "outputs": [],
   "source": []
  },
  {
   "cell_type": "markdown",
   "metadata": {
    "application/vnd.databricks.v1+cell": {
     "cellMetadata": {},
     "inputWidgets": {},
     "nuid": "b9af4382-f0d0-4262-8185-b20459999a2c",
     "showTitle": false,
     "title": ""
    }
   },
   "source": [
    "## 6. Find the number of flights for each origin airports. Order the results by the numbers of flights in descending order."
   ]
  },
  {
   "cell_type": "code",
   "execution_count": 0,
   "metadata": {
    "application/vnd.databricks.v1+cell": {
     "cellMetadata": {},
     "inputWidgets": {},
     "nuid": "b66f83a4-787f-455d-a327-7bf0a646d2d2",
     "showTitle": false,
     "title": ""
    }
   },
   "outputs": [],
   "source": []
  },
  {
   "cell_type": "markdown",
   "metadata": {
    "application/vnd.databricks.v1+cell": {
     "cellMetadata": {},
     "inputWidgets": {},
     "nuid": "90f85ae3-989f-4244-8dfd-cb010e6490b7",
     "showTitle": false,
     "title": ""
    }
   },
   "source": [
    "## 7. Find the distinct origin and destination where flights fly from an airport with higher latitude."
   ]
  },
  {
   "cell_type": "code",
   "execution_count": 0,
   "metadata": {
    "application/vnd.databricks.v1+cell": {
     "cellMetadata": {},
     "inputWidgets": {},
     "nuid": "d976f1d7-8764-4d25-9dc0-d8b1b119f61d",
     "showTitle": false,
     "title": ""
    }
   },
   "outputs": [],
   "source": []
  },
  {
   "cell_type": "markdown",
   "metadata": {
    "application/vnd.databricks.v1+cell": {
     "cellMetadata": {},
     "inputWidgets": {},
     "nuid": "5bb14fd7-11ad-4088-baca-987e4e940239",
     "showTitle": false,
     "title": ""
    }
   },
   "source": [
    "## 8. List all the flights (origin, dest, distance) from PHL ordered by the distances in ascending order."
   ]
  },
  {
   "cell_type": "code",
   "execution_count": 0,
   "metadata": {
    "application/vnd.databricks.v1+cell": {
     "cellMetadata": {},
     "inputWidgets": {},
     "nuid": "7444be15-85e8-4f31-8d08-e69ab984ac9e",
     "showTitle": false,
     "title": ""
    }
   },
   "outputs": [],
   "source": []
  },
  {
   "cell_type": "markdown",
   "metadata": {
    "application/vnd.databricks.v1+cell": {
     "cellMetadata": {},
     "inputWidgets": {},
     "nuid": "6003648c-1a65-443e-821f-669316e871e5",
     "showTitle": false,
     "title": ""
    }
   },
   "source": [
    "## 9. Are there any columns with missing values?  Print summary statistics for all the columns, e.g., using the describe().toPandas() method."
   ]
  },
  {
   "cell_type": "code",
   "execution_count": 0,
   "metadata": {
    "application/vnd.databricks.v1+cell": {
     "cellMetadata": {},
     "inputWidgets": {},
     "nuid": "4e94878d-c2eb-4135-a557-e3392c4bc9da",
     "showTitle": false,
     "title": ""
    }
   },
   "outputs": [],
   "source": []
  },
  {
   "cell_type": "markdown",
   "metadata": {
    "application/vnd.databricks.v1+cell": {
     "cellMetadata": {},
     "inputWidgets": {},
     "nuid": "dcf3ea5b-81b0-4363-97c7-88117fbdf398",
     "showTitle": false,
     "title": ""
    }
   },
   "source": [
    "## 10.  Print the summary statistics for the column: ARR_DELAY, DEP_DELAY and DISTANCE."
   ]
  },
  {
   "cell_type": "code",
   "execution_count": 0,
   "metadata": {
    "application/vnd.databricks.v1+cell": {
     "cellMetadata": {},
     "inputWidgets": {},
     "nuid": "89ca4bf6-ad18-4d6b-97da-7d5598b2de2a",
     "showTitle": false,
     "title": ""
    }
   },
   "outputs": [],
   "source": []
  },
  {
   "cell_type": "markdown",
   "metadata": {
    "application/vnd.databricks.v1+cell": {
     "cellMetadata": {},
     "inputWidgets": {},
     "nuid": "3f8913ea-6df9-4a9d-9903-b60e627e4dd7",
     "showTitle": false,
     "title": ""
    }
   },
   "source": [
    "## 11. Drop rows with missing values in the column: ARR_DELAY and DEP_DELAY."
   ]
  },
  {
   "cell_type": "code",
   "execution_count": 0,
   "metadata": {
    "application/vnd.databricks.v1+cell": {
     "cellMetadata": {},
     "inputWidgets": {},
     "nuid": "d464071a-91fb-4920-afdb-0816f5fb26dd",
     "showTitle": false,
     "title": ""
    }
   },
   "outputs": [],
   "source": []
  },
  {
   "cell_type": "markdown",
   "metadata": {
    "application/vnd.databricks.v1+cell": {
     "cellMetadata": {},
     "inputWidgets": {},
     "nuid": "0a042c58-ba72-4207-bec8-4b1fd06b1fc8",
     "showTitle": false,
     "title": ""
    }
   },
   "source": [
    "## 12. How many rows are dropped at the previous step?"
   ]
  },
  {
   "cell_type": "code",
   "execution_count": 0,
   "metadata": {
    "application/vnd.databricks.v1+cell": {
     "cellMetadata": {},
     "inputWidgets": {},
     "nuid": "042aa2fd-3caf-49df-86e3-10f60f16e23e",
     "showTitle": false,
     "title": ""
    }
   },
   "outputs": [],
   "source": []
  },
  {
   "cell_type": "markdown",
   "metadata": {
    "application/vnd.databricks.v1+cell": {
     "cellMetadata": {},
     "inputWidgets": {},
     "nuid": "aaa806b4-5330-49b7-ad63-fa0289c8f0f5",
     "showTitle": false,
     "title": ""
    }
   },
   "source": [
    "## 13. What is the difference between the mean values of ARR_DELAY before and after dropping all missing ARR_DELAY and DEP_DELAY values?"
   ]
  },
  {
   "cell_type": "code",
   "execution_count": 0,
   "metadata": {
    "application/vnd.databricks.v1+cell": {
     "cellMetadata": {},
     "inputWidgets": {},
     "nuid": "32f31016-fca2-4d5e-8a2c-853443d0cc4c",
     "showTitle": false,
     "title": ""
    }
   },
   "outputs": [],
   "source": []
  },
  {
   "cell_type": "markdown",
   "metadata": {
    "application/vnd.databricks.v1+cell": {
     "cellMetadata": {},
     "inputWidgets": {},
     "nuid": "9d1e33ac-b0c6-4624-a8bd-d33f5499d56a",
     "showTitle": false,
     "title": ""
    }
   },
   "source": [
    "## 14. Compute correlation between the two columns: ARR_DELAY and DEP_DELAY."
   ]
  },
  {
   "cell_type": "code",
   "execution_count": 0,
   "metadata": {
    "application/vnd.databricks.v1+cell": {
     "cellMetadata": {},
     "inputWidgets": {},
     "nuid": "59eb49a0-58bf-48c6-81cb-e299ccf6cc11",
     "showTitle": false,
     "title": ""
    }
   },
   "outputs": [],
   "source": []
  },
  {
   "cell_type": "markdown",
   "metadata": {
    "application/vnd.databricks.v1+cell": {
     "cellMetadata": {},
     "inputWidgets": {},
     "nuid": "b2558031-3a2d-4cbf-a847-b7d20a21249a",
     "showTitle": false,
     "title": ""
    }
   },
   "source": [
    "## 15. Extract a Spark DataFrame 'df_spark' with three columns 'DISTANCE',  'DEP_DELAY', and 'ARR_DELAY' such that the distance is less than 2000 miles and the dep_delay is between -10 and 40 minutes. Show the summary statistics."
   ]
  },
  {
   "cell_type": "code",
   "execution_count": 0,
   "metadata": {
    "application/vnd.databricks.v1+cell": {
     "cellMetadata": {},
     "inputWidgets": {},
     "nuid": "d381c5de-936e-4931-a3da-ad8ce1ca8ef2",
     "showTitle": false,
     "title": ""
    }
   },
   "outputs": [],
   "source": []
  },
  {
   "cell_type": "markdown",
   "metadata": {
    "application/vnd.databricks.v1+cell": {
     "cellMetadata": {},
     "inputWidgets": {},
     "nuid": "758e02ff-5829-4e16-ae97-67ebacbbad66",
     "showTitle": false,
     "title": ""
    }
   },
   "source": [
    "## 16. Add a new column 'ontime' to the DataFrame 'df_spark' with the following values; Name the new DataFrame as 'df_spark_ontime':\n",
    "- 'ontime' = true if the ARR_DELAY is less than 15 minutes.\n",
    "- Otherwise, 'ontime' = false"
   ]
  },
  {
   "cell_type": "code",
   "execution_count": 0,
   "metadata": {
    "application/vnd.databricks.v1+cell": {
     "cellMetadata": {},
     "inputWidgets": {},
     "nuid": "3275c5b1-f18b-4992-8b70-7e7bc29b24f0",
     "showTitle": false,
     "title": ""
    }
   },
   "outputs": [],
   "source": []
  },
  {
   "cell_type": "markdown",
   "metadata": {
    "application/vnd.databricks.v1+cell": {
     "cellMetadata": {},
     "inputWidgets": {},
     "nuid": "babd88d1-6600-4369-99ff-963695030f06",
     "showTitle": false,
     "title": ""
    }
   },
   "source": [
    "## 17. Sample 10% of the data from 'df_spark_ontime\" and convert the samples to a Pandas DataFrame named 'df_pd'. Show the summary statistics."
   ]
  },
  {
   "cell_type": "code",
   "execution_count": 0,
   "metadata": {
    "application/vnd.databricks.v1+cell": {
     "cellMetadata": {},
     "inputWidgets": {},
     "nuid": "8bffd28e-c4a1-427d-879a-ef7e4cb48d66",
     "showTitle": false,
     "title": ""
    }
   },
   "outputs": [],
   "source": []
  },
  {
   "cell_type": "markdown",
   "metadata": {
    "application/vnd.databricks.v1+cell": {
     "cellMetadata": {},
     "inputWidgets": {},
     "nuid": "b9db71f9-0731-45b6-8c33-c11a8c329777",
     "showTitle": false,
     "title": ""
    }
   },
   "source": [
    "## 18. Use Seaborn jointplot() to make a hexbin plot between the distributions of 'DISTANCE' and 'DEP_DELAY' of 'df_pd'. Each hexagon of the hexbin plot is colored based on the number of flights in that bin, with darker hexagons indicating more flights."
   ]
  },
  {
   "cell_type": "code",
   "execution_count": 0,
   "metadata": {
    "application/vnd.databricks.v1+cell": {
     "cellMetadata": {},
     "inputWidgets": {},
     "nuid": "bce370db-7811-46e2-8a4b-5059036e3a53",
     "showTitle": false,
     "title": ""
    }
   },
   "outputs": [],
   "source": []
  },
  {
   "cell_type": "markdown",
   "metadata": {
    "application/vnd.databricks.v1+cell": {
     "cellMetadata": {},
     "inputWidgets": {},
     "nuid": "6b3ea68f-080a-4fb3-8fc8-aae6cea654ed",
     "showTitle": false,
     "title": ""
    }
   },
   "source": [
    "## 19. For the rest, continue to work on df_spark_ontime. Cast the 'DISTANCE' to float and 'ontime' to int. Use Spark approxQuantile() to create 4 bins along 'DISTANCE'. The bins should contain approximately equal number of flights. Store the boundary info in a list 'distthresh'."
   ]
  },
  {
   "cell_type": "code",
   "execution_count": 0,
   "metadata": {
    "application/vnd.databricks.v1+cell": {
     "cellMetadata": {},
     "inputWidgets": {},
     "nuid": "fc248083-fa7d-4beb-bd21-37aee647c1bb",
     "showTitle": false,
     "title": ""
    }
   },
   "outputs": [],
   "source": []
  },
  {
   "cell_type": "markdown",
   "metadata": {
    "application/vnd.databricks.v1+cell": {
     "cellMetadata": {},
     "inputWidgets": {},
     "nuid": "b31635fa-043e-4a8a-aa72-fcc6ccd44ab4",
     "showTitle": false,
     "title": ""
    }
   },
   "source": [
    "## 20. Use Spark approxQuantile() to create 4 bins along 'DEP_DELAY'. The bins should contains approximately equal number of flights. Store the boundary info in a list 'delaythresh'."
   ]
  },
  {
   "cell_type": "code",
   "execution_count": 0,
   "metadata": {
    "application/vnd.databricks.v1+cell": {
     "cellMetadata": {},
     "inputWidgets": {},
     "nuid": "efd3ceef-b4f4-405c-8ed6-00b02ddea7f4",
     "showTitle": false,
     "title": ""
    }
   },
   "outputs": [],
   "source": []
  },
  {
   "cell_type": "markdown",
   "metadata": {
    "application/vnd.databricks.v1+cell": {
     "cellMetadata": {},
     "inputWidgets": {},
     "nuid": "d0706bb4-54f9-47a3-88f6-3b4f303daa93",
     "showTitle": false,
     "title": ""
    }
   },
   "source": [
    "## 21. Write a program to compute the fraction (probability) of ontime flights in each combination of the 'DISTANCE' and 'DEP_DELAY bins. Store the results in a Pandas DataFrame with the columns ['dist_thresh', 'delay_thresh', 'frac_ontime']. Show the DataFrame with 16 records."
   ]
  },
  {
   "cell_type": "code",
   "execution_count": 0,
   "metadata": {
    "application/vnd.databricks.v1+cell": {
     "cellMetadata": {},
     "inputWidgets": {},
     "nuid": "a961d6a1-f11b-4ca7-a272-9c679bf84304",
     "showTitle": false,
     "title": ""
    }
   },
   "outputs": [],
   "source": []
  },
  {
   "cell_type": "markdown",
   "metadata": {
    "application/vnd.databricks.v1+cell": {
     "cellMetadata": {},
     "inputWidgets": {},
     "nuid": "2767a351-6106-4e28-b7a1-95c1ffc33516",
     "showTitle": false,
     "title": ""
    }
   },
   "source": [
    "## 22. Discuss your findings: Based on the two variables, 'DEP_DELAY' and 'DISTANCE', how would you make decision on canceling a meeting at the destination, if:\n",
    "### - the flight may arrive more than 15 minutes later with 30% chance.\n",
    "### - the flight may arrive more than 15 minutes late with 20% chance.\n",
    "### - other considerations?"
   ]
  },
  {
   "cell_type": "code",
   "execution_count": 0,
   "metadata": {
    "application/vnd.databricks.v1+cell": {
     "cellMetadata": {},
     "inputWidgets": {},
     "nuid": "88c05b03-9daa-4080-aa4a-e197fe1f7a54",
     "showTitle": false,
     "title": ""
    }
   },
   "outputs": [],
   "source": []
  }
 ],
 "metadata": {
  "application/vnd.databricks.v1+notebook": {
   "dashboards": [],
   "language": "python",
   "notebookMetadata": {
    "pythonIndentUnit": 4
   },
   "notebookName": "INFO323-Assignment3",
   "widgets": {}
  },
  "kernelspec": {
   "display_name": "Python 3",
   "language": "python",
   "name": "python3"
  },
  "language_info": {
   "codemirror_mode": {
    "name": "ipython",
    "version": 3
   },
   "file_extension": ".py",
   "mimetype": "text/x-python",
   "name": "python",
   "nbconvert_exporter": "python",
   "pygments_lexer": "ipython3",
   "version": "3.7.6"
  }
 },
 "nbformat": 4,
 "nbformat_minor": 0
}
