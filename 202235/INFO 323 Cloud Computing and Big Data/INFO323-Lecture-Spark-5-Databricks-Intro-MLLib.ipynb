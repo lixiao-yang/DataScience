{
 "cells": [
  {
   "cell_type": "markdown",
   "metadata": {
    "application/vnd.databricks.v1+cell": {
     "cellMetadata": {},
     "inputWidgets": {},
     "nuid": "0821601e-cf84-4853-bf28-534f8e9ce1bb",
     "showTitle": false,
     "title": ""
    }
   },
   "source": [
    "<h1 style=\"text-align:center\"> INFO 323: Cloud Computing and Big Data</h1>\n",
    "<h2 style=\"text-align:center\"> College of Computing and Informatics</h2>\n",
    "<h2 style=\"text-align:center\">Drexel University</h2>\n",
    "\n",
    "<h3 style=\"text-align:center\"> Spark's Advanced Analytics Tools</h3>\n",
    "<h3 style=\"text-align:center\"> Yuan An, PhD</h3>\n",
    "<h3 style=\"text-align:center\">Associate Professor</h3>"
   ]
  },
  {
   "cell_type": "markdown",
   "metadata": {
    "application/vnd.databricks.v1+cell": {
     "cellMetadata": {},
     "inputWidgets": {},
     "nuid": "561ff92f-f3a4-41f0-baa4-11fdb0abf2db",
     "showTitle": false,
     "title": ""
    }
   },
   "source": [
    "## Spark's Advanced Analytics Tools\n",
    "Spark includes several core packages and many\n",
    "external packages for performing advanced analytics. The primary package is MLlib, which provides\n",
    "an interface for building machine learning pipelines.\n",
    "![](https://i.imgur.com/LxNbxBY.png)\n",
    "\n",
    "### What Is MLlib?\n",
    "MLlib is a package, built on and included in Spark, that provides interfaces for gathering and cleaning\n",
    "data, feature engineering and feature selection, training and tuning large-scale supervised and\n",
    "unsupervised machine learning models, and using those models in production.\n",
    "\n",
    "### When and why should you use MLlib (versus scikit-learn, TensorFlow, etc)\n",
    "At a high level, MLlib might sound like a lot of other machine learning packages you’ve probably\n",
    "heard of, such as scikit-learn for Python or the variety of R packages for performing similar tasks. \n",
    "\n",
    "So why should you bother with MLlib at all? There are numerous tools for performing machine learning\n",
    "on a single machine, and while there are several great options to choose from, these single machine\n",
    "tools do have their limits either in terms of the size of data you can train on or the processing time.\n",
    "\n",
    "This means single-machine tools are usually complementary to MLlib. When you hit those scalability\n",
    "issues, take advantage of Spark’s abilities.\n",
    "\n",
    "There are two key use cases where you want to leverage Spark’s ability to scale. \n",
    "1. ** First, you want to leverage Spark for preprocessing and feature generation to reduce the amount of time it might take to produce training and test sets from a large amount of data. Then you might leverage single-machine\n",
    "learning libraries to train on those given data sets. **\n",
    "\n",
    "2. ** Second, when your input data or model size become too difficult or inconvenient to put on one machine, use Spark to do the heavy lifting. Spark makes distributed machine learning very simple. **\n",
    "\n",
    "An important caveat to all of this is that while training and data preparation are made simple, there\n",
    "are still some complexities you will need to keep in mind, especially when it comes to deploying a\n",
    "trained model. For example, ** Spark does not provide a built-in way to serve low-latency predictions\n",
    "from a model, so you may want to export the model to another serving system or a custom application\n",
    "to do that. **\n",
    "\n",
    "MLlib is generally designed to allow inspecting and exporting models to other tools where\n",
    "possible."
   ]
  },
  {
   "cell_type": "markdown",
   "metadata": {
    "application/vnd.databricks.v1+cell": {
     "cellMetadata": {},
     "inputWidgets": {},
     "nuid": "07cd48ae-8497-4c51-82ea-2e87f47657f9",
     "showTitle": false,
     "title": ""
    }
   },
   "source": [
    "## Data Types for Spark ML\n",
    "There are also several lower-level data types\n",
    "you may need to work with in MLlib (Vector being the most common). Whenever we pass a set of\n",
    "features into a machine learning model, we must do it as a vector that consists of Doubles. \n",
    "\n",
    "This vector can be either sparse (where most of the elements are zero) or dense (where there are many\n",
    "unique values). Vectors are created in different ways. To create a dense vector, we can specify an\n",
    "array of all the values. To create a sparse vector, we can specify the total size and the indices and\n",
    "values of the non-zero elements. Sparse is the best format, as you might have guessed, when the\n",
    "majority of values are zero as this is a more compressed representation. Here is an example of how to\n",
    "manually create a Vector:"
   ]
  },
  {
   "cell_type": "code",
   "execution_count": 0,
   "metadata": {
    "application/vnd.databricks.v1+cell": {
     "cellMetadata": {},
     "inputWidgets": {},
     "nuid": "7785aa73-c050-47e6-8a7b-a9e75f9019a9",
     "showTitle": false,
     "title": ""
    }
   },
   "outputs": [
    {
     "output_type": "display_data",
     "data": {
      "text/html": [
       "<style scoped>\n",
       "  .ansiout {\n",
       "    display: block;\n",
       "    unicode-bidi: embed;\n",
       "    white-space: pre-wrap;\n",
       "    word-wrap: break-word;\n",
       "    word-break: break-all;\n",
       "    font-family: \"Source Code Pro\", \"Menlo\", monospace;;\n",
       "    font-size: 13px;\n",
       "    color: #555;\n",
       "    margin-left: 4px;\n",
       "    line-height: 19px;\n",
       "  }\n",
       "</style>\n",
       "<div class=\"ansiout\"></div>"
      ]
     },
     "metadata": {
      "application/vnd.databricks.v1+output": {
       "addedWidgets": {},
       "arguments": {},
       "data": "<div class=\"ansiout\"></div>",
       "datasetInfos": [],
       "metadata": {},
       "removedWidgets": [],
       "type": "html"
      }
     },
     "output_type": "display_data"
    }
   ],
   "source": [
    "# vector in Spark MLLib\n",
    "from pyspark.ml.linalg import Vectors\n",
    "denseVec = Vectors.dense(1.0, 2.0, 3.0)"
   ]
  },
  {
   "cell_type": "code",
   "execution_count": 0,
   "metadata": {
    "application/vnd.databricks.v1+cell": {
     "cellMetadata": {},
     "inputWidgets": {},
     "nuid": "4b04b5cc-3c61-47d7-b3e2-a2a91aa5f1c3",
     "showTitle": false,
     "title": ""
    }
   },
   "outputs": [
    {
     "output_type": "display_data",
     "data": {
      "text/html": [
       "<style scoped>\n",
       "  .ansiout {\n",
       "    display: block;\n",
       "    unicode-bidi: embed;\n",
       "    white-space: pre-wrap;\n",
       "    word-wrap: break-word;\n",
       "    word-break: break-all;\n",
       "    font-family: \"Source Code Pro\", \"Menlo\", monospace;;\n",
       "    font-size: 13px;\n",
       "    color: #555;\n",
       "    margin-left: 4px;\n",
       "    line-height: 19px;\n",
       "  }\n",
       "</style>\n",
       "<div class=\"ansiout\">Out[2]: DenseVector([1.0, 2.0, 3.0])</div>"
      ]
     },
     "metadata": {
      "application/vnd.databricks.v1+output": {
       "addedWidgets": {},
       "arguments": {},
       "data": "<div class=\"ansiout\">Out[2]: DenseVector([1.0, 2.0, 3.0])</div>",
       "datasetInfos": [],
       "metadata": {},
       "removedWidgets": [],
       "type": "html"
      }
     },
     "output_type": "display_data"
    }
   ],
   "source": [
    "denseVec"
   ]
  },
  {
   "cell_type": "code",
   "execution_count": 0,
   "metadata": {
    "application/vnd.databricks.v1+cell": {
     "cellMetadata": {},
     "inputWidgets": {},
     "nuid": "299cbd4d-50f7-42eb-854a-5c340fc6a92d",
     "showTitle": false,
     "title": ""
    }
   },
   "outputs": [],
   "source": [
    "size = 3\n",
    "idx = [1, 2] # locations of non-zero elements in vector\n",
    "values = [2.0, 3.0]\n",
    "sparseVec = Vectors.sparse(size, idx, values)"
   ]
  },
  {
   "cell_type": "code",
   "execution_count": 0,
   "metadata": {
    "application/vnd.databricks.v1+cell": {
     "cellMetadata": {},
     "inputWidgets": {},
     "nuid": "23dc517d-887b-4f02-9c29-a69af15ce3f8",
     "showTitle": false,
     "title": ""
    }
   },
   "outputs": [
    {
     "output_type": "stream",
     "name": "stdout",
     "output_type": "stream",
     "text": [
      "Out[4]: DenseVector([1.0, 2.0, 3.0])"
     ]
    }
   ],
   "source": [
    "denseVec"
   ]
  },
  {
   "cell_type": "code",
   "execution_count": 0,
   "metadata": {
    "application/vnd.databricks.v1+cell": {
     "cellMetadata": {},
     "inputWidgets": {},
     "nuid": "14ed97e4-a202-4e0d-9788-f671b9866639",
     "showTitle": false,
     "title": ""
    }
   },
   "outputs": [
    {
     "output_type": "stream",
     "name": "stdout",
     "output_type": "stream",
     "text": [
      "Out[5]: SparseVector(3, {1: 2.0, 2: 3.0})"
     ]
    }
   ],
   "source": [
    "sparseVec"
   ]
  },
  {
   "cell_type": "markdown",
   "metadata": {
    "application/vnd.databricks.v1+cell": {
     "cellMetadata": {},
     "inputWidgets": {},
     "nuid": "24dcc976-920e-40d4-8568-ccaff779ec2a",
     "showTitle": false,
     "title": ""
    }
   },
   "source": [
    "## MLlib in Action\n",
    "We’ll use a small synthetic dataset that will\n",
    "help illustrate Spark's ML."
   ]
  },
  {
   "cell_type": "code",
   "execution_count": 0,
   "metadata": {
    "application/vnd.databricks.v1+cell": {
     "cellMetadata": {},
     "inputWidgets": {},
     "nuid": "56753c3d-1d43-4c15-bee4-068ac5e7c56f",
     "showTitle": false,
     "title": ""
    }
   },
   "outputs": [
    {
     "output_type": "display_data",
     "data": {
      "text/html": [
       "<style scoped>\n",
       "  .ansiout {\n",
       "    display: block;\n",
       "    unicode-bidi: embed;\n",
       "    white-space: pre-wrap;\n",
       "    word-wrap: break-word;\n",
       "    word-break: break-all;\n",
       "    font-family: \"Source Code Pro\", \"Menlo\", monospace;;\n",
       "    font-size: 13px;\n",
       "    color: #555;\n",
       "    margin-left: 4px;\n",
       "    line-height: 19px;\n",
       "  }\n",
       "</style>\n",
       "<div class=\"ansiout\"></div>"
      ]
     },
     "metadata": {
      "application/vnd.databricks.v1+output": {
       "addedWidgets": {},
       "arguments": {},
       "data": "<div class=\"ansiout\"></div>",
       "datasetInfos": [],
       "metadata": {},
       "removedWidgets": [],
       "type": "html"
      }
     },
     "output_type": "display_data"
    }
   ],
   "source": [
    "filepath = \"dbfs:/FileStore/tables/simple-ml\"\n",
    "df = spark.read.json(filepath)"
   ]
  },
  {
   "cell_type": "code",
   "execution_count": 0,
   "metadata": {
    "application/vnd.databricks.v1+cell": {
     "cellMetadata": {},
     "inputWidgets": {},
     "nuid": "4f4e1223-47ed-4008-a73f-5a810ce92457",
     "showTitle": false,
     "title": ""
    }
   },
   "outputs": [
    {
     "output_type": "display_data",
     "data": {
      "text/html": [
       "<style scoped>\n",
       "  .ansiout {\n",
       "    display: block;\n",
       "    unicode-bidi: embed;\n",
       "    white-space: pre-wrap;\n",
       "    word-wrap: break-word;\n",
       "    word-break: break-all;\n",
       "    font-family: \"Source Code Pro\", \"Menlo\", monospace;;\n",
       "    font-size: 13px;\n",
       "    color: #555;\n",
       "    margin-left: 4px;\n",
       "    line-height: 19px;\n",
       "  }\n",
       "</style>\n",
       "<div class=\"ansiout\">root\n",
       "-- color: string (nullable = true)\n",
       "-- lab: string (nullable = true)\n",
       "-- value1: long (nullable = true)\n",
       "-- value2: double (nullable = true)\n",
       "\n",
       "</div>"
      ]
     },
     "metadata": {
      "application/vnd.databricks.v1+output": {
       "addedWidgets": {},
       "arguments": {},
       "data": "<div class=\"ansiout\">root\n |-- color: string (nullable = true)\n |-- lab: string (nullable = true)\n |-- value1: long (nullable = true)\n |-- value2: double (nullable = true)\n\n</div>",
       "datasetInfos": [],
       "metadata": {},
       "removedWidgets": [],
       "type": "html"
      }
     },
     "output_type": "display_data"
    }
   ],
   "source": [
    "df.printSchema()"
   ]
  },
  {
   "cell_type": "code",
   "execution_count": 0,
   "metadata": {
    "application/vnd.databricks.v1+cell": {
     "cellMetadata": {},
     "inputWidgets": {},
     "nuid": "952e49b6-3b31-4343-b3db-e93aa109d7f2",
     "showTitle": false,
     "title": ""
    }
   },
   "outputs": [
    {
     "output_type": "display_data",
     "data": {
      "text/html": [
       "<style scoped>\n",
       "  .ansiout {\n",
       "    display: block;\n",
       "    unicode-bidi: embed;\n",
       "    white-space: pre-wrap;\n",
       "    word-wrap: break-word;\n",
       "    word-break: break-all;\n",
       "    font-family: \"Source Code Pro\", \"Menlo\", monospace;;\n",
       "    font-size: 13px;\n",
       "    color: #555;\n",
       "    margin-left: 4px;\n",
       "    line-height: 19px;\n",
       "  }\n",
       "</style>\n",
       "<div class=\"ansiout\">Out[5]: 110</div>"
      ]
     },
     "metadata": {
      "application/vnd.databricks.v1+output": {
       "addedWidgets": {},
       "arguments": {},
       "data": "<div class=\"ansiout\">Out[5]: 110</div>",
       "datasetInfos": [],
       "metadata": {},
       "removedWidgets": [],
       "type": "html"
      }
     },
     "output_type": "display_data"
    }
   ],
   "source": [
    "df.count()"
   ]
  },
  {
   "cell_type": "code",
   "execution_count": 0,
   "metadata": {
    "application/vnd.databricks.v1+cell": {
     "cellMetadata": {},
     "inputWidgets": {},
     "nuid": "438cf29e-d1f1-4d7e-a9d4-3ce0a2e13e2a",
     "showTitle": false,
     "title": ""
    }
   },
   "outputs": [
    {
     "output_type": "stream",
     "name": "stdout",
     "output_type": "stream",
     "text": [
      "+-----+----+------+------------------+\n|color| lab|value1|            value2|\n+-----+----+------+------------------+\n|green|good|     1|14.386294994851129|\n| blue| bad|     8|14.386294994851129|\n| blue| bad|    12|14.386294994851129|\n|green|good|    15| 38.97187133755819|\n|green|good|    12|14.386294994851129|\n+-----+----+------+------------------+\nonly showing top 5 rows\n\n"
     ]
    }
   ],
   "source": [
    "df.show(5)"
   ]
  },
  {
   "cell_type": "code",
   "execution_count": 0,
   "metadata": {
    "application/vnd.databricks.v1+cell": {
     "cellMetadata": {},
     "inputWidgets": {},
     "nuid": "691b2a0a-cad7-4e2f-92c7-365c3da1419a",
     "showTitle": false,
     "title": ""
    }
   },
   "outputs": [
    {
     "output_type": "stream",
     "name": "stdout",
     "output_type": "stream",
     "text": [
      "+-----+----+------+------------------+\n|color| lab|value1|            value2|\n+-----+----+------+------------------+\n|  red|good|    35|14.386294994851129|\n| blue| bad|    12|14.386294994851129|\n|  red| bad|     2|14.386294994851129|\n| blue| bad|     8|14.386294994851129|\n|  red| bad|    16|14.386294994851129|\n+-----+----+------+------------------+\nonly showing top 5 rows\n\n"
     ]
    }
   ],
   "source": [
    "df.orderBy(\"value2\").show(5)"
   ]
  },
  {
   "cell_type": "markdown",
   "metadata": {
    "application/vnd.databricks.v1+cell": {
     "cellMetadata": {},
     "inputWidgets": {},
     "nuid": "50839bfa-0111-4fc9-b498-6db98526f679",
     "showTitle": false,
     "title": ""
    }
   },
   "source": [
    "This dataset consists of a categorical label with two values (good or bad), a categorical variable\n",
    "(color), and two numerical variables. Suppose that we want to train a classification model where we\n",
    "hope to predict a binary variable—the label—from the other values."
   ]
  },
  {
   "cell_type": "markdown",
   "metadata": {
    "application/vnd.databricks.v1+cell": {
     "cellMetadata": {},
     "inputWidgets": {},
     "nuid": "2a266a7c-fc85-419d-8d7c-7664431957f4",
     "showTitle": false,
     "title": ""
    }
   },
   "source": [
    "## Feature Engineering with Transformers\n",
    "When we use MLlib, all inputs to machine learning algorithms in Spark must consist of type Double (for labels) and Vector[Double] (for features).\n",
    "\n",
    "The current dataset does not meet that requirement and therefore we need to transform it to the proper\n",
    "format.\n",
    "\n",
    "To achieve this in our example, we are going to specify an RFormula. This is a declarative language\n",
    "for specifying machine learning transformations and is simple to use once you understand the syntax.\n",
    "\n",
    "RFormula supports a limited subset of the R operators that in practice work quite well for simple\n",
    "models and manipulations. The\n",
    "basic RFormula operators are:\n",
    "\n",
    "~\n",
    "\n",
    "Separate target and terms\n",
    "\n",
    "+\n",
    "\n",
    "Concat terms; “+ 0” means removing the intercept (this means that the y-intercept of the line that\n",
    "we will fit will be 0)\n",
    "\n",
    "-\n",
    "\n",
    "Remove a term; “- 1” means removing the intercept (this means that the y-intercept of the line that\n",
    "we will fit will be 0—yes, this does the same thing as “+ 0”\n",
    "\n",
    ":\n",
    "\n",
    "Interaction (multiplication for numeric values, or binarized categorical values)\n",
    "\n",
    ".\n",
    "\n",
    "All columns except the target/dependent variable"
   ]
  },
  {
   "cell_type": "markdown",
   "metadata": {
    "application/vnd.databricks.v1+cell": {
     "cellMetadata": {},
     "inputWidgets": {},
     "nuid": "b6f62ecf-5a90-47c6-8cda-3e0c585e8075",
     "showTitle": false,
     "title": ""
    }
   },
   "source": [
    "In order to specify transformations with this syntax, we need to import the relevant class. Then we go\n",
    "through the process of defining our formula. In this case we want to use all available variables (the .)\n",
    "\n",
    "Later, we can try to add in the interactions between value1 and color and value2 and color, treating those as\n",
    "new features:"
   ]
  },
  {
   "cell_type": "code",
   "execution_count": 0,
   "metadata": {
    "application/vnd.databricks.v1+cell": {
     "cellMetadata": {},
     "inputWidgets": {},
     "nuid": "8d51f1ef-6941-4c2b-8798-c9047e946912",
     "showTitle": false,
     "title": ""
    }
   },
   "outputs": [
    {
     "output_type": "stream",
     "name": "stdout",
     "output_type": "stream",
     "text": [
      "+-----+\n|color|\n+-----+\n|green|\n|  red|\n| blue|\n+-----+\n\n"
     ]
    }
   ],
   "source": [
    "df.select('color').distinct().show()"
   ]
  },
  {
   "cell_type": "code",
   "execution_count": 0,
   "metadata": {
    "application/vnd.databricks.v1+cell": {
     "cellMetadata": {},
     "inputWidgets": {},
     "nuid": "0b4558b5-194a-437f-87e3-8405e147ffcf",
     "showTitle": false,
     "title": ""
    }
   },
   "outputs": [
    {
     "output_type": "stream",
     "name": "stdout",
     "output_type": "stream",
     "text": [
      "+------+\n|value1|\n+------+\n|     1|\n|    12|\n|     8|\n|    35|\n|     2|\n|    15|\n|    16|\n|    45|\n+------+\n\n"
     ]
    }
   ],
   "source": [
    "df.select('value1').distinct().show()"
   ]
  },
  {
   "cell_type": "code",
   "execution_count": 0,
   "metadata": {
    "application/vnd.databricks.v1+cell": {
     "cellMetadata": {},
     "inputWidgets": {},
     "nuid": "03270441-ef0e-4008-a092-52ac4848a146",
     "showTitle": false,
     "title": ""
    }
   },
   "outputs": [],
   "source": [
    "from pyspark.ml.feature import RFormula"
   ]
  },
  {
   "cell_type": "code",
   "execution_count": 0,
   "metadata": {
    "application/vnd.databricks.v1+cell": {
     "cellMetadata": {},
     "inputWidgets": {},
     "nuid": "6bc47cda-7380-4587-841f-22b27bef8cfe",
     "showTitle": false,
     "title": ""
    }
   },
   "outputs": [],
   "source": [
    "supervised = RFormula(formula=\"lab ~ color:value1\")"
   ]
  },
  {
   "cell_type": "code",
   "execution_count": 0,
   "metadata": {
    "application/vnd.databricks.v1+cell": {
     "cellMetadata": {},
     "inputWidgets": {},
     "nuid": "eebf37cd-42c7-422b-99c5-254126b02711",
     "showTitle": false,
     "title": ""
    },
    "scrolled": true
   },
   "outputs": [],
   "source": [
    "fittedRF = supervised.fit(df)"
   ]
  },
  {
   "cell_type": "code",
   "execution_count": 0,
   "metadata": {
    "application/vnd.databricks.v1+cell": {
     "cellMetadata": {},
     "inputWidgets": {},
     "nuid": "b36d9703-4cc7-4bdc-8350-1a31983eee5c",
     "showTitle": false,
     "title": ""
    },
    "scrolled": true
   },
   "outputs": [
    {
     "output_type": "stream",
     "name": "stdout",
     "output_type": "stream",
     "text": [
      "+-----+----+------+------------------+--------------+-----+\n|color|lab |value1|value2            |features      |label|\n+-----+----+------+------------------+--------------+-----+\n|green|good|1     |14.386294994851129|[0.0,1.0,0.0] |1.0  |\n|blue |bad |8     |14.386294994851129|[0.0,0.0,8.0] |0.0  |\n|blue |bad |12    |14.386294994851129|[0.0,0.0,12.0]|0.0  |\n|green|good|15    |38.97187133755819 |[0.0,15.0,0.0]|1.0  |\n|green|good|12    |14.386294994851129|[0.0,12.0,0.0]|1.0  |\n|green|bad |16    |14.386294994851129|[0.0,16.0,0.0]|0.0  |\n|red  |good|35    |14.386294994851129|[35.0,0.0,0.0]|1.0  |\n|red  |bad |1     |38.97187133755819 |[1.0,0.0,0.0] |0.0  |\n|red  |bad |2     |14.386294994851129|[2.0,0.0,0.0] |0.0  |\n|red  |bad |16    |14.386294994851129|[16.0,0.0,0.0]|0.0  |\n+-----+----+------+------------------+--------------+-----+\nonly showing top 10 rows\n\n"
     ]
    }
   ],
   "source": [
    "preparedDF = fittedRF.transform(df)\n",
    "preparedDF.show(10, False)"
   ]
  },
  {
   "cell_type": "code",
   "execution_count": 0,
   "metadata": {
    "application/vnd.databricks.v1+cell": {
     "cellMetadata": {},
     "inputWidgets": {},
     "nuid": "ceeb4eac-076f-4034-b02d-38ad3668e7c7",
     "showTitle": false,
     "title": ""
    }
   },
   "outputs": [],
   "source": [
    "supervised = RFormula(formula=\"lab~.+color:value1+color:value2\")"
   ]
  },
  {
   "cell_type": "markdown",
   "metadata": {
    "application/vnd.databricks.v1+cell": {
     "cellMetadata": {},
     "inputWidgets": {},
     "nuid": "93f2762f-2d2b-4731-b347-c2918a208e8b",
     "showTitle": false,
     "title": ""
    }
   },
   "source": [
    "At this point, we have declaratively specified how we would like to change our data into what we\n",
    "will train our model on. The next step is to fit the RFormula transformer to the data to let it discover\n",
    "the possible values of each column. Not all transformers have this requirement but because RFormula\n",
    "will automatically handle categorical variables for us, it needs to determine which columns are\n",
    "categorical and which are not, as well as what the distinct values of the categorical columns are. For\n",
    "this reason, we have to call the fit method. Once we call fit, it returns a “trained” version of our\n",
    "transformer we can then use to actually transform our data."
   ]
  },
  {
   "cell_type": "code",
   "execution_count": 0,
   "metadata": {
    "application/vnd.databricks.v1+cell": {
     "cellMetadata": {},
     "inputWidgets": {},
     "nuid": "fde1803e-52b8-41aa-95be-09338fe311f6",
     "showTitle": false,
     "title": ""
    }
   },
   "outputs": [],
   "source": [
    "supervised = RFormula(formula=\"lab ~ color:value1+color:value2\")"
   ]
  },
  {
   "cell_type": "code",
   "execution_count": 0,
   "metadata": {
    "application/vnd.databricks.v1+cell": {
     "cellMetadata": {},
     "inputWidgets": {},
     "nuid": "7d74a294-b583-4eeb-9009-cbb8532a5e14",
     "showTitle": false,
     "title": ""
    }
   },
   "outputs": [],
   "source": [
    "fittedRF = supervised.fit(df)"
   ]
  },
  {
   "cell_type": "code",
   "execution_count": 0,
   "metadata": {
    "application/vnd.databricks.v1+cell": {
     "cellMetadata": {},
     "inputWidgets": {},
     "nuid": "8ce9ca13-c3d5-4aee-878f-6198dd9511b7",
     "showTitle": false,
     "title": ""
    }
   },
   "outputs": [],
   "source": [
    "preparedDF = fittedRF.transform(df)"
   ]
  },
  {
   "cell_type": "code",
   "execution_count": 0,
   "metadata": {
    "application/vnd.databricks.v1+cell": {
     "cellMetadata": {},
     "inputWidgets": {},
     "nuid": "f8695217-720b-4afe-a95f-18c98cf770cd",
     "showTitle": false,
     "title": ""
    }
   },
   "outputs": [
    {
     "output_type": "stream",
     "name": "stdout",
     "output_type": "stream",
     "text": [
      "+-----+----+------+------------------+-----------------------------------+-----+\n|color|lab |value1|value2            |features                           |label|\n+-----+----+------+------------------+-----------------------------------+-----+\n|green|good|1     |14.386294994851129|(6,[1,4],[1.0,14.386294994851129]) |1.0  |\n|blue |bad |8     |14.386294994851129|(6,[2,5],[8.0,14.386294994851129]) |0.0  |\n|blue |bad |12    |14.386294994851129|(6,[2,5],[12.0,14.386294994851129])|0.0  |\n|green|good|15    |38.97187133755819 |(6,[1,4],[15.0,38.97187133755819]) |1.0  |\n|green|good|12    |14.386294994851129|(6,[1,4],[12.0,14.386294994851129])|1.0  |\n|green|bad |16    |14.386294994851129|(6,[1,4],[16.0,14.386294994851129])|0.0  |\n|red  |good|35    |14.386294994851129|(6,[0,3],[35.0,14.386294994851129])|1.0  |\n|red  |bad |1     |38.97187133755819 |(6,[0,3],[1.0,38.97187133755819])  |0.0  |\n|red  |bad |2     |14.386294994851129|(6,[0,3],[2.0,14.386294994851129]) |0.0  |\n|red  |bad |16    |14.386294994851129|(6,[0,3],[16.0,14.386294994851129])|0.0  |\n+-----+----+------+------------------+-----------------------------------+-----+\nonly showing top 10 rows\n\n"
     ]
    }
   ],
   "source": [
    "preparedDF.show(10, False)"
   ]
  },
  {
   "cell_type": "markdown",
   "metadata": {
    "application/vnd.databricks.v1+cell": {
     "cellMetadata": {},
     "inputWidgets": {},
     "nuid": "0e929c09-841b-4ec0-985f-72b5fe9be9c2",
     "showTitle": false,
     "title": ""
    }
   },
   "source": [
    "It assigns a numerical value to each possible color category, creates additional\n",
    "features for the interaction variables between colors and value1/value2, and puts them all into a\n",
    "single vector. We then call transform on that object in order to transform our input data into the\n",
    "expected output data."
   ]
  },
  {
   "cell_type": "markdown",
   "metadata": {
    "application/vnd.databricks.v1+cell": {
     "cellMetadata": {},
     "inputWidgets": {},
     "nuid": "cbb11f43-f2f8-4f4b-b688-a7e97a344cd9",
     "showTitle": false,
     "title": ""
    }
   },
   "source": [
    "Let’s create a simple test set based off a random split of the data now."
   ]
  },
  {
   "cell_type": "code",
   "execution_count": 0,
   "metadata": {
    "application/vnd.databricks.v1+cell": {
     "cellMetadata": {},
     "inputWidgets": {},
     "nuid": "c022ad19-e5a4-4fbd-bf71-883a06cd7c3b",
     "showTitle": false,
     "title": ""
    }
   },
   "outputs": [
    {
     "output_type": "stream",
     "name": "stdout",
     "output_type": "stream",
     "text": [
      "Out[16]: Row(color='green', lab='good', value1=1, value2=14.386294994851129, features=SparseVector(10, {1: 1.0, 2: 1.0, 3: 14.3863, 5: 1.0, 8: 14.3863}), label=1.0)"
     ]
    }
   ],
   "source": [
    "preparedDF.first()"
   ]
  },
  {
   "cell_type": "code",
   "execution_count": 0,
   "metadata": {
    "application/vnd.databricks.v1+cell": {
     "cellMetadata": {},
     "inputWidgets": {},
     "nuid": "f8523a5c-2779-424e-9725-eff0766bd505",
     "showTitle": false,
     "title": ""
    },
    "scrolled": true
   },
   "outputs": [
    {
     "output_type": "stream",
     "name": "stdout",
     "output_type": "stream",
     "text": [
      "Out[17]: [Row(color='green', lab='good', value1=1, value2=14.386294994851129, features=SparseVector(10, {1: 1.0, 2: 1.0, 3: 14.3863, 5: 1.0, 8: 14.3863}), label=1.0),\n Row(color='blue', lab='bad', value1=8, value2=14.386294994851129, features=SparseVector(10, {2: 8.0, 3: 14.3863, 6: 8.0, 9: 14.3863}), label=0.0),\n Row(color='blue', lab='bad', value1=12, value2=14.386294994851129, features=SparseVector(10, {2: 12.0, 3: 14.3863, 6: 12.0, 9: 14.3863}), label=0.0)]"
     ]
    }
   ],
   "source": [
    "preparedDF.take(3)"
   ]
  },
  {
   "cell_type": "code",
   "execution_count": 0,
   "metadata": {
    "application/vnd.databricks.v1+cell": {
     "cellMetadata": {},
     "inputWidgets": {},
     "nuid": "30550f8d-2a40-4bcd-b468-0b2948d4a473",
     "showTitle": false,
     "title": ""
    }
   },
   "outputs": [],
   "source": [
    "train, test = preparedDF.randomSplit([0.7, 0.3])"
   ]
  },
  {
   "cell_type": "markdown",
   "metadata": {
    "application/vnd.databricks.v1+cell": {
     "cellMetadata": {},
     "inputWidgets": {},
     "nuid": "b6ae79bf-860d-463a-ab8b-47408187ab7d",
     "showTitle": false,
     "title": ""
    }
   },
   "source": [
    "## Modeling\n",
    "Now that we have transformed our data into the correct format and created some valuable features,\n",
    "it’s time to actually fit our model. To create our classifier we instantiate an instance of LogisticRegression, using the\n",
    "default configuration or hyperparameters. We then set the label columns and the feature columns; the\n",
    "column names we are setting—label and features—are actually the default labels for all\n",
    "estimators in Spark MLlib, and in later chapters we omit them:"
   ]
  },
  {
   "cell_type": "code",
   "execution_count": 0,
   "metadata": {
    "application/vnd.databricks.v1+cell": {
     "cellMetadata": {},
     "inputWidgets": {},
     "nuid": "cc5cf6f0-2300-41f5-989d-eb75f1715d1d",
     "showTitle": false,
     "title": ""
    }
   },
   "outputs": [],
   "source": [
    "from pyspark.ml.classification import LogisticRegression\n",
    "lr = LogisticRegression(labelCol=\"label\",featuresCol=\"features\")"
   ]
  },
  {
   "cell_type": "markdown",
   "metadata": {
    "application/vnd.databricks.v1+cell": {
     "cellMetadata": {},
     "inputWidgets": {},
     "nuid": "0f144d56-1011-4c33-af87-20463eaffe3f",
     "showTitle": false,
     "title": ""
    }
   },
   "source": [
    "Before we actually go about training this model, let’s inspect the parameters. This is also a great way\n",
    "to remind yourself of the options available for each particular model:"
   ]
  },
  {
   "cell_type": "code",
   "execution_count": 0,
   "metadata": {
    "application/vnd.databricks.v1+cell": {
     "cellMetadata": {},
     "inputWidgets": {},
     "nuid": "642f7853-e170-42a1-91db-074186ce8064",
     "showTitle": false,
     "title": ""
    }
   },
   "outputs": [
    {
     "output_type": "stream",
     "name": "stdout",
     "output_type": "stream",
     "text": [
      "aggregationDepth: suggested depth for treeAggregate (>= 2). (default: 2)\nelasticNetParam: the ElasticNet mixing parameter, in range [0, 1]. For alpha = 0, the penalty is an L2 penalty. For alpha = 1, it is an L1 penalty. (default: 0.0)\nfamily: The name of family which is a description of the label distribution to be used in the model. Supported options: auto, binomial, multinomial (default: auto)\nfeaturesCol: features column name. (default: features, current: features)\nfitIntercept: whether to fit an intercept term. (default: True)\nlabelCol: label column name. (default: label, current: label)\nlowerBoundsOnCoefficients: The lower bounds on coefficients if fitting under bound constrained optimization. The bound matrix must be compatible with the shape (1, number of features) for binomial regression, or (number of classes, number of features) for multinomial regression. (undefined)\nlowerBoundsOnIntercepts: The lower bounds on intercepts if fitting under bound constrained optimization. The bounds vector size must beequal with 1 for binomial regression, or the number oflasses for multinomial regression. (undefined)\nmaxIter: max number of iterations (>= 0). (default: 100)\npredictionCol: prediction column name. (default: prediction)\nprobabilityCol: Column name for predicted class conditional probabilities. Note: Not all models output well-calibrated probability estimates! These probabilities should be treated as confidences, not precise probabilities. (default: probability)\nrawPredictionCol: raw prediction (a.k.a. confidence) column name. (default: rawPrediction)\nregParam: regularization parameter (>= 0). (default: 0.0)\nstandardization: whether to standardize the training features before fitting the model. (default: True)\nthreshold: Threshold in binary classification prediction, in range [0, 1]. If threshold and thresholds are both set, they must match.e.g. if threshold is p, then thresholds must be equal to [1-p, p]. (default: 0.5)\nthresholds: Thresholds in multi-class classification to adjust the probability of predicting each class. Array must have length equal to the number of classes, with values > 0, excepting that at most one value may be 0. The class with largest value p/t is predicted, where p is the original probability of that class and t is the class's threshold. (undefined)\ntol: the convergence tolerance for iterative algorithms (>= 0). (default: 1e-06)\nupperBoundsOnCoefficients: The upper bounds on coefficients if fitting under bound constrained optimization. The bound matrix must be compatible with the shape (1, number of features) for binomial regression, or (number of classes, number of features) for multinomial regression. (undefined)\nupperBoundsOnIntercepts: The upper bounds on intercepts if fitting under bound constrained optimization. The bound vector size must be equal with 1 for binomial regression, or the number of classes for multinomial regression. (undefined)\nweightCol: weight column name. If this is not set or empty, we treat all instance weights as 1.0. (undefined)\n"
     ]
    }
   ],
   "source": [
    "print(lr.explainParams())"
   ]
  },
  {
   "cell_type": "markdown",
   "metadata": {
    "application/vnd.databricks.v1+cell": {
     "cellMetadata": {},
     "inputWidgets": {},
     "nuid": "c2862363-33c2-45ed-82ed-8f9d1c60775a",
     "showTitle": false,
     "title": ""
    }
   },
   "source": [
    "It shows an explanation of all of the parameters for\n",
    "Spark’s implementation of logistic regression. The explainParams method exists on all algorithms\n",
    "available in MLlib."
   ]
  },
  {
   "cell_type": "code",
   "execution_count": 0,
   "metadata": {
    "application/vnd.databricks.v1+cell": {
     "cellMetadata": {},
     "inputWidgets": {},
     "nuid": "b2bf0127-591f-499c-bcb6-4b3b0cb088f3",
     "showTitle": false,
     "title": ""
    }
   },
   "outputs": [],
   "source": [
    "fittedLR = lr.fit(train)"
   ]
  },
  {
   "cell_type": "markdown",
   "metadata": {
    "application/vnd.databricks.v1+cell": {
     "cellMetadata": {},
     "inputWidgets": {},
     "nuid": "33830826-1b2e-4f1f-b79e-ae8a6875e179",
     "showTitle": false,
     "title": ""
    }
   },
   "source": [
    "Once complete, you can use the model to make predictions. Logically this means tranforming features\n",
    "into labels. We make predictions with the transform method. For example, we can transform our\n",
    "training dataset to see what labels our model assigned to the training data and how those compare to\n",
    "the true outputs. This, again, is just another DataFrame we can manipulate. Let’s perform that\n",
    "prediction with the following code snippet:"
   ]
  },
  {
   "cell_type": "code",
   "execution_count": 0,
   "metadata": {
    "application/vnd.databricks.v1+cell": {
     "cellMetadata": {},
     "inputWidgets": {},
     "nuid": "4b5ca09c-d161-437b-a308-8f6c9cce9565",
     "showTitle": false,
     "title": ""
    }
   },
   "outputs": [
    {
     "output_type": "stream",
     "name": "stdout",
     "output_type": "stream",
     "text": [
      "+-----+----------+\n|label|prediction|\n+-----+----------+\n|  0.0|       0.0|\n|  0.0|       0.0|\n|  0.0|       0.0|\n|  0.0|       0.0|\n|  0.0|       0.0|\n|  0.0|       0.0|\n|  0.0|       0.0|\n|  0.0|       0.0|\n|  0.0|       0.0|\n|  0.0|       0.0|\n|  0.0|       0.0|\n|  0.0|       0.0|\n|  0.0|       0.0|\n|  0.0|       0.0|\n|  0.0|       0.0|\n|  0.0|       0.0|\n|  0.0|       0.0|\n|  0.0|       0.0|\n|  0.0|       0.0|\n|  0.0|       0.0|\n+-----+----------+\nonly showing top 20 rows\n\n"
     ]
    }
   ],
   "source": [
    "fittedLR.transform(train).select(\"label\", \"prediction\").show()"
   ]
  },
  {
   "cell_type": "markdown",
   "metadata": {
    "application/vnd.databricks.v1+cell": {
     "cellMetadata": {},
     "inputWidgets": {},
     "nuid": "56158357-3f18-4b64-99bb-76045bdb7d44",
     "showTitle": false,
     "title": ""
    }
   },
   "source": [
    "Our next step would be to manually evaluate this model and calculate performance metrics like the\n",
    "true positive rate, false negative rate, and so on. We might then turn around and try a different set of\n",
    "parameters to see if those perform better. However, while this is a useful process, it can also be quite\n",
    "tedious. Spark helps you avoid manually trying different models and evaluation criteria by allowing\n",
    "you to specify your workload as a declarative pipeline of work that includes all your transformations\n",
    "as well as tuning your hyperparameters."
   ]
  },
  {
   "cell_type": "markdown",
   "metadata": {
    "application/vnd.databricks.v1+cell": {
     "cellMetadata": {},
     "inputWidgets": {},
     "nuid": "6b661a1c-194f-4a6d-b1f8-ea607670e24a",
     "showTitle": false,
     "title": ""
    }
   },
   "source": [
    "## Pipelining Our Workflow\n",
    "As you probably noticed, if you are performing a lot of transformations, writing all the steps and\n",
    "keeping track of DataFrames ends up being quite tedious. That’s why Spark includes the Pipeline\n",
    "concept. A pipeline allows you to set up a dataflow of the relevant transformations that ends with an\n",
    "estimator that is automatically tuned according to your specifications, resulting in a tuned model ready\n",
    "for use."
   ]
  },
  {
   "cell_type": "code",
   "execution_count": 0,
   "metadata": {
    "application/vnd.databricks.v1+cell": {
     "cellMetadata": {},
     "inputWidgets": {},
     "nuid": "59fcf7a2-2471-423f-aa82-641e53b83f0d",
     "showTitle": false,
     "title": ""
    }
   },
   "outputs": [],
   "source": [
    "# Create held out set\n",
    "train, test = df.randomSplit([0.7, 0.3])"
   ]
  },
  {
   "cell_type": "code",
   "execution_count": 0,
   "metadata": {
    "application/vnd.databricks.v1+cell": {
     "cellMetadata": {},
     "inputWidgets": {},
     "nuid": "732637e5-c21b-47c2-b80c-a842116f2037",
     "showTitle": false,
     "title": ""
    }
   },
   "outputs": [
    {
     "output_type": "stream",
     "name": "stdout",
     "output_type": "stream",
     "text": [
      "+-----+---+------+------------------+\n|color|lab|value1|            value2|\n+-----+---+------+------------------+\n| blue|bad|     8|14.386294994851129|\n| blue|bad|     8|14.386294994851129|\n| blue|bad|     8|14.386294994851129|\n+-----+---+------+------------------+\nonly showing top 3 rows\n\n"
     ]
    }
   ],
   "source": [
    "train.show(3)"
   ]
  },
  {
   "cell_type": "code",
   "execution_count": 0,
   "metadata": {
    "application/vnd.databricks.v1+cell": {
     "cellMetadata": {},
     "inputWidgets": {},
     "nuid": "5cce4d5b-0b51-4321-be9c-b511fac61884",
     "showTitle": false,
     "title": ""
    }
   },
   "outputs": [
    {
     "output_type": "stream",
     "name": "stdout",
     "output_type": "stream",
     "text": [
      "+-----+---+------+------------------+\n|color|lab|value1|            value2|\n+-----+---+------+------------------+\n| blue|bad|     8|14.386294994851129|\n| blue|bad|     8|14.386294994851129|\n| blue|bad|    12|14.386294994851129|\n+-----+---+------+------------------+\nonly showing top 3 rows\n\n"
     ]
    }
   ],
   "source": [
    "test.show(3)"
   ]
  },
  {
   "cell_type": "code",
   "execution_count": 0,
   "metadata": {
    "application/vnd.databricks.v1+cell": {
     "cellMetadata": {},
     "inputWidgets": {},
     "nuid": "ebcd81c1-c106-415e-92cf-758f4e7815ab",
     "showTitle": false,
     "title": ""
    }
   },
   "outputs": [],
   "source": [
    "# Create two transformers\n",
    "rForm = RFormula()\n",
    "lr = LogisticRegression().setLabelCol(\"label\").setFeaturesCol(\"features\")"
   ]
  },
  {
   "cell_type": "markdown",
   "metadata": {
    "application/vnd.databricks.v1+cell": {
     "cellMetadata": {},
     "inputWidgets": {},
     "nuid": "58038483-7b4c-4c78-891e-d279a037769a",
     "showTitle": false,
     "title": ""
    }
   },
   "source": [
    "Now instead of manually using\n",
    "our transformations and then tuning our model we just make them stages in the overall pipeline, as in\n",
    "the following code snippet:"
   ]
  },
  {
   "cell_type": "code",
   "execution_count": 0,
   "metadata": {
    "application/vnd.databricks.v1+cell": {
     "cellMetadata": {},
     "inputWidgets": {},
     "nuid": "d161c272-9610-48a8-9db9-e180d9a2422e",
     "showTitle": false,
     "title": ""
    }
   },
   "outputs": [],
   "source": [
    "from pyspark.ml import Pipeline\n",
    "stages = [rForm, lr]\n",
    "pipeline = Pipeline().setStages(stages)"
   ]
  },
  {
   "cell_type": "markdown",
   "metadata": {
    "application/vnd.databricks.v1+cell": {
     "cellMetadata": {},
     "inputWidgets": {},
     "nuid": "033acc31-1775-4f58-b14a-f97f4d3b95a4",
     "showTitle": false,
     "title": ""
    }
   },
   "source": [
    "### Training and Evaluation\n",
    "Now that you arranged the logical pipeline, the next step is training. In our case, we won’t train just\n",
    "one model (like we did previously); we will train several variations of the model by specifying\n",
    "different combinations of hyperparameters that we would like Spark to test. We will then select the\n",
    "best model using an Evaluator that compares their predictions on our validation data. We can test\n",
    "different hyperparameters in the entire pipeline, even in the RFormula that we use to manipulate the\n",
    "raw data."
   ]
  },
  {
   "cell_type": "code",
   "execution_count": 0,
   "metadata": {
    "application/vnd.databricks.v1+cell": {
     "cellMetadata": {},
     "inputWidgets": {},
     "nuid": "0135368f-ccf6-48ba-9a8d-3a2fc5e1d098",
     "showTitle": false,
     "title": ""
    }
   },
   "outputs": [],
   "source": [
    "from pyspark.ml.tuning import ParamGridBuilder\n",
    "params = ParamGridBuilder()\\\n",
    ".addGrid(rForm.formula, [\n",
    "\"lab ~ . + color:value1\",\n",
    "\"lab ~ . + color:value1 + color:value2\"])\\\n",
    ".addGrid(lr.elasticNetParam, [0.0, 0.5, 1.0])\\\n",
    ".addGrid(lr.regParam, [0.1, 2.0])\\\n",
    ".build()"
   ]
  },
  {
   "cell_type": "markdown",
   "metadata": {
    "application/vnd.databricks.v1+cell": {
     "cellMetadata": {},
     "inputWidgets": {},
     "nuid": "a451ceb9-1887-4e4f-b47f-3cc271150b66",
     "showTitle": false,
     "title": ""
    }
   },
   "source": [
    "We will build 12 different logistic regression models. The evaluator allows us to\n",
    "automatically and objectively compare multiple models to the same evaluation metric.  We will use the\n",
    "BinaryClassificationEvaluator, which has a number of potential evaluation metrics. In this case we will use areaUnderROC, which is the total area under the\n",
    "receiver operating characteristic, a common measure of classification performance:"
   ]
  },
  {
   "cell_type": "code",
   "execution_count": 0,
   "metadata": {
    "application/vnd.databricks.v1+cell": {
     "cellMetadata": {},
     "inputWidgets": {},
     "nuid": "fdb7c56d-5c97-4a4b-83da-1dcef17d537f",
     "showTitle": false,
     "title": ""
    }
   },
   "outputs": [],
   "source": [
    "from pyspark.ml.evaluation import BinaryClassificationEvaluator\n",
    "evaluator = BinaryClassificationEvaluator()\\\n",
    ".setMetricName(\"areaUnderROC\")\\\n",
    ".setRawPredictionCol(\"prediction\")\\\n",
    ".setLabelCol(\"label\")"
   ]
  },
  {
   "cell_type": "markdown",
   "metadata": {
    "application/vnd.databricks.v1+cell": {
     "cellMetadata": {},
     "inputWidgets": {},
     "nuid": "1556cbd8-8c77-463f-888a-b053d6292326",
     "showTitle": false,
     "title": ""
    }
   },
   "source": [
    "Spark provides two options for performing\n",
    "hyperparameter tuning automatically. We can use TrainValidationSplit, which will simply\n",
    "perform an arbitrary random split of our data into two different groups, or CrossValidator, which\n",
    "performs K-fold cross-validation by splitting the dataset into k non-overlapping, randomly partitioned\n",
    "folds:"
   ]
  },
  {
   "cell_type": "code",
   "execution_count": 0,
   "metadata": {
    "application/vnd.databricks.v1+cell": {
     "cellMetadata": {},
     "inputWidgets": {},
     "nuid": "c833ded6-42a0-49e4-bb0b-11a7d84a61bc",
     "showTitle": false,
     "title": ""
    }
   },
   "outputs": [],
   "source": [
    "from pyspark.ml.tuning import TrainValidationSplit\n",
    "tvs = TrainValidationSplit()\\\n",
    ".setTrainRatio(0.75)\\\n",
    ".setEstimatorParamMaps(params)\\\n",
    ".setEstimator(pipeline)\\\n",
    ".setEvaluator(evaluator)"
   ]
  },
  {
   "cell_type": "code",
   "execution_count": 0,
   "metadata": {
    "application/vnd.databricks.v1+cell": {
     "cellMetadata": {},
     "inputWidgets": {},
     "nuid": "5a15e20c-7ee0-4ef6-bdc1-6677d71e62c4",
     "showTitle": false,
     "title": ""
    }
   },
   "outputs": [],
   "source": [
    "# Fit and evaluate the models. tvs stands for trainValidationSplit\n",
    "tvsFitted = tvs.fit(train)"
   ]
  },
  {
   "cell_type": "code",
   "execution_count": 0,
   "metadata": {
    "application/vnd.databricks.v1+cell": {
     "cellMetadata": {},
     "inputWidgets": {},
     "nuid": "4e88f093-61ff-4e00-85f7-cabe15c14305",
     "showTitle": false,
     "title": ""
    }
   },
   "outputs": [
    {
     "output_type": "stream",
     "name": "stdout",
     "output_type": "stream",
     "text": [
      "Out[46]: 1.0"
     ]
    }
   ],
   "source": [
    "evaluator.evaluate(tvsFitted.transform(test)) // 0.9166666666666667"
   ]
  },
  {
   "cell_type": "markdown",
   "metadata": {
    "application/vnd.databricks.v1+cell": {
     "cellMetadata": {},
     "inputWidgets": {},
     "nuid": "d322d676-5330-4ade-941a-756e3c9db9ae",
     "showTitle": false,
     "title": ""
    }
   },
   "source": [
    "#### Evaluate the single model trained early"
   ]
  },
  {
   "cell_type": "code",
   "execution_count": 0,
   "metadata": {
    "application/vnd.databricks.v1+cell": {
     "cellMetadata": {},
     "inputWidgets": {},
     "nuid": "a4f3bcf0-5ee6-40b5-9d42-9155df47095b",
     "showTitle": false,
     "title": ""
    }
   },
   "outputs": [],
   "source": [
    "train, test = preparedDF.randomSplit([0.7, 0.3])"
   ]
  },
  {
   "cell_type": "code",
   "execution_count": 0,
   "metadata": {
    "application/vnd.databricks.v1+cell": {
     "cellMetadata": {},
     "inputWidgets": {},
     "nuid": "8628ed0c-5f9a-45c4-a83e-d9a8834abbf0",
     "showTitle": false,
     "title": ""
    }
   },
   "outputs": [
    {
     "output_type": "stream",
     "name": "stdout",
     "output_type": "stream",
     "text": [
      "Out[48]: 1.0"
     ]
    }
   ],
   "source": [
    "evaluator.evaluate(fittedLR.transform(test))"
   ]
  },
  {
   "cell_type": "code",
   "execution_count": 0,
   "metadata": {
    "application/vnd.databricks.v1+cell": {
     "cellMetadata": {},
     "inputWidgets": {},
     "nuid": "cfd01de1-c087-4ed1-9617-b41415e7a863",
     "showTitle": false,
     "title": ""
    }
   },
   "outputs": [],
   "source": []
  }
 ],
 "metadata": {
  "application/vnd.databricks.v1+notebook": {
   "dashboards": [],
   "language": "python",
   "notebookMetadata": {
    "pythonIndentUnit": 4
   },
   "notebookName": "INFO323-Lecture-Spark-5-Databricks-Intro-MLLib",
   "widgets": {}
  },
  "kernelspec": {
   "display_name": "PySpark",
   "language": "python",
   "name": "pyspark"
  },
  "language_info": {
   "codemirror_mode": {
    "name": "ipython",
    "version": 3
   },
   "file_extension": ".py",
   "mimetype": "text/x-python",
   "name": "python",
   "nbconvert_exporter": "python",
   "pygments_lexer": "ipython3",
   "version": "3.7.4"
  }
 },
 "nbformat": 4,
 "nbformat_minor": 0
}
