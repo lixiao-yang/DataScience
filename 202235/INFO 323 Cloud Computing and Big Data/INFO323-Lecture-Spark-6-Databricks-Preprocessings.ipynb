{
 "cells": [
  {
   "cell_type": "markdown",
   "metadata": {
    "application/vnd.databricks.v1+cell": {
     "cellMetadata": {},
     "inputWidgets": {},
     "nuid": "a252c739-0835-449f-9624-6f474397552a",
     "showTitle": false,
     "title": ""
    }
   },
   "source": [
    "<h1 style=\"text-align:center\"> INFO 323: Cloud Computing and Big Data</h1>\n",
    "<h2 style=\"text-align:center\"> College of Computing and Informatics</h2>\n",
    "<h2 style=\"text-align:center\">Drexel University</h2>\n",
    "\n",
    "<h3 style=\"text-align:center\"> Spark Preprocessing</h3>\n",
    "<h3 style=\"text-align:center\"> Yuan An, PhD</h3>\n",
    "<h3 style=\"text-align:center\">Associate Professor</h3>"
   ]
  },
  {
   "cell_type": "markdown",
   "metadata": {
    "application/vnd.databricks.v1+cell": {
     "cellMetadata": {},
     "inputWidgets": {},
     "nuid": "6f2f727f-b712-430d-bf6f-d8ce0a478852",
     "showTitle": false,
     "title": ""
    }
   },
   "source": [
    "# Formatting Models According to Your Use Case\n",
    "To preprocess data for Spark’s different advanced analytics tools, you must consider your end\n",
    "objective. The following list walks through the requirements for input data structure for each\n",
    "advanced analytics task in MLlib:\n",
    "* In the case of most classification and regression algorithms, you want to get your data into **a column of type Double to represent the label and a column of type Vector (either dense or sparse) to represent the features**.\n",
    "* In the case of recommendation, you want to get your data into a column of users, **a column of items (say movies or books), and a column of ratings**.\n",
    "* In the case of unsupervised learning, **a column of type Vector (either dense or sparse)** is needed to represent the features.\n",
    "* In the case of graph analytics, you will want **a DataFrame of vertices and a DataFrame of edges**.\n",
    "\n",
    "The best way to get your data in these formats is through transformers. Transformers are functions that\n",
    "accept a DataFrame as an argument and return a new DataFrame as a response."
   ]
  },
  {
   "cell_type": "markdown",
   "metadata": {
    "application/vnd.databricks.v1+cell": {
     "cellMetadata": {},
     "inputWidgets": {},
     "nuid": "78be2895-ff63-4fa3-8aa9-563ea078753b",
     "showTitle": false,
     "title": ""
    }
   },
   "source": [
    "## Read in Several Sample Datasets"
   ]
  },
  {
   "cell_type": "code",
   "execution_count": 0,
   "metadata": {
    "application/vnd.databricks.v1+cell": {
     "cellMetadata": {},
     "inputWidgets": {},
     "nuid": "c2cf76b7-f1b1-41d3-95e2-d9ba5a02c7fd",
     "showTitle": false,
     "title": ""
    }
   },
   "outputs": [
    {
     "output_type": "display_data",
     "data": {
      "text/html": [
       "<style scoped>\n",
       "  .ansiout {\n",
       "    display: block;\n",
       "    unicode-bidi: embed;\n",
       "    white-space: pre-wrap;\n",
       "    word-wrap: break-word;\n",
       "    word-break: break-all;\n",
       "    font-family: \"Source Code Pro\", \"Menlo\", monospace;;\n",
       "    font-size: 13px;\n",
       "    color: #555;\n",
       "    margin-left: 4px;\n",
       "    line-height: 19px;\n",
       "  }\n",
       "</style>\n",
       "<div class=\"ansiout\"></div>"
      ]
     },
     "metadata": {
      "application/vnd.databricks.v1+output": {
       "addedWidgets": {},
       "arguments": {},
       "data": "<div class=\"ansiout\"></div>",
       "datasetInfos": [],
       "metadata": {},
       "removedWidgets": [],
       "type": "html"
      }
     },
     "output_type": "display_data"
    }
   ],
   "source": [
    "sales = spark.read.format(\"csv\")\\\n",
    "  .option(\"header\", \"true\")\\\n",
    "  .option(\"inferSchema\", \"true\")\\\n",
    "  .load(\"dbfs:/FileStore/tables/retail-data/by-day/*.csv\")\\\n",
    "  .coalesce(5)\\\n",
    "  .where(\"Description IS NOT NULL\")\n",
    "    "
   ]
  },
  {
   "cell_type": "code",
   "execution_count": 0,
   "metadata": {
    "application/vnd.databricks.v1+cell": {
     "cellMetadata": {},
     "inputWidgets": {},
     "nuid": "435d525e-6282-46eb-9117-9e5274658f58",
     "showTitle": false,
     "title": ""
    }
   },
   "outputs": [
    {
     "output_type": "display_data",
     "data": {
      "text/html": [
       "<style scoped>\n",
       "  .ansiout {\n",
       "    display: block;\n",
       "    unicode-bidi: embed;\n",
       "    white-space: pre-wrap;\n",
       "    word-wrap: break-word;\n",
       "    word-break: break-all;\n",
       "    font-family: \"Source Code Pro\", \"Menlo\", monospace;;\n",
       "    font-size: 13px;\n",
       "    color: #555;\n",
       "    margin-left: 4px;\n",
       "    line-height: 19px;\n",
       "  }\n",
       "</style>\n",
       "<div class=\"ansiout\">+---------+---------+-------------------+--------+-------------------+---------+----------+--------------+\n",
       "InvoiceNo|StockCode|        Description|Quantity|        InvoiceDate|UnitPrice|CustomerID|       Country|\n",
       "+---------+---------+-------------------+--------+-------------------+---------+----------+--------------+\n",
       "   580538|    23084| RABBIT NIGHT LIGHT|      48|2011-12-05 08:38:00|     1.79|   14075.0|United Kingdom|\n",
       "   580538|    23077|DOUGHNUT LIP GLOSS |      20|2011-12-05 08:38:00|     1.25|   14075.0|United Kingdom|\n",
       "+---------+---------+-------------------+--------+-------------------+---------+----------+--------------+\n",
       "only showing top 2 rows\n",
       "\n",
       "</div>"
      ]
     },
     "metadata": {
      "application/vnd.databricks.v1+output": {
       "addedWidgets": {},
       "arguments": {},
       "data": "<div class=\"ansiout\">+---------+---------+-------------------+--------+-------------------+---------+----------+--------------+\n|InvoiceNo|StockCode|        Description|Quantity|        InvoiceDate|UnitPrice|CustomerID|       Country|\n+---------+---------+-------------------+--------+-------------------+---------+----------+--------------+\n|   580538|    23084| RABBIT NIGHT LIGHT|      48|2011-12-05 08:38:00|     1.79|   14075.0|United Kingdom|\n|   580538|    23077|DOUGHNUT LIP GLOSS |      20|2011-12-05 08:38:00|     1.25|   14075.0|United Kingdom|\n+---------+---------+-------------------+--------+-------------------+---------+----------+--------------+\nonly showing top 2 rows\n\n</div>",
       "datasetInfos": [],
       "metadata": {},
       "removedWidgets": [],
       "type": "html"
      }
     },
     "output_type": "display_data"
    }
   ],
   "source": [
    "sales.show(2)"
   ]
  },
  {
   "cell_type": "code",
   "execution_count": 0,
   "metadata": {
    "application/vnd.databricks.v1+cell": {
     "cellMetadata": {},
     "inputWidgets": {},
     "nuid": "44195ed9-65d2-431f-b1ff-f37c714f76af",
     "showTitle": false,
     "title": ""
    }
   },
   "outputs": [
    {
     "output_type": "display_data",
     "data": {
      "text/html": [
       "<style scoped>\n",
       "  .ansiout {\n",
       "    display: block;\n",
       "    unicode-bidi: embed;\n",
       "    white-space: pre-wrap;\n",
       "    word-wrap: break-word;\n",
       "    word-break: break-all;\n",
       "    font-family: \"Source Code Pro\", \"Menlo\", monospace;;\n",
       "    font-size: 13px;\n",
       "    color: #555;\n",
       "    margin-left: 4px;\n",
       "    line-height: 19px;\n",
       "  }\n",
       "</style>\n",
       "<div class=\"ansiout\">Out[3]: 540455</div>"
      ]
     },
     "metadata": {
      "application/vnd.databricks.v1+output": {
       "addedWidgets": {},
       "arguments": {},
       "data": "<div class=\"ansiout\">Out[3]: 540455</div>",
       "datasetInfos": [],
       "metadata": {},
       "removedWidgets": [],
       "type": "html"
      }
     },
     "output_type": "display_data"
    }
   ],
   "source": [
    "sales.count()"
   ]
  },
  {
   "cell_type": "code",
   "execution_count": 0,
   "metadata": {
    "application/vnd.databricks.v1+cell": {
     "cellMetadata": {},
     "inputWidgets": {},
     "nuid": "f5f3d28c-10a1-4c0f-97ce-2500689b677f",
     "showTitle": false,
     "title": ""
    }
   },
   "outputs": [
    {
     "output_type": "display_data",
     "data": {
      "text/html": [
       "<style scoped>\n",
       "  .ansiout {\n",
       "    display: block;\n",
       "    unicode-bidi: embed;\n",
       "    white-space: pre-wrap;\n",
       "    word-wrap: break-word;\n",
       "    word-break: break-all;\n",
       "    font-family: \"Source Code Pro\", \"Menlo\", monospace;;\n",
       "    font-size: 13px;\n",
       "    color: #555;\n",
       "    margin-left: 4px;\n",
       "    line-height: 19px;\n",
       "  }\n",
       "</style>\n",
       "<div class=\"ansiout\"></div>"
      ]
     },
     "metadata": {
      "application/vnd.databricks.v1+output": {
       "addedWidgets": {},
       "arguments": {},
       "data": "<div class=\"ansiout\"></div>",
       "datasetInfos": [],
       "metadata": {},
       "removedWidgets": [],
       "type": "html"
      }
     },
     "output_type": "display_data"
    }
   ],
   "source": [
    "fakeIntDF = spark.read.parquet(\"dbfs:/FileStore/tables/simple-ml-integers\")\n",
    "simpleDF = spark.read.json(\"dbfs:/FileStore/tables/simple-ml\")\n",
    "scaleDF = spark.read.parquet(\"dbfs:/FileStore/tables/simple-ml-scaling\")"
   ]
  },
  {
   "cell_type": "code",
   "execution_count": 0,
   "metadata": {
    "application/vnd.databricks.v1+cell": {
     "cellMetadata": {},
     "inputWidgets": {},
     "nuid": "46408203-4fce-492d-be7e-08dee5f4800f",
     "showTitle": false,
     "title": ""
    }
   },
   "outputs": [
    {
     "output_type": "display_data",
     "data": {
      "text/html": [
       "<style scoped>\n",
       "  .ansiout {\n",
       "    display: block;\n",
       "    unicode-bidi: embed;\n",
       "    white-space: pre-wrap;\n",
       "    word-wrap: break-word;\n",
       "    word-break: break-all;\n",
       "    font-family: \"Source Code Pro\", \"Menlo\", monospace;;\n",
       "    font-size: 13px;\n",
       "    color: #555;\n",
       "    margin-left: 4px;\n",
       "    line-height: 19px;\n",
       "  }\n",
       "</style>\n",
       "<div class=\"ansiout\">+----+----+----+\n",
       "int1|int2|int3|\n",
       "+----+----+----+\n",
       "   4|   5|   6|\n",
       "   7|   8|   9|\n",
       "+----+----+----+\n",
       "only showing top 2 rows\n",
       "\n",
       "</div>"
      ]
     },
     "metadata": {
      "application/vnd.databricks.v1+output": {
       "addedWidgets": {},
       "arguments": {},
       "data": "<div class=\"ansiout\">+----+----+----+\n|int1|int2|int3|\n+----+----+----+\n|   4|   5|   6|\n|   7|   8|   9|\n+----+----+----+\nonly showing top 2 rows\n\n</div>",
       "datasetInfos": [],
       "metadata": {},
       "removedWidgets": [],
       "type": "html"
      }
     },
     "output_type": "display_data"
    }
   ],
   "source": [
    "fakeIntDF.show(2)"
   ]
  },
  {
   "cell_type": "code",
   "execution_count": 0,
   "metadata": {
    "application/vnd.databricks.v1+cell": {
     "cellMetadata": {},
     "inputWidgets": {},
     "nuid": "d91358da-69b3-4f60-8531-427ab8b9b97e",
     "showTitle": false,
     "title": ""
    }
   },
   "outputs": [
    {
     "output_type": "display_data",
     "data": {
      "text/html": [
       "<style scoped>\n",
       "  .ansiout {\n",
       "    display: block;\n",
       "    unicode-bidi: embed;\n",
       "    white-space: pre-wrap;\n",
       "    word-wrap: break-word;\n",
       "    word-break: break-all;\n",
       "    font-family: \"Source Code Pro\", \"Menlo\", monospace;;\n",
       "    font-size: 13px;\n",
       "    color: #555;\n",
       "    margin-left: 4px;\n",
       "    line-height: 19px;\n",
       "  }\n",
       "</style>\n",
       "<div class=\"ansiout\">+-----+----+------+------------------+\n",
       "color| lab|value1|            value2|\n",
       "+-----+----+------+------------------+\n",
       "green|good|     1|14.386294994851129|\n",
       " blue| bad|     8|14.386294994851129|\n",
       "+-----+----+------+------------------+\n",
       "only showing top 2 rows\n",
       "\n",
       "</div>"
      ]
     },
     "metadata": {
      "application/vnd.databricks.v1+output": {
       "addedWidgets": {},
       "arguments": {},
       "data": "<div class=\"ansiout\">+-----+----+------+------------------+\n|color| lab|value1|            value2|\n+-----+----+------+------------------+\n|green|good|     1|14.386294994851129|\n| blue| bad|     8|14.386294994851129|\n+-----+----+------+------------------+\nonly showing top 2 rows\n\n</div>",
       "datasetInfos": [],
       "metadata": {},
       "removedWidgets": [],
       "type": "html"
      }
     },
     "output_type": "display_data"
    }
   ],
   "source": [
    "simpleDF.show(2)"
   ]
  },
  {
   "cell_type": "code",
   "execution_count": 0,
   "metadata": {
    "application/vnd.databricks.v1+cell": {
     "cellMetadata": {},
     "inputWidgets": {},
     "nuid": "4f8004c4-c533-4a0d-8de5-1fdb23a83ad7",
     "showTitle": false,
     "title": ""
    }
   },
   "outputs": [
    {
     "output_type": "display_data",
     "data": {
      "text/html": [
       "<style scoped>\n",
       "  .ansiout {\n",
       "    display: block;\n",
       "    unicode-bidi: embed;\n",
       "    white-space: pre-wrap;\n",
       "    word-wrap: break-word;\n",
       "    word-break: break-all;\n",
       "    font-family: \"Source Code Pro\", \"Menlo\", monospace;;\n",
       "    font-size: 13px;\n",
       "    color: #555;\n",
       "    margin-left: 4px;\n",
       "    line-height: 19px;\n",
       "  }\n",
       "</style>\n",
       "<div class=\"ansiout\">+---+--------------+\n",
       " id|      features|\n",
       "+---+--------------+\n",
       "  0|[1.0,0.1,-1.0]|\n",
       "  1| [2.0,1.1,1.0]|\n",
       "+---+--------------+\n",
       "only showing top 2 rows\n",
       "\n",
       "</div>"
      ]
     },
     "metadata": {
      "application/vnd.databricks.v1+output": {
       "addedWidgets": {},
       "arguments": {},
       "data": "<div class=\"ansiout\">+---+--------------+\n| id|      features|\n+---+--------------+\n|  0|[1.0,0.1,-1.0]|\n|  1| [2.0,1.1,1.0]|\n+---+--------------+\nonly showing top 2 rows\n\n</div>",
       "datasetInfos": [],
       "metadata": {},
       "removedWidgets": [],
       "type": "html"
      }
     },
     "output_type": "display_data"
    }
   ],
   "source": [
    "scaleDF.show(2)"
   ]
  },
  {
   "cell_type": "markdown",
   "metadata": {
    "application/vnd.databricks.v1+cell": {
     "cellMetadata": {},
     "inputWidgets": {},
     "nuid": "9353ee12-0d4e-4423-8717-4901987c9656",
     "showTitle": false,
     "title": ""
    }
   },
   "source": [
    "## Transformers\n",
    "\n",
    "Transformers are functions that convert raw data in some way. This might be to create a new\n",
    "interaction variable (from two other variables), to normalize a column, or to simply turn it into a\n",
    "Double to be input into a model. Transformers are primarily used in preprocessing or feature\n",
    "generation.\n",
    "\n",
    "All transformers require you to specify, at a minimum, the inputCol and the outputCol, which\n",
    "represent the column name of the input and output, respectively."
   ]
  },
  {
   "cell_type": "markdown",
   "metadata": {
    "application/vnd.databricks.v1+cell": {
     "cellMetadata": {},
     "inputWidgets": {},
     "nuid": "ba363ef6-7248-49f4-b931-1a74fbaf4001",
     "showTitle": false,
     "title": ""
    }
   },
   "source": [
    "## High-Level Transformers\n",
    "High-level transformers allow you to\n",
    "concisely specify a number of transformations in one. \n",
    "These operate at a “high level”, and allow you\n",
    "to avoid doing data manipulations or transformations one by one. In general, you should try to use the\n",
    "highest level transformers you can, in order to minimize the risk of error and help you focus on the\n",
    "business problem instead of the smaller details of implementation. While this is not always possible,\n",
    "it’s a good objective.\n",
    "\n",
    "### RFormula\n",
    "The RFormula is the easiest transfomer to use when you have “conventionally” formatted data."
   ]
  },
  {
   "cell_type": "code",
   "execution_count": 0,
   "metadata": {
    "application/vnd.databricks.v1+cell": {
     "cellMetadata": {},
     "inputWidgets": {},
     "nuid": "524e6841-e80b-4be1-8259-a56521fc2177",
     "showTitle": false,
     "title": ""
    }
   },
   "outputs": [
    {
     "output_type": "display_data",
     "data": {
      "text/html": [
       "<style scoped>\n",
       "  .ansiout {\n",
       "    display: block;\n",
       "    unicode-bidi: embed;\n",
       "    white-space: pre-wrap;\n",
       "    word-wrap: break-word;\n",
       "    word-break: break-all;\n",
       "    font-family: \"Source Code Pro\", \"Menlo\", monospace;;\n",
       "    font-size: 13px;\n",
       "    color: #555;\n",
       "    margin-left: 4px;\n",
       "    line-height: 19px;\n",
       "  }\n",
       "</style>\n",
       "<div class=\"ansiout\">+-----+----+------+------------------+--------------------+-----+\n",
       "color| lab|value1|            value2|            features|label|\n",
       "+-----+----+------+------------------+--------------------+-----+\n",
       "green|good|     1|14.386294994851129|(10,[1,2,3,5,8],[...|  1.0|\n",
       " blue| bad|     8|14.386294994851129|(10,[2,3,6,9],[8....|  0.0|\n",
       " blue| bad|    12|14.386294994851129|(10,[2,3,6,9],[12...|  0.0|\n",
       "green|good|    15| 38.97187133755819|(10,[1,2,3,5,8],[...|  1.0|\n",
       "green|good|    12|14.386294994851129|(10,[1,2,3,5,8],[...|  1.0|\n",
       "green| bad|    16|14.386294994851129|(10,[1,2,3,5,8],[...|  0.0|\n",
       "  red|good|    35|14.386294994851129|(10,[0,2,3,4,7],[...|  1.0|\n",
       "  red| bad|     1| 38.97187133755819|(10,[0,2,3,4,7],[...|  0.0|\n",
       "  red| bad|     2|14.386294994851129|(10,[0,2,3,4,7],[...|  0.0|\n",
       "  red| bad|    16|14.386294994851129|(10,[0,2,3,4,7],[...|  0.0|\n",
       "  red|good|    45| 38.97187133755819|(10,[0,2,3,4,7],[...|  1.0|\n",
       "green|good|     1|14.386294994851129|(10,[1,2,3,5,8],[...|  1.0|\n",
       " blue| bad|     8|14.386294994851129|(10,[2,3,6,9],[8....|  0.0|\n",
       " blue| bad|    12|14.386294994851129|(10,[2,3,6,9],[12...|  0.0|\n",
       "green|good|    15| 38.97187133755819|(10,[1,2,3,5,8],[...|  1.0|\n",
       "green|good|    12|14.386294994851129|(10,[1,2,3,5,8],[...|  1.0|\n",
       "green| bad|    16|14.386294994851129|(10,[1,2,3,5,8],[...|  0.0|\n",
       "  red|good|    35|14.386294994851129|(10,[0,2,3,4,7],[...|  1.0|\n",
       "  red| bad|     1| 38.97187133755819|(10,[0,2,3,4,7],[...|  0.0|\n",
       "  red| bad|     2|14.386294994851129|(10,[0,2,3,4,7],[...|  0.0|\n",
       "+-----+----+------+------------------+--------------------+-----+\n",
       "only showing top 20 rows\n",
       "\n",
       "</div>"
      ]
     },
     "metadata": {
      "application/vnd.databricks.v1+output": {
       "addedWidgets": {},
       "arguments": {},
       "data": "<div class=\"ansiout\">+-----+----+------+------------------+--------------------+-----+\n|color| lab|value1|            value2|            features|label|\n+-----+----+------+------------------+--------------------+-----+\n|green|good|     1|14.386294994851129|(10,[1,2,3,5,8],[...|  1.0|\n| blue| bad|     8|14.386294994851129|(10,[2,3,6,9],[8....|  0.0|\n| blue| bad|    12|14.386294994851129|(10,[2,3,6,9],[12...|  0.0|\n|green|good|    15| 38.97187133755819|(10,[1,2,3,5,8],[...|  1.0|\n|green|good|    12|14.386294994851129|(10,[1,2,3,5,8],[...|  1.0|\n|green| bad|    16|14.386294994851129|(10,[1,2,3,5,8],[...|  0.0|\n|  red|good|    35|14.386294994851129|(10,[0,2,3,4,7],[...|  1.0|\n|  red| bad|     1| 38.97187133755819|(10,[0,2,3,4,7],[...|  0.0|\n|  red| bad|     2|14.386294994851129|(10,[0,2,3,4,7],[...|  0.0|\n|  red| bad|    16|14.386294994851129|(10,[0,2,3,4,7],[...|  0.0|\n|  red|good|    45| 38.97187133755819|(10,[0,2,3,4,7],[...|  1.0|\n|green|good|     1|14.386294994851129|(10,[1,2,3,5,8],[...|  1.0|\n| blue| bad|     8|14.386294994851129|(10,[2,3,6,9],[8....|  0.0|\n| blue| bad|    12|14.386294994851129|(10,[2,3,6,9],[12...|  0.0|\n|green|good|    15| 38.97187133755819|(10,[1,2,3,5,8],[...|  1.0|\n|green|good|    12|14.386294994851129|(10,[1,2,3,5,8],[...|  1.0|\n|green| bad|    16|14.386294994851129|(10,[1,2,3,5,8],[...|  0.0|\n|  red|good|    35|14.386294994851129|(10,[0,2,3,4,7],[...|  1.0|\n|  red| bad|     1| 38.97187133755819|(10,[0,2,3,4,7],[...|  0.0|\n|  red| bad|     2|14.386294994851129|(10,[0,2,3,4,7],[...|  0.0|\n+-----+----+------+------------------+--------------------+-----+\nonly showing top 20 rows\n\n</div>",
       "datasetInfos": [],
       "metadata": {},
       "removedWidgets": [],
       "type": "html"
      }
     },
     "output_type": "display_data"
    }
   ],
   "source": [
    "# COMMAND ----------\n",
    "\n",
    "from pyspark.ml.feature import RFormula\n",
    "\n",
    "supervised = RFormula(formula=\"lab ~ . + color:value1 + color:value2\")\n",
    "supervised.fit(simpleDF).transform(simpleDF).show()"
   ]
  },
  {
   "cell_type": "markdown",
   "metadata": {
    "application/vnd.databricks.v1+cell": {
     "cellMetadata": {},
     "inputWidgets": {},
     "nuid": "9ed10af3-8c8d-4c71-bfc9-b18ac6f2f47c",
     "showTitle": false,
     "title": ""
    }
   },
   "source": [
    "###  SQL Transformers\n",
    "A SQLTransformer allows you to leverage Spark’s vast library of SQL-related manipulations just as\n",
    "you would a MLlib transformation. Any SELECT statement you can use in SQL is a valid\n",
    "transformation. The only thing you need to change is that instead of using the table name, you should\n",
    "just use the keyword THIS. The following is a basic example of using SQLTransformer:"
   ]
  },
  {
   "cell_type": "code",
   "execution_count": 0,
   "metadata": {
    "application/vnd.databricks.v1+cell": {
     "cellMetadata": {},
     "inputWidgets": {},
     "nuid": "8a0db168-0391-48b0-8031-7fc230cfe006",
     "showTitle": false,
     "title": ""
    }
   },
   "outputs": [
    {
     "output_type": "display_data",
     "data": {
      "text/html": [
       "<style scoped>\n",
       "  .ansiout {\n",
       "    display: block;\n",
       "    unicode-bidi: embed;\n",
       "    white-space: pre-wrap;\n",
       "    word-wrap: break-word;\n",
       "    word-break: break-all;\n",
       "    font-family: \"Source Code Pro\", \"Menlo\", monospace;;\n",
       "    font-size: 13px;\n",
       "    color: #555;\n",
       "    margin-left: 4px;\n",
       "    line-height: 19px;\n",
       "  }\n",
       "</style>\n",
       "<div class=\"ansiout\">+-------------+--------+----------+\n",
       "sum(Quantity)|count(1)|CustomerID|\n",
       "+-------------+--------+----------+\n",
       "          440|     143|   16916.0|\n",
       "          854|     117|   17884.0|\n",
       "          244|      31|   16561.0|\n",
       "          491|     152|   13956.0|\n",
       "          541|      27|   14285.0|\n",
       "          119|      62|   14452.0|\n",
       "          204|      76|   13533.0|\n",
       "          630|      72|   17633.0|\n",
       "          493|      64|   16629.0|\n",
       "           34|       6|   14768.0|\n",
       "          159|      38|   17267.0|\n",
       "         1542|      30|   13094.0|\n",
       "          274|      17|   13930.0|\n",
       "           67|       9|   18277.0|\n",
       "         8873|      80|   16656.0|\n",
       "          123|       9|   13937.0|\n",
       "          756|      67|   15145.0|\n",
       "           67|      14|   13811.0|\n",
       "         1232|     118|   14211.0|\n",
       "        37720|    2491|   15311.0|\n",
       "+-------------+--------+----------+\n",
       "only showing top 20 rows\n",
       "\n",
       "</div>"
      ]
     },
     "metadata": {
      "application/vnd.databricks.v1+output": {
       "addedWidgets": {},
       "arguments": {},
       "data": "<div class=\"ansiout\">+-------------+--------+----------+\n|sum(Quantity)|count(1)|CustomerID|\n+-------------+--------+----------+\n|          440|     143|   16916.0|\n|          854|     117|   17884.0|\n|          244|      31|   16561.0|\n|          491|     152|   13956.0|\n|          541|      27|   14285.0|\n|          119|      62|   14452.0|\n|          204|      76|   13533.0|\n|          630|      72|   17633.0|\n|          493|      64|   16629.0|\n|           34|       6|   14768.0|\n|          159|      38|   17267.0|\n|         1542|      30|   13094.0|\n|          274|      17|   13930.0|\n|           67|       9|   18277.0|\n|         8873|      80|   16656.0|\n|          123|       9|   13937.0|\n|          756|      67|   15145.0|\n|           67|      14|   13811.0|\n|         1232|     118|   14211.0|\n|        37720|    2491|   15311.0|\n+-------------+--------+----------+\nonly showing top 20 rows\n\n</div>",
       "datasetInfos": [],
       "metadata": {},
       "removedWidgets": [],
       "type": "html"
      }
     },
     "output_type": "display_data"
    }
   ],
   "source": [
    "# COMMAND ----------\n",
    "\n",
    "from pyspark.ml.feature import SQLTransformer\n",
    "\n",
    "basicTransformation = SQLTransformer()\\\n",
    "  .setStatement(\"\"\"\n",
    "    SELECT sum(Quantity), count(*), CustomerID\n",
    "    FROM __THIS__\n",
    "    GROUP BY CustomerID\n",
    "  \"\"\")\n",
    "\n",
    "basicTransformation.transform(sales).show()"
   ]
  },
  {
   "cell_type": "markdown",
   "metadata": {
    "application/vnd.databricks.v1+cell": {
     "cellMetadata": {},
     "inputWidgets": {},
     "nuid": "9fed1b73-4864-411d-8b64-a9265e524e94",
     "showTitle": false,
     "title": ""
    }
   },
   "source": [
    "### VectorAssembler\n",
    "The VectorAssembler is a tool you’ll use in nearly every single pipeline you generate. It helps\n",
    "concatenate all your features into one big vector you can then pass into an estimator. It’s used\n",
    "typically in the last step of a machine learning pipeline and takes as input a number of columns of\n",
    "Boolean, Double, or Vector. This is particularly helpful if you’re going to perform a number of\n",
    "manipulations using a variety of transformers and need to gather all of those results together.\n",
    "The output from the following code snippet will make it clear how this works:"
   ]
  },
  {
   "cell_type": "code",
   "execution_count": 0,
   "metadata": {
    "application/vnd.databricks.v1+cell": {
     "cellMetadata": {},
     "inputWidgets": {},
     "nuid": "c67c3981-c9de-411b-963a-92b2681aacab",
     "showTitle": false,
     "title": ""
    }
   },
   "outputs": [
    {
     "output_type": "display_data",
     "data": {
      "text/html": [
       "<style scoped>\n",
       "  .ansiout {\n",
       "    display: block;\n",
       "    unicode-bidi: embed;\n",
       "    white-space: pre-wrap;\n",
       "    word-wrap: break-word;\n",
       "    word-break: break-all;\n",
       "    font-family: \"Source Code Pro\", \"Menlo\", monospace;;\n",
       "    font-size: 13px;\n",
       "    color: #555;\n",
       "    margin-left: 4px;\n",
       "    line-height: 19px;\n",
       "  }\n",
       "</style>\n",
       "<div class=\"ansiout\">+----+----+----+-------------+\n",
       "int1|int2|int3|     features|\n",
       "+----+----+----+-------------+\n",
       "   4|   5|   6|[4.0,5.0,6.0]|\n",
       "   7|   8|   9|[7.0,8.0,9.0]|\n",
       "   1|   2|   3|[1.0,2.0,3.0]|\n",
       "+----+----+----+-------------+\n",
       "\n",
       "</div>"
      ]
     },
     "metadata": {
      "application/vnd.databricks.v1+output": {
       "addedWidgets": {},
       "arguments": {},
       "data": "<div class=\"ansiout\">+----+----+----+-------------+\n|int1|int2|int3|     features|\n+----+----+----+-------------+\n|   4|   5|   6|[4.0,5.0,6.0]|\n|   7|   8|   9|[7.0,8.0,9.0]|\n|   1|   2|   3|[1.0,2.0,3.0]|\n+----+----+----+-------------+\n\n</div>",
       "datasetInfos": [],
       "metadata": {},
       "removedWidgets": [],
       "type": "html"
      }
     },
     "output_type": "display_data"
    }
   ],
   "source": [
    "# COMMAND ----------\n",
    "\n",
    "from pyspark.ml.feature import VectorAssembler\n",
    "va = VectorAssembler().setInputCols([\"int1\", \"int2\", \"int3\"]).setOutputCol(\"features\")\n",
    "va.transform(fakeIntDF).show()"
   ]
  },
  {
   "cell_type": "markdown",
   "metadata": {
    "application/vnd.databricks.v1+cell": {
     "cellMetadata": {},
     "inputWidgets": {},
     "nuid": "04893b97-ed93-4c5d-acc3-caf75e218b3d",
     "showTitle": false,
     "title": ""
    }
   },
   "source": [
    "## Working with Continuous Features\n",
    "\n",
    "There are two common transformers for continuous features. First, you can convert continuous\n",
    "features into categorical features via a process called bucketing, or you can scale and normalize your\n",
    "features according to several different requirements. These transformers will only work on Double\n",
    "types, so make sure you’ve turned any other numerical values to Double:"
   ]
  },
  {
   "cell_type": "code",
   "execution_count": 0,
   "metadata": {
    "application/vnd.databricks.v1+cell": {
     "cellMetadata": {},
     "inputWidgets": {},
     "nuid": "014a15e5-8056-400c-a350-a73255893e85",
     "showTitle": false,
     "title": ""
    }
   },
   "outputs": [
    {
     "output_type": "display_data",
     "data": {
      "text/html": [
       "<style scoped>\n",
       "  .ansiout {\n",
       "    display: block;\n",
       "    unicode-bidi: embed;\n",
       "    white-space: pre-wrap;\n",
       "    word-wrap: break-word;\n",
       "    word-break: break-all;\n",
       "    font-family: \"Source Code Pro\", \"Menlo\", monospace;;\n",
       "    font-size: 13px;\n",
       "    color: #555;\n",
       "    margin-left: 4px;\n",
       "    line-height: 19px;\n",
       "  }\n",
       "</style>\n",
       "<div class=\"ansiout\"></div>"
      ]
     },
     "metadata": {
      "application/vnd.databricks.v1+output": {
       "addedWidgets": {},
       "arguments": {},
       "data": "<div class=\"ansiout\"></div>",
       "datasetInfos": [],
       "metadata": {},
       "removedWidgets": [],
       "type": "html"
      }
     },
     "output_type": "display_data"
    }
   ],
   "source": [
    "# COMMAND ----------\n",
    "\n",
    "contDF = spark.range(20).selectExpr(\"cast(id as double)\")"
   ]
  },
  {
   "cell_type": "code",
   "execution_count": 0,
   "metadata": {
    "application/vnd.databricks.v1+cell": {
     "cellMetadata": {},
     "inputWidgets": {},
     "nuid": "fa0da8ba-7791-4220-896e-71c6402d2b5d",
     "showTitle": false,
     "title": ""
    }
   },
   "outputs": [
    {
     "output_type": "display_data",
     "data": {
      "text/html": [
       "<style scoped>\n",
       "  .ansiout {\n",
       "    display: block;\n",
       "    unicode-bidi: embed;\n",
       "    white-space: pre-wrap;\n",
       "    word-wrap: break-word;\n",
       "    word-break: break-all;\n",
       "    font-family: \"Source Code Pro\", \"Menlo\", monospace;;\n",
       "    font-size: 13px;\n",
       "    color: #555;\n",
       "    margin-left: 4px;\n",
       "    line-height: 19px;\n",
       "  }\n",
       "</style>\n",
       "<div class=\"ansiout\">+---+\n",
       " id|\n",
       "+---+\n",
       "0.0|\n",
       "1.0|\n",
       "+---+\n",
       "only showing top 2 rows\n",
       "\n",
       "</div>"
      ]
     },
     "metadata": {
      "application/vnd.databricks.v1+output": {
       "addedWidgets": {},
       "arguments": {},
       "data": "<div class=\"ansiout\">+---+\n| id|\n+---+\n|0.0|\n|1.0|\n+---+\nonly showing top 2 rows\n\n</div>",
       "datasetInfos": [],
       "metadata": {},
       "removedWidgets": [],
       "type": "html"
      }
     },
     "output_type": "display_data"
    }
   ],
   "source": [
    "contDF.show(2)"
   ]
  },
  {
   "cell_type": "markdown",
   "metadata": {
    "application/vnd.databricks.v1+cell": {
     "cellMetadata": {},
     "inputWidgets": {},
     "nuid": "0954b894-f75c-4421-a830-dc1d00a9fa75",
     "showTitle": false,
     "title": ""
    }
   },
   "source": [
    "### Bucketing\n",
    "The most straightforward approach to bucketing or binning is using the Bucketizer. This will split a\n",
    "given continuous feature into the buckets of your designation. You specify how buckets should be\n",
    "created via an array or list of Double values."
   ]
  },
  {
   "cell_type": "code",
   "execution_count": 0,
   "metadata": {
    "application/vnd.databricks.v1+cell": {
     "cellMetadata": {},
     "inputWidgets": {},
     "nuid": "7651c986-eb45-4483-ad0e-dd99ea934953",
     "showTitle": false,
     "title": ""
    }
   },
   "outputs": [
    {
     "output_type": "display_data",
     "data": {
      "text/html": [
       "<style scoped>\n",
       "  .ansiout {\n",
       "    display: block;\n",
       "    unicode-bidi: embed;\n",
       "    white-space: pre-wrap;\n",
       "    word-wrap: break-word;\n",
       "    word-break: break-all;\n",
       "    font-family: \"Source Code Pro\", \"Menlo\", monospace;;\n",
       "    font-size: 13px;\n",
       "    color: #555;\n",
       "    margin-left: 4px;\n",
       "    line-height: 19px;\n",
       "  }\n",
       "</style>\n",
       "<div class=\"ansiout\">+----+-------------------------------+\n",
       "  id|Bucketizer_b97ad251a557__output|\n",
       "+----+-------------------------------+\n",
       " 0.0|                            0.0|\n",
       " 1.0|                            0.0|\n",
       " 2.0|                            0.0|\n",
       " 3.0|                            0.0|\n",
       " 4.0|                            0.0|\n",
       " 5.0|                            1.0|\n",
       " 6.0|                            1.0|\n",
       " 7.0|                            1.0|\n",
       " 8.0|                            1.0|\n",
       " 9.0|                            1.0|\n",
       "10.0|                            2.0|\n",
       "11.0|                            2.0|\n",
       "12.0|                            2.0|\n",
       "13.0|                            2.0|\n",
       "14.0|                            2.0|\n",
       "15.0|                            2.0|\n",
       "16.0|                            2.0|\n",
       "17.0|                            2.0|\n",
       "18.0|                            2.0|\n",
       "19.0|                            2.0|\n",
       "+----+-------------------------------+\n",
       "\n",
       "</div>"
      ]
     },
     "metadata": {
      "application/vnd.databricks.v1+output": {
       "addedWidgets": {},
       "arguments": {},
       "data": "<div class=\"ansiout\">+----+-------------------------------+\n|  id|Bucketizer_b97ad251a557__output|\n+----+-------------------------------+\n| 0.0|                            0.0|\n| 1.0|                            0.0|\n| 2.0|                            0.0|\n| 3.0|                            0.0|\n| 4.0|                            0.0|\n| 5.0|                            1.0|\n| 6.0|                            1.0|\n| 7.0|                            1.0|\n| 8.0|                            1.0|\n| 9.0|                            1.0|\n|10.0|                            2.0|\n|11.0|                            2.0|\n|12.0|                            2.0|\n|13.0|                            2.0|\n|14.0|                            2.0|\n|15.0|                            2.0|\n|16.0|                            2.0|\n|17.0|                            2.0|\n|18.0|                            2.0|\n|19.0|                            2.0|\n+----+-------------------------------+\n\n</div>",
       "datasetInfos": [],
       "metadata": {},
       "removedWidgets": [],
       "type": "html"
      }
     },
     "output_type": "display_data"
    }
   ],
   "source": [
    "# COMMAND ----------\n",
    "\n",
    "from pyspark.ml.feature import Bucketizer\n",
    "bucketBorders = [-1.0, 5.0, 10.0, 250.0, 600.0]\n",
    "bucketer = Bucketizer().setSplits(bucketBorders).setInputCol(\"id\")\n",
    "bucketer.transform(contDF).show()"
   ]
  },
  {
   "cell_type": "markdown",
   "metadata": {
    "application/vnd.databricks.v1+cell": {
     "cellMetadata": {},
     "inputWidgets": {},
     "nuid": "c4490158-b9b1-488f-b22c-1dc553b2ce16",
     "showTitle": false,
     "title": ""
    }
   },
   "source": [
    "In addition to splitting based on hardcoded values, another option is to split based on percentiles in\n",
    "our data. This is done with QuantileDiscretizer, which will bucket the values into user-specified\n",
    "buckets with the splits being determined by approximate quantiles values."
   ]
  },
  {
   "cell_type": "code",
   "execution_count": 0,
   "metadata": {
    "application/vnd.databricks.v1+cell": {
     "cellMetadata": {},
     "inputWidgets": {},
     "nuid": "9a06e72e-2a6b-4459-82ca-2bf70dc2d1bd",
     "showTitle": false,
     "title": ""
    }
   },
   "outputs": [
    {
     "output_type": "display_data",
     "data": {
      "text/html": [
       "<style scoped>\n",
       "  .ansiout {\n",
       "    display: block;\n",
       "    unicode-bidi: embed;\n",
       "    white-space: pre-wrap;\n",
       "    word-wrap: break-word;\n",
       "    word-break: break-all;\n",
       "    font-family: \"Source Code Pro\", \"Menlo\", monospace;;\n",
       "    font-size: 13px;\n",
       "    color: #555;\n",
       "    margin-left: 4px;\n",
       "    line-height: 19px;\n",
       "  }\n",
       "</style>\n",
       "<div class=\"ansiout\"></div>"
      ]
     },
     "metadata": {
      "application/vnd.databricks.v1+output": {
       "addedWidgets": {},
       "arguments": {},
       "data": "<div class=\"ansiout\"></div>",
       "datasetInfos": [],
       "metadata": {},
       "removedWidgets": [],
       "type": "html"
      }
     },
     "output_type": "display_data"
    }
   ],
   "source": [
    "# COMMAND ----------\n",
    "\n",
    "from pyspark.ml.feature import QuantileDiscretizer\n",
    "bucketer = QuantileDiscretizer().setNumBuckets(5).setInputCol(\"id\")"
   ]
  },
  {
   "cell_type": "code",
   "execution_count": 0,
   "metadata": {
    "application/vnd.databricks.v1+cell": {
     "cellMetadata": {},
     "inputWidgets": {},
     "nuid": "6afa9c53-8e78-4e17-9a10-b452135c8ce9",
     "showTitle": false,
     "title": ""
    }
   },
   "outputs": [
    {
     "output_type": "display_data",
     "data": {
      "text/html": [
       "<style scoped>\n",
       "  .ansiout {\n",
       "    display: block;\n",
       "    unicode-bidi: embed;\n",
       "    white-space: pre-wrap;\n",
       "    word-wrap: break-word;\n",
       "    word-break: break-all;\n",
       "    font-family: \"Source Code Pro\", \"Menlo\", monospace;;\n",
       "    font-size: 13px;\n",
       "    color: #555;\n",
       "    margin-left: 4px;\n",
       "    line-height: 19px;\n",
       "  }\n",
       "</style>\n",
       "<div class=\"ansiout\"></div>"
      ]
     },
     "metadata": {
      "application/vnd.databricks.v1+output": {
       "addedWidgets": {},
       "arguments": {},
       "data": "<div class=\"ansiout\"></div>",
       "datasetInfos": [],
       "metadata": {},
       "removedWidgets": [],
       "type": "html"
      }
     },
     "output_type": "display_data"
    }
   ],
   "source": [
    "bucketer = QuantileDiscretizer(numBuckets=5, inputCol=\"id\", outputCol=\"buckets\")"
   ]
  },
  {
   "cell_type": "code",
   "execution_count": 0,
   "metadata": {
    "application/vnd.databricks.v1+cell": {
     "cellMetadata": {},
     "inputWidgets": {},
     "nuid": "4eeab9d7-c1b5-4b99-b66d-2d3401c388a6",
     "showTitle": false,
     "title": ""
    }
   },
   "outputs": [
    {
     "output_type": "display_data",
     "data": {
      "text/html": [
       "<style scoped>\n",
       "  .ansiout {\n",
       "    display: block;\n",
       "    unicode-bidi: embed;\n",
       "    white-space: pre-wrap;\n",
       "    word-wrap: break-word;\n",
       "    word-break: break-all;\n",
       "    font-family: \"Source Code Pro\", \"Menlo\", monospace;;\n",
       "    font-size: 13px;\n",
       "    color: #555;\n",
       "    margin-left: 4px;\n",
       "    line-height: 19px;\n",
       "  }\n",
       "</style>\n",
       "<div class=\"ansiout\">+----+-------+\n",
       "  id|buckets|\n",
       "+----+-------+\n",
       " 0.0|    0.0|\n",
       " 1.0|    0.0|\n",
       " 2.0|    0.0|\n",
       " 3.0|    1.0|\n",
       " 4.0|    1.0|\n",
       " 5.0|    1.0|\n",
       " 6.0|    1.0|\n",
       " 7.0|    2.0|\n",
       " 8.0|    2.0|\n",
       " 9.0|    2.0|\n",
       "10.0|    2.0|\n",
       "11.0|    3.0|\n",
       "12.0|    3.0|\n",
       "13.0|    3.0|\n",
       "14.0|    3.0|\n",
       "15.0|    4.0|\n",
       "16.0|    4.0|\n",
       "17.0|    4.0|\n",
       "18.0|    4.0|\n",
       "19.0|    4.0|\n",
       "+----+-------+\n",
       "\n",
       "</div>"
      ]
     },
     "metadata": {
      "application/vnd.databricks.v1+output": {
       "addedWidgets": {},
       "arguments": {},
       "data": "<div class=\"ansiout\">+----+-------+\n|  id|buckets|\n+----+-------+\n| 0.0|    0.0|\n| 1.0|    0.0|\n| 2.0|    0.0|\n| 3.0|    1.0|\n| 4.0|    1.0|\n| 5.0|    1.0|\n| 6.0|    1.0|\n| 7.0|    2.0|\n| 8.0|    2.0|\n| 9.0|    2.0|\n|10.0|    2.0|\n|11.0|    3.0|\n|12.0|    3.0|\n|13.0|    3.0|\n|14.0|    3.0|\n|15.0|    4.0|\n|16.0|    4.0|\n|17.0|    4.0|\n|18.0|    4.0|\n|19.0|    4.0|\n+----+-------+\n\n</div>",
       "datasetInfos": [],
       "metadata": {},
       "removedWidgets": [],
       "type": "html"
      }
     },
     "output_type": "display_data"
    }
   ],
   "source": [
    "fittedBucketer = bucketer.fit(contDF)\n",
    "fittedBucketer.transform(contDF).show()"
   ]
  },
  {
   "cell_type": "markdown",
   "metadata": {
    "application/vnd.databricks.v1+cell": {
     "cellMetadata": {},
     "inputWidgets": {},
     "nuid": "6b98ae72-d786-442a-9f5d-f83ece33d237",
     "showTitle": false,
     "title": ""
    }
   },
   "source": [
    "## StandardScaler\n",
    "The StandardScaler standardizes a set of features to have zero mean and a standard deviation of 1.\n",
    "The flag withStd will scale the data to unit standard deviation while the flag withMean (false by\n",
    "default) will center the data prior to scaling it."
   ]
  },
  {
   "cell_type": "code",
   "execution_count": 0,
   "metadata": {
    "application/vnd.databricks.v1+cell": {
     "cellMetadata": {},
     "inputWidgets": {},
     "nuid": "d06db1e9-ded1-416a-b582-db7e764ffb99",
     "showTitle": false,
     "title": ""
    }
   },
   "outputs": [
    {
     "output_type": "display_data",
     "data": {
      "text/html": [
       "<style scoped>\n",
       "  .ansiout {\n",
       "    display: block;\n",
       "    unicode-bidi: embed;\n",
       "    white-space: pre-wrap;\n",
       "    word-wrap: break-word;\n",
       "    word-break: break-all;\n",
       "    font-family: \"Source Code Pro\", \"Menlo\", monospace;;\n",
       "    font-size: 13px;\n",
       "    color: #555;\n",
       "    margin-left: 4px;\n",
       "    line-height: 19px;\n",
       "  }\n",
       "</style>\n",
       "<div class=\"ansiout\">+---+--------------+------------------------------------------------------------+\n",
       "id |features      |scaledFeatures                                              |\n",
       "+---+--------------+------------------------------------------------------------+\n",
       "0  |[1.0,0.1,-1.0]|[1.1952286093343936,0.02337622911060922,-0.5976143046671968]|\n",
       "1  |[2.0,1.1,1.0] |[2.390457218668787,0.2571385202167014,0.5976143046671968]   |\n",
       "0  |[1.0,0.1,-1.0]|[1.1952286093343936,0.02337622911060922,-0.5976143046671968]|\n",
       "1  |[2.0,1.1,1.0] |[2.390457218668787,0.2571385202167014,0.5976143046671968]   |\n",
       "1  |[3.0,10.1,3.0]|[3.5856858280031805,2.3609991401715313,1.7928429140015902]  |\n",
       "+---+--------------+------------------------------------------------------------+\n",
       "\n",
       "</div>"
      ]
     },
     "metadata": {
      "application/vnd.databricks.v1+output": {
       "addedWidgets": {},
       "arguments": {},
       "data": "<div class=\"ansiout\">+---+--------------+------------------------------------------------------------+\n|id |features      |scaledFeatures                                              |\n+---+--------------+------------------------------------------------------------+\n|0  |[1.0,0.1,-1.0]|[1.1952286093343936,0.02337622911060922,-0.5976143046671968]|\n|1  |[2.0,1.1,1.0] |[2.390457218668787,0.2571385202167014,0.5976143046671968]   |\n|0  |[1.0,0.1,-1.0]|[1.1952286093343936,0.02337622911060922,-0.5976143046671968]|\n|1  |[2.0,1.1,1.0] |[2.390457218668787,0.2571385202167014,0.5976143046671968]   |\n|1  |[3.0,10.1,3.0]|[3.5856858280031805,2.3609991401715313,1.7928429140015902]  |\n+---+--------------+------------------------------------------------------------+\n\n</div>",
       "datasetInfos": [],
       "metadata": {},
       "removedWidgets": [],
       "type": "html"
      }
     },
     "output_type": "display_data"
    }
   ],
   "source": [
    "# COMMAND ----------\n",
    "\n",
    "from pyspark.ml.feature import StandardScaler\n",
    "sScaler = StandardScaler().setInputCol(\"features\").setOutputCol(\"scaledFeatures\")\n",
    "sScaler.fit(scaleDF).transform(scaleDF).show(10, False)"
   ]
  },
  {
   "cell_type": "markdown",
   "metadata": {
    "application/vnd.databricks.v1+cell": {
     "cellMetadata": {},
     "inputWidgets": {},
     "nuid": "a46b92b2-2384-46d9-9769-32d931ee224f",
     "showTitle": false,
     "title": ""
    }
   },
   "source": [
    "### MinMaxScaler\n",
    "The MinMaxScaler will scale the values in a vector (component wise) to the proportional values on\n",
    "a scale from a given min value to a max value. If you specify the minimum value to be 0 and the\n",
    "maximum value to be 1, then all the values will fall in between 0 and 1:"
   ]
  },
  {
   "cell_type": "code",
   "execution_count": 0,
   "metadata": {
    "application/vnd.databricks.v1+cell": {
     "cellMetadata": {},
     "inputWidgets": {},
     "nuid": "35bd20be-bfb8-4add-994c-f4769b851ae0",
     "showTitle": false,
     "title": ""
    }
   },
   "outputs": [
    {
     "output_type": "display_data",
     "data": {
      "text/html": [
       "<style scoped>\n",
       "  .ansiout {\n",
       "    display: block;\n",
       "    unicode-bidi: embed;\n",
       "    white-space: pre-wrap;\n",
       "    word-wrap: break-word;\n",
       "    word-break: break-all;\n",
       "    font-family: \"Source Code Pro\", \"Menlo\", monospace;;\n",
       "    font-size: 13px;\n",
       "    color: #555;\n",
       "    margin-left: 4px;\n",
       "    line-height: 19px;\n",
       "  }\n",
       "</style>\n",
       "<div class=\"ansiout\"></div>"
      ]
     },
     "metadata": {
      "application/vnd.databricks.v1+output": {
       "addedWidgets": {},
       "arguments": {},
       "data": "<div class=\"ansiout\"></div>",
       "datasetInfos": [],
       "metadata": {},
       "removedWidgets": [],
       "type": "html"
      }
     },
     "output_type": "display_data"
    }
   ],
   "source": [
    "# COMMAND ----------\n",
    "\n",
    "from pyspark.ml.feature import MinMaxScaler\n",
    "minMax = MinMaxScaler().setMin(5).setMax(10).setInputCol(\"features\")"
   ]
  },
  {
   "cell_type": "code",
   "execution_count": 0,
   "metadata": {
    "application/vnd.databricks.v1+cell": {
     "cellMetadata": {},
     "inputWidgets": {},
     "nuid": "f7b4e06e-66f8-448e-af67-ae6ae3c5ad23",
     "showTitle": false,
     "title": ""
    }
   },
   "outputs": [
    {
     "output_type": "display_data",
     "data": {
      "text/html": [
       "<style scoped>\n",
       "  .ansiout {\n",
       "    display: block;\n",
       "    unicode-bidi: embed;\n",
       "    white-space: pre-wrap;\n",
       "    word-wrap: break-word;\n",
       "    word-break: break-all;\n",
       "    font-family: \"Source Code Pro\", \"Menlo\", monospace;;\n",
       "    font-size: 13px;\n",
       "    color: #555;\n",
       "    margin-left: 4px;\n",
       "    line-height: 19px;\n",
       "  }\n",
       "</style>\n",
       "<div class=\"ansiout\"></div>"
      ]
     },
     "metadata": {
      "application/vnd.databricks.v1+output": {
       "addedWidgets": {},
       "arguments": {},
       "data": "<div class=\"ansiout\"></div>",
       "datasetInfos": [],
       "metadata": {},
       "removedWidgets": [],
       "type": "html"
      }
     },
     "output_type": "display_data"
    }
   ],
   "source": [
    "minMax = MinMaxScaler(inputCol=\"features\")"
   ]
  },
  {
   "cell_type": "code",
   "execution_count": 0,
   "metadata": {
    "application/vnd.databricks.v1+cell": {
     "cellMetadata": {},
     "inputWidgets": {},
     "nuid": "4aac5887-bead-43b2-a261-661a8b6dc43e",
     "showTitle": false,
     "title": ""
    }
   },
   "outputs": [
    {
     "output_type": "display_data",
     "data": {
      "text/html": [
       "<style scoped>\n",
       "  .ansiout {\n",
       "    display: block;\n",
       "    unicode-bidi: embed;\n",
       "    white-space: pre-wrap;\n",
       "    word-wrap: break-word;\n",
       "    word-break: break-all;\n",
       "    font-family: \"Source Code Pro\", \"Menlo\", monospace;;\n",
       "    font-size: 13px;\n",
       "    color: #555;\n",
       "    margin-left: 4px;\n",
       "    line-height: 19px;\n",
       "  }\n",
       "</style>\n",
       "<div class=\"ansiout\">+---+--------------+---------------------------------+\n",
       " id|      features|MinMaxScaler_f28da468fbf5__output|\n",
       "+---+--------------+---------------------------------+\n",
       "  0|[1.0,0.1,-1.0]|                    [5.0,5.0,5.0]|\n",
       "  1| [2.0,1.1,1.0]|                    [7.5,5.5,7.5]|\n",
       "  0|[1.0,0.1,-1.0]|                    [5.0,5.0,5.0]|\n",
       "  1| [2.0,1.1,1.0]|                    [7.5,5.5,7.5]|\n",
       "  1|[3.0,10.1,3.0]|                 [10.0,10.0,10.0]|\n",
       "+---+--------------+---------------------------------+\n",
       "\n",
       "</div>"
      ]
     },
     "metadata": {
      "application/vnd.databricks.v1+output": {
       "addedWidgets": {},
       "arguments": {},
       "data": "<div class=\"ansiout\">+---+--------------+---------------------------------+\n| id|      features|MinMaxScaler_f28da468fbf5__output|\n+---+--------------+---------------------------------+\n|  0|[1.0,0.1,-1.0]|                    [5.0,5.0,5.0]|\n|  1| [2.0,1.1,1.0]|                    [7.5,5.5,7.5]|\n|  0|[1.0,0.1,-1.0]|                    [5.0,5.0,5.0]|\n|  1| [2.0,1.1,1.0]|                    [7.5,5.5,7.5]|\n|  1|[3.0,10.1,3.0]|                 [10.0,10.0,10.0]|\n+---+--------------+---------------------------------+\n\n</div>",
       "datasetInfos": [],
       "metadata": {},
       "removedWidgets": [],
       "type": "html"
      }
     },
     "output_type": "display_data"
    }
   ],
   "source": [
    "fittedminMax = minMax.fit(scaleDF)\n",
    "fittedminMax.transform(scaleDF).show()"
   ]
  },
  {
   "cell_type": "code",
   "execution_count": 0,
   "metadata": {
    "application/vnd.databricks.v1+cell": {
     "cellMetadata": {},
     "inputWidgets": {},
     "nuid": "6cc38019-105c-4b41-929b-60f9a9c38544",
     "showTitle": false,
     "title": ""
    }
   },
   "outputs": [
    {
     "output_type": "display_data",
     "data": {
      "text/html": [
       "<style scoped>\n",
       "  .ansiout {\n",
       "    display: block;\n",
       "    unicode-bidi: embed;\n",
       "    white-space: pre-wrap;\n",
       "    word-wrap: break-word;\n",
       "    word-break: break-all;\n",
       "    font-family: \"Source Code Pro\", \"Menlo\", monospace;;\n",
       "    font-size: 13px;\n",
       "    color: #555;\n",
       "    margin-left: 4px;\n",
       "    line-height: 19px;\n",
       "  }\n",
       "</style>\n",
       "<div class=\"ansiout\">+---+--------------+\n",
       " id|      features|\n",
       "+---+--------------+\n",
       "  0|[1.0,0.1,-1.0]|\n",
       "  1| [2.0,1.1,1.0]|\n",
       "  0|[1.0,0.1,-1.0]|\n",
       "  1| [2.0,1.1,1.0]|\n",
       "  1|[3.0,10.1,3.0]|\n",
       "+---+--------------+\n",
       "\n",
       "</div>"
      ]
     },
     "metadata": {
      "application/vnd.databricks.v1+output": {
       "addedWidgets": {},
       "arguments": {},
       "data": "<div class=\"ansiout\">+---+--------------+\n| id|      features|\n+---+--------------+\n|  0|[1.0,0.1,-1.0]|\n|  1| [2.0,1.1,1.0]|\n|  0|[1.0,0.1,-1.0]|\n|  1| [2.0,1.1,1.0]|\n|  1|[3.0,10.1,3.0]|\n+---+--------------+\n\n</div>",
       "datasetInfos": [],
       "metadata": {},
       "removedWidgets": [],
       "type": "html"
      }
     },
     "output_type": "display_data"
    }
   ],
   "source": [
    "scaleDF.show()"
   ]
  },
  {
   "cell_type": "markdown",
   "metadata": {
    "application/vnd.databricks.v1+cell": {
     "cellMetadata": {},
     "inputWidgets": {},
     "nuid": "738cab8a-991f-4b37-b085-507deacfbd6a",
     "showTitle": false,
     "title": ""
    }
   },
   "source": [
    "### MaxAbsScaler\n",
    "Rescale each feature individually to range [-1, 1] by dividing through the largest maximum absolute value in each feature. It does not shift/center the data, and thus does not destroy any sparsity."
   ]
  },
  {
   "cell_type": "code",
   "execution_count": 0,
   "metadata": {
    "application/vnd.databricks.v1+cell": {
     "cellMetadata": {},
     "inputWidgets": {},
     "nuid": "912ea5ae-26f8-4106-a640-222725d6c4a9",
     "showTitle": false,
     "title": ""
    }
   },
   "outputs": [
    {
     "output_type": "display_data",
     "data": {
      "text/html": [
       "<style scoped>\n",
       "  .ansiout {\n",
       "    display: block;\n",
       "    unicode-bidi: embed;\n",
       "    white-space: pre-wrap;\n",
       "    word-wrap: break-word;\n",
       "    word-break: break-all;\n",
       "    font-family: \"Source Code Pro\", \"Menlo\", monospace;;\n",
       "    font-size: 13px;\n",
       "    color: #555;\n",
       "    margin-left: 4px;\n",
       "    line-height: 19px;\n",
       "  }\n",
       "</style>\n",
       "<div class=\"ansiout\">+---+--------------+-------------------------------------------------------------+\n",
       "id |features      |MaxAbsScaler_6df7fd176eb9__output                            |\n",
       "+---+--------------+-------------------------------------------------------------+\n",
       "0  |[1.0,0.1,-1.0]|[0.3333333333333333,0.009900990099009903,-0.3333333333333333]|\n",
       "1  |[2.0,1.1,1.0] |[0.6666666666666666,0.10891089108910892,0.3333333333333333]  |\n",
       "0  |[1.0,0.1,-1.0]|[0.3333333333333333,0.009900990099009903,-0.3333333333333333]|\n",
       "1  |[2.0,1.1,1.0] |[0.6666666666666666,0.10891089108910892,0.3333333333333333]  |\n",
       "1  |[3.0,10.1,3.0]|[1.0,1.0,1.0]                                                |\n",
       "+---+--------------+-------------------------------------------------------------+\n",
       "\n",
       "</div>"
      ]
     },
     "metadata": {
      "application/vnd.databricks.v1+output": {
       "addedWidgets": {},
       "arguments": {},
       "data": "<div class=\"ansiout\">+---+--------------+-------------------------------------------------------------+\n|id |features      |MaxAbsScaler_6df7fd176eb9__output                            |\n+---+--------------+-------------------------------------------------------------+\n|0  |[1.0,0.1,-1.0]|[0.3333333333333333,0.009900990099009903,-0.3333333333333333]|\n|1  |[2.0,1.1,1.0] |[0.6666666666666666,0.10891089108910892,0.3333333333333333]  |\n|0  |[1.0,0.1,-1.0]|[0.3333333333333333,0.009900990099009903,-0.3333333333333333]|\n|1  |[2.0,1.1,1.0] |[0.6666666666666666,0.10891089108910892,0.3333333333333333]  |\n|1  |[3.0,10.1,3.0]|[1.0,1.0,1.0]                                                |\n+---+--------------+-------------------------------------------------------------+\n\n</div>",
       "datasetInfos": [],
       "metadata": {},
       "removedWidgets": [],
       "type": "html"
      }
     },
     "output_type": "display_data"
    }
   ],
   "source": [
    "# COMMAND ----------\n",
    "\n",
    "from pyspark.ml.feature import MaxAbsScaler\n",
    "maScaler = MaxAbsScaler().setInputCol(\"features\")\n",
    "fittedmaScaler = maScaler.fit(scaleDF)\n",
    "fittedmaScaler.transform(scaleDF).show(10, False)"
   ]
  },
  {
   "cell_type": "markdown",
   "metadata": {
    "application/vnd.databricks.v1+cell": {
     "cellMetadata": {},
     "inputWidgets": {},
     "nuid": "3f2eee29-a7ae-496b-a7e2-76beac257372",
     "showTitle": false,
     "title": ""
    }
   },
   "source": [
    "### ElementwiseProduct\n",
    "Outputs the Hadamard product (i.e., the element-wise product) of each input vector with a provided “weight” vector. In other words, it scales each column of the dataset by a scalar multiplier."
   ]
  },
  {
   "cell_type": "code",
   "execution_count": 0,
   "metadata": {
    "application/vnd.databricks.v1+cell": {
     "cellMetadata": {},
     "inputWidgets": {},
     "nuid": "114f550f-df7e-45fb-bfbd-418b93898bae",
     "showTitle": false,
     "title": ""
    }
   },
   "outputs": [
    {
     "output_type": "display_data",
     "data": {
      "text/html": [
       "<style scoped>\n",
       "  .ansiout {\n",
       "    display: block;\n",
       "    unicode-bidi: embed;\n",
       "    white-space: pre-wrap;\n",
       "    word-wrap: break-word;\n",
       "    word-break: break-all;\n",
       "    font-family: \"Source Code Pro\", \"Menlo\", monospace;;\n",
       "    font-size: 13px;\n",
       "    color: #555;\n",
       "    margin-left: 4px;\n",
       "    line-height: 19px;\n",
       "  }\n",
       "</style>\n",
       "<div class=\"ansiout\">+---+--------------+---------------------------------------+\n",
       " id|      features|ElementwiseProduct_410abad09764__output|\n",
       "+---+--------------+---------------------------------------+\n",
       "  0|[1.0,0.1,-1.0]|                       [10.0,1.5,-20.0]|\n",
       "  1| [2.0,1.1,1.0]|                       [20.0,16.5,20.0]|\n",
       "  0|[1.0,0.1,-1.0]|                       [10.0,1.5,-20.0]|\n",
       "  1| [2.0,1.1,1.0]|                       [20.0,16.5,20.0]|\n",
       "  1|[3.0,10.1,3.0]|                      [30.0,151.5,60.0]|\n",
       "+---+--------------+---------------------------------------+\n",
       "\n",
       "</div>"
      ]
     },
     "metadata": {
      "application/vnd.databricks.v1+output": {
       "addedWidgets": {},
       "arguments": {},
       "data": "<div class=\"ansiout\">+---+--------------+---------------------------------------+\n| id|      features|ElementwiseProduct_410abad09764__output|\n+---+--------------+---------------------------------------+\n|  0|[1.0,0.1,-1.0]|                       [10.0,1.5,-20.0]|\n|  1| [2.0,1.1,1.0]|                       [20.0,16.5,20.0]|\n|  0|[1.0,0.1,-1.0]|                       [10.0,1.5,-20.0]|\n|  1| [2.0,1.1,1.0]|                       [20.0,16.5,20.0]|\n|  1|[3.0,10.1,3.0]|                      [30.0,151.5,60.0]|\n+---+--------------+---------------------------------------+\n\n</div>",
       "datasetInfos": [],
       "metadata": {},
       "removedWidgets": [],
       "type": "html"
      }
     },
     "output_type": "display_data"
    }
   ],
   "source": [
    "# COMMAND ----------\n",
    "\n",
    "from pyspark.ml.feature import ElementwiseProduct\n",
    "from pyspark.ml.linalg import Vectors\n",
    "scaleUpVec = Vectors.dense(10.0, 15.0, 20.0)\n",
    "scalingUp = ElementwiseProduct()\\\n",
    "  .setScalingVec(scaleUpVec)\\\n",
    "  .setInputCol(\"features\")\n",
    "scalingUp.transform(scaleDF).show()"
   ]
  },
  {
   "cell_type": "markdown",
   "metadata": {
    "application/vnd.databricks.v1+cell": {
     "cellMetadata": {},
     "inputWidgets": {},
     "nuid": "48430357-e45a-47fd-a42d-1ae8f74305c9",
     "showTitle": false,
     "title": ""
    }
   },
   "source": [
    "### Normalizer\n",
    "Normalize a vector to have unit norm using the given p-norm."
   ]
  },
  {
   "cell_type": "code",
   "execution_count": 0,
   "metadata": {
    "application/vnd.databricks.v1+cell": {
     "cellMetadata": {},
     "inputWidgets": {},
     "nuid": "6d0f6917-5df9-49d9-b0f8-01c4379543e0",
     "showTitle": false,
     "title": ""
    }
   },
   "outputs": [
    {
     "output_type": "display_data",
     "data": {
      "text/html": [
       "<style scoped>\n",
       "  .ansiout {\n",
       "    display: block;\n",
       "    unicode-bidi: embed;\n",
       "    white-space: pre-wrap;\n",
       "    word-wrap: break-word;\n",
       "    word-break: break-all;\n",
       "    font-family: \"Source Code Pro\", \"Menlo\", monospace;;\n",
       "    font-size: 13px;\n",
       "    color: #555;\n",
       "    margin-left: 4px;\n",
       "    line-height: 19px;\n",
       "  }\n",
       "</style>\n",
       "<div class=\"ansiout\">+---+--------------+---------------------------------------------------------------+\n",
       "id |features      |Normalizer_456eca77429f__output                                |\n",
       "+---+--------------+---------------------------------------------------------------+\n",
       "0  |[1.0,0.1,-1.0]|[0.47619047619047616,0.047619047619047616,-0.47619047619047616]|\n",
       "1  |[2.0,1.1,1.0] |[0.48780487804878053,0.26829268292682934,0.24390243902439027]  |\n",
       "0  |[1.0,0.1,-1.0]|[0.47619047619047616,0.047619047619047616,-0.47619047619047616]|\n",
       "1  |[2.0,1.1,1.0] |[0.48780487804878053,0.26829268292682934,0.24390243902439027]  |\n",
       "1  |[3.0,10.1,3.0]|[0.18633540372670807,0.6273291925465838,0.18633540372670807]   |\n",
       "+---+--------------+---------------------------------------------------------------+\n",
       "\n",
       "</div>"
      ]
     },
     "metadata": {
      "application/vnd.databricks.v1+output": {
       "addedWidgets": {},
       "arguments": {},
       "data": "<div class=\"ansiout\">+---+--------------+---------------------------------------------------------------+\n|id |features      |Normalizer_456eca77429f__output                                |\n+---+--------------+---------------------------------------------------------------+\n|0  |[1.0,0.1,-1.0]|[0.47619047619047616,0.047619047619047616,-0.47619047619047616]|\n|1  |[2.0,1.1,1.0] |[0.48780487804878053,0.26829268292682934,0.24390243902439027]  |\n|0  |[1.0,0.1,-1.0]|[0.47619047619047616,0.047619047619047616,-0.47619047619047616]|\n|1  |[2.0,1.1,1.0] |[0.48780487804878053,0.26829268292682934,0.24390243902439027]  |\n|1  |[3.0,10.1,3.0]|[0.18633540372670807,0.6273291925465838,0.18633540372670807]   |\n+---+--------------+---------------------------------------------------------------+\n\n</div>",
       "datasetInfos": [],
       "metadata": {},
       "removedWidgets": [],
       "type": "html"
      }
     },
     "output_type": "display_data"
    }
   ],
   "source": [
    "# COMMAND ----------\n",
    "\n",
    "from pyspark.ml.feature import Normalizer\n",
    "manhattanDistance = Normalizer().setP(1).setInputCol(\"features\")\n",
    "manhattanDistance.transform(scaleDF).show(10, False)"
   ]
  },
  {
   "cell_type": "markdown",
   "metadata": {
    "application/vnd.databricks.v1+cell": {
     "cellMetadata": {},
     "inputWidgets": {},
     "nuid": "bdb4cfb6-f0d9-4fda-b909-15b04f8d3596",
     "showTitle": false,
     "title": ""
    }
   },
   "source": [
    "## Working with Categorical Features\n",
    "The most common task for categorical features is indexing. Indexing converts a categorical variable\n",
    "in a column to a numerical one that you can plug into machine learning algorithms.\n",
    "\n",
    "### StringIndexer\n",
    "The simplest way to index is via the StringIndexer, which maps strings to different numerical IDs.\n",
    "Spark’s StringIndexer also creates metadata attached to the DataFrame that specify what inputs\n",
    "correspond to what outputs. This allows us later to get inputs back from their respective index values:"
   ]
  },
  {
   "cell_type": "code",
   "execution_count": 0,
   "metadata": {
    "application/vnd.databricks.v1+cell": {
     "cellMetadata": {},
     "inputWidgets": {},
     "nuid": "4ffe076e-8f3f-4c85-b47e-f6e96e4b60ac",
     "showTitle": false,
     "title": ""
    }
   },
   "outputs": [
    {
     "output_type": "display_data",
     "data": {
      "text/html": [
       "<style scoped>\n",
       "  .ansiout {\n",
       "    display: block;\n",
       "    unicode-bidi: embed;\n",
       "    white-space: pre-wrap;\n",
       "    word-wrap: break-word;\n",
       "    word-break: break-all;\n",
       "    font-family: \"Source Code Pro\", \"Menlo\", monospace;;\n",
       "    font-size: 13px;\n",
       "    color: #555;\n",
       "    margin-left: 4px;\n",
       "    line-height: 19px;\n",
       "  }\n",
       "</style>\n",
       "<div class=\"ansiout\">+-----+----+------+------------------+--------+\n",
       "color| lab|value1|            value2|labelInd|\n",
       "+-----+----+------+------------------+--------+\n",
       "green|good|     1|14.386294994851129|     1.0|\n",
       " blue| bad|     8|14.386294994851129|     0.0|\n",
       " blue| bad|    12|14.386294994851129|     0.0|\n",
       "green|good|    15| 38.97187133755819|     1.0|\n",
       "green|good|    12|14.386294994851129|     1.0|\n",
       "green| bad|    16|14.386294994851129|     0.0|\n",
       "  red|good|    35|14.386294994851129|     1.0|\n",
       "  red| bad|     1| 38.97187133755819|     0.0|\n",
       "  red| bad|     2|14.386294994851129|     0.0|\n",
       "  red| bad|    16|14.386294994851129|     0.0|\n",
       "  red|good|    45| 38.97187133755819|     1.0|\n",
       "green|good|     1|14.386294994851129|     1.0|\n",
       " blue| bad|     8|14.386294994851129|     0.0|\n",
       " blue| bad|    12|14.386294994851129|     0.0|\n",
       "green|good|    15| 38.97187133755819|     1.0|\n",
       "green|good|    12|14.386294994851129|     1.0|\n",
       "green| bad|    16|14.386294994851129|     0.0|\n",
       "  red|good|    35|14.386294994851129|     1.0|\n",
       "  red| bad|     1| 38.97187133755819|     0.0|\n",
       "  red| bad|     2|14.386294994851129|     0.0|\n",
       "+-----+----+------+------------------+--------+\n",
       "only showing top 20 rows\n",
       "\n",
       "</div>"
      ]
     },
     "metadata": {
      "application/vnd.databricks.v1+output": {
       "addedWidgets": {},
       "arguments": {},
       "data": "<div class=\"ansiout\">+-----+----+------+------------------+--------+\n|color| lab|value1|            value2|labelInd|\n+-----+----+------+------------------+--------+\n|green|good|     1|14.386294994851129|     1.0|\n| blue| bad|     8|14.386294994851129|     0.0|\n| blue| bad|    12|14.386294994851129|     0.0|\n|green|good|    15| 38.97187133755819|     1.0|\n|green|good|    12|14.386294994851129|     1.0|\n|green| bad|    16|14.386294994851129|     0.0|\n|  red|good|    35|14.386294994851129|     1.0|\n|  red| bad|     1| 38.97187133755819|     0.0|\n|  red| bad|     2|14.386294994851129|     0.0|\n|  red| bad|    16|14.386294994851129|     0.0|\n|  red|good|    45| 38.97187133755819|     1.0|\n|green|good|     1|14.386294994851129|     1.0|\n| blue| bad|     8|14.386294994851129|     0.0|\n| blue| bad|    12|14.386294994851129|     0.0|\n|green|good|    15| 38.97187133755819|     1.0|\n|green|good|    12|14.386294994851129|     1.0|\n|green| bad|    16|14.386294994851129|     0.0|\n|  red|good|    35|14.386294994851129|     1.0|\n|  red| bad|     1| 38.97187133755819|     0.0|\n|  red| bad|     2|14.386294994851129|     0.0|\n+-----+----+------+------------------+--------+\nonly showing top 20 rows\n\n</div>",
       "datasetInfos": [],
       "metadata": {},
       "removedWidgets": [],
       "type": "html"
      }
     },
     "output_type": "display_data"
    }
   ],
   "source": [
    "# COMMAND ----------\n",
    "\n",
    "from pyspark.ml.feature import StringIndexer\n",
    "lblIndxr = StringIndexer().setInputCol(\"lab\").setOutputCol(\"labelInd\")\n",
    "idxRes = lblIndxr.fit(simpleDF).transform(simpleDF)\n",
    "idxRes.show()"
   ]
  },
  {
   "cell_type": "markdown",
   "metadata": {
    "application/vnd.databricks.v1+cell": {
     "cellMetadata": {},
     "inputWidgets": {},
     "nuid": "08b4850b-30af-4485-8d34-90a7c1422602",
     "showTitle": false,
     "title": ""
    }
   },
   "source": [
    "We can also apply StringIndexer to columns that are not strings, in which case, they will be\n",
    "converted to strings before being indexed:"
   ]
  },
  {
   "cell_type": "code",
   "execution_count": 0,
   "metadata": {
    "application/vnd.databricks.v1+cell": {
     "cellMetadata": {},
     "inputWidgets": {},
     "nuid": "420b546f-1f4c-4575-ac5b-6f588691ef49",
     "showTitle": false,
     "title": ""
    }
   },
   "outputs": [
    {
     "output_type": "display_data",
     "data": {
      "text/html": [
       "<style scoped>\n",
       "  .ansiout {\n",
       "    display: block;\n",
       "    unicode-bidi: embed;\n",
       "    white-space: pre-wrap;\n",
       "    word-wrap: break-word;\n",
       "    word-break: break-all;\n",
       "    font-family: \"Source Code Pro\", \"Menlo\", monospace;;\n",
       "    font-size: 13px;\n",
       "    color: #555;\n",
       "    margin-left: 4px;\n",
       "    line-height: 19px;\n",
       "  }\n",
       "</style>\n",
       "<div class=\"ansiout\">+-----+----+------+------------------+--------+\n",
       "color| lab|value1|            value2|valueInd|\n",
       "+-----+----+------+------------------+--------+\n",
       "green|good|     1|14.386294994851129|     0.0|\n",
       " blue| bad|     8|14.386294994851129|     7.0|\n",
       " blue| bad|    12|14.386294994851129|     1.0|\n",
       "green|good|    15| 38.97187133755819|     3.0|\n",
       "green|good|    12|14.386294994851129|     1.0|\n",
       "green| bad|    16|14.386294994851129|     2.0|\n",
       "  red|good|    35|14.386294994851129|     5.0|\n",
       "  red| bad|     1| 38.97187133755819|     0.0|\n",
       "  red| bad|     2|14.386294994851129|     4.0|\n",
       "  red| bad|    16|14.386294994851129|     2.0|\n",
       "  red|good|    45| 38.97187133755819|     6.0|\n",
       "green|good|     1|14.386294994851129|     0.0|\n",
       " blue| bad|     8|14.386294994851129|     7.0|\n",
       " blue| bad|    12|14.386294994851129|     1.0|\n",
       "green|good|    15| 38.97187133755819|     3.0|\n",
       "green|good|    12|14.386294994851129|     1.0|\n",
       "green| bad|    16|14.386294994851129|     2.0|\n",
       "  red|good|    35|14.386294994851129|     5.0|\n",
       "  red| bad|     1| 38.97187133755819|     0.0|\n",
       "  red| bad|     2|14.386294994851129|     4.0|\n",
       "+-----+----+------+------------------+--------+\n",
       "only showing top 20 rows\n",
       "\n",
       "</div>"
      ]
     },
     "metadata": {
      "application/vnd.databricks.v1+output": {
       "addedWidgets": {},
       "arguments": {},
       "data": "<div class=\"ansiout\">+-----+----+------+------------------+--------+\n|color| lab|value1|            value2|valueInd|\n+-----+----+------+------------------+--------+\n|green|good|     1|14.386294994851129|     0.0|\n| blue| bad|     8|14.386294994851129|     7.0|\n| blue| bad|    12|14.386294994851129|     1.0|\n|green|good|    15| 38.97187133755819|     3.0|\n|green|good|    12|14.386294994851129|     1.0|\n|green| bad|    16|14.386294994851129|     2.0|\n|  red|good|    35|14.386294994851129|     5.0|\n|  red| bad|     1| 38.97187133755819|     0.0|\n|  red| bad|     2|14.386294994851129|     4.0|\n|  red| bad|    16|14.386294994851129|     2.0|\n|  red|good|    45| 38.97187133755819|     6.0|\n|green|good|     1|14.386294994851129|     0.0|\n| blue| bad|     8|14.386294994851129|     7.0|\n| blue| bad|    12|14.386294994851129|     1.0|\n|green|good|    15| 38.97187133755819|     3.0|\n|green|good|    12|14.386294994851129|     1.0|\n|green| bad|    16|14.386294994851129|     2.0|\n|  red|good|    35|14.386294994851129|     5.0|\n|  red| bad|     1| 38.97187133755819|     0.0|\n|  red| bad|     2|14.386294994851129|     4.0|\n+-----+----+------+------------------+--------+\nonly showing top 20 rows\n\n</div>",
       "datasetInfos": [],
       "metadata": {},
       "removedWidgets": [],
       "type": "html"
      }
     },
     "output_type": "display_data"
    }
   ],
   "source": [
    "# COMMAND ----------\n",
    "\n",
    "valIndexer = StringIndexer().setInputCol(\"value1\").setOutputCol(\"valueInd\")\n",
    "valIndexer.fit(simpleDF).transform(simpleDF).show()"
   ]
  },
  {
   "cell_type": "markdown",
   "metadata": {
    "application/vnd.databricks.v1+cell": {
     "cellMetadata": {},
     "inputWidgets": {},
     "nuid": "8ec9504b-9654-4286-9efe-17642196963e",
     "showTitle": false,
     "title": ""
    }
   },
   "source": [
    "### Converting Indexed Values Back to Text"
   ]
  },
  {
   "cell_type": "code",
   "execution_count": 0,
   "metadata": {
    "application/vnd.databricks.v1+cell": {
     "cellMetadata": {},
     "inputWidgets": {},
     "nuid": "25ad7bd0-1fa2-4787-a67c-524db3380caa",
     "showTitle": false,
     "title": ""
    }
   },
   "outputs": [
    {
     "output_type": "display_data",
     "data": {
      "text/html": [
       "<style scoped>\n",
       "  .ansiout {\n",
       "    display: block;\n",
       "    unicode-bidi: embed;\n",
       "    white-space: pre-wrap;\n",
       "    word-wrap: break-word;\n",
       "    word-break: break-all;\n",
       "    font-family: \"Source Code Pro\", \"Menlo\", monospace;;\n",
       "    font-size: 13px;\n",
       "    color: #555;\n",
       "    margin-left: 4px;\n",
       "    line-height: 19px;\n",
       "  }\n",
       "</style>\n",
       "<div class=\"ansiout\">+-----+----+------+------------------+--------+----------------------------------+\n",
       "color| lab|value1|            value2|labelInd|IndexToString_6f3a2fd9ce15__output|\n",
       "+-----+----+------+------------------+--------+----------------------------------+\n",
       "green|good|     1|14.386294994851129|     1.0|                              good|\n",
       " blue| bad|     8|14.386294994851129|     0.0|                               bad|\n",
       " blue| bad|    12|14.386294994851129|     0.0|                               bad|\n",
       "green|good|    15| 38.97187133755819|     1.0|                              good|\n",
       "green|good|    12|14.386294994851129|     1.0|                              good|\n",
       "green| bad|    16|14.386294994851129|     0.0|                               bad|\n",
       "  red|good|    35|14.386294994851129|     1.0|                              good|\n",
       "  red| bad|     1| 38.97187133755819|     0.0|                               bad|\n",
       "  red| bad|     2|14.386294994851129|     0.0|                               bad|\n",
       "  red| bad|    16|14.386294994851129|     0.0|                               bad|\n",
       "  red|good|    45| 38.97187133755819|     1.0|                              good|\n",
       "green|good|     1|14.386294994851129|     1.0|                              good|\n",
       " blue| bad|     8|14.386294994851129|     0.0|                               bad|\n",
       " blue| bad|    12|14.386294994851129|     0.0|                               bad|\n",
       "green|good|    15| 38.97187133755819|     1.0|                              good|\n",
       "green|good|    12|14.386294994851129|     1.0|                              good|\n",
       "green| bad|    16|14.386294994851129|     0.0|                               bad|\n",
       "  red|good|    35|14.386294994851129|     1.0|                              good|\n",
       "  red| bad|     1| 38.97187133755819|     0.0|                               bad|\n",
       "  red| bad|     2|14.386294994851129|     0.0|                               bad|\n",
       "+-----+----+------+------------------+--------+----------------------------------+\n",
       "only showing top 20 rows\n",
       "\n",
       "</div>"
      ]
     },
     "metadata": {
      "application/vnd.databricks.v1+output": {
       "addedWidgets": {},
       "arguments": {},
       "data": "<div class=\"ansiout\">+-----+----+------+------------------+--------+----------------------------------+\n|color| lab|value1|            value2|labelInd|IndexToString_6f3a2fd9ce15__output|\n+-----+----+------+------------------+--------+----------------------------------+\n|green|good|     1|14.386294994851129|     1.0|                              good|\n| blue| bad|     8|14.386294994851129|     0.0|                               bad|\n| blue| bad|    12|14.386294994851129|     0.0|                               bad|\n|green|good|    15| 38.97187133755819|     1.0|                              good|\n|green|good|    12|14.386294994851129|     1.0|                              good|\n|green| bad|    16|14.386294994851129|     0.0|                               bad|\n|  red|good|    35|14.386294994851129|     1.0|                              good|\n|  red| bad|     1| 38.97187133755819|     0.0|                               bad|\n|  red| bad|     2|14.386294994851129|     0.0|                               bad|\n|  red| bad|    16|14.386294994851129|     0.0|                               bad|\n|  red|good|    45| 38.97187133755819|     1.0|                              good|\n|green|good|     1|14.386294994851129|     1.0|                              good|\n| blue| bad|     8|14.386294994851129|     0.0|                               bad|\n| blue| bad|    12|14.386294994851129|     0.0|                               bad|\n|green|good|    15| 38.97187133755819|     1.0|                              good|\n|green|good|    12|14.386294994851129|     1.0|                              good|\n|green| bad|    16|14.386294994851129|     0.0|                               bad|\n|  red|good|    35|14.386294994851129|     1.0|                              good|\n|  red| bad|     1| 38.97187133755819|     0.0|                               bad|\n|  red| bad|     2|14.386294994851129|     0.0|                               bad|\n+-----+----+------+------------------+--------+----------------------------------+\nonly showing top 20 rows\n\n</div>",
       "datasetInfos": [],
       "metadata": {},
       "removedWidgets": [],
       "type": "html"
      }
     },
     "output_type": "display_data"
    }
   ],
   "source": [
    "# COMMAND ----------\n",
    "\n",
    "from pyspark.ml.feature import IndexToString\n",
    "labelReverse = IndexToString().setInputCol(\"labelInd\")\n",
    "labelReverse.transform(idxRes).show()"
   ]
  },
  {
   "cell_type": "markdown",
   "metadata": {
    "application/vnd.databricks.v1+cell": {
     "cellMetadata": {},
     "inputWidgets": {},
     "nuid": "ce4c12a3-364a-4c2e-b7dd-e68190814352",
     "showTitle": false,
     "title": ""
    }
   },
   "source": [
    "### Indexing in Vectors\n",
    "VectorIndexer is a helpful tool for working with categorical variables that are already found inside\n",
    "of vectors in your dataset. This tool will automatically find categorical features inside of your input\n",
    "vectors and convert them to categorical features with zero-based category indices."
   ]
  },
  {
   "cell_type": "code",
   "execution_count": 0,
   "metadata": {
    "application/vnd.databricks.v1+cell": {
     "cellMetadata": {},
     "inputWidgets": {},
     "nuid": "d54b3ffa-d443-420b-92a2-246e82690446",
     "showTitle": false,
     "title": ""
    }
   },
   "outputs": [
    {
     "output_type": "display_data",
     "data": {
      "text/html": [
       "<style scoped>\n",
       "  .ansiout {\n",
       "    display: block;\n",
       "    unicode-bidi: embed;\n",
       "    white-space: pre-wrap;\n",
       "    word-wrap: break-word;\n",
       "    word-break: break-all;\n",
       "    font-family: \"Source Code Pro\", \"Menlo\", monospace;;\n",
       "    font-size: 13px;\n",
       "    color: #555;\n",
       "    margin-left: 4px;\n",
       "    line-height: 19px;\n",
       "  }\n",
       "</style>\n",
       "<div class=\"ansiout\">+-------------+-----+-------------+\n",
       "     features|label|        idxed|\n",
       "+-------------+-----+-------------+\n",
       "[1.0,2.0,3.0]|    1|[0.0,2.0,3.0]|\n",
       "[2.0,5.0,6.0]|    2|[1.0,5.0,6.0]|\n",
       "[1.0,8.0,9.0]|    3|[0.0,8.0,9.0]|\n",
       "+-------------+-----+-------------+\n",
       "\n",
       "</div>"
      ]
     },
     "metadata": {
      "application/vnd.databricks.v1+output": {
       "addedWidgets": {},
       "arguments": {},
       "data": "<div class=\"ansiout\">+-------------+-----+-------------+\n|     features|label|        idxed|\n+-------------+-----+-------------+\n|[1.0,2.0,3.0]|    1|[0.0,2.0,3.0]|\n|[2.0,5.0,6.0]|    2|[1.0,5.0,6.0]|\n|[1.0,8.0,9.0]|    3|[0.0,8.0,9.0]|\n+-------------+-----+-------------+\n\n</div>",
       "datasetInfos": [],
       "metadata": {},
       "removedWidgets": [],
       "type": "html"
      }
     },
     "output_type": "display_data"
    }
   ],
   "source": [
    "# COMMAND ----------\n",
    "\n",
    "from pyspark.ml.feature import VectorIndexer\n",
    "from pyspark.ml.linalg import Vectors\n",
    "idxIn = spark.createDataFrame([\n",
    "  (Vectors.dense(1, 2, 3),1),\n",
    "  (Vectors.dense(2, 5, 6),2),\n",
    "  (Vectors.dense(1, 8, 9),3)\n",
    "]).toDF(\"features\", \"label\")\n",
    "indxr = VectorIndexer()\\\n",
    "  .setInputCol(\"features\")\\\n",
    "  .setOutputCol(\"idxed\")\\\n",
    "  .setMaxCategories(2)\n",
    "indxr.fit(idxIn).transform(idxIn).show()"
   ]
  },
  {
   "cell_type": "markdown",
   "metadata": {
    "application/vnd.databricks.v1+cell": {
     "cellMetadata": {},
     "inputWidgets": {},
     "nuid": "7beff364-447c-4682-a860-dada8c9fd17b",
     "showTitle": false,
     "title": ""
    }
   },
   "source": [
    "### One-Hot Encoding\n",
    "Indexing categorical variables is only half of the story. One-hot encoding is an extremely common\n",
    "data transformation performed after indexing categorical variables."
   ]
  },
  {
   "cell_type": "code",
   "execution_count": 0,
   "metadata": {
    "application/vnd.databricks.v1+cell": {
     "cellMetadata": {},
     "inputWidgets": {},
     "nuid": "97566554-e958-42b2-b4b0-a1660f2ca1a6",
     "showTitle": false,
     "title": ""
    }
   },
   "outputs": [
    {
     "output_type": "display_data",
     "data": {
      "text/html": [
       "<style scoped>\n",
       "  .ansiout {\n",
       "    display: block;\n",
       "    unicode-bidi: embed;\n",
       "    white-space: pre-wrap;\n",
       "    word-wrap: break-word;\n",
       "    word-break: break-all;\n",
       "    font-family: \"Source Code Pro\", \"Menlo\", monospace;;\n",
       "    font-size: 13px;\n",
       "    color: #555;\n",
       "    margin-left: 4px;\n",
       "    line-height: 19px;\n",
       "  }\n",
       "</style>\n",
       "<div class=\"ansiout\">+-----+----+------+------------------+\n",
       "color| lab|value1|            value2|\n",
       "+-----+----+------+------------------+\n",
       "green|good|     1|14.386294994851129|\n",
       " blue| bad|     8|14.386294994851129|\n",
       "+-----+----+------+------------------+\n",
       "only showing top 2 rows\n",
       "\n",
       "</div>"
      ]
     },
     "metadata": {
      "application/vnd.databricks.v1+output": {
       "addedWidgets": {},
       "arguments": {},
       "data": "<div class=\"ansiout\">+-----+----+------+------------------+\n|color| lab|value1|            value2|\n+-----+----+------+------------------+\n|green|good|     1|14.386294994851129|\n| blue| bad|     8|14.386294994851129|\n+-----+----+------+------------------+\nonly showing top 2 rows\n\n</div>",
       "datasetInfos": [],
       "metadata": {},
       "removedWidgets": [],
       "type": "html"
      }
     },
     "output_type": "display_data"
    }
   ],
   "source": [
    "simpleDF.show(2)"
   ]
  },
  {
   "cell_type": "code",
   "execution_count": 0,
   "metadata": {
    "application/vnd.databricks.v1+cell": {
     "cellMetadata": {},
     "inputWidgets": {},
     "nuid": "5de6ba48-4c75-412f-8876-9af1289616bd",
     "showTitle": false,
     "title": ""
    }
   },
   "outputs": [
    {
     "output_type": "display_data",
     "data": {
      "text/html": [
       "<style scoped>\n",
       "  .ansiout {\n",
       "    display: block;\n",
       "    unicode-bidi: embed;\n",
       "    white-space: pre-wrap;\n",
       "    word-wrap: break-word;\n",
       "    word-break: break-all;\n",
       "    font-family: \"Source Code Pro\", \"Menlo\", monospace;;\n",
       "    font-size: 13px;\n",
       "    color: #555;\n",
       "    margin-left: 4px;\n",
       "    line-height: 19px;\n",
       "  }\n",
       "</style>\n",
       "<div class=\"ansiout\">+-----+--------+----------------------------------+\n",
       "color|colorInd|OneHotEncoder_744c0d0b9fb2__output|\n",
       "+-----+--------+----------------------------------+\n",
       "green|     1.0|                     (2,[1],[1.0])|\n",
       " blue|     2.0|                         (2,[],[])|\n",
       " blue|     2.0|                         (2,[],[])|\n",
       "green|     1.0|                     (2,[1],[1.0])|\n",
       "green|     1.0|                     (2,[1],[1.0])|\n",
       "green|     1.0|                     (2,[1],[1.0])|\n",
       "  red|     0.0|                     (2,[0],[1.0])|\n",
       "  red|     0.0|                     (2,[0],[1.0])|\n",
       "  red|     0.0|                     (2,[0],[1.0])|\n",
       "  red|     0.0|                     (2,[0],[1.0])|\n",
       "  red|     0.0|                     (2,[0],[1.0])|\n",
       "green|     1.0|                     (2,[1],[1.0])|\n",
       " blue|     2.0|                         (2,[],[])|\n",
       " blue|     2.0|                         (2,[],[])|\n",
       "green|     1.0|                     (2,[1],[1.0])|\n",
       "green|     1.0|                     (2,[1],[1.0])|\n",
       "green|     1.0|                     (2,[1],[1.0])|\n",
       "  red|     0.0|                     (2,[0],[1.0])|\n",
       "  red|     0.0|                     (2,[0],[1.0])|\n",
       "  red|     0.0|                     (2,[0],[1.0])|\n",
       "+-----+--------+----------------------------------+\n",
       "only showing top 20 rows\n",
       "\n",
       "</div>"
      ]
     },
     "metadata": {
      "application/vnd.databricks.v1+output": {
       "addedWidgets": {},
       "arguments": {},
       "data": "<div class=\"ansiout\">+-----+--------+----------------------------------+\n|color|colorInd|OneHotEncoder_744c0d0b9fb2__output|\n+-----+--------+----------------------------------+\n|green|     1.0|                     (2,[1],[1.0])|\n| blue|     2.0|                         (2,[],[])|\n| blue|     2.0|                         (2,[],[])|\n|green|     1.0|                     (2,[1],[1.0])|\n|green|     1.0|                     (2,[1],[1.0])|\n|green|     1.0|                     (2,[1],[1.0])|\n|  red|     0.0|                     (2,[0],[1.0])|\n|  red|     0.0|                     (2,[0],[1.0])|\n|  red|     0.0|                     (2,[0],[1.0])|\n|  red|     0.0|                     (2,[0],[1.0])|\n|  red|     0.0|                     (2,[0],[1.0])|\n|green|     1.0|                     (2,[1],[1.0])|\n| blue|     2.0|                         (2,[],[])|\n| blue|     2.0|                         (2,[],[])|\n|green|     1.0|                     (2,[1],[1.0])|\n|green|     1.0|                     (2,[1],[1.0])|\n|green|     1.0|                     (2,[1],[1.0])|\n|  red|     0.0|                     (2,[0],[1.0])|\n|  red|     0.0|                     (2,[0],[1.0])|\n|  red|     0.0|                     (2,[0],[1.0])|\n+-----+--------+----------------------------------+\nonly showing top 20 rows\n\n</div>",
       "datasetInfos": [],
       "metadata": {},
       "removedWidgets": [],
       "type": "html"
      }
     },
     "output_type": "display_data"
    }
   ],
   "source": [
    "# COMMAND ----------\n",
    "\n",
    "from pyspark.ml.feature import OneHotEncoder, StringIndexer\n",
    "lblIndxr = StringIndexer().setInputCol(\"color\").setOutputCol(\"colorInd\")\n",
    "colorLab = lblIndxr.fit(simpleDF).transform(simpleDF.select(\"color\"))\n",
    "ohe = OneHotEncoder().setInputCol(\"colorInd\")\n",
    "ohe.fit(colorLab).transform(colorLab).show()"
   ]
  },
  {
   "cell_type": "markdown",
   "metadata": {
    "application/vnd.databricks.v1+cell": {
     "cellMetadata": {},
     "inputWidgets": {},
     "nuid": "3a2a59b6-ee1c-4c23-907b-1bde8827ad9c",
     "showTitle": false,
     "title": ""
    }
   },
   "source": [
    "## Text Data Transformers\n",
    "\n",
    "### Tokenizing Text\n",
    "Tokenization is the process of converting free-form text into a list of “tokens” or individual words."
   ]
  },
  {
   "cell_type": "code",
   "execution_count": 0,
   "metadata": {
    "application/vnd.databricks.v1+cell": {
     "cellMetadata": {},
     "inputWidgets": {},
     "nuid": "a462fe7a-cd86-44a8-877b-ede1e94c02f4",
     "showTitle": false,
     "title": ""
    }
   },
   "outputs": [
    {
     "output_type": "display_data",
     "data": {
      "text/html": [
       "<style scoped>\n",
       "  .ansiout {\n",
       "    display: block;\n",
       "    unicode-bidi: embed;\n",
       "    white-space: pre-wrap;\n",
       "    word-wrap: break-word;\n",
       "    word-break: break-all;\n",
       "    font-family: \"Source Code Pro\", \"Menlo\", monospace;;\n",
       "    font-size: 13px;\n",
       "    color: #555;\n",
       "    margin-left: 4px;\n",
       "    line-height: 19px;\n",
       "  }\n",
       "</style>\n",
       "<div class=\"ansiout\">+-----------------------------------+------------------------------------------+\n",
       "Description                        |DescOut                                   |\n",
       "+-----------------------------------+------------------------------------------+\n",
       "RABBIT NIGHT LIGHT                 |[rabbit, night, light]                    |\n",
       "DOUGHNUT LIP GLOSS                 |[doughnut, lip, gloss]                    |\n",
       "12 MESSAGE CARDS WITH ENVELOPES    |[12, message, cards, with, envelopes]     |\n",
       "BLUE HARMONICA IN BOX              |[blue, harmonica, in, box]                |\n",
       "GUMBALL COAT RACK                  |[gumball, coat, rack]                     |\n",
       "SKULLS  WATER TRANSFER TATTOOS     |[skulls, , water, transfer, tattoos]      |\n",
       "FELTCRAFT GIRL AMELIE KIT          |[feltcraft, girl, amelie, kit]            |\n",
       "CAMOUFLAGE LED TORCH               |[camouflage, led, torch]                  |\n",
       "WHITE SKULL HOT WATER BOTTLE       |[white, skull, hot, water, bottle]        |\n",
       "ENGLISH ROSE HOT WATER BOTTLE      |[english, rose, hot, water, bottle]       |\n",
       "HOT WATER BOTTLE KEEP CALM         |[hot, water, bottle, keep, calm]          |\n",
       "SCOTTIE DOG HOT WATER BOTTLE       |[scottie, dog, hot, water, bottle]        |\n",
       "ROSE CARAVAN DOORSTOP              |[rose, caravan, doorstop]                 |\n",
       "GINGHAM HEART  DOORSTOP RED        |[gingham, heart, , doorstop, red]         |\n",
       "STORAGE TIN VINTAGE LEAF           |[storage, tin, vintage, leaf]             |\n",
       "SET OF 4 KNICK KNACK TINS POPPIES  |[set, of, 4, knick, knack, tins, poppies] |\n",
       "POPCORN HOLDER                     |[popcorn, holder]                         |\n",
       "GROW A FLYTRAP OR SUNFLOWER IN TIN |[grow, a, flytrap, or, sunflower, in, tin]|\n",
       "AIRLINE BAG VINTAGE WORLD CHAMPION |[airline, bag, vintage, world, champion]  |\n",
       "AIRLINE BAG VINTAGE JET SET BROWN  |[airline, bag, vintage, jet, set, brown]  |\n",
       "+-----------------------------------+------------------------------------------+\n",
       "only showing top 20 rows\n",
       "\n",
       "</div>"
      ]
     },
     "metadata": {
      "application/vnd.databricks.v1+output": {
       "addedWidgets": {},
       "arguments": {},
       "data": "<div class=\"ansiout\">+-----------------------------------+------------------------------------------+\n|Description                        |DescOut                                   |\n+-----------------------------------+------------------------------------------+\n|RABBIT NIGHT LIGHT                 |[rabbit, night, light]                    |\n|DOUGHNUT LIP GLOSS                 |[doughnut, lip, gloss]                    |\n|12 MESSAGE CARDS WITH ENVELOPES    |[12, message, cards, with, envelopes]     |\n|BLUE HARMONICA IN BOX              |[blue, harmonica, in, box]                |\n|GUMBALL COAT RACK                  |[gumball, coat, rack]                     |\n|SKULLS  WATER TRANSFER TATTOOS     |[skulls, , water, transfer, tattoos]      |\n|FELTCRAFT GIRL AMELIE KIT          |[feltcraft, girl, amelie, kit]            |\n|CAMOUFLAGE LED TORCH               |[camouflage, led, torch]                  |\n|WHITE SKULL HOT WATER BOTTLE       |[white, skull, hot, water, bottle]        |\n|ENGLISH ROSE HOT WATER BOTTLE      |[english, rose, hot, water, bottle]       |\n|HOT WATER BOTTLE KEEP CALM         |[hot, water, bottle, keep, calm]          |\n|SCOTTIE DOG HOT WATER BOTTLE       |[scottie, dog, hot, water, bottle]        |\n|ROSE CARAVAN DOORSTOP              |[rose, caravan, doorstop]                 |\n|GINGHAM HEART  DOORSTOP RED        |[gingham, heart, , doorstop, red]         |\n|STORAGE TIN VINTAGE LEAF           |[storage, tin, vintage, leaf]             |\n|SET OF 4 KNICK KNACK TINS POPPIES  |[set, of, 4, knick, knack, tins, poppies] |\n|POPCORN HOLDER                     |[popcorn, holder]                         |\n|GROW A FLYTRAP OR SUNFLOWER IN TIN |[grow, a, flytrap, or, sunflower, in, tin]|\n|AIRLINE BAG VINTAGE WORLD CHAMPION |[airline, bag, vintage, world, champion]  |\n|AIRLINE BAG VINTAGE JET SET BROWN  |[airline, bag, vintage, jet, set, brown]  |\n+-----------------------------------+------------------------------------------+\nonly showing top 20 rows\n\n</div>",
       "datasetInfos": [],
       "metadata": {},
       "removedWidgets": [],
       "type": "html"
      }
     },
     "output_type": "display_data"
    }
   ],
   "source": [
    "# COMMAND ----------\n",
    "\n",
    "from pyspark.ml.feature import Tokenizer\n",
    "tkn = Tokenizer().setInputCol(\"Description\").setOutputCol(\"DescOut\")\n",
    "tokenized = tkn.transform(sales.select(\"Description\"))\n",
    "tokenized.show(20, False)"
   ]
  },
  {
   "cell_type": "markdown",
   "metadata": {
    "application/vnd.databricks.v1+cell": {
     "cellMetadata": {},
     "inputWidgets": {},
     "nuid": "c3d1ea74-26c3-49cd-8f47-cfa2ba1fd21d",
     "showTitle": false,
     "title": ""
    }
   },
   "source": [
    "We can also create a Tokenizer that is not just based white space but a regular expression with the\n",
    "RegexTokenizer. The format of the regular expression should conform to the Java Regular\n",
    "Expression (RegEx) syntax:"
   ]
  },
  {
   "cell_type": "code",
   "execution_count": 0,
   "metadata": {
    "application/vnd.databricks.v1+cell": {
     "cellMetadata": {},
     "inputWidgets": {},
     "nuid": "84cc5448-c81e-4eb5-a228-084adf691a08",
     "showTitle": false,
     "title": ""
    }
   },
   "outputs": [
    {
     "output_type": "display_data",
     "data": {
      "text/html": [
       "<style scoped>\n",
       "  .ansiout {\n",
       "    display: block;\n",
       "    unicode-bidi: embed;\n",
       "    white-space: pre-wrap;\n",
       "    word-wrap: break-word;\n",
       "    word-break: break-all;\n",
       "    font-family: \"Source Code Pro\", \"Menlo\", monospace;;\n",
       "    font-size: 13px;\n",
       "    color: #555;\n",
       "    margin-left: 4px;\n",
       "    line-height: 19px;\n",
       "  }\n",
       "</style>\n",
       "<div class=\"ansiout\">+-----------------------------------+------------------------------------------+\n",
       "Description                        |DescOut                                   |\n",
       "+-----------------------------------+------------------------------------------+\n",
       "RABBIT NIGHT LIGHT                 |[rabbit, night, light]                    |\n",
       "DOUGHNUT LIP GLOSS                 |[doughnut, lip, gloss]                    |\n",
       "12 MESSAGE CARDS WITH ENVELOPES    |[12, message, cards, with, envelopes]     |\n",
       "BLUE HARMONICA IN BOX              |[blue, harmonica, in, box]                |\n",
       "GUMBALL COAT RACK                  |[gumball, coat, rack]                     |\n",
       "SKULLS  WATER TRANSFER TATTOOS     |[skulls, water, transfer, tattoos]        |\n",
       "FELTCRAFT GIRL AMELIE KIT          |[feltcraft, girl, amelie, kit]            |\n",
       "CAMOUFLAGE LED TORCH               |[camouflage, led, torch]                  |\n",
       "WHITE SKULL HOT WATER BOTTLE       |[white, skull, hot, water, bottle]        |\n",
       "ENGLISH ROSE HOT WATER BOTTLE      |[english, rose, hot, water, bottle]       |\n",
       "HOT WATER BOTTLE KEEP CALM         |[hot, water, bottle, keep, calm]          |\n",
       "SCOTTIE DOG HOT WATER BOTTLE       |[scottie, dog, hot, water, bottle]        |\n",
       "ROSE CARAVAN DOORSTOP              |[rose, caravan, doorstop]                 |\n",
       "GINGHAM HEART  DOORSTOP RED        |[gingham, heart, doorstop, red]           |\n",
       "STORAGE TIN VINTAGE LEAF           |[storage, tin, vintage, leaf]             |\n",
       "SET OF 4 KNICK KNACK TINS POPPIES  |[set, of, 4, knick, knack, tins, poppies] |\n",
       "POPCORN HOLDER                     |[popcorn, holder]                         |\n",
       "GROW A FLYTRAP OR SUNFLOWER IN TIN |[grow, a, flytrap, or, sunflower, in, tin]|\n",
       "AIRLINE BAG VINTAGE WORLD CHAMPION |[airline, bag, vintage, world, champion]  |\n",
       "AIRLINE BAG VINTAGE JET SET BROWN  |[airline, bag, vintage, jet, set, brown]  |\n",
       "+-----------------------------------+------------------------------------------+\n",
       "only showing top 20 rows\n",
       "\n",
       "</div>"
      ]
     },
     "metadata": {
      "application/vnd.databricks.v1+output": {
       "addedWidgets": {},
       "arguments": {},
       "data": "<div class=\"ansiout\">+-----------------------------------+------------------------------------------+\n|Description                        |DescOut                                   |\n+-----------------------------------+------------------------------------------+\n|RABBIT NIGHT LIGHT                 |[rabbit, night, light]                    |\n|DOUGHNUT LIP GLOSS                 |[doughnut, lip, gloss]                    |\n|12 MESSAGE CARDS WITH ENVELOPES    |[12, message, cards, with, envelopes]     |\n|BLUE HARMONICA IN BOX              |[blue, harmonica, in, box]                |\n|GUMBALL COAT RACK                  |[gumball, coat, rack]                     |\n|SKULLS  WATER TRANSFER TATTOOS     |[skulls, water, transfer, tattoos]        |\n|FELTCRAFT GIRL AMELIE KIT          |[feltcraft, girl, amelie, kit]            |\n|CAMOUFLAGE LED TORCH               |[camouflage, led, torch]                  |\n|WHITE SKULL HOT WATER BOTTLE       |[white, skull, hot, water, bottle]        |\n|ENGLISH ROSE HOT WATER BOTTLE      |[english, rose, hot, water, bottle]       |\n|HOT WATER BOTTLE KEEP CALM         |[hot, water, bottle, keep, calm]          |\n|SCOTTIE DOG HOT WATER BOTTLE       |[scottie, dog, hot, water, bottle]        |\n|ROSE CARAVAN DOORSTOP              |[rose, caravan, doorstop]                 |\n|GINGHAM HEART  DOORSTOP RED        |[gingham, heart, doorstop, red]           |\n|STORAGE TIN VINTAGE LEAF           |[storage, tin, vintage, leaf]             |\n|SET OF 4 KNICK KNACK TINS POPPIES  |[set, of, 4, knick, knack, tins, poppies] |\n|POPCORN HOLDER                     |[popcorn, holder]                         |\n|GROW A FLYTRAP OR SUNFLOWER IN TIN |[grow, a, flytrap, or, sunflower, in, tin]|\n|AIRLINE BAG VINTAGE WORLD CHAMPION |[airline, bag, vintage, world, champion]  |\n|AIRLINE BAG VINTAGE JET SET BROWN  |[airline, bag, vintage, jet, set, brown]  |\n+-----------------------------------+------------------------------------------+\nonly showing top 20 rows\n\n</div>",
       "datasetInfos": [],
       "metadata": {},
       "removedWidgets": [],
       "type": "html"
      }
     },
     "output_type": "display_data"
    }
   ],
   "source": [
    "# COMMAND ----------\n",
    "\n",
    "from pyspark.ml.feature import RegexTokenizer\n",
    "rt = RegexTokenizer()\\\n",
    "  .setInputCol(\"Description\")\\\n",
    "  .setOutputCol(\"DescOut\")\\\n",
    "  .setPattern(\" \")\\\n",
    "  .setToLowercase(True)\n",
    "rt.transform(sales.select(\"Description\")).show(20, False)"
   ]
  },
  {
   "cell_type": "markdown",
   "metadata": {
    "application/vnd.databricks.v1+cell": {
     "cellMetadata": {},
     "inputWidgets": {},
     "nuid": "710e5f0c-22b0-4941-b8e3-a9c9c1c315a2",
     "showTitle": false,
     "title": ""
    }
   },
   "source": [
    "Another way of using the RegexTokenizer is to use it to output values matching the provided pattern\n",
    "instead of using it as a gap."
   ]
  },
  {
   "cell_type": "code",
   "execution_count": 0,
   "metadata": {
    "application/vnd.databricks.v1+cell": {
     "cellMetadata": {},
     "inputWidgets": {},
     "nuid": "9a4af153-8f14-4c46-b82a-3649d037bb05",
     "showTitle": false,
     "title": ""
    }
   },
   "outputs": [
    {
     "output_type": "display_data",
     "data": {
      "text/html": [
       "<style scoped>\n",
       "  .ansiout {\n",
       "    display: block;\n",
       "    unicode-bidi: embed;\n",
       "    white-space: pre-wrap;\n",
       "    word-wrap: break-word;\n",
       "    word-break: break-all;\n",
       "    font-family: \"Source Code Pro\", \"Menlo\", monospace;;\n",
       "    font-size: 13px;\n",
       "    color: #555;\n",
       "    margin-left: 4px;\n",
       "    line-height: 19px;\n",
       "  }\n",
       "</style>\n",
       "<div class=\"ansiout\">+-----------------------------------+------------------+\n",
       "Description                        |DescOut           |\n",
       "+-----------------------------------+------------------+\n",
       "RABBIT NIGHT LIGHT                 |[ ,  ]            |\n",
       "DOUGHNUT LIP GLOSS                 |[ ,  ,  ]         |\n",
       "12 MESSAGE CARDS WITH ENVELOPES    |[ ,  ,  ,  ]      |\n",
       "BLUE HARMONICA IN BOX              |[ ,  ,  ,  ]      |\n",
       "GUMBALL COAT RACK                  |[ ,  ]            |\n",
       "SKULLS  WATER TRANSFER TATTOOS     |[ ,  ,  ,  ,  ]   |\n",
       "FELTCRAFT GIRL AMELIE KIT          |[ ,  ,  ]         |\n",
       "CAMOUFLAGE LED TORCH               |[ ,  ]            |\n",
       "WHITE SKULL HOT WATER BOTTLE       |[ ,  ,  ,  ,  ]   |\n",
       "ENGLISH ROSE HOT WATER BOTTLE      |[ ,  ,  ,  ]      |\n",
       "HOT WATER BOTTLE KEEP CALM         |[ ,  ,  ,  ]      |\n",
       "SCOTTIE DOG HOT WATER BOTTLE       |[ ,  ,  ,  ]      |\n",
       "ROSE CARAVAN DOORSTOP              |[ ,  ]            |\n",
       "GINGHAM HEART  DOORSTOP RED        |[ ,  ,  ,  ]      |\n",
       "STORAGE TIN VINTAGE LEAF           |[ ,  ,  ]         |\n",
       "SET OF 4 KNICK KNACK TINS POPPIES  |[ ,  ,  ,  ,  ,  ]|\n",
       "POPCORN HOLDER                     |[ ]               |\n",
       "GROW A FLYTRAP OR SUNFLOWER IN TIN |[ ,  ,  ,  ,  ,  ]|\n",
       "AIRLINE BAG VINTAGE WORLD CHAMPION |[ ,  ,  ,  ,  ]   |\n",
       "AIRLINE BAG VINTAGE JET SET BROWN  |[ ,  ,  ,  ,  ]   |\n",
       "+-----------------------------------+------------------+\n",
       "only showing top 20 rows\n",
       "\n",
       "</div>"
      ]
     },
     "metadata": {
      "application/vnd.databricks.v1+output": {
       "addedWidgets": {},
       "arguments": {},
       "data": "<div class=\"ansiout\">+-----------------------------------+------------------+\n|Description                        |DescOut           |\n+-----------------------------------+------------------+\n|RABBIT NIGHT LIGHT                 |[ ,  ]            |\n|DOUGHNUT LIP GLOSS                 |[ ,  ,  ]         |\n|12 MESSAGE CARDS WITH ENVELOPES    |[ ,  ,  ,  ]      |\n|BLUE HARMONICA IN BOX              |[ ,  ,  ,  ]      |\n|GUMBALL COAT RACK                  |[ ,  ]            |\n|SKULLS  WATER TRANSFER TATTOOS     |[ ,  ,  ,  ,  ]   |\n|FELTCRAFT GIRL AMELIE KIT          |[ ,  ,  ]         |\n|CAMOUFLAGE LED TORCH               |[ ,  ]            |\n|WHITE SKULL HOT WATER BOTTLE       |[ ,  ,  ,  ,  ]   |\n|ENGLISH ROSE HOT WATER BOTTLE      |[ ,  ,  ,  ]      |\n|HOT WATER BOTTLE KEEP CALM         |[ ,  ,  ,  ]      |\n|SCOTTIE DOG HOT WATER BOTTLE       |[ ,  ,  ,  ]      |\n|ROSE CARAVAN DOORSTOP              |[ ,  ]            |\n|GINGHAM HEART  DOORSTOP RED        |[ ,  ,  ,  ]      |\n|STORAGE TIN VINTAGE LEAF           |[ ,  ,  ]         |\n|SET OF 4 KNICK KNACK TINS POPPIES  |[ ,  ,  ,  ,  ,  ]|\n|POPCORN HOLDER                     |[ ]               |\n|GROW A FLYTRAP OR SUNFLOWER IN TIN |[ ,  ,  ,  ,  ,  ]|\n|AIRLINE BAG VINTAGE WORLD CHAMPION |[ ,  ,  ,  ,  ]   |\n|AIRLINE BAG VINTAGE JET SET BROWN  |[ ,  ,  ,  ,  ]   |\n+-----------------------------------+------------------+\nonly showing top 20 rows\n\n</div>",
       "datasetInfos": [],
       "metadata": {},
       "removedWidgets": [],
       "type": "html"
      }
     },
     "output_type": "display_data"
    }
   ],
   "source": [
    "# COMMAND ----------\n",
    "\n",
    "from pyspark.ml.feature import RegexTokenizer\n",
    "rt = RegexTokenizer()\\\n",
    "  .setInputCol(\"Description\")\\\n",
    "  .setOutputCol(\"DescOut\")\\\n",
    "  .setPattern(\" \")\\\n",
    "  .setGaps(False)\\\n",
    "  .setToLowercase(True)\n",
    "rt.transform(sales.select(\"Description\")).show(20, False)"
   ]
  },
  {
   "cell_type": "markdown",
   "metadata": {
    "application/vnd.databricks.v1+cell": {
     "cellMetadata": {},
     "inputWidgets": {},
     "nuid": "47315e54-167d-47a8-96e1-98c790dc6891",
     "showTitle": false,
     "title": ""
    }
   },
   "source": [
    "### Removing Common Words"
   ]
  },
  {
   "cell_type": "code",
   "execution_count": 0,
   "metadata": {
    "application/vnd.databricks.v1+cell": {
     "cellMetadata": {},
     "inputWidgets": {},
     "nuid": "544b74d5-c27c-4803-9e6c-362ac3f7360c",
     "showTitle": false,
     "title": ""
    }
   },
   "outputs": [
    {
     "output_type": "display_data",
     "data": {
      "text/html": [
       "<style scoped>\n",
       "  .ansiout {\n",
       "    display: block;\n",
       "    unicode-bidi: embed;\n",
       "    white-space: pre-wrap;\n",
       "    word-wrap: break-word;\n",
       "    word-break: break-all;\n",
       "    font-family: \"Source Code Pro\", \"Menlo\", monospace;;\n",
       "    font-size: 13px;\n",
       "    color: #555;\n",
       "    margin-left: 4px;\n",
       "    line-height: 19px;\n",
       "  }\n",
       "</style>\n",
       "<div class=\"ansiout\">+--------------------+--------------------+-------------------------------------+\n",
       "         Description|             DescOut|StopWordsRemover_2d85f4e9edb2__output|\n",
       "+--------------------+--------------------+-------------------------------------+\n",
       "  RABBIT NIGHT LIGHT|[rabbit, night, l...|                 [rabbit, night, l...|\n",
       " DOUGHNUT LIP GLOSS |[doughnut, lip, g...|                 [doughnut, lip, g...|\n",
       "12 MESSAGE CARDS ...|[12, message, car...|                 [12, message, car...|\n",
       "BLUE HARMONICA IN...|[blue, harmonica,...|                 [blue, harmonica,...|\n",
       "   GUMBALL COAT RACK|[gumball, coat, r...|                 [gumball, coat, r...|\n",
       "SKULLS  WATER TRA...|[skulls, , water,...|                 [skulls, , water,...|\n",
       "FELTCRAFT GIRL AM...|[feltcraft, girl,...|                 [feltcraft, girl,...|\n",
       "CAMOUFLAGE LED TORCH|[camouflage, led,...|                 [camouflage, led,...|\n",
       "WHITE SKULL HOT W...|[white, skull, ho...|                 [white, skull, ho...|\n",
       "ENGLISH ROSE HOT ...|[english, rose, h...|                 [english, rose, h...|\n",
       "HOT WATER BOTTLE ...|[hot, water, bott...|                 [hot, water, bott...|\n",
       "SCOTTIE DOG HOT W...|[scottie, dog, ho...|                 [scottie, dog, ho...|\n",
       "ROSE CARAVAN DOOR...|[rose, caravan, d...|                 [rose, caravan, d...|\n",
       "GINGHAM HEART  DO...|[gingham, heart, ...|                 [gingham, heart, ...|\n",
       "STORAGE TIN VINTA...|[storage, tin, vi...|                 [storage, tin, vi...|\n",
       "SET OF 4 KNICK KN...|[set, of, 4, knic...|                 [set, 4, knick, k...|\n",
       "      POPCORN HOLDER|   [popcorn, holder]|                    [popcorn, holder]|\n",
       "GROW A FLYTRAP OR...|[grow, a, flytrap...|                 [grow, flytrap, s...|\n",
       "AIRLINE BAG VINTA...|[airline, bag, vi...|                 [airline, bag, vi...|\n",
       "AIRLINE BAG VINTA...|[airline, bag, vi...|                 [airline, bag, vi...|\n",
       "+--------------------+--------------------+-------------------------------------+\n",
       "only showing top 20 rows\n",
       "\n",
       "</div>"
      ]
     },
     "metadata": {
      "application/vnd.databricks.v1+output": {
       "addedWidgets": {},
       "arguments": {},
       "data": "<div class=\"ansiout\">+--------------------+--------------------+-------------------------------------+\n|         Description|             DescOut|StopWordsRemover_2d85f4e9edb2__output|\n+--------------------+--------------------+-------------------------------------+\n|  RABBIT NIGHT LIGHT|[rabbit, night, l...|                 [rabbit, night, l...|\n| DOUGHNUT LIP GLOSS |[doughnut, lip, g...|                 [doughnut, lip, g...|\n|12 MESSAGE CARDS ...|[12, message, car...|                 [12, message, car...|\n|BLUE HARMONICA IN...|[blue, harmonica,...|                 [blue, harmonica,...|\n|   GUMBALL COAT RACK|[gumball, coat, r...|                 [gumball, coat, r...|\n|SKULLS  WATER TRA...|[skulls, , water,...|                 [skulls, , water,...|\n|FELTCRAFT GIRL AM...|[feltcraft, girl,...|                 [feltcraft, girl,...|\n|CAMOUFLAGE LED TORCH|[camouflage, led,...|                 [camouflage, led,...|\n|WHITE SKULL HOT W...|[white, skull, ho...|                 [white, skull, ho...|\n|ENGLISH ROSE HOT ...|[english, rose, h...|                 [english, rose, h...|\n|HOT WATER BOTTLE ...|[hot, water, bott...|                 [hot, water, bott...|\n|SCOTTIE DOG HOT W...|[scottie, dog, ho...|                 [scottie, dog, ho...|\n|ROSE CARAVAN DOOR...|[rose, caravan, d...|                 [rose, caravan, d...|\n|GINGHAM HEART  DO...|[gingham, heart, ...|                 [gingham, heart, ...|\n|STORAGE TIN VINTA...|[storage, tin, vi...|                 [storage, tin, vi...|\n|SET OF 4 KNICK KN...|[set, of, 4, knic...|                 [set, 4, knick, k...|\n|      POPCORN HOLDER|   [popcorn, holder]|                    [popcorn, holder]|\n|GROW A FLYTRAP OR...|[grow, a, flytrap...|                 [grow, flytrap, s...|\n|AIRLINE BAG VINTA...|[airline, bag, vi...|                 [airline, bag, vi...|\n|AIRLINE BAG VINTA...|[airline, bag, vi...|                 [airline, bag, vi...|\n+--------------------+--------------------+-------------------------------------+\nonly showing top 20 rows\n\n</div>",
       "datasetInfos": [],
       "metadata": {},
       "removedWidgets": [],
       "type": "html"
      }
     },
     "output_type": "display_data"
    }
   ],
   "source": [
    "# COMMAND ----------\n",
    "\n",
    "from pyspark.ml.feature import StopWordsRemover\n",
    "englishStopWords = StopWordsRemover.loadDefaultStopWords(\"english\")\n",
    "stops = StopWordsRemover()\\\n",
    "  .setStopWords(englishStopWords)\\\n",
    "  .setInputCol(\"DescOut\")\n",
    "stops.transform(tokenized).show()"
   ]
  },
  {
   "cell_type": "markdown",
   "metadata": {
    "application/vnd.databricks.v1+cell": {
     "cellMetadata": {},
     "inputWidgets": {},
     "nuid": "733fb970-49c4-4483-865f-53c1c2f7b37f",
     "showTitle": false,
     "title": ""
    }
   },
   "source": [
    "### Creating Word Combinations\n",
    "With n-grams, we can look at sequences of words that commonly co-occur and use them as inputs to a\n",
    "machine learning algorithm."
   ]
  },
  {
   "cell_type": "code",
   "execution_count": 0,
   "metadata": {
    "application/vnd.databricks.v1+cell": {
     "cellMetadata": {},
     "inputWidgets": {},
     "nuid": "d108d36f-1539-417b-bedc-61c9cb3a0835",
     "showTitle": false,
     "title": ""
    }
   },
   "outputs": [
    {
     "output_type": "display_data",
     "data": {
      "text/html": [
       "<style scoped>\n",
       "  .ansiout {\n",
       "    display: block;\n",
       "    unicode-bidi: embed;\n",
       "    white-space: pre-wrap;\n",
       "    word-wrap: break-word;\n",
       "    word-break: break-all;\n",
       "    font-family: \"Source Code Pro\", \"Menlo\", monospace;;\n",
       "    font-size: 13px;\n",
       "    color: #555;\n",
       "    margin-left: 4px;\n",
       "    line-height: 19px;\n",
       "  }\n",
       "</style>\n",
       "<div class=\"ansiout\"></div>"
      ]
     },
     "metadata": {
      "application/vnd.databricks.v1+output": {
       "addedWidgets": {},
       "arguments": {},
       "data": "<div class=\"ansiout\"></div>",
       "datasetInfos": [],
       "metadata": {},
       "removedWidgets": [],
       "type": "html"
      }
     },
     "output_type": "display_data"
    }
   ],
   "source": [
    "# COMMAND ----------\n",
    "\n",
    "from pyspark.ml.feature import NGram\n",
    "unigram = NGram().setInputCol(\"DescOut\").setN(1)\n",
    "bigram = NGram().setInputCol(\"DescOut\").setN(2)"
   ]
  },
  {
   "cell_type": "code",
   "execution_count": 0,
   "metadata": {
    "application/vnd.databricks.v1+cell": {
     "cellMetadata": {},
     "inputWidgets": {},
     "nuid": "6a5e3bbe-49fc-4177-a114-a8650e608661",
     "showTitle": false,
     "title": ""
    }
   },
   "outputs": [
    {
     "output_type": "display_data",
     "data": {
      "text/html": [
       "<style scoped>\n",
       "  .ansiout {\n",
       "    display: block;\n",
       "    unicode-bidi: embed;\n",
       "    white-space: pre-wrap;\n",
       "    word-wrap: break-word;\n",
       "    word-break: break-all;\n",
       "    font-family: \"Source Code Pro\", \"Menlo\", monospace;;\n",
       "    font-size: 13px;\n",
       "    color: #555;\n",
       "    margin-left: 4px;\n",
       "    line-height: 19px;\n",
       "  }\n",
       "</style>\n",
       "<div class=\"ansiout\">+--------------------+--------------------------+\n",
       "             DescOut|NGram_248f72850d5b__output|\n",
       "+--------------------+--------------------------+\n",
       "[rabbit, night, l...|      [rabbit, night, l...|\n",
       "[doughnut, lip, g...|      [doughnut, lip, g...|\n",
       "[12, message, car...|      [12, message, car...|\n",
       "[blue, harmonica,...|      [blue, harmonica,...|\n",
       "[gumball, coat, r...|      [gumball, coat, r...|\n",
       "[skulls, , water,...|      [skulls, , water,...|\n",
       "[feltcraft, girl,...|      [feltcraft, girl,...|\n",
       "[camouflage, led,...|      [camouflage, led,...|\n",
       "[white, skull, ho...|      [white, skull, ho...|\n",
       "[english, rose, h...|      [english, rose, h...|\n",
       "[hot, water, bott...|      [hot, water, bott...|\n",
       "[scottie, dog, ho...|      [scottie, dog, ho...|\n",
       "[rose, caravan, d...|      [rose, caravan, d...|\n",
       "[gingham, heart, ...|      [gingham, heart, ...|\n",
       "[storage, tin, vi...|      [storage, tin, vi...|\n",
       "[set, of, 4, knic...|      [set, of, 4, knic...|\n",
       "   [popcorn, holder]|         [popcorn, holder]|\n",
       "[grow, a, flytrap...|      [grow, a, flytrap...|\n",
       "[airline, bag, vi...|      [airline, bag, vi...|\n",
       "[airline, bag, vi...|      [airline, bag, vi...|\n",
       "+--------------------+--------------------------+\n",
       "only showing top 20 rows\n",
       "\n",
       "</div>"
      ]
     },
     "metadata": {
      "application/vnd.databricks.v1+output": {
       "addedWidgets": {},
       "arguments": {},
       "data": "<div class=\"ansiout\">+--------------------+--------------------------+\n|             DescOut|NGram_248f72850d5b__output|\n+--------------------+--------------------------+\n|[rabbit, night, l...|      [rabbit, night, l...|\n|[doughnut, lip, g...|      [doughnut, lip, g...|\n|[12, message, car...|      [12, message, car...|\n|[blue, harmonica,...|      [blue, harmonica,...|\n|[gumball, coat, r...|      [gumball, coat, r...|\n|[skulls, , water,...|      [skulls, , water,...|\n|[feltcraft, girl,...|      [feltcraft, girl,...|\n|[camouflage, led,...|      [camouflage, led,...|\n|[white, skull, ho...|      [white, skull, ho...|\n|[english, rose, h...|      [english, rose, h...|\n|[hot, water, bott...|      [hot, water, bott...|\n|[scottie, dog, ho...|      [scottie, dog, ho...|\n|[rose, caravan, d...|      [rose, caravan, d...|\n|[gingham, heart, ...|      [gingham, heart, ...|\n|[storage, tin, vi...|      [storage, tin, vi...|\n|[set, of, 4, knic...|      [set, of, 4, knic...|\n|   [popcorn, holder]|         [popcorn, holder]|\n|[grow, a, flytrap...|      [grow, a, flytrap...|\n|[airline, bag, vi...|      [airline, bag, vi...|\n|[airline, bag, vi...|      [airline, bag, vi...|\n+--------------------+--------------------------+\nonly showing top 20 rows\n\n</div>",
       "datasetInfos": [],
       "metadata": {},
       "removedWidgets": [],
       "type": "html"
      }
     },
     "output_type": "display_data"
    }
   ],
   "source": [
    "unigram.transform(tokenized.select(\"DescOut\")).show()"
   ]
  },
  {
   "cell_type": "code",
   "execution_count": 0,
   "metadata": {
    "application/vnd.databricks.v1+cell": {
     "cellMetadata": {},
     "inputWidgets": {},
     "nuid": "4b2945c0-df1c-46b7-b468-31b4400e8e68",
     "showTitle": false,
     "title": ""
    }
   },
   "outputs": [
    {
     "output_type": "stream",
     "name": "stdout",
     "output_type": "stream",
     "text": [
      "+--------------------+--------------------------+\n|             DescOut|NGram_08853e7c5d02__output|\n+--------------------+--------------------------+\n|[rabbit, night, l...|      [rabbit night, ni...|\n|[doughnut, lip, g...|      [doughnut lip, li...|\n|[12, message, car...|      [12 message, mess...|\n|[blue, harmonica,...|      [blue harmonica, ...|\n|[gumball, coat, r...|      [gumball coat, co...|\n|[skulls, , water,...|      [skulls ,  water,...|\n|[feltcraft, girl,...|      [feltcraft girl, ...|\n|[camouflage, led,...|      [camouflage led, ...|\n|[white, skull, ho...|      [white skull, sku...|\n|[english, rose, h...|      [english rose, ro...|\n|[hot, water, bott...|      [hot water, water...|\n|[scottie, dog, ho...|      [scottie dog, dog...|\n|[rose, caravan, d...|      [rose caravan, ca...|\n|[gingham, heart, ...|      [gingham heart, h...|\n|[storage, tin, vi...|      [storage tin, tin...|\n|[set, of, 4, knic...|      [set of, of 4, 4 ...|\n|   [popcorn, holder]|          [popcorn holder]|\n|[grow, a, flytrap...|      [grow a, a flytra...|\n|[airline, bag, vi...|      [airline bag, bag...|\n|[airline, bag, vi...|      [airline bag, bag...|\n+--------------------+--------------------------+\nonly showing top 20 rows\n\n"
     ]
    }
   ],
   "source": [
    "bigram.transform(tokenized.select(\"DescOut\")).show()"
   ]
  },
  {
   "cell_type": "markdown",
   "metadata": {
    "application/vnd.databricks.v1+cell": {
     "cellMetadata": {},
     "inputWidgets": {},
     "nuid": "6061fc1d-059a-4ab3-bcea-8a33a62563b5",
     "showTitle": false,
     "title": ""
    }
   },
   "source": [
    "### Converting Words into Numerical Representations"
   ]
  },
  {
   "cell_type": "code",
   "execution_count": 0,
   "metadata": {
    "application/vnd.databricks.v1+cell": {
     "cellMetadata": {},
     "inputWidgets": {},
     "nuid": "c664014a-78b8-427a-9ce8-a18bc1f97c74",
     "showTitle": false,
     "title": ""
    }
   },
   "outputs": [
    {
     "output_type": "display_data",
     "data": {
      "text/html": [
       "<style scoped>\n",
       "  .ansiout {\n",
       "    display: block;\n",
       "    unicode-bidi: embed;\n",
       "    white-space: pre-wrap;\n",
       "    word-wrap: break-word;\n",
       "    word-break: break-all;\n",
       "    font-family: \"Source Code Pro\", \"Menlo\", monospace;;\n",
       "    font-size: 13px;\n",
       "    color: #555;\n",
       "    margin-left: 4px;\n",
       "    line-height: 19px;\n",
       "  }\n",
       "</style>\n",
       "<div class=\"ansiout\"></div>"
      ]
     },
     "metadata": {
      "application/vnd.databricks.v1+output": {
       "addedWidgets": {},
       "arguments": {},
       "data": "<div class=\"ansiout\"></div>",
       "datasetInfos": [],
       "metadata": {},
       "removedWidgets": [],
       "type": "html"
      }
     },
     "output_type": "display_data"
    }
   ],
   "source": [
    "# COMMAND ----------\n",
    "\n",
    "from pyspark.ml.feature import CountVectorizer\n",
    "cv = CountVectorizer()\\\n",
    "  .setInputCol(\"DescOut\")\\\n",
    "  .setOutputCol(\"countVec\")\\\n",
    "  .setVocabSize(500)\\\n",
    "  .setMinTF(1)\\\n",
    "  .setMinDF(2)\n",
    "    "
   ]
  },
  {
   "cell_type": "code",
   "execution_count": 0,
   "metadata": {
    "application/vnd.databricks.v1+cell": {
     "cellMetadata": {},
     "inputWidgets": {},
     "nuid": "dbc1d78e-11c8-4f3a-b2e2-bcfab853a142",
     "showTitle": false,
     "title": ""
    }
   },
   "outputs": [
    {
     "output_type": "display_data",
     "data": {
      "text/html": [
       "<style scoped>\n",
       "  .ansiout {\n",
       "    display: block;\n",
       "    unicode-bidi: embed;\n",
       "    white-space: pre-wrap;\n",
       "    word-wrap: break-word;\n",
       "    word-break: break-all;\n",
       "    font-family: \"Source Code Pro\", \"Menlo\", monospace;;\n",
       "    font-size: 13px;\n",
       "    color: #555;\n",
       "    margin-left: 4px;\n",
       "    line-height: 19px;\n",
       "  }\n",
       "</style>\n",
       "<div class=\"ansiout\"></div>"
      ]
     },
     "metadata": {
      "application/vnd.databricks.v1+output": {
       "addedWidgets": {},
       "arguments": {},
       "data": "<div class=\"ansiout\"></div>",
       "datasetInfos": [],
       "metadata": {},
       "removedWidgets": [],
       "type": "html"
      }
     },
     "output_type": "display_data"
    }
   ],
   "source": [
    "fittedCV = cv.fit(tokenized)"
   ]
  },
  {
   "cell_type": "code",
   "execution_count": 0,
   "metadata": {
    "application/vnd.databricks.v1+cell": {
     "cellMetadata": {},
     "inputWidgets": {},
     "nuid": "ad0ba447-2272-4bff-a3df-d46ab8947f40",
     "showTitle": false,
     "title": ""
    }
   },
   "outputs": [
    {
     "output_type": "display_data",
     "data": {
      "text/html": [
       "<style scoped>\n",
       "  .ansiout {\n",
       "    display: block;\n",
       "    unicode-bidi: embed;\n",
       "    white-space: pre-wrap;\n",
       "    word-wrap: break-word;\n",
       "    word-break: break-all;\n",
       "    font-family: \"Source Code Pro\", \"Menlo\", monospace;;\n",
       "    font-size: 13px;\n",
       "    color: #555;\n",
       "    margin-left: 4px;\n",
       "    line-height: 19px;\n",
       "  }\n",
       "</style>\n",
       "<div class=\"ansiout\">+--------------------+--------------------+--------------------+\n",
       "         Description|             DescOut|            countVec|\n",
       "+--------------------+--------------------+--------------------+\n",
       "  RABBIT NIGHT LIGHT|[rabbit, night, l...|(500,[149,185,212...|\n",
       " DOUGHNUT LIP GLOSS |[doughnut, lip, g...|(500,[462,463,491...|\n",
       "12 MESSAGE CARDS ...|[12, message, car...|(500,[35,41,166],...|\n",
       "BLUE HARMONICA IN...|[blue, harmonica,...|(500,[10,16,36,35...|\n",
       "   GUMBALL COAT RACK|[gumball, coat, r...|(500,[228,280,407...|\n",
       "SKULLS  WATER TRA...|[skulls, , water,...|(500,[11,40,133],...|\n",
       "FELTCRAFT GIRL AM...|[feltcraft, girl,...|(500,[60,64,69],[...|\n",
       "CAMOUFLAGE LED TORCH|[camouflage, led,...|   (500,[264],[1.0])|\n",
       "WHITE SKULL HOT W...|[white, skull, ho...|(500,[15,34,39,40...|\n",
       "ENGLISH ROSE HOT ...|[english, rose, h...|(500,[34,39,40,46...|\n",
       "HOT WATER BOTTLE ...|[hot, water, bott...|(500,[34,39,40,14...|\n",
       "SCOTTIE DOG HOT W...|[scottie, dog, ho...|(500,[34,39,40,14...|\n",
       "ROSE CARAVAN DOOR...|[rose, caravan, d...|(500,[46,297],[1....|\n",
       "GINGHAM HEART  DO...|[gingham, heart, ...|(500,[3,4,11,143,...|\n",
       "STORAGE TIN VINTA...|[storage, tin, vi...|(500,[6,45,109,16...|\n",
       "SET OF 4 KNICK KN...|[set, of, 4, knic...|(500,[0,1,49,70,3...|\n",
       "      POPCORN HOLDER|   [popcorn, holder]|(500,[21,296],[1....|\n",
       "GROW A FLYTRAP OR...|[grow, a, flytrap...|(500,[36,45,378],...|\n",
       "AIRLINE BAG VINTA...|[airline, bag, vi...|(500,[2,6,328],[1...|\n",
       "AIRLINE BAG VINTA...|[airline, bag, vi...|(500,[0,2,6,328,4...|\n",
       "+--------------------+--------------------+--------------------+\n",
       "only showing top 20 rows\n",
       "\n",
       "</div>"
      ]
     },
     "metadata": {
      "application/vnd.databricks.v1+output": {
       "addedWidgets": {},
       "arguments": {},
       "data": "<div class=\"ansiout\">+--------------------+--------------------+--------------------+\n|         Description|             DescOut|            countVec|\n+--------------------+--------------------+--------------------+\n|  RABBIT NIGHT LIGHT|[rabbit, night, l...|(500,[149,185,212...|\n| DOUGHNUT LIP GLOSS |[doughnut, lip, g...|(500,[462,463,491...|\n|12 MESSAGE CARDS ...|[12, message, car...|(500,[35,41,166],...|\n|BLUE HARMONICA IN...|[blue, harmonica,...|(500,[10,16,36,35...|\n|   GUMBALL COAT RACK|[gumball, coat, r...|(500,[228,280,407...|\n|SKULLS  WATER TRA...|[skulls, , water,...|(500,[11,40,133],...|\n|FELTCRAFT GIRL AM...|[feltcraft, girl,...|(500,[60,64,69],[...|\n|CAMOUFLAGE LED TORCH|[camouflage, led,...|   (500,[264],[1.0])|\n|WHITE SKULL HOT W...|[white, skull, ho...|(500,[15,34,39,40...|\n|ENGLISH ROSE HOT ...|[english, rose, h...|(500,[34,39,40,46...|\n|HOT WATER BOTTLE ...|[hot, water, bott...|(500,[34,39,40,14...|\n|SCOTTIE DOG HOT W...|[scottie, dog, ho...|(500,[34,39,40,14...|\n|ROSE CARAVAN DOOR...|[rose, caravan, d...|(500,[46,297],[1....|\n|GINGHAM HEART  DO...|[gingham, heart, ...|(500,[3,4,11,143,...|\n|STORAGE TIN VINTA...|[storage, tin, vi...|(500,[6,45,109,16...|\n|SET OF 4 KNICK KN...|[set, of, 4, knic...|(500,[0,1,49,70,3...|\n|      POPCORN HOLDER|   [popcorn, holder]|(500,[21,296],[1....|\n|GROW A FLYTRAP OR...|[grow, a, flytrap...|(500,[36,45,378],...|\n|AIRLINE BAG VINTA...|[airline, bag, vi...|(500,[2,6,328],[1...|\n|AIRLINE BAG VINTA...|[airline, bag, vi...|(500,[0,2,6,328,4...|\n+--------------------+--------------------+--------------------+\nonly showing top 20 rows\n\n</div>",
       "datasetInfos": [],
       "metadata": {},
       "removedWidgets": [],
       "type": "html"
      }
     },
     "output_type": "display_data"
    }
   ],
   "source": [
    "fittedCV.transform(tokenized).show()"
   ]
  },
  {
   "cell_type": "markdown",
   "metadata": {
    "application/vnd.databricks.v1+cell": {
     "cellMetadata": {},
     "inputWidgets": {},
     "nuid": "f232b95f-5c40-4ab6-8586-d9480b3a469c",
     "showTitle": false,
     "title": ""
    }
   },
   "source": [
    "### Term frequency–inverse document frequency"
   ]
  },
  {
   "cell_type": "code",
   "execution_count": 0,
   "metadata": {
    "application/vnd.databricks.v1+cell": {
     "cellMetadata": {},
     "inputWidgets": {},
     "nuid": "e1730c00-5986-4002-bf0e-aed51c18b09d",
     "showTitle": false,
     "title": ""
    }
   },
   "outputs": [
    {
     "output_type": "display_data",
     "data": {
      "text/html": [
       "<style scoped>\n",
       "  .ansiout {\n",
       "    display: block;\n",
       "    unicode-bidi: embed;\n",
       "    white-space: pre-wrap;\n",
       "    word-wrap: break-word;\n",
       "    word-break: break-all;\n",
       "    font-family: \"Source Code Pro\", \"Menlo\", monospace;;\n",
       "    font-size: 13px;\n",
       "    color: #555;\n",
       "    margin-left: 4px;\n",
       "    line-height: 19px;\n",
       "  }\n",
       "</style>\n",
       "<div class=\"ansiout\">+---------------------------------------+\n",
       "DescOut                                |\n",
       "+---------------------------------------+\n",
       "[gingham, heart, , doorstop, red]      |\n",
       "[red, floral, feltcraft, shoulder, bag]|\n",
       "[alarm, clock, bakelike, red]          |\n",
       "[pin, cushion, babushka, red]          |\n",
       "[red, retrospot, mini, cases]          |\n",
       "[red, kitchen, scales]                 |\n",
       "[gingham, heart, , doorstop, red]      |\n",
       "[large, red, babushka, notebook]       |\n",
       "[red, retrospot, oven, glove]          |\n",
       "[red, retrospot, plate]                |\n",
       "+---------------------------------------+\n",
       "\n",
       "</div>"
      ]
     },
     "metadata": {
      "application/vnd.databricks.v1+output": {
       "addedWidgets": {},
       "arguments": {},
       "data": "<div class=\"ansiout\">+---------------------------------------+\n|DescOut                                |\n+---------------------------------------+\n|[gingham, heart, , doorstop, red]      |\n|[red, floral, feltcraft, shoulder, bag]|\n|[alarm, clock, bakelike, red]          |\n|[pin, cushion, babushka, red]          |\n|[red, retrospot, mini, cases]          |\n|[red, kitchen, scales]                 |\n|[gingham, heart, , doorstop, red]      |\n|[large, red, babushka, notebook]       |\n|[red, retrospot, oven, glove]          |\n|[red, retrospot, plate]                |\n+---------------------------------------+\n\n</div>",
       "datasetInfos": [],
       "metadata": {},
       "removedWidgets": [],
       "type": "html"
      }
     },
     "output_type": "display_data"
    }
   ],
   "source": [
    "# COMMAND ----------\n",
    "\n",
    "tfIdfIn = tokenized\\\n",
    "  .where(\"array_contains(DescOut, 'red')\")\\\n",
    "  .select(\"DescOut\")\\\n",
    "  .limit(10)\n",
    "tfIdfIn.show(10, False)"
   ]
  },
  {
   "cell_type": "code",
   "execution_count": 0,
   "metadata": {
    "application/vnd.databricks.v1+cell": {
     "cellMetadata": {},
     "inputWidgets": {},
     "nuid": "5f995495-1f74-4994-a33a-a196c6c17f99",
     "showTitle": false,
     "title": ""
    }
   },
   "outputs": [
    {
     "output_type": "display_data",
     "data": {
      "text/html": [
       "<style scoped>\n",
       "  .ansiout {\n",
       "    display: block;\n",
       "    unicode-bidi: embed;\n",
       "    white-space: pre-wrap;\n",
       "    word-wrap: break-word;\n",
       "    word-break: break-all;\n",
       "    font-family: \"Source Code Pro\", \"Menlo\", monospace;;\n",
       "    font-size: 13px;\n",
       "    color: #555;\n",
       "    margin-left: 4px;\n",
       "    line-height: 19px;\n",
       "  }\n",
       "</style>\n",
       "<div class=\"ansiout\"></div>"
      ]
     },
     "metadata": {
      "application/vnd.databricks.v1+output": {
       "addedWidgets": {},
       "arguments": {},
       "data": "<div class=\"ansiout\"></div>",
       "datasetInfos": [],
       "metadata": {},
       "removedWidgets": [],
       "type": "html"
      }
     },
     "output_type": "display_data"
    }
   ],
   "source": [
    "# COMMAND ----------\n",
    "\n",
    "from pyspark.ml.feature import HashingTF, IDF\n",
    "tf = HashingTF()\\\n",
    "  .setInputCol(\"DescOut\")\\\n",
    "  .setOutputCol(\"TFOut\")\\\n",
    "  .setNumFeatures(10000)\n",
    "idf = IDF()\\\n",
    "  .setInputCol(\"TFOut\")\\\n",
    "  .setOutputCol(\"IDFOut\")\\\n",
    "  .setMinDocFreq(2)"
   ]
  },
  {
   "cell_type": "code",
   "execution_count": 0,
   "metadata": {
    "application/vnd.databricks.v1+cell": {
     "cellMetadata": {},
     "inputWidgets": {},
     "nuid": "6dbb0a7e-4e54-44f1-ae4f-953744dca47e",
     "showTitle": false,
     "title": ""
    }
   },
   "outputs": [
    {
     "output_type": "display_data",
     "data": {
      "text/html": [
       "<style scoped>\n",
       "  .ansiout {\n",
       "    display: block;\n",
       "    unicode-bidi: embed;\n",
       "    white-space: pre-wrap;\n",
       "    word-wrap: break-word;\n",
       "    word-break: break-all;\n",
       "    font-family: \"Source Code Pro\", \"Menlo\", monospace;;\n",
       "    font-size: 13px;\n",
       "    color: #555;\n",
       "    margin-left: 4px;\n",
       "    line-height: 19px;\n",
       "  }\n",
       "</style>\n",
       "<div class=\"ansiout\">+---------------------------------------+-----------------------------------------------------+-----------------------------------------------------------------------------------------------------------------+\n",
       "DescOut                                |TFOut                                                |IDFOut                                                                                                           |\n",
       "+---------------------------------------+-----------------------------------------------------+-----------------------------------------------------------------------------------------------------------------+\n",
       "[gingham, heart, , doorstop, red]      |(10000,[52,804,3372,6594,9808],[1.0,1.0,1.0,1.0,1.0])|(10000,[52,804,3372,6594,9808],[0.0,1.2992829841302609,1.2992829841302609,1.2992829841302609,1.2992829841302609])|\n",
       "[red, floral, feltcraft, shoulder, bag]|(10000,[50,52,415,6756,8005],[1.0,1.0,1.0,1.0,1.0])  |(10000,[50,52,415,6756,8005],[0.0,0.0,0.0,0.0,0.0])                                                              |\n",
       "[alarm, clock, bakelike, red]          |(10000,[52,4995,8737,9001],[1.0,1.0,1.0,1.0])        |(10000,[52,4995,8737,9001],[0.0,0.0,0.0,0.0])                                                                    |\n",
       "[pin, cushion, babushka, red]          |(10000,[52,610,2490,7153],[1.0,1.0,1.0,1.0])         |(10000,[52,610,2490,7153],[0.0,0.0,0.0,1.2992829841302609])                                                      |\n",
       "[red, retrospot, mini, cases]          |(10000,[52,547,6703,8448],[1.0,1.0,1.0,1.0])         |(10000,[52,547,6703,8448],[0.0,0.0,0.0,1.0116009116784799])                                                      |\n",
       "[red, kitchen, scales]                 |(10000,[52,756,6452],[1.0,1.0,1.0])                  |(10000,[52,756,6452],[0.0,0.0,0.0])                                                                              |\n",
       "[gingham, heart, , doorstop, red]      |(10000,[52,804,3372,6594,9808],[1.0,1.0,1.0,1.0,1.0])|(10000,[52,804,3372,6594,9808],[0.0,1.2992829841302609,1.2992829841302609,1.2992829841302609,1.2992829841302609])|\n",
       "[large, red, babushka, notebook]       |(10000,[52,2787,7022,7153],[1.0,1.0,1.0,1.0])        |(10000,[52,2787,7022,7153],[0.0,0.0,0.0,1.2992829841302609])                                                     |\n",
       "[red, retrospot, oven, glove]          |(10000,[52,8242,8448,8667],[1.0,1.0,1.0,1.0])        |(10000,[52,8242,8448,8667],[0.0,0.0,1.0116009116784799,0.0])                                                     |\n",
       "[red, retrospot, plate]                |(10000,[52,4925,8448],[1.0,1.0,1.0])                 |(10000,[52,4925,8448],[0.0,0.0,1.0116009116784799])                                                              |\n",
       "+---------------------------------------+-----------------------------------------------------+-----------------------------------------------------------------------------------------------------------------+\n",
       "\n",
       "</div>"
      ]
     },
     "metadata": {
      "application/vnd.databricks.v1+output": {
       "addedWidgets": {},
       "arguments": {},
       "data": "<div class=\"ansiout\">+---------------------------------------+-----------------------------------------------------+-----------------------------------------------------------------------------------------------------------------+\n|DescOut                                |TFOut                                                |IDFOut                                                                                                           |\n+---------------------------------------+-----------------------------------------------------+-----------------------------------------------------------------------------------------------------------------+\n|[gingham, heart, , doorstop, red]      |(10000,[52,804,3372,6594,9808],[1.0,1.0,1.0,1.0,1.0])|(10000,[52,804,3372,6594,9808],[0.0,1.2992829841302609,1.2992829841302609,1.2992829841302609,1.2992829841302609])|\n|[red, floral, feltcraft, shoulder, bag]|(10000,[50,52,415,6756,8005],[1.0,1.0,1.0,1.0,1.0])  |(10000,[50,52,415,6756,8005],[0.0,0.0,0.0,0.0,0.0])                                                              |\n|[alarm, clock, bakelike, red]          |(10000,[52,4995,8737,9001],[1.0,1.0,1.0,1.0])        |(10000,[52,4995,8737,9001],[0.0,0.0,0.0,0.0])                                                                    |\n|[pin, cushion, babushka, red]          |(10000,[52,610,2490,7153],[1.0,1.0,1.0,1.0])         |(10000,[52,610,2490,7153],[0.0,0.0,0.0,1.2992829841302609])                                                      |\n|[red, retrospot, mini, cases]          |(10000,[52,547,6703,8448],[1.0,1.0,1.0,1.0])         |(10000,[52,547,6703,8448],[0.0,0.0,0.0,1.0116009116784799])                                                      |\n|[red, kitchen, scales]                 |(10000,[52,756,6452],[1.0,1.0,1.0])                  |(10000,[52,756,6452],[0.0,0.0,0.0])                                                                              |\n|[gingham, heart, , doorstop, red]      |(10000,[52,804,3372,6594,9808],[1.0,1.0,1.0,1.0,1.0])|(10000,[52,804,3372,6594,9808],[0.0,1.2992829841302609,1.2992829841302609,1.2992829841302609,1.2992829841302609])|\n|[large, red, babushka, notebook]       |(10000,[52,2787,7022,7153],[1.0,1.0,1.0,1.0])        |(10000,[52,2787,7022,7153],[0.0,0.0,0.0,1.2992829841302609])                                                     |\n|[red, retrospot, oven, glove]          |(10000,[52,8242,8448,8667],[1.0,1.0,1.0,1.0])        |(10000,[52,8242,8448,8667],[0.0,0.0,1.0116009116784799,0.0])                                                     |\n|[red, retrospot, plate]                |(10000,[52,4925,8448],[1.0,1.0,1.0])                 |(10000,[52,4925,8448],[0.0,0.0,1.0116009116784799])                                                              |\n+---------------------------------------+-----------------------------------------------------+-----------------------------------------------------------------------------------------------------------------+\n\n</div>",
       "datasetInfos": [],
       "metadata": {},
       "removedWidgets": [],
       "type": "html"
      }
     },
     "output_type": "display_data"
    }
   ],
   "source": [
    "# COMMAND ----------\n",
    "\n",
    "idf.fit(tf.transform(tfIdfIn)).transform(tf.transform(tfIdfIn)).show(10, False)"
   ]
  },
  {
   "cell_type": "markdown",
   "metadata": {
    "application/vnd.databricks.v1+cell": {
     "cellMetadata": {},
     "inputWidgets": {},
     "nuid": "8e0d66e5-24d2-48ce-a0cc-000a3fe5d0f3",
     "showTitle": false,
     "title": ""
    }
   },
   "source": [
    "### Word2Vec\n",
    "\n",
    "Word2Vec is notable for capturing relationships between words based on their semantics. \n",
    "Here’s a simple example from the documentation:"
   ]
  },
  {
   "cell_type": "code",
   "execution_count": 0,
   "metadata": {
    "application/vnd.databricks.v1+cell": {
     "cellMetadata": {},
     "inputWidgets": {},
     "nuid": "d94dd3d8-7b6f-4747-9c48-6315433af983",
     "showTitle": false,
     "title": ""
    }
   },
   "outputs": [
    {
     "output_type": "display_data",
     "data": {
      "text/html": [
       "<style scoped>\n",
       "  .ansiout {\n",
       "    display: block;\n",
       "    unicode-bidi: embed;\n",
       "    white-space: pre-wrap;\n",
       "    word-wrap: break-word;\n",
       "    word-break: break-all;\n",
       "    font-family: \"Source Code Pro\", \"Menlo\", monospace;;\n",
       "    font-size: 13px;\n",
       "    color: #555;\n",
       "    margin-left: 4px;\n",
       "    line-height: 19px;\n",
       "  }\n",
       "</style>\n",
       "<div class=\"ansiout\"></div>"
      ]
     },
     "metadata": {
      "application/vnd.databricks.v1+output": {
       "addedWidgets": {},
       "arguments": {},
       "data": "<div class=\"ansiout\"></div>",
       "datasetInfos": [],
       "metadata": {},
       "removedWidgets": [],
       "type": "html"
      }
     },
     "output_type": "display_data"
    }
   ],
   "source": [
    "# COMMAND ----------\n",
    "\n",
    "from pyspark.ml.feature import Word2Vec\n",
    "# Input data: Each row is a bag of words from a sentence or document.\n",
    "documentDF = spark.createDataFrame([\n",
    "    (\"Hi I heard about Spark\".split(\" \"), ),\n",
    "    (\"I wish Java could use case classes\".split(\" \"), ),\n",
    "    (\"Logistic regression models are neat\".split(\" \"), )\n",
    "], [\"text\"])"
   ]
  },
  {
   "cell_type": "code",
   "execution_count": 0,
   "metadata": {
    "application/vnd.databricks.v1+cell": {
     "cellMetadata": {},
     "inputWidgets": {},
     "nuid": "709c7acc-31a0-477b-af73-ff995ac898dd",
     "showTitle": false,
     "title": ""
    }
   },
   "outputs": [
    {
     "output_type": "display_data",
     "data": {
      "text/html": [
       "<style scoped>\n",
       "  .ansiout {\n",
       "    display: block;\n",
       "    unicode-bidi: embed;\n",
       "    white-space: pre-wrap;\n",
       "    word-wrap: break-word;\n",
       "    word-break: break-all;\n",
       "    font-family: \"Source Code Pro\", \"Menlo\", monospace;;\n",
       "    font-size: 13px;\n",
       "    color: #555;\n",
       "    margin-left: 4px;\n",
       "    line-height: 19px;\n",
       "  }\n",
       "</style>\n",
       "<div class=\"ansiout\"></div>"
      ]
     },
     "metadata": {
      "application/vnd.databricks.v1+output": {
       "addedWidgets": {},
       "arguments": {},
       "data": "<div class=\"ansiout\"></div>",
       "datasetInfos": [],
       "metadata": {},
       "removedWidgets": [],
       "type": "html"
      }
     },
     "output_type": "display_data"
    }
   ],
   "source": [
    "# Learn a mapping from words to Vectors.\n",
    "word2Vec = Word2Vec(vectorSize=3, minCount=0, inputCol=\"text\",\n",
    "  outputCol=\"result\")"
   ]
  },
  {
   "cell_type": "code",
   "execution_count": 0,
   "metadata": {
    "application/vnd.databricks.v1+cell": {
     "cellMetadata": {},
     "inputWidgets": {},
     "nuid": "0ab67e3e-33a9-4f55-ab26-6d6a3997d247",
     "showTitle": false,
     "title": ""
    }
   },
   "outputs": [
    {
     "output_type": "display_data",
     "data": {
      "text/html": [
       "<style scoped>\n",
       "  .ansiout {\n",
       "    display: block;\n",
       "    unicode-bidi: embed;\n",
       "    white-space: pre-wrap;\n",
       "    word-wrap: break-word;\n",
       "    word-break: break-all;\n",
       "    font-family: \"Source Code Pro\", \"Menlo\", monospace;;\n",
       "    font-size: 13px;\n",
       "    color: #555;\n",
       "    margin-left: 4px;\n",
       "    line-height: 19px;\n",
       "  }\n",
       "</style>\n",
       "<div class=\"ansiout\"></div>"
      ]
     },
     "metadata": {
      "application/vnd.databricks.v1+output": {
       "addedWidgets": {},
       "arguments": {},
       "data": "<div class=\"ansiout\"></div>",
       "datasetInfos": [],
       "metadata": {},
       "removedWidgets": [],
       "type": "html"
      }
     },
     "output_type": "display_data"
    }
   ],
   "source": [
    "model = word2Vec.fit(documentDF)"
   ]
  },
  {
   "cell_type": "code",
   "execution_count": 0,
   "metadata": {
    "application/vnd.databricks.v1+cell": {
     "cellMetadata": {},
     "inputWidgets": {},
     "nuid": "fc6b0081-6b48-42ca-958c-a421c09b71f9",
     "showTitle": false,
     "title": ""
    }
   },
   "outputs": [
    {
     "output_type": "display_data",
     "data": {
      "text/html": [
       "<style scoped>\n",
       "  .ansiout {\n",
       "    display: block;\n",
       "    unicode-bidi: embed;\n",
       "    white-space: pre-wrap;\n",
       "    word-wrap: break-word;\n",
       "    word-break: break-all;\n",
       "    font-family: \"Source Code Pro\", \"Menlo\", monospace;;\n",
       "    font-size: 13px;\n",
       "    color: #555;\n",
       "    margin-left: 4px;\n",
       "    line-height: 19px;\n",
       "  }\n",
       "</style>\n",
       "<div class=\"ansiout\">Text: [Hi, I, heard, about, Spark] =&gt; \n",
       "Vector: [0.012253652513027192,-0.06464210934937001,-0.007541720569133759]\n",
       "\n",
       "Text: [I, wish, Java, could, use, case, classes] =&gt; \n",
       "Vector: [0.051534443129120124,0.025855228970093385,0.02741005045494863]\n",
       "\n",
       "Text: [Logistic, regression, models, are, neat] =&gt; \n",
       "Vector: [-0.0655867613852024,0.020301107689738276,-0.0846104308962822]\n",
       "\n",
       "</div>"
      ]
     },
     "metadata": {
      "application/vnd.databricks.v1+output": {
       "addedWidgets": {},
       "arguments": {},
       "data": "<div class=\"ansiout\">Text: [Hi, I, heard, about, Spark] =&gt; \nVector: [0.012253652513027192,-0.06464210934937001,-0.007541720569133759]\n\nText: [I, wish, Java, could, use, case, classes] =&gt; \nVector: [0.051534443129120124,0.025855228970093385,0.02741005045494863]\n\nText: [Logistic, regression, models, are, neat] =&gt; \nVector: [-0.0655867613852024,0.020301107689738276,-0.0846104308962822]\n\n</div>",
       "datasetInfos": [],
       "metadata": {},
       "removedWidgets": [],
       "type": "html"
      }
     },
     "output_type": "display_data"
    }
   ],
   "source": [
    "result = model.transform(documentDF)\n",
    "for row in result.collect():\n",
    "    text, vector = row\n",
    "    print(\"Text: [%s] => \\nVector: %s\\n\" % (\", \".join(text), str(vector)))"
   ]
  },
  {
   "cell_type": "markdown",
   "metadata": {
    "application/vnd.databricks.v1+cell": {
     "cellMetadata": {},
     "inputWidgets": {},
     "nuid": "14b34027-3c61-441f-b7e2-c856996d4034",
     "showTitle": false,
     "title": ""
    }
   },
   "source": [
    "## Feature Manipulation\n",
    "\n",
    "### PCA\n",
    "Principal Components Analysis (PCA) is a mathematical technique for finding the most important\n",
    "aspects of our data (the principal components). It changes the feature representation of our data by\n",
    "creating a new set of features (“aspects”). Each new feature is a combination of the original features.\n",
    "\n",
    "You’d want to use PCA if you have a large input dataset"
   ]
  },
  {
   "cell_type": "code",
   "execution_count": 0,
   "metadata": {
    "application/vnd.databricks.v1+cell": {
     "cellMetadata": {},
     "inputWidgets": {},
     "nuid": "4a442c2e-4777-4747-bc33-c4fe391b38f5",
     "showTitle": false,
     "title": ""
    }
   },
   "outputs": [
    {
     "output_type": "display_data",
     "data": {
      "text/html": [
       "<style scoped>\n",
       "  .ansiout {\n",
       "    display: block;\n",
       "    unicode-bidi: embed;\n",
       "    white-space: pre-wrap;\n",
       "    word-wrap: break-word;\n",
       "    word-break: break-all;\n",
       "    font-family: \"Source Code Pro\", \"Menlo\", monospace;;\n",
       "    font-size: 13px;\n",
       "    color: #555;\n",
       "    margin-left: 4px;\n",
       "    line-height: 19px;\n",
       "  }\n",
       "</style>\n",
       "<div class=\"ansiout\">+---+--------------+------------------------------------------+\n",
       "id |features      |PCA_9e3929012a14__output                  |\n",
       "+---+--------------+------------------------------------------+\n",
       "0  |[1.0,0.1,-1.0]|[0.0713719499248417,-0.4526654888147805]  |\n",
       "1  |[2.0,1.1,1.0] |[-1.6804946984073723,1.2593401322219198]  |\n",
       "0  |[1.0,0.1,-1.0]|[0.0713719499248417,-0.4526654888147805]  |\n",
       "1  |[2.0,1.1,1.0] |[-1.6804946984073723,1.2593401322219198]  |\n",
       "1  |[3.0,10.1,3.0]|[-10.872398139848944,0.030962697060155975]|\n",
       "+---+--------------+------------------------------------------+\n",
       "\n",
       "</div>"
      ]
     },
     "metadata": {
      "application/vnd.databricks.v1+output": {
       "addedWidgets": {},
       "arguments": {},
       "data": "<div class=\"ansiout\">+---+--------------+------------------------------------------+\n|id |features      |PCA_9e3929012a14__output                  |\n+---+--------------+------------------------------------------+\n|0  |[1.0,0.1,-1.0]|[0.0713719499248417,-0.4526654888147805]  |\n|1  |[2.0,1.1,1.0] |[-1.6804946984073723,1.2593401322219198]  |\n|0  |[1.0,0.1,-1.0]|[0.0713719499248417,-0.4526654888147805]  |\n|1  |[2.0,1.1,1.0] |[-1.6804946984073723,1.2593401322219198]  |\n|1  |[3.0,10.1,3.0]|[-10.872398139848944,0.030962697060155975]|\n+---+--------------+------------------------------------------+\n\n</div>",
       "datasetInfos": [],
       "metadata": {},
       "removedWidgets": [],
       "type": "html"
      }
     },
     "output_type": "display_data"
    }
   ],
   "source": [
    "# COMMAND ----------\n",
    "\n",
    "from pyspark.ml.feature import PCA\n",
    "pca = PCA().setInputCol(\"features\").setK(2)\n",
    "pca.fit(scaleDF).transform(scaleDF).show(20, False)"
   ]
  },
  {
   "cell_type": "markdown",
   "metadata": {
    "application/vnd.databricks.v1+cell": {
     "cellMetadata": {},
     "inputWidgets": {},
     "nuid": "3af92f47-7875-4e40-9748-c4b6ac19cd62",
     "showTitle": false,
     "title": ""
    }
   },
   "source": [
    "## Interaction\n",
    "The feature transformer Interaction allows you to create an\n",
    "interaction between two variables manually. It just multiplies the two features together—something\n",
    "that a typical linear model would not do for every possible pair of features in your data. This\n",
    "transformer is currently only available directly in Scala but can be called from any language using the\n",
    "RFormula. We recommend users just use RFormula instead of manually creating interactions.\n",
    "\n",
    "### Polynomial Expansion\n",
    "Polynomial expansion is used to generate interaction variables of all the input columns. With\n",
    "polynomial expansion, we specify to what degree we would like to see various interactions. For\n",
    "example, for a degree-2 polynomial, Spark takes every value in our feature vector, multiplies it by\n",
    "every other value in the feature vector, and then stores the results as features. For instance, if we have\n",
    "two input features, we’ll get four output features if we use a second degree polynomial (2x2). If we\n",
    "have three input features, we’ll get nine output features (3x3). If we use a third-degree polynomial,\n",
    "we’ll get 27 output features (3x3x3) and so on. This transformation is useful when you want to see\n",
    "interactions between particular features but aren’t necessarily sure about which interactions to\n",
    "consider."
   ]
  },
  {
   "cell_type": "code",
   "execution_count": 0,
   "metadata": {
    "application/vnd.databricks.v1+cell": {
     "cellMetadata": {},
     "inputWidgets": {},
     "nuid": "59aaa7ee-9509-4f57-aa60-6202914ea284",
     "showTitle": false,
     "title": ""
    }
   },
   "outputs": [
    {
     "output_type": "display_data",
     "data": {
      "text/html": [
       "<style scoped>\n",
       "  .ansiout {\n",
       "    display: block;\n",
       "    unicode-bidi: embed;\n",
       "    white-space: pre-wrap;\n",
       "    word-wrap: break-word;\n",
       "    word-break: break-all;\n",
       "    font-family: \"Source Code Pro\", \"Menlo\", monospace;;\n",
       "    font-size: 13px;\n",
       "    color: #555;\n",
       "    margin-left: 4px;\n",
       "    line-height: 19px;\n",
       "  }\n",
       "</style>\n",
       "<div class=\"ansiout\">+---+--------------+----------------------------------------+\n",
       " id|      features|PolynomialExpansion_7a7283793b02__output|\n",
       "+---+--------------+----------------------------------------+\n",
       "  0|[1.0,0.1,-1.0]|                    [1.0,1.0,0.1,0.1,...|\n",
       "  1| [2.0,1.1,1.0]|                    [2.0,4.0,1.1,2.2,...|\n",
       "  0|[1.0,0.1,-1.0]|                    [1.0,1.0,0.1,0.1,...|\n",
       "  1| [2.0,1.1,1.0]|                    [2.0,4.0,1.1,2.2,...|\n",
       "  1|[3.0,10.1,3.0]|                    [3.0,9.0,10.1,30....|\n",
       "+---+--------------+----------------------------------------+\n",
       "\n",
       "</div>"
      ]
     },
     "metadata": {
      "application/vnd.databricks.v1+output": {
       "addedWidgets": {},
       "arguments": {},
       "data": "<div class=\"ansiout\">+---+--------------+----------------------------------------+\n| id|      features|PolynomialExpansion_7a7283793b02__output|\n+---+--------------+----------------------------------------+\n|  0|[1.0,0.1,-1.0]|                    [1.0,1.0,0.1,0.1,...|\n|  1| [2.0,1.1,1.0]|                    [2.0,4.0,1.1,2.2,...|\n|  0|[1.0,0.1,-1.0]|                    [1.0,1.0,0.1,0.1,...|\n|  1| [2.0,1.1,1.0]|                    [2.0,4.0,1.1,2.2,...|\n|  1|[3.0,10.1,3.0]|                    [3.0,9.0,10.1,30....|\n+---+--------------+----------------------------------------+\n\n</div>",
       "datasetInfos": [],
       "metadata": {},
       "removedWidgets": [],
       "type": "html"
      }
     },
     "output_type": "display_data"
    }
   ],
   "source": [
    "# COMMAND ----------\n",
    "\n",
    "from pyspark.ml.feature import PolynomialExpansion\n",
    "pe = PolynomialExpansion().setInputCol(\"features\").setDegree(2)\n",
    "pe.transform(scaleDF).show()"
   ]
  },
  {
   "cell_type": "markdown",
   "metadata": {
    "application/vnd.databricks.v1+cell": {
     "cellMetadata": {},
     "inputWidgets": {},
     "nuid": "ca1ab467-aab8-49e3-baaf-483c33218965",
     "showTitle": false,
     "title": ""
    }
   },
   "source": [
    "## Feature Selection\n",
    "There are a number of ways to evaluate feature\n",
    "importance once you’ve trained a model but another option is to do some rough filtering beforehand.\n",
    "Spark has some simple options for doing that, such as ChiSqSelector.\n",
    "\n",
    "### ChiSqSelector\n",
    "ChiSqSelector leverages a statistical test to identify features that are not independent from the label\n",
    "we are trying to predict, and drop the uncorrelated features. \n",
    "\n",
    "It’s often used with categorical data in\n",
    "order to reduce the number of features you will input into your model, as well as to reduce the\n",
    "dimensionality of text data (in the form of frequencies or counts). Since this method is based on the\n",
    "Chi-Square test, there are several different ways we can pick the “best” features. The methods are\n",
    "numTopFeatures, which is ordered by p-value; percentile, which takes a proportion of the input\n",
    "features (instead of just the top N features); and fpr, which sets a cut off p-value."
   ]
  },
  {
   "cell_type": "code",
   "execution_count": 0,
   "metadata": {
    "application/vnd.databricks.v1+cell": {
     "cellMetadata": {},
     "inputWidgets": {},
     "nuid": "d3358ae5-aeef-41b1-96e3-19815aa915b0",
     "showTitle": false,
     "title": ""
    }
   },
   "outputs": [
    {
     "output_type": "display_data",
     "data": {
      "text/html": [
       "<style scoped>\n",
       "  .ansiout {\n",
       "    display: block;\n",
       "    unicode-bidi: embed;\n",
       "    white-space: pre-wrap;\n",
       "    word-wrap: break-word;\n",
       "    word-break: break-all;\n",
       "    font-family: \"Source Code Pro\", \"Menlo\", monospace;;\n",
       "    font-size: 13px;\n",
       "    color: #555;\n",
       "    margin-left: 4px;\n",
       "    line-height: 19px;\n",
       "  }\n",
       "</style>\n",
       "<div class=\"ansiout\">+--------------------+----------------------------------+\n",
       "            countVec|ChiSqSelector_101a32fbd9da__output|\n",
       "+--------------------+----------------------------------+\n",
       "(500,[149,185,212...|                         (2,[],[])|\n",
       "(500,[462,463,491...|                         (2,[],[])|\n",
       "(500,[35,41,166],...|                         (2,[],[])|\n",
       "(500,[10,16,36,35...|                         (2,[],[])|\n",
       "(500,[228,280,407...|                         (2,[],[])|\n",
       "(500,[11,40,133],...|                         (2,[],[])|\n",
       "(500,[60,64,69],[...|                         (2,[],[])|\n",
       "   (500,[264],[1.0])|                         (2,[],[])|\n",
       "(500,[15,34,39,40...|                         (2,[],[])|\n",
       "(500,[34,39,40,46...|                         (2,[],[])|\n",
       "(500,[34,39,40,14...|                         (2,[],[])|\n",
       "(500,[34,39,40,14...|                         (2,[],[])|\n",
       "(500,[46,297],[1....|                         (2,[],[])|\n",
       "(500,[3,4,11,143,...|                         (2,[],[])|\n",
       "(500,[6,45,109,16...|                         (2,[],[])|\n",
       "(500,[0,1,49,70,3...|               (2,[0,1],[1.0,1.0])|\n",
       "(500,[21,296],[1....|                         (2,[],[])|\n",
       "(500,[36,45,378],...|                         (2,[],[])|\n",
       "(500,[2,6,328],[1...|                         (2,[],[])|\n",
       "(500,[0,2,6,328,4...|                     (2,[0],[1.0])|\n",
       "+--------------------+----------------------------------+\n",
       "only showing top 20 rows\n",
       "\n",
       "</div>"
      ]
     },
     "metadata": {
      "application/vnd.databricks.v1+output": {
       "addedWidgets": {},
       "arguments": {},
       "data": "<div class=\"ansiout\">+--------------------+----------------------------------+\n|            countVec|ChiSqSelector_101a32fbd9da__output|\n+--------------------+----------------------------------+\n|(500,[149,185,212...|                         (2,[],[])|\n|(500,[462,463,491...|                         (2,[],[])|\n|(500,[35,41,166],...|                         (2,[],[])|\n|(500,[10,16,36,35...|                         (2,[],[])|\n|(500,[228,280,407...|                         (2,[],[])|\n|(500,[11,40,133],...|                         (2,[],[])|\n|(500,[60,64,69],[...|                         (2,[],[])|\n|   (500,[264],[1.0])|                         (2,[],[])|\n|(500,[15,34,39,40...|                         (2,[],[])|\n|(500,[34,39,40,46...|                         (2,[],[])|\n|(500,[34,39,40,14...|                         (2,[],[])|\n|(500,[34,39,40,14...|                         (2,[],[])|\n|(500,[46,297],[1....|                         (2,[],[])|\n|(500,[3,4,11,143,...|                         (2,[],[])|\n|(500,[6,45,109,16...|                         (2,[],[])|\n|(500,[0,1,49,70,3...|               (2,[0,1],[1.0,1.0])|\n|(500,[21,296],[1....|                         (2,[],[])|\n|(500,[36,45,378],...|                         (2,[],[])|\n|(500,[2,6,328],[1...|                         (2,[],[])|\n|(500,[0,2,6,328,4...|                     (2,[0],[1.0])|\n+--------------------+----------------------------------+\nonly showing top 20 rows\n\n</div>",
       "datasetInfos": [],
       "metadata": {},
       "removedWidgets": [],
       "type": "html"
      }
     },
     "output_type": "display_data"
    }
   ],
   "source": [
    "# COMMAND ----------\n",
    "\n",
    "from pyspark.ml.feature import ChiSqSelector, Tokenizer\n",
    "tkn = Tokenizer().setInputCol(\"Description\").setOutputCol(\"DescOut\")\n",
    "tokenized = tkn\\\n",
    "  .transform(sales.select(\"Description\", \"CustomerId\"))\\\n",
    "  .where(\"CustomerId IS NOT NULL\")\n",
    "prechi = fittedCV.transform(tokenized)\\\n",
    "  .where(\"CustomerId IS NOT NULL\")\n",
    "chisq = ChiSqSelector()\\\n",
    "  .setFeaturesCol(\"countVec\")\\\n",
    "  .setLabelCol(\"CustomerId\")\\\n",
    "  .setNumTopFeatures(2)\n",
    "chisq.fit(prechi).transform(prechi)\\\n",
    "  .drop(\"customerId\", \"Description\", \"DescOut\").show()"
   ]
  },
  {
   "cell_type": "code",
   "execution_count": 0,
   "metadata": {
    "application/vnd.databricks.v1+cell": {
     "cellMetadata": {},
     "inputWidgets": {},
     "nuid": "571123fe-3bb3-4b47-a060-ea71ed6cbe6a",
     "showTitle": false,
     "title": ""
    }
   },
   "outputs": [],
   "source": []
  }
 ],
 "metadata": {
  "application/vnd.databricks.v1+notebook": {
   "dashboards": [],
   "language": "python",
   "notebookMetadata": {
    "pythonIndentUnit": 4
   },
   "notebookName": "INFO323-Lecture-Spark-6-Databricks-Preprocessings",
   "widgets": {}
  },
  "kernelspec": {
   "display_name": "PySpark",
   "language": "python",
   "name": "pyspark"
  },
  "language_info": {
   "codemirror_mode": {
    "name": "ipython",
    "version": 3
   },
   "file_extension": ".py",
   "mimetype": "text/x-python",
   "name": "python",
   "nbconvert_exporter": "python",
   "pygments_lexer": "ipython3",
   "version": "3.7.4"
  }
 },
 "nbformat": 4,
 "nbformat_minor": 0
}
